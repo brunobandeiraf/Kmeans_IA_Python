{
 "cells": [
  {
   "cell_type": "markdown",
   "metadata": {
    "id": "KOVtMBy9MT5n"
   },
   "source": [
    "# Coleta dos dados \n",
    "Nesta etapa, são definidas as fontes a serem utilizadas para gerar armazenamento, podendo ser bancos de dados SQL, NoSQL, Frameworks e muitas outras fontes. \n",
    "\n",
    "Para esse exercício vamos coletar dados já estruturados de dois arquivos. Um arquivo Excel no formato xlxs e outro no formato csv. "
   ]
  },
  {
   "cell_type": "markdown",
   "metadata": {
    "id": "JxX2b1HoM0UT"
   },
   "source": [
    "# Coletando dados de estados brasileiros"
   ]
  },
  {
   "cell_type": "code",
   "execution_count": 311,
   "metadata": {
    "executionInfo": {
     "elapsed": 326,
     "status": "ok",
     "timestamp": 1628820271101,
     "user": {
      "displayName": "Prof. Leandro Lessa",
      "photoUrl": "https://lh3.googleusercontent.com/a-/AOh14GjOFTHd5R6mZqpiAveor8rupG9YPM_LbwR5AmNPtg=s64",
      "userId": "09430483952296203154"
     },
     "user_tz": 180
    },
    "id": "6nUvnQVwMToT"
   },
   "outputs": [],
   "source": [
    "import pandas as pd # biblioteca de leitura e tratamento de dataframes\n",
    "\n",
    "# lendo arquivo \n",
    "estados = pd.read_csv('./dataset/estado_regiao.csv', sep = ';', encoding='latin-1')"
   ]
  },
  {
   "cell_type": "code",
   "execution_count": 312,
   "metadata": {
    "colab": {
     "base_uri": "https://localhost:8080/",
     "height": 204
    },
    "executionInfo": {
     "elapsed": 380,
     "status": "ok",
     "timestamp": 1628820271882,
     "user": {
      "displayName": "Prof. Leandro Lessa",
      "photoUrl": "https://lh3.googleusercontent.com/a-/AOh14GjOFTHd5R6mZqpiAveor8rupG9YPM_LbwR5AmNPtg=s64",
      "userId": "09430483952296203154"
     },
     "user_tz": 180
    },
    "id": "EDbLDASxNp26",
    "outputId": "a3df47c3-80b9-436d-c7ea-855936b6dbc3"
   },
   "outputs": [
    {
     "data": {
      "text/html": [
       "<div>\n",
       "<style scoped>\n",
       "    .dataframe tbody tr th:only-of-type {\n",
       "        vertical-align: middle;\n",
       "    }\n",
       "\n",
       "    .dataframe tbody tr th {\n",
       "        vertical-align: top;\n",
       "    }\n",
       "\n",
       "    .dataframe thead th {\n",
       "        text-align: right;\n",
       "    }\n",
       "</style>\n",
       "<table border=\"1\" class=\"dataframe\">\n",
       "  <thead>\n",
       "    <tr style=\"text-align: right;\">\n",
       "      <th></th>\n",
       "      <th>id_estado</th>\n",
       "      <th>sigla</th>\n",
       "      <th>estado</th>\n",
       "      <th>regiao</th>\n",
       "      <th>pais</th>\n",
       "    </tr>\n",
       "  </thead>\n",
       "  <tbody>\n",
       "    <tr>\n",
       "      <th>0</th>\n",
       "      <td>1</td>\n",
       "      <td>AC</td>\n",
       "      <td>Acre</td>\n",
       "      <td>Norte</td>\n",
       "      <td>Brasil</td>\n",
       "    </tr>\n",
       "    <tr>\n",
       "      <th>1</th>\n",
       "      <td>2</td>\n",
       "      <td>AL</td>\n",
       "      <td>Alagoas</td>\n",
       "      <td>Nordeste</td>\n",
       "      <td>Brasil</td>\n",
       "    </tr>\n",
       "    <tr>\n",
       "      <th>2</th>\n",
       "      <td>3</td>\n",
       "      <td>AP</td>\n",
       "      <td>Amapá</td>\n",
       "      <td>Norte</td>\n",
       "      <td>Brasil</td>\n",
       "    </tr>\n",
       "    <tr>\n",
       "      <th>3</th>\n",
       "      <td>4</td>\n",
       "      <td>AM</td>\n",
       "      <td>Amazonas</td>\n",
       "      <td>Norte</td>\n",
       "      <td>Brasil</td>\n",
       "    </tr>\n",
       "    <tr>\n",
       "      <th>4</th>\n",
       "      <td>5</td>\n",
       "      <td>BA</td>\n",
       "      <td>Bahia</td>\n",
       "      <td>Nordeste</td>\n",
       "      <td>Brasil</td>\n",
       "    </tr>\n",
       "  </tbody>\n",
       "</table>\n",
       "</div>"
      ],
      "text/plain": [
       "   id_estado sigla    estado    regiao    pais\n",
       "0          1    AC      Acre     Norte  Brasil\n",
       "1          2    AL   Alagoas  Nordeste  Brasil\n",
       "2          3    AP     Amapá     Norte  Brasil\n",
       "3          4    AM  Amazonas     Norte  Brasil\n",
       "4          5    BA     Bahia  Nordeste  Brasil"
      ]
     },
     "execution_count": 312,
     "metadata": {},
     "output_type": "execute_result"
    }
   ],
   "source": [
    "estados.head()"
   ]
  },
  {
   "cell_type": "markdown",
   "metadata": {
    "id": "IC8ImMW8M5oG"
   },
   "source": [
    "# Coletando dados de Pacientes"
   ]
  },
  {
   "cell_type": "code",
   "execution_count": 313,
   "metadata": {
    "colab": {
     "base_uri": "https://localhost:8080/",
     "height": 204
    },
    "executionInfo": {
     "elapsed": 75,
     "status": "ok",
     "timestamp": 1628820271886,
     "user": {
      "displayName": "Prof. Leandro Lessa",
      "photoUrl": "https://lh3.googleusercontent.com/a-/AOh14GjOFTHd5R6mZqpiAveor8rupG9YPM_LbwR5AmNPtg=s64",
      "userId": "09430483952296203154"
     },
     "user_tz": 180
    },
    "id": "WGfebt5iMRd5",
    "outputId": "8fcc06b6-b0cd-494a-fced-6f6dc2c244f3"
   },
   "outputs": [
    {
     "data": {
      "text/html": [
       "<div>\n",
       "<style scoped>\n",
       "    .dataframe tbody tr th:only-of-type {\n",
       "        vertical-align: middle;\n",
       "    }\n",
       "\n",
       "    .dataframe tbody tr th {\n",
       "        vertical-align: top;\n",
       "    }\n",
       "\n",
       "    .dataframe thead th {\n",
       "        text-align: right;\n",
       "    }\n",
       "</style>\n",
       "<table border=\"1\" class=\"dataframe\">\n",
       "  <thead>\n",
       "    <tr style=\"text-align: right;\">\n",
       "      <th></th>\n",
       "      <th>id_cliente</th>\n",
       "      <th>idade</th>\n",
       "      <th>classe_trabalho</th>\n",
       "      <th>escolaridade</th>\n",
       "      <th>id_estado</th>\n",
       "      <th>estado_civil</th>\n",
       "      <th>raca</th>\n",
       "      <th>qtde_filhos</th>\n",
       "      <th>salario</th>\n",
       "    </tr>\n",
       "  </thead>\n",
       "  <tbody>\n",
       "    <tr>\n",
       "      <th>0</th>\n",
       "      <td>1</td>\n",
       "      <td>39</td>\n",
       "      <td>Servidor Público</td>\n",
       "      <td>Ensino Médio Completo</td>\n",
       "      <td>2</td>\n",
       "      <td>Solteiro</td>\n",
       "      <td>Branco</td>\n",
       "      <td>2.0</td>\n",
       "      <td>4754</td>\n",
       "    </tr>\n",
       "    <tr>\n",
       "      <th>1</th>\n",
       "      <td>2</td>\n",
       "      <td>50</td>\n",
       "      <td>Autônomo</td>\n",
       "      <td>Superior Incompleto</td>\n",
       "      <td>24</td>\n",
       "      <td>Casado</td>\n",
       "      <td>Branco</td>\n",
       "      <td>1.0</td>\n",
       "      <td>3923</td>\n",
       "    </tr>\n",
       "    <tr>\n",
       "      <th>2</th>\n",
       "      <td>3</td>\n",
       "      <td>38</td>\n",
       "      <td>Funcionário Setor Privado</td>\n",
       "      <td>Ensino Médio Incompleto</td>\n",
       "      <td>4</td>\n",
       "      <td>Divorciado</td>\n",
       "      <td>Branco</td>\n",
       "      <td>0.0</td>\n",
       "      <td>1100</td>\n",
       "    </tr>\n",
       "    <tr>\n",
       "      <th>3</th>\n",
       "      <td>4</td>\n",
       "      <td>53</td>\n",
       "      <td>Funcionário Setor Privado</td>\n",
       "      <td>Ensino Médio Incompleto</td>\n",
       "      <td>24</td>\n",
       "      <td>Casado</td>\n",
       "      <td>Negro</td>\n",
       "      <td>1.0</td>\n",
       "      <td>1100</td>\n",
       "    </tr>\n",
       "    <tr>\n",
       "      <th>4</th>\n",
       "      <td>5</td>\n",
       "      <td>28</td>\n",
       "      <td>Funcionário Setor Privado</td>\n",
       "      <td>Ensino Médio Completo</td>\n",
       "      <td>15</td>\n",
       "      <td>Casado</td>\n",
       "      <td>Negro</td>\n",
       "      <td>0.0</td>\n",
       "      <td>3430</td>\n",
       "    </tr>\n",
       "  </tbody>\n",
       "</table>\n",
       "</div>"
      ],
      "text/plain": [
       "   id_cliente  idade            classe_trabalho             escolaridade  \\\n",
       "0           1     39           Servidor Público    Ensino Médio Completo   \n",
       "1           2     50                   Autônomo      Superior Incompleto   \n",
       "2           3     38  Funcionário Setor Privado  Ensino Médio Incompleto   \n",
       "3           4     53  Funcionário Setor Privado  Ensino Médio Incompleto   \n",
       "4           5     28  Funcionário Setor Privado    Ensino Médio Completo   \n",
       "\n",
       "   id_estado estado_civil    raca  qtde_filhos  salario  \n",
       "0          2     Solteiro  Branco          2.0     4754  \n",
       "1         24       Casado  Branco          1.0     3923  \n",
       "2          4   Divorciado  Branco          0.0     1100  \n",
       "3         24       Casado   Negro          1.0     1100  \n",
       "4         15       Casado   Negro          0.0     3430  "
      ]
     },
     "execution_count": 313,
     "metadata": {},
     "output_type": "execute_result"
    }
   ],
   "source": [
    "pacientes = pd.read_csv('./dataset/dados_pacientes.csv', sep=';', encoding='utf-8')\n",
    "pacientes.head()"
   ]
  },
  {
   "cell_type": "markdown",
   "metadata": {
    "id": "cHMchwam_Ohj"
   },
   "source": [
    "# Coletando dados Clínicos"
   ]
  },
  {
   "cell_type": "code",
   "execution_count": 314,
   "metadata": {
    "colab": {
     "base_uri": "https://localhost:8080/",
     "height": 204
    },
    "executionInfo": {
     "elapsed": 74,
     "status": "ok",
     "timestamp": 1628820271887,
     "user": {
      "displayName": "Prof. Leandro Lessa",
      "photoUrl": "https://lh3.googleusercontent.com/a-/AOh14GjOFTHd5R6mZqpiAveor8rupG9YPM_LbwR5AmNPtg=s64",
      "userId": "09430483952296203154"
     },
     "user_tz": 180
    },
    "id": "Yhdd4v5B_VA8",
    "outputId": "7c66e117-17e6-4d24-d15a-40c3d96b4705"
   },
   "outputs": [
    {
     "data": {
      "text/html": [
       "<div>\n",
       "<style scoped>\n",
       "    .dataframe tbody tr th:only-of-type {\n",
       "        vertical-align: middle;\n",
       "    }\n",
       "\n",
       "    .dataframe tbody tr th {\n",
       "        vertical-align: top;\n",
       "    }\n",
       "\n",
       "    .dataframe thead th {\n",
       "        text-align: right;\n",
       "    }\n",
       "</style>\n",
       "<table border=\"1\" class=\"dataframe\">\n",
       "  <thead>\n",
       "    <tr style=\"text-align: right;\">\n",
       "      <th></th>\n",
       "      <th>id_cliente</th>\n",
       "      <th>peso</th>\n",
       "      <th>colesterol</th>\n",
       "      <th>genero</th>\n",
       "    </tr>\n",
       "  </thead>\n",
       "  <tbody>\n",
       "    <tr>\n",
       "      <th>0</th>\n",
       "      <td>1</td>\n",
       "      <td>102.0</td>\n",
       "      <td>111</td>\n",
       "      <td>Masculino</td>\n",
       "    </tr>\n",
       "    <tr>\n",
       "      <th>1</th>\n",
       "      <td>2</td>\n",
       "      <td>115.0</td>\n",
       "      <td>135</td>\n",
       "      <td>Masculino</td>\n",
       "    </tr>\n",
       "    <tr>\n",
       "      <th>2</th>\n",
       "      <td>3</td>\n",
       "      <td>115.0</td>\n",
       "      <td>136</td>\n",
       "      <td>Masculino</td>\n",
       "    </tr>\n",
       "    <tr>\n",
       "      <th>3</th>\n",
       "      <td>4</td>\n",
       "      <td>140.0</td>\n",
       "      <td>167</td>\n",
       "      <td>Feminino</td>\n",
       "    </tr>\n",
       "    <tr>\n",
       "      <th>4</th>\n",
       "      <td>5</td>\n",
       "      <td>130.0</td>\n",
       "      <td>158</td>\n",
       "      <td>Masculino</td>\n",
       "    </tr>\n",
       "  </tbody>\n",
       "</table>\n",
       "</div>"
      ],
      "text/plain": [
       "   id_cliente   peso  colesterol     genero\n",
       "0           1  102.0         111  Masculino\n",
       "1           2  115.0         135  Masculino\n",
       "2           3  115.0         136  Masculino\n",
       "3           4  140.0         167   Feminino\n",
       "4           5  130.0         158  Masculino"
      ]
     },
     "execution_count": 314,
     "metadata": {},
     "output_type": "execute_result"
    }
   ],
   "source": [
    "clinicos = pd.read_csv('./dataset/dados_clinicos.csv', sep = ';', encoding='latin-1')\n",
    "clinicos.head()"
   ]
  },
  {
   "cell_type": "markdown",
   "metadata": {
    "id": "Ec_oxSToTB52"
   },
   "source": [
    "# Analisando as variáveis da base de dados"
   ]
  },
  {
   "cell_type": "code",
   "execution_count": 315,
   "metadata": {
    "colab": {
     "base_uri": "https://localhost:8080/"
    },
    "executionInfo": {
     "elapsed": 72,
     "status": "ok",
     "timestamp": 1628820271888,
     "user": {
      "displayName": "Prof. Leandro Lessa",
      "photoUrl": "https://lh3.googleusercontent.com/a-/AOh14GjOFTHd5R6mZqpiAveor8rupG9YPM_LbwR5AmNPtg=s64",
      "userId": "09430483952296203154"
     },
     "user_tz": 180
    },
    "id": "cnEpCI11S6Fc",
    "outputId": "ff152aed-107a-4613-ff9c-37e30727f279"
   },
   "outputs": [
    {
     "name": "stdout",
     "output_type": "stream",
     "text": [
      "<class 'pandas.core.frame.DataFrame'>\n",
      "RangeIndex: 7999 entries, 0 to 7998\n",
      "Data columns (total 9 columns):\n",
      " #   Column           Non-Null Count  Dtype  \n",
      "---  ------           --------------  -----  \n",
      " 0   id_cliente       7999 non-null   int64  \n",
      " 1   idade            7999 non-null   int64  \n",
      " 2   classe_trabalho  7612 non-null   object \n",
      " 3   escolaridade     7999 non-null   object \n",
      " 4   id_estado        7999 non-null   int64  \n",
      " 5   estado_civil     7999 non-null   object \n",
      " 6   raca             7999 non-null   object \n",
      " 7   qtde_filhos      7989 non-null   float64\n",
      " 8   salario          7999 non-null   int64  \n",
      "dtypes: float64(1), int64(4), object(4)\n",
      "memory usage: 562.6+ KB\n"
     ]
    }
   ],
   "source": [
    "pacientes.info()"
   ]
  },
  {
   "cell_type": "code",
   "execution_count": 316,
   "metadata": {
    "colab": {
     "base_uri": "https://localhost:8080/",
     "height": 297
    },
    "executionInfo": {
     "elapsed": 63,
     "status": "ok",
     "timestamp": 1628820271891,
     "user": {
      "displayName": "Prof. Leandro Lessa",
      "photoUrl": "https://lh3.googleusercontent.com/a-/AOh14GjOFTHd5R6mZqpiAveor8rupG9YPM_LbwR5AmNPtg=s64",
      "userId": "09430483952296203154"
     },
     "user_tz": 180
    },
    "id": "dFXcbb3DcYjb",
    "outputId": "fcdc8519-8f8d-48cd-ffea-4e22a8dc25d1"
   },
   "outputs": [
    {
     "data": {
      "text/html": [
       "<div>\n",
       "<style scoped>\n",
       "    .dataframe tbody tr th:only-of-type {\n",
       "        vertical-align: middle;\n",
       "    }\n",
       "\n",
       "    .dataframe tbody tr th {\n",
       "        vertical-align: top;\n",
       "    }\n",
       "\n",
       "    .dataframe thead th {\n",
       "        text-align: right;\n",
       "    }\n",
       "</style>\n",
       "<table border=\"1\" class=\"dataframe\">\n",
       "  <thead>\n",
       "    <tr style=\"text-align: right;\">\n",
       "      <th></th>\n",
       "      <th>id_cliente</th>\n",
       "      <th>idade</th>\n",
       "      <th>id_estado</th>\n",
       "      <th>qtde_filhos</th>\n",
       "      <th>salario</th>\n",
       "    </tr>\n",
       "  </thead>\n",
       "  <tbody>\n",
       "    <tr>\n",
       "      <th>count</th>\n",
       "      <td>7999.000000</td>\n",
       "      <td>7999.000000</td>\n",
       "      <td>7999.000000</td>\n",
       "      <td>7989.000000</td>\n",
       "      <td>7999.000000</td>\n",
       "    </tr>\n",
       "    <tr>\n",
       "      <th>mean</th>\n",
       "      <td>4000.000000</td>\n",
       "      <td>38.477060</td>\n",
       "      <td>14.094012</td>\n",
       "      <td>2.405432</td>\n",
       "      <td>3169.312664</td>\n",
       "    </tr>\n",
       "    <tr>\n",
       "      <th>std</th>\n",
       "      <td>2309.256735</td>\n",
       "      <td>13.568667</td>\n",
       "      <td>7.821634</td>\n",
       "      <td>1.703916</td>\n",
       "      <td>3055.862493</td>\n",
       "    </tr>\n",
       "    <tr>\n",
       "      <th>min</th>\n",
       "      <td>1.000000</td>\n",
       "      <td>17.000000</td>\n",
       "      <td>1.000000</td>\n",
       "      <td>0.000000</td>\n",
       "      <td>0.000000</td>\n",
       "    </tr>\n",
       "    <tr>\n",
       "      <th>25%</th>\n",
       "      <td>2000.500000</td>\n",
       "      <td>28.000000</td>\n",
       "      <td>7.000000</td>\n",
       "      <td>1.000000</td>\n",
       "      <td>1100.000000</td>\n",
       "    </tr>\n",
       "    <tr>\n",
       "      <th>50%</th>\n",
       "      <td>4000.000000</td>\n",
       "      <td>37.000000</td>\n",
       "      <td>14.000000</td>\n",
       "      <td>2.000000</td>\n",
       "      <td>2410.000000</td>\n",
       "    </tr>\n",
       "    <tr>\n",
       "      <th>75%</th>\n",
       "      <td>5999.500000</td>\n",
       "      <td>47.000000</td>\n",
       "      <td>21.000000</td>\n",
       "      <td>4.000000</td>\n",
       "      <td>3640.500000</td>\n",
       "    </tr>\n",
       "    <tr>\n",
       "      <th>max</th>\n",
       "      <td>7999.000000</td>\n",
       "      <td>90.000000</td>\n",
       "      <td>27.000000</td>\n",
       "      <td>5.000000</td>\n",
       "      <td>19994.000000</td>\n",
       "    </tr>\n",
       "  </tbody>\n",
       "</table>\n",
       "</div>"
      ],
      "text/plain": [
       "        id_cliente        idade    id_estado  qtde_filhos       salario\n",
       "count  7999.000000  7999.000000  7999.000000  7989.000000   7999.000000\n",
       "mean   4000.000000    38.477060    14.094012     2.405432   3169.312664\n",
       "std    2309.256735    13.568667     7.821634     1.703916   3055.862493\n",
       "min       1.000000    17.000000     1.000000     0.000000      0.000000\n",
       "25%    2000.500000    28.000000     7.000000     1.000000   1100.000000\n",
       "50%    4000.000000    37.000000    14.000000     2.000000   2410.000000\n",
       "75%    5999.500000    47.000000    21.000000     4.000000   3640.500000\n",
       "max    7999.000000    90.000000    27.000000     5.000000  19994.000000"
      ]
     },
     "execution_count": 316,
     "metadata": {},
     "output_type": "execute_result"
    }
   ],
   "source": [
    "pacientes.describe()"
   ]
  },
  {
   "cell_type": "code",
   "execution_count": 317,
   "metadata": {
    "colab": {
     "base_uri": "https://localhost:8080/"
    },
    "executionInfo": {
     "elapsed": 62,
     "status": "ok",
     "timestamp": 1628820271892,
     "user": {
      "displayName": "Prof. Leandro Lessa",
      "photoUrl": "https://lh3.googleusercontent.com/a-/AOh14GjOFTHd5R6mZqpiAveor8rupG9YPM_LbwR5AmNPtg=s64",
      "userId": "09430483952296203154"
     },
     "user_tz": 180
    },
    "id": "f8ur9RXNS-Xx",
    "outputId": "72718457-35be-4d1e-a163-89d7b3f7220c"
   },
   "outputs": [
    {
     "name": "stdout",
     "output_type": "stream",
     "text": [
      "<class 'pandas.core.frame.DataFrame'>\n",
      "RangeIndex: 27 entries, 0 to 26\n",
      "Data columns (total 5 columns):\n",
      " #   Column     Non-Null Count  Dtype \n",
      "---  ------     --------------  ----- \n",
      " 0   id_estado  27 non-null     int64 \n",
      " 1   sigla      27 non-null     object\n",
      " 2   estado     27 non-null     object\n",
      " 3   regiao     27 non-null     object\n",
      " 4   pais       27 non-null     object\n",
      "dtypes: int64(1), object(4)\n",
      "memory usage: 1.2+ KB\n"
     ]
    }
   ],
   "source": [
    "estados.info()"
   ]
  },
  {
   "cell_type": "code",
   "execution_count": 318,
   "metadata": {
    "colab": {
     "base_uri": "https://localhost:8080/"
    },
    "executionInfo": {
     "elapsed": 57,
     "status": "ok",
     "timestamp": 1628820271894,
     "user": {
      "displayName": "Prof. Leandro Lessa",
      "photoUrl": "https://lh3.googleusercontent.com/a-/AOh14GjOFTHd5R6mZqpiAveor8rupG9YPM_LbwR5AmNPtg=s64",
      "userId": "09430483952296203154"
     },
     "user_tz": 180
    },
    "id": "zFFd7tm5TlaC",
    "outputId": "8e03cbb5-5616-4631-ab0a-a12ba79b6468"
   },
   "outputs": [
    {
     "name": "stdout",
     "output_type": "stream",
     "text": [
      "<class 'pandas.core.frame.DataFrame'>\n",
      "RangeIndex: 590 entries, 0 to 589\n",
      "Data columns (total 4 columns):\n",
      " #   Column      Non-Null Count  Dtype  \n",
      "---  ------      --------------  -----  \n",
      " 0   id_cliente  590 non-null    int64  \n",
      " 1   peso        585 non-null    float64\n",
      " 2   colesterol  590 non-null    int64  \n",
      " 3   genero      590 non-null    object \n",
      "dtypes: float64(1), int64(2), object(1)\n",
      "memory usage: 18.6+ KB\n"
     ]
    }
   ],
   "source": [
    "clinicos.info()"
   ]
  },
  {
   "cell_type": "code",
   "execution_count": 319,
   "metadata": {
    "colab": {
     "base_uri": "https://localhost:8080/",
     "height": 297
    },
    "executionInfo": {
     "elapsed": 52,
     "status": "ok",
     "timestamp": 1628820271894,
     "user": {
      "displayName": "Prof. Leandro Lessa",
      "photoUrl": "https://lh3.googleusercontent.com/a-/AOh14GjOFTHd5R6mZqpiAveor8rupG9YPM_LbwR5AmNPtg=s64",
      "userId": "09430483952296203154"
     },
     "user_tz": 180
    },
    "id": "xPYaFDP1coVC",
    "outputId": "82d4b25d-fd3a-435f-f534-a36bd755ee62"
   },
   "outputs": [
    {
     "data": {
      "text/html": [
       "<div>\n",
       "<style scoped>\n",
       "    .dataframe tbody tr th:only-of-type {\n",
       "        vertical-align: middle;\n",
       "    }\n",
       "\n",
       "    .dataframe tbody tr th {\n",
       "        vertical-align: top;\n",
       "    }\n",
       "\n",
       "    .dataframe thead th {\n",
       "        text-align: right;\n",
       "    }\n",
       "</style>\n",
       "<table border=\"1\" class=\"dataframe\">\n",
       "  <thead>\n",
       "    <tr style=\"text-align: right;\">\n",
       "      <th></th>\n",
       "      <th>id_cliente</th>\n",
       "      <th>peso</th>\n",
       "      <th>colesterol</th>\n",
       "    </tr>\n",
       "  </thead>\n",
       "  <tbody>\n",
       "    <tr>\n",
       "      <th>count</th>\n",
       "      <td>590.000000</td>\n",
       "      <td>585.000000</td>\n",
       "      <td>590.000000</td>\n",
       "    </tr>\n",
       "    <tr>\n",
       "      <th>mean</th>\n",
       "      <td>283.696610</td>\n",
       "      <td>143.158974</td>\n",
       "      <td>170.067797</td>\n",
       "    </tr>\n",
       "    <tr>\n",
       "      <th>std</th>\n",
       "      <td>156.464182</td>\n",
       "      <td>30.925402</td>\n",
       "      <td>39.325409</td>\n",
       "    </tr>\n",
       "    <tr>\n",
       "      <th>min</th>\n",
       "      <td>1.000000</td>\n",
       "      <td>95.000000</td>\n",
       "      <td>102.000000</td>\n",
       "    </tr>\n",
       "    <tr>\n",
       "      <th>25%</th>\n",
       "      <td>148.250000</td>\n",
       "      <td>116.000000</td>\n",
       "      <td>135.250000</td>\n",
       "    </tr>\n",
       "    <tr>\n",
       "      <th>50%</th>\n",
       "      <td>295.500000</td>\n",
       "      <td>140.000000</td>\n",
       "      <td>169.000000</td>\n",
       "    </tr>\n",
       "    <tr>\n",
       "      <th>75%</th>\n",
       "      <td>424.750000</td>\n",
       "      <td>171.000000</td>\n",
       "      <td>207.750000</td>\n",
       "    </tr>\n",
       "    <tr>\n",
       "      <th>max</th>\n",
       "      <td>547.000000</td>\n",
       "      <td>203.000000</td>\n",
       "      <td>235.000000</td>\n",
       "    </tr>\n",
       "  </tbody>\n",
       "</table>\n",
       "</div>"
      ],
      "text/plain": [
       "       id_cliente        peso  colesterol\n",
       "count  590.000000  585.000000  590.000000\n",
       "mean   283.696610  143.158974  170.067797\n",
       "std    156.464182   30.925402   39.325409\n",
       "min      1.000000   95.000000  102.000000\n",
       "25%    148.250000  116.000000  135.250000\n",
       "50%    295.500000  140.000000  169.000000\n",
       "75%    424.750000  171.000000  207.750000\n",
       "max    547.000000  203.000000  235.000000"
      ]
     },
     "execution_count": 319,
     "metadata": {},
     "output_type": "execute_result"
    }
   ],
   "source": [
    "clinicos.describe()"
   ]
  },
  {
   "cell_type": "markdown",
   "metadata": {
    "id": "mCz7e04CTlwq"
   },
   "source": [
    "#Analisando duplicados"
   ]
  },
  {
   "cell_type": "code",
   "execution_count": 320,
   "metadata": {},
   "outputs": [
    {
     "name": "stdout",
     "output_type": "stream",
     "text": [
      "Quantidade de linhas duplicadas - Clínicos: 43\n",
      "Linhas Duplicadas:\n",
      "     id_cliente   peso  colesterol     genero\n",
      "349         350  134.0         163  Masculino\n",
      "350         351  199.0         232  Masculino\n",
      "351         352  115.0         131  Masculino\n",
      "352         353  149.0         184   Feminino\n",
      "353         354  192.0         225   Feminino\n",
      "..          ...    ...         ...        ...\n",
      "585         363  172.0         211  Masculino\n",
      "586         364  157.0         194   Feminino\n",
      "587         365  137.0         169   Feminino\n",
      "588         366  158.0         189   Feminino\n",
      "589         367  110.0         128   Feminino\n",
      "\n",
      "[86 rows x 4 columns]\n"
     ]
    }
   ],
   "source": [
    "# Selecionar colunas relevantes para verificar duplicatas\n",
    "clinicos_check_duplicates = ['id_cliente', 'peso', 'colesterol', 'genero']\n",
    "\n",
    "# Contar linhas duplicadas\n",
    "qtd_duplicadas = clinicos.duplicated(subset=clinicos_check_duplicates).sum()\n",
    "print(f'Quantidade de linhas duplicadas - Clínicos: {qtd_duplicadas}')\n",
    "\n",
    "# Identificar e mostrar as linhas duplicadas\n",
    "linhas_duplicadas = clinicos[clinicos.duplicated(subset=clinicos_check_duplicates, keep=False)]\n",
    "print('Linhas Duplicadas:')\n",
    "print(linhas_duplicadas)"
   ]
  },
  {
   "cell_type": "code",
   "execution_count": 321,
   "metadata": {},
   "outputs": [
    {
     "name": "stdout",
     "output_type": "stream",
     "text": [
      "Quantidade de linhas duplicadas - Pacientes: 0\n",
      "Linhas Duplicadas:\n",
      "Empty DataFrame\n",
      "Columns: [id_cliente, idade, classe_trabalho, escolaridade, id_estado, estado_civil, raca, qtde_filhos, salario]\n",
      "Index: []\n"
     ]
    }
   ],
   "source": [
    "# Selecionar colunas relevantes para verificar duplicatas\n",
    "pacientes_check_duplicates = ['id_cliente', 'idade', 'classe_trabalho', 'escolaridade', 'id_estado', 'estado_civil', 'raca', 'qtde_filhos', 'salario']\n",
    "\n",
    "# Contar linhas duplicadas\n",
    "qtd_duplicadas = pacientes.duplicated(subset=pacientes_check_duplicates).sum()\n",
    "print(f'Quantidade de linhas duplicadas - Pacientes: {qtd_duplicadas}')\n",
    "\n",
    "# Identificar e mostrar as linhas duplicadas\n",
    "linhas_duplicadas = pacientes[pacientes.duplicated(subset=pacientes_check_duplicates, keep=False)]\n",
    "print('Linhas Duplicadas:')\n",
    "print(linhas_duplicadas)"
   ]
  },
  {
   "cell_type": "code",
   "execution_count": 322,
   "metadata": {},
   "outputs": [
    {
     "name": "stdout",
     "output_type": "stream",
     "text": [
      "Quantidade de linhas duplicadas - Estados: 0\n",
      "Linhas Duplicadas:\n",
      "Empty DataFrame\n",
      "Columns: [id_estado, sigla, estado, regiao, pais]\n",
      "Index: []\n"
     ]
    }
   ],
   "source": [
    "# Selecionar colunas relevantes para verificar duplicatas\n",
    "estados_check_duplicates = ['id_estado', 'sigla', 'estado', 'regiao', 'pais']\n",
    "\n",
    "# Contar linhas duplicadas\n",
    "qtd_duplicadas = estados.duplicated(subset=estados_check_duplicates).sum()\n",
    "print(f'Quantidade de linhas duplicadas - Estados: {qtd_duplicadas}')\n",
    "\n",
    "# Identificar e mostrar as linhas duplicadas\n",
    "linhas_duplicadas = estados[estados.duplicated(subset=estados_check_duplicates, keep=False)]\n",
    "print('Linhas Duplicadas:')\n",
    "print(linhas_duplicadas)"
   ]
  },
  {
   "cell_type": "code",
   "execution_count": 323,
   "metadata": {},
   "outputs": [
    {
     "name": "stdout",
     "output_type": "stream",
     "text": [
      "<class 'pandas.core.frame.DataFrame'>\n",
      "RangeIndex: 590 entries, 0 to 589\n",
      "Data columns (total 4 columns):\n",
      " #   Column      Non-Null Count  Dtype  \n",
      "---  ------      --------------  -----  \n",
      " 0   id_cliente  590 non-null    int64  \n",
      " 1   peso        585 non-null    float64\n",
      " 2   colesterol  590 non-null    int64  \n",
      " 3   genero      590 non-null    object \n",
      "dtypes: float64(1), int64(2), object(1)\n",
      "memory usage: 18.6+ KB\n"
     ]
    }
   ],
   "source": [
    "clinicos.info()"
   ]
  },
  {
   "cell_type": "code",
   "execution_count": 324,
   "metadata": {},
   "outputs": [],
   "source": [
    "# Remover dados duplicados da dataset Clínicos\n",
    "clinicos = clinicos.drop_duplicates(subset=['id_cliente', 'peso', 'colesterol', 'genero'])"
   ]
  },
  {
   "cell_type": "markdown",
   "metadata": {},
   "source": [
    "#Analisando dados ausentes"
   ]
  },
  {
   "cell_type": "code",
   "execution_count": 325,
   "metadata": {
    "colab": {
     "base_uri": "https://localhost:8080/"
    },
    "executionInfo": {
     "elapsed": 44,
     "status": "ok",
     "timestamp": 1628820271896,
     "user": {
      "displayName": "Prof. Leandro Lessa",
      "photoUrl": "https://lh3.googleusercontent.com/a-/AOh14GjOFTHd5R6mZqpiAveor8rupG9YPM_LbwR5AmNPtg=s64",
      "userId": "09430483952296203154"
     },
     "user_tz": 180
    },
    "id": "WDfXbaFtOvup",
    "outputId": "0676ecbf-4223-4b37-9e89-feff49f6e18d"
   },
   "outputs": [
    {
     "data": {
      "text/plain": [
       "id_cliente    0\n",
       "peso          5\n",
       "colesterol    0\n",
       "genero        0\n",
       "dtype: int64"
      ]
     },
     "execution_count": 325,
     "metadata": {},
     "output_type": "execute_result"
    }
   ],
   "source": [
    "clinicos.isna().sum()\n",
    "\n",
    "# Solução: Peso - excluir os registros ausentes de Peso"
   ]
  },
  {
   "cell_type": "code",
   "execution_count": 326,
   "metadata": {
    "colab": {
     "base_uri": "https://localhost:8080/"
    },
    "executionInfo": {
     "elapsed": 50,
     "status": "ok",
     "timestamp": 1628820271895,
     "user": {
      "displayName": "Prof. Leandro Lessa",
      "photoUrl": "https://lh3.googleusercontent.com/a-/AOh14GjOFTHd5R6mZqpiAveor8rupG9YPM_LbwR5AmNPtg=s64",
      "userId": "09430483952296203154"
     },
     "user_tz": 180
    },
    "id": "G9kwetCNOmoh",
    "outputId": "00a407bd-ad08-4676-aa33-5ede1b83e34b"
   },
   "outputs": [
    {
     "data": {
      "text/plain": [
       "id_cliente           0\n",
       "idade                0\n",
       "classe_trabalho    387\n",
       "escolaridade         0\n",
       "id_estado            0\n",
       "estado_civil         0\n",
       "raca                 0\n",
       "qtde_filhos         10\n",
       "salario              0\n",
       "dtype: int64"
      ]
     },
     "execution_count": 326,
     "metadata": {},
     "output_type": "execute_result"
    }
   ],
   "source": [
    "# Verificando valores ausentes/nulos na base\n",
    "pacientes.isna().sum()\n",
    "\n",
    "# classe_trabalho - Solução: moda da variável analisada.\n",
    "# qtde_filhos - Solução: qtde_filhos - média arredondada"
   ]
  },
  {
   "cell_type": "code",
   "execution_count": 327,
   "metadata": {
    "colab": {
     "base_uri": "https://localhost:8080/"
    },
    "executionInfo": {
     "elapsed": 40,
     "status": "ok",
     "timestamp": 1628820271897,
     "user": {
      "displayName": "Prof. Leandro Lessa",
      "photoUrl": "https://lh3.googleusercontent.com/a-/AOh14GjOFTHd5R6mZqpiAveor8rupG9YPM_LbwR5AmNPtg=s64",
      "userId": "09430483952296203154"
     },
     "user_tz": 180
    },
    "id": "U7ApZ7m_czuG",
    "outputId": "7fccc450-4029-495c-819b-953710917a52"
   },
   "outputs": [
    {
     "data": {
      "text/plain": [
       "id_estado    0\n",
       "sigla        0\n",
       "estado       0\n",
       "regiao       0\n",
       "pais         0\n",
       "dtype: int64"
      ]
     },
     "execution_count": 327,
     "metadata": {},
     "output_type": "execute_result"
    }
   ],
   "source": [
    "estados.isna().sum()"
   ]
  },
  {
   "cell_type": "code",
   "execution_count": 328,
   "metadata": {
    "colab": {
     "base_uri": "https://localhost:8080/",
     "height": 142
    },
    "executionInfo": {
     "elapsed": 37,
     "status": "ok",
     "timestamp": 1628820271898,
     "user": {
      "displayName": "Prof. Leandro Lessa",
      "photoUrl": "https://lh3.googleusercontent.com/a-/AOh14GjOFTHd5R6mZqpiAveor8rupG9YPM_LbwR5AmNPtg=s64",
      "userId": "09430483952296203154"
     },
     "user_tz": 180
    },
    "id": "cYS2thu_Fm5t",
    "outputId": "4c4a812b-bf6a-4651-c9ab-6fdafbbd2cb0"
   },
   "outputs": [
    {
     "data": {
      "text/html": [
       "<div>\n",
       "<style scoped>\n",
       "    .dataframe tbody tr th:only-of-type {\n",
       "        vertical-align: middle;\n",
       "    }\n",
       "\n",
       "    .dataframe tbody tr th {\n",
       "        vertical-align: top;\n",
       "    }\n",
       "\n",
       "    .dataframe thead th {\n",
       "        text-align: right;\n",
       "    }\n",
       "</style>\n",
       "<table border=\"1\" class=\"dataframe\">\n",
       "  <thead>\n",
       "    <tr style=\"text-align: right;\">\n",
       "      <th></th>\n",
       "      <th>id_cliente</th>\n",
       "      <th>idade</th>\n",
       "      <th>classe_trabalho</th>\n",
       "      <th>escolaridade</th>\n",
       "      <th>id_estado</th>\n",
       "      <th>estado_civil</th>\n",
       "      <th>raca</th>\n",
       "      <th>qtde_filhos</th>\n",
       "      <th>salario</th>\n",
       "    </tr>\n",
       "  </thead>\n",
       "  <tbody>\n",
       "    <tr>\n",
       "      <th>61</th>\n",
       "      <td>62</td>\n",
       "      <td>32</td>\n",
       "      <td>NaN</td>\n",
       "      <td>Ensino Fundamental Incompleto</td>\n",
       "      <td>12</td>\n",
       "      <td>União Estável</td>\n",
       "      <td>Branco</td>\n",
       "      <td>4.0</td>\n",
       "      <td>1100</td>\n",
       "    </tr>\n",
       "    <tr>\n",
       "      <th>69</th>\n",
       "      <td>70</td>\n",
       "      <td>25</td>\n",
       "      <td>NaN</td>\n",
       "      <td>Ensino Médio Completo</td>\n",
       "      <td>1</td>\n",
       "      <td>Solteiro</td>\n",
       "      <td>Branco</td>\n",
       "      <td>3.0</td>\n",
       "      <td>3450</td>\n",
       "    </tr>\n",
       "    <tr>\n",
       "      <th>127</th>\n",
       "      <td>128</td>\n",
       "      <td>35</td>\n",
       "      <td>NaN</td>\n",
       "      <td>Ensino Médio Incompleto</td>\n",
       "      <td>1</td>\n",
       "      <td>Casado</td>\n",
       "      <td>Amarelo</td>\n",
       "      <td>4.0</td>\n",
       "      <td>1100</td>\n",
       "    </tr>\n",
       "    <tr>\n",
       "      <th>148</th>\n",
       "      <td>149</td>\n",
       "      <td>43</td>\n",
       "      <td>NaN</td>\n",
       "      <td>Ensino Médio Completo</td>\n",
       "      <td>21</td>\n",
       "      <td>Divorciado</td>\n",
       "      <td>Branco</td>\n",
       "      <td>0.0</td>\n",
       "      <td>2490</td>\n",
       "    </tr>\n",
       "    <tr>\n",
       "      <th>153</th>\n",
       "      <td>154</td>\n",
       "      <td>52</td>\n",
       "      <td>NaN</td>\n",
       "      <td>Ensino Médio Incompleto</td>\n",
       "      <td>18</td>\n",
       "      <td>Divorciado</td>\n",
       "      <td>Branco</td>\n",
       "      <td>1.0</td>\n",
       "      <td>1100</td>\n",
       "    </tr>\n",
       "    <tr>\n",
       "      <th>...</th>\n",
       "      <td>...</td>\n",
       "      <td>...</td>\n",
       "      <td>...</td>\n",
       "      <td>...</td>\n",
       "      <td>...</td>\n",
       "      <td>...</td>\n",
       "      <td>...</td>\n",
       "      <td>...</td>\n",
       "      <td>...</td>\n",
       "    </tr>\n",
       "    <tr>\n",
       "      <th>7931</th>\n",
       "      <td>7932</td>\n",
       "      <td>51</td>\n",
       "      <td>NaN</td>\n",
       "      <td>Ensino Médio Completo</td>\n",
       "      <td>4</td>\n",
       "      <td>Divorciado</td>\n",
       "      <td>Branco</td>\n",
       "      <td>2.0</td>\n",
       "      <td>2660</td>\n",
       "    </tr>\n",
       "    <tr>\n",
       "      <th>7952</th>\n",
       "      <td>7953</td>\n",
       "      <td>19</td>\n",
       "      <td>NaN</td>\n",
       "      <td>Ensino Médio Completo</td>\n",
       "      <td>1</td>\n",
       "      <td>Solteiro</td>\n",
       "      <td>Branco</td>\n",
       "      <td>0.0</td>\n",
       "      <td>2581</td>\n",
       "    </tr>\n",
       "    <tr>\n",
       "      <th>7960</th>\n",
       "      <td>7961</td>\n",
       "      <td>30</td>\n",
       "      <td>NaN</td>\n",
       "      <td>Ensino Fundamental Completo</td>\n",
       "      <td>10</td>\n",
       "      <td>Solteiro</td>\n",
       "      <td>Branco</td>\n",
       "      <td>4.0</td>\n",
       "      <td>1100</td>\n",
       "    </tr>\n",
       "    <tr>\n",
       "      <th>7988</th>\n",
       "      <td>7989</td>\n",
       "      <td>20</td>\n",
       "      <td>NaN</td>\n",
       "      <td>Ensino Médio Completo</td>\n",
       "      <td>1</td>\n",
       "      <td>Solteiro</td>\n",
       "      <td>Branco</td>\n",
       "      <td>2.0</td>\n",
       "      <td>3610</td>\n",
       "    </tr>\n",
       "    <tr>\n",
       "      <th>7996</th>\n",
       "      <td>7997</td>\n",
       "      <td>44</td>\n",
       "      <td>NaN</td>\n",
       "      <td>Ensino Médio Completo</td>\n",
       "      <td>23</td>\n",
       "      <td>Casado</td>\n",
       "      <td>Branco</td>\n",
       "      <td>0.0</td>\n",
       "      <td>3729</td>\n",
       "    </tr>\n",
       "  </tbody>\n",
       "</table>\n",
       "<p>387 rows × 9 columns</p>\n",
       "</div>"
      ],
      "text/plain": [
       "      id_cliente  idade classe_trabalho                   escolaridade  \\\n",
       "61            62     32             NaN  Ensino Fundamental Incompleto   \n",
       "69            70     25             NaN          Ensino Médio Completo   \n",
       "127          128     35             NaN        Ensino Médio Incompleto   \n",
       "148          149     43             NaN          Ensino Médio Completo   \n",
       "153          154     52             NaN        Ensino Médio Incompleto   \n",
       "...          ...    ...             ...                            ...   \n",
       "7931        7932     51             NaN          Ensino Médio Completo   \n",
       "7952        7953     19             NaN          Ensino Médio Completo   \n",
       "7960        7961     30             NaN    Ensino Fundamental Completo   \n",
       "7988        7989     20             NaN          Ensino Médio Completo   \n",
       "7996        7997     44             NaN          Ensino Médio Completo   \n",
       "\n",
       "      id_estado   estado_civil     raca  qtde_filhos  salario  \n",
       "61           12  União Estável   Branco          4.0     1100  \n",
       "69            1       Solteiro   Branco          3.0     3450  \n",
       "127           1         Casado  Amarelo          4.0     1100  \n",
       "148          21     Divorciado   Branco          0.0     2490  \n",
       "153          18     Divorciado   Branco          1.0     1100  \n",
       "...         ...            ...      ...          ...      ...  \n",
       "7931          4     Divorciado   Branco          2.0     2660  \n",
       "7952          1       Solteiro   Branco          0.0     2581  \n",
       "7960         10       Solteiro   Branco          4.0     1100  \n",
       "7988          1       Solteiro   Branco          2.0     3610  \n",
       "7996         23         Casado   Branco          0.0     3729  \n",
       "\n",
       "[387 rows x 9 columns]"
      ]
     },
     "execution_count": 328,
     "metadata": {},
     "output_type": "execute_result"
    }
   ],
   "source": [
    "# Verificando os registros com valores nulos\n",
    "pacientes.loc[pacientes['classe_trabalho'].isnull()]"
   ]
  },
  {
   "cell_type": "code",
   "execution_count": 329,
   "metadata": {},
   "outputs": [
    {
     "data": {
      "text/html": [
       "<div>\n",
       "<style scoped>\n",
       "    .dataframe tbody tr th:only-of-type {\n",
       "        vertical-align: middle;\n",
       "    }\n",
       "\n",
       "    .dataframe tbody tr th {\n",
       "        vertical-align: top;\n",
       "    }\n",
       "\n",
       "    .dataframe thead th {\n",
       "        text-align: right;\n",
       "    }\n",
       "</style>\n",
       "<table border=\"1\" class=\"dataframe\">\n",
       "  <thead>\n",
       "    <tr style=\"text-align: right;\">\n",
       "      <th></th>\n",
       "      <th>id_cliente</th>\n",
       "      <th>idade</th>\n",
       "      <th>classe_trabalho</th>\n",
       "      <th>escolaridade</th>\n",
       "      <th>id_estado</th>\n",
       "      <th>estado_civil</th>\n",
       "      <th>raca</th>\n",
       "      <th>qtde_filhos</th>\n",
       "      <th>salario</th>\n",
       "    </tr>\n",
       "  </thead>\n",
       "  <tbody>\n",
       "    <tr>\n",
       "      <th>12</th>\n",
       "      <td>13</td>\n",
       "      <td>23</td>\n",
       "      <td>Funcionário Setor Privado</td>\n",
       "      <td>Pós-Graduado</td>\n",
       "      <td>22</td>\n",
       "      <td>Solteiro</td>\n",
       "      <td>Branco</td>\n",
       "      <td>NaN</td>\n",
       "      <td>5316</td>\n",
       "    </tr>\n",
       "    <tr>\n",
       "      <th>20</th>\n",
       "      <td>21</td>\n",
       "      <td>40</td>\n",
       "      <td>Funcionário Setor Privado</td>\n",
       "      <td>Doutorado</td>\n",
       "      <td>8</td>\n",
       "      <td>Casado</td>\n",
       "      <td>Branco</td>\n",
       "      <td>NaN</td>\n",
       "      <td>12535</td>\n",
       "    </tr>\n",
       "    <tr>\n",
       "      <th>189</th>\n",
       "      <td>190</td>\n",
       "      <td>38</td>\n",
       "      <td>Funcionário Setor Privado</td>\n",
       "      <td>Ensino Médio Completo</td>\n",
       "      <td>27</td>\n",
       "      <td>Divorciado</td>\n",
       "      <td>Negro</td>\n",
       "      <td>NaN</td>\n",
       "      <td>2369</td>\n",
       "    </tr>\n",
       "    <tr>\n",
       "      <th>233</th>\n",
       "      <td>234</td>\n",
       "      <td>28</td>\n",
       "      <td>Funcionário Setor Privado</td>\n",
       "      <td>Mestrado</td>\n",
       "      <td>26</td>\n",
       "      <td>Solteiro</td>\n",
       "      <td>Branco</td>\n",
       "      <td>NaN</td>\n",
       "      <td>10671</td>\n",
       "    </tr>\n",
       "    <tr>\n",
       "      <th>295</th>\n",
       "      <td>296</td>\n",
       "      <td>37</td>\n",
       "      <td>MEI</td>\n",
       "      <td>Ensino Médio Completo</td>\n",
       "      <td>18</td>\n",
       "      <td>Divorciado</td>\n",
       "      <td>Branco</td>\n",
       "      <td>NaN</td>\n",
       "      <td>4300</td>\n",
       "    </tr>\n",
       "    <tr>\n",
       "      <th>358</th>\n",
       "      <td>359</td>\n",
       "      <td>26</td>\n",
       "      <td>Autônomo</td>\n",
       "      <td>Ensino Fundamental Completo</td>\n",
       "      <td>24</td>\n",
       "      <td>Casado</td>\n",
       "      <td>Branco</td>\n",
       "      <td>NaN</td>\n",
       "      <td>1100</td>\n",
       "    </tr>\n",
       "    <tr>\n",
       "      <th>359</th>\n",
       "      <td>360</td>\n",
       "      <td>36</td>\n",
       "      <td>Funcionário Setor Privado</td>\n",
       "      <td>Ensino Fundamental Completo</td>\n",
       "      <td>11</td>\n",
       "      <td>Casado</td>\n",
       "      <td>Branco</td>\n",
       "      <td>NaN</td>\n",
       "      <td>1100</td>\n",
       "    </tr>\n",
       "    <tr>\n",
       "      <th>360</th>\n",
       "      <td>361</td>\n",
       "      <td>62</td>\n",
       "      <td>Funcionário Setor Privado</td>\n",
       "      <td>Mestrado</td>\n",
       "      <td>7</td>\n",
       "      <td>Casado</td>\n",
       "      <td>Branco</td>\n",
       "      <td>NaN</td>\n",
       "      <td>6072</td>\n",
       "    </tr>\n",
       "    <tr>\n",
       "      <th>362</th>\n",
       "      <td>363</td>\n",
       "      <td>43</td>\n",
       "      <td>Funcionário Setor Privado</td>\n",
       "      <td>Ensino Médio Completo</td>\n",
       "      <td>12</td>\n",
       "      <td>Divorciado</td>\n",
       "      <td>Branco</td>\n",
       "      <td>NaN</td>\n",
       "      <td>2240</td>\n",
       "    </tr>\n",
       "    <tr>\n",
       "      <th>402</th>\n",
       "      <td>403</td>\n",
       "      <td>28</td>\n",
       "      <td>Funcionário Setor Privado</td>\n",
       "      <td>Ensino Fundamental Incompleto</td>\n",
       "      <td>27</td>\n",
       "      <td>Casado</td>\n",
       "      <td>Amarelo</td>\n",
       "      <td>NaN</td>\n",
       "      <td>1100</td>\n",
       "    </tr>\n",
       "  </tbody>\n",
       "</table>\n",
       "</div>"
      ],
      "text/plain": [
       "     id_cliente  idade            classe_trabalho  \\\n",
       "12           13     23  Funcionário Setor Privado   \n",
       "20           21     40  Funcionário Setor Privado   \n",
       "189         190     38  Funcionário Setor Privado   \n",
       "233         234     28  Funcionário Setor Privado   \n",
       "295         296     37                        MEI   \n",
       "358         359     26                   Autônomo   \n",
       "359         360     36  Funcionário Setor Privado   \n",
       "360         361     62  Funcionário Setor Privado   \n",
       "362         363     43  Funcionário Setor Privado   \n",
       "402         403     28  Funcionário Setor Privado   \n",
       "\n",
       "                      escolaridade  id_estado estado_civil     raca  \\\n",
       "12                    Pós-Graduado         22     Solteiro   Branco   \n",
       "20                       Doutorado          8       Casado   Branco   \n",
       "189          Ensino Médio Completo         27   Divorciado    Negro   \n",
       "233                       Mestrado         26     Solteiro   Branco   \n",
       "295          Ensino Médio Completo         18   Divorciado   Branco   \n",
       "358    Ensino Fundamental Completo         24       Casado   Branco   \n",
       "359    Ensino Fundamental Completo         11       Casado   Branco   \n",
       "360                       Mestrado          7       Casado   Branco   \n",
       "362          Ensino Médio Completo         12   Divorciado   Branco   \n",
       "402  Ensino Fundamental Incompleto         27       Casado  Amarelo   \n",
       "\n",
       "     qtde_filhos  salario  \n",
       "12           NaN     5316  \n",
       "20           NaN    12535  \n",
       "189          NaN     2369  \n",
       "233          NaN    10671  \n",
       "295          NaN     4300  \n",
       "358          NaN     1100  \n",
       "359          NaN     1100  \n",
       "360          NaN     6072  \n",
       "362          NaN     2240  \n",
       "402          NaN     1100  "
      ]
     },
     "execution_count": 329,
     "metadata": {},
     "output_type": "execute_result"
    }
   ],
   "source": [
    "# Verificando os registros com valores nulos\n",
    "pacientes.loc[pacientes['qtde_filhos'].isnull()]"
   ]
  },
  {
   "cell_type": "markdown",
   "metadata": {
    "id": "OqXaocyTZC4z"
   },
   "source": [
    "# Substituindo variável categórica (moda) e numérica (média)\n",
    "\n",
    "Quando temos uma variável do tipo categórica, uma abordagem é substituir o valor ausente pela variável mais frequente encontrada no conjunto de dados."
   ]
  },
  {
   "cell_type": "markdown",
   "metadata": {
    "id": "i30padjvQ0kM"
   },
   "source": [
    "Temos 3 opções para tratamento de dados númericos. \n",
    "\n",
    "1. Eliminação dos registros\n",
    "2. Média dos pesos dos clientes: Realiza a média dos pesos OBS: A média é fortemente influenciada pela presença de valores extremos;\n",
    "3. Médiana dos pesos dos clientes. Realiza a mediana dos pesos . (medida que pega o valor cetral dos dados) \n",
    "\n"
   ]
  },
  {
   "cell_type": "code",
   "execution_count": 330,
   "metadata": {},
   "outputs": [
    {
     "data": {
      "text/plain": [
       "2.0"
      ]
     },
     "execution_count": 330,
     "metadata": {},
     "output_type": "execute_result"
    }
   ],
   "source": [
    "# dataset Paciente - Média Arredondada para a variável qtde_filhos\n",
    "media_paciente = pacientes['qtde_filhos'].median()\n",
    "media_paciente"
   ]
  },
  {
   "cell_type": "code",
   "execution_count": 331,
   "metadata": {},
   "outputs": [],
   "source": [
    "# Preencher os valores nulos na coluna 'qtde_filhos' ausentes com o valor da média arredondada\n",
    "\n",
    "#pacientes['qtde_filhos'].fillna(pacientes['qtde_filhos'].mean().round(2), inplace=True)\n",
    "pacientes['qtde_filhos'] = pacientes['qtde_filhos'].fillna(pacientes['qtde_filhos'].mean().round(2))"
   ]
  },
  {
   "cell_type": "code",
   "execution_count": 332,
   "metadata": {},
   "outputs": [
    {
     "data": {
      "text/html": [
       "<div>\n",
       "<style scoped>\n",
       "    .dataframe tbody tr th:only-of-type {\n",
       "        vertical-align: middle;\n",
       "    }\n",
       "\n",
       "    .dataframe tbody tr th {\n",
       "        vertical-align: top;\n",
       "    }\n",
       "\n",
       "    .dataframe thead th {\n",
       "        text-align: right;\n",
       "    }\n",
       "</style>\n",
       "<table border=\"1\" class=\"dataframe\">\n",
       "  <thead>\n",
       "    <tr style=\"text-align: right;\">\n",
       "      <th></th>\n",
       "      <th>id_cliente</th>\n",
       "      <th>idade</th>\n",
       "      <th>classe_trabalho</th>\n",
       "      <th>escolaridade</th>\n",
       "      <th>id_estado</th>\n",
       "      <th>estado_civil</th>\n",
       "      <th>raca</th>\n",
       "      <th>qtde_filhos</th>\n",
       "      <th>salario</th>\n",
       "    </tr>\n",
       "  </thead>\n",
       "  <tbody>\n",
       "  </tbody>\n",
       "</table>\n",
       "</div>"
      ],
      "text/plain": [
       "Empty DataFrame\n",
       "Columns: [id_cliente, idade, classe_trabalho, escolaridade, id_estado, estado_civil, raca, qtde_filhos, salario]\n",
       "Index: []"
      ]
     },
     "execution_count": 332,
     "metadata": {},
     "output_type": "execute_result"
    }
   ],
   "source": [
    "# Confirmando a mudança - Sem valores nulos na coluna 'qtde_filhos'\n",
    "pacientes.loc[pacientes['qtde_filhos'].isnull()]"
   ]
  },
  {
   "cell_type": "code",
   "execution_count": 333,
   "metadata": {},
   "outputs": [
    {
     "data": {
      "text/plain": [
       "'Funcionário Setor Privado'"
      ]
     },
     "execution_count": 333,
     "metadata": {},
     "output_type": "execute_result"
    }
   ],
   "source": [
    "# dataset Paciente - Moda da variável 'classe_trabalho'\n",
    "\n",
    "# Calcular a moda da coluna 'classe_trabalho'\n",
    "moda_classe_trabalho = pacientes['classe_trabalho'].mode()[0]\n",
    "moda_classe_trabalho"
   ]
  },
  {
   "cell_type": "code",
   "execution_count": 334,
   "metadata": {},
   "outputs": [],
   "source": [
    "# Preencher os valores nulos na coluna 'classe_trabalho' com a moda - 'Funcionário Setor Privado'\n",
    "#pacientes['classe_trabalho'].fillna(moda_classe_trabalho, inplace=True)\n",
    "\n",
    "pacientes['classe_trabalho'] = pacientes['classe_trabalho'].fillna(moda_classe_trabalho)"
   ]
  },
  {
   "cell_type": "code",
   "execution_count": 335,
   "metadata": {},
   "outputs": [
    {
     "data": {
      "text/html": [
       "<div>\n",
       "<style scoped>\n",
       "    .dataframe tbody tr th:only-of-type {\n",
       "        vertical-align: middle;\n",
       "    }\n",
       "\n",
       "    .dataframe tbody tr th {\n",
       "        vertical-align: top;\n",
       "    }\n",
       "\n",
       "    .dataframe thead th {\n",
       "        text-align: right;\n",
       "    }\n",
       "</style>\n",
       "<table border=\"1\" class=\"dataframe\">\n",
       "  <thead>\n",
       "    <tr style=\"text-align: right;\">\n",
       "      <th></th>\n",
       "      <th>id_cliente</th>\n",
       "      <th>idade</th>\n",
       "      <th>classe_trabalho</th>\n",
       "      <th>escolaridade</th>\n",
       "      <th>id_estado</th>\n",
       "      <th>estado_civil</th>\n",
       "      <th>raca</th>\n",
       "      <th>qtde_filhos</th>\n",
       "      <th>salario</th>\n",
       "    </tr>\n",
       "  </thead>\n",
       "  <tbody>\n",
       "  </tbody>\n",
       "</table>\n",
       "</div>"
      ],
      "text/plain": [
       "Empty DataFrame\n",
       "Columns: [id_cliente, idade, classe_trabalho, escolaridade, id_estado, estado_civil, raca, qtde_filhos, salario]\n",
       "Index: []"
      ]
     },
     "execution_count": 335,
     "metadata": {},
     "output_type": "execute_result"
    }
   ],
   "source": [
    "# Confirmando a mudança - Sem valores nulos na coluna 'classe_trabalho' \n",
    "pacientes.loc[pacientes['classe_trabalho'].isnull()]"
   ]
  },
  {
   "cell_type": "code",
   "execution_count": 336,
   "metadata": {},
   "outputs": [
    {
     "data": {
      "text/html": [
       "<div>\n",
       "<style scoped>\n",
       "    .dataframe tbody tr th:only-of-type {\n",
       "        vertical-align: middle;\n",
       "    }\n",
       "\n",
       "    .dataframe tbody tr th {\n",
       "        vertical-align: top;\n",
       "    }\n",
       "\n",
       "    .dataframe thead th {\n",
       "        text-align: right;\n",
       "    }\n",
       "</style>\n",
       "<table border=\"1\" class=\"dataframe\">\n",
       "  <thead>\n",
       "    <tr style=\"text-align: right;\">\n",
       "      <th></th>\n",
       "      <th>id_cliente</th>\n",
       "      <th>peso</th>\n",
       "      <th>colesterol</th>\n",
       "      <th>genero</th>\n",
       "    </tr>\n",
       "  </thead>\n",
       "  <tbody>\n",
       "    <tr>\n",
       "      <th>63</th>\n",
       "      <td>64</td>\n",
       "      <td>NaN</td>\n",
       "      <td>211</td>\n",
       "      <td>Masculino</td>\n",
       "    </tr>\n",
       "    <tr>\n",
       "      <th>101</th>\n",
       "      <td>102</td>\n",
       "      <td>NaN</td>\n",
       "      <td>230</td>\n",
       "      <td>Feminino</td>\n",
       "    </tr>\n",
       "    <tr>\n",
       "      <th>146</th>\n",
       "      <td>147</td>\n",
       "      <td>NaN</td>\n",
       "      <td>171</td>\n",
       "      <td>Masculino</td>\n",
       "    </tr>\n",
       "    <tr>\n",
       "      <th>195</th>\n",
       "      <td>196</td>\n",
       "      <td>NaN</td>\n",
       "      <td>143</td>\n",
       "      <td>Feminino</td>\n",
       "    </tr>\n",
       "    <tr>\n",
       "      <th>215</th>\n",
       "      <td>216</td>\n",
       "      <td>NaN</td>\n",
       "      <td>180</td>\n",
       "      <td>Masculino</td>\n",
       "    </tr>\n",
       "  </tbody>\n",
       "</table>\n",
       "</div>"
      ],
      "text/plain": [
       "     id_cliente  peso  colesterol     genero\n",
       "63           64   NaN         211  Masculino\n",
       "101         102   NaN         230   Feminino\n",
       "146         147   NaN         171  Masculino\n",
       "195         196   NaN         143   Feminino\n",
       "215         216   NaN         180  Masculino"
      ]
     },
     "execution_count": 336,
     "metadata": {},
     "output_type": "execute_result"
    }
   ],
   "source": [
    "# Verificando os registros com valores nulos\n",
    "clinicos.loc[clinicos['peso'].isnull()]"
   ]
  },
  {
   "cell_type": "markdown",
   "metadata": {
    "id": "dXon8JBgWIpq"
   },
   "source": [
    "# Eliminando dados ausentes"
   ]
  },
  {
   "cell_type": "code",
   "execution_count": 337,
   "metadata": {
    "colab": {
     "base_uri": "https://localhost:8080/",
     "height": 419
    },
    "executionInfo": {
     "elapsed": 460,
     "status": "ok",
     "timestamp": 1628820272323,
     "user": {
      "displayName": "Prof. Leandro Lessa",
      "photoUrl": "https://lh3.googleusercontent.com/a-/AOh14GjOFTHd5R6mZqpiAveor8rupG9YPM_LbwR5AmNPtg=s64",
      "userId": "09430483952296203154"
     },
     "user_tz": 180
    },
    "id": "XS3tXlIIO0TQ",
    "outputId": "20dd6f45-fe1c-4886-8d10-6afa307ea3b3"
   },
   "outputs": [],
   "source": [
    "#Dados Ausentes - Removendo as linhas com registros de peso ausente\n",
    "clinicos.dropna(subset=['peso'], inplace=True) \n",
    "\n",
    "# para eliminar o registro. Inplace = True siginifica que quer alterar os dados naquele dataframe"
   ]
  },
  {
   "cell_type": "code",
   "execution_count": 338,
   "metadata": {
    "colab": {
     "base_uri": "https://localhost:8080/"
    },
    "executionInfo": {
     "elapsed": 86,
     "status": "ok",
     "timestamp": 1628820272326,
     "user": {
      "displayName": "Prof. Leandro Lessa",
      "photoUrl": "https://lh3.googleusercontent.com/a-/AOh14GjOFTHd5R6mZqpiAveor8rupG9YPM_LbwR5AmNPtg=s64",
      "userId": "09430483952296203154"
     },
     "user_tz": 180
    },
    "id": "g8GISDmiUABC",
    "outputId": "faebb632-9c8b-4df2-c3b0-de50e440d242"
   },
   "outputs": [
    {
     "data": {
      "text/plain": [
       "id_cliente    0\n",
       "peso          0\n",
       "colesterol    0\n",
       "genero        0\n",
       "dtype: int64"
      ]
     },
     "execution_count": 338,
     "metadata": {},
     "output_type": "execute_result"
    }
   ],
   "source": [
    "clinicos.isna().sum()"
   ]
  },
  {
   "cell_type": "markdown",
   "metadata": {
    "id": "mDaY2NK2azyK"
   },
   "source": [
    "# Analisando distribuição dos dados\n"
   ]
  },
  {
   "cell_type": "code",
   "execution_count": 339,
   "metadata": {
    "executionInfo": {
     "elapsed": 32,
     "status": "ok",
     "timestamp": 1628820272338,
     "user": {
      "displayName": "Prof. Leandro Lessa",
      "photoUrl": "https://lh3.googleusercontent.com/a-/AOh14GjOFTHd5R6mZqpiAveor8rupG9YPM_LbwR5AmNPtg=s64",
      "userId": "09430483952296203154"
     },
     "user_tz": 180
    },
    "id": "PVQv6U1SaI44"
   },
   "outputs": [],
   "source": [
    "import matplotlib.pyplot as plt\n"
   ]
  },
  {
   "cell_type": "code",
   "execution_count": 340,
   "metadata": {
    "colab": {
     "base_uri": "https://localhost:8080/",
     "height": 444
    },
    "executionInfo": {
     "elapsed": 526,
     "status": "ok",
     "timestamp": 1628820272832,
     "user": {
      "displayName": "Prof. Leandro Lessa",
      "photoUrl": "https://lh3.googleusercontent.com/a-/AOh14GjOFTHd5R6mZqpiAveor8rupG9YPM_LbwR5AmNPtg=s64",
      "userId": "09430483952296203154"
     },
     "user_tz": 180
    },
    "id": "CeHWrRKIcz7c",
    "outputId": "7a1ea765-1161-4699-abd7-7cca8156277b"
   },
   "outputs": [
    {
     "data": {
      "image/png": "[encoded data removed]",
      "text/plain": [
       "<Figure size 1500x700 with 1 Axes>"
      ]
     },
     "metadata": {},
     "output_type": "display_data"
    }
   ],
   "source": [
    "clinicos.hist(column='peso', figsize=(15,7))\n",
    "plt.show()"
   ]
  },
  {
   "cell_type": "code",
   "execution_count": 341,
   "metadata": {
    "colab": {
     "base_uri": "https://localhost:8080/",
     "height": 444
    },
    "executionInfo": {
     "elapsed": 519,
     "status": "ok",
     "timestamp": 1628820273341,
     "user": {
      "displayName": "Prof. Leandro Lessa",
      "photoUrl": "https://lh3.googleusercontent.com/a-/AOh14GjOFTHd5R6mZqpiAveor8rupG9YPM_LbwR5AmNPtg=s64",
      "userId": "09430483952296203154"
     },
     "user_tz": 180
    },
    "id": "pqdiIT_1a6k_",
    "outputId": "d75b2285-a087-43c5-820a-1bb15dba7463"
   },
   "outputs": [
    {
     "data": {
      "image/png": "[encoded data removed]",
      "text/plain": [
       "<Figure size 1500x700 with 1 Axes>"
      ]
     },
     "metadata": {},
     "output_type": "display_data"
    }
   ],
   "source": [
    "clinicos.hist(column='peso', figsize=(15,7), bins=100)\n",
    "plt.show()"
   ]
  },
  {
   "cell_type": "code",
   "execution_count": 342,
   "metadata": {
    "colab": {
     "base_uri": "https://localhost:8080/",
     "height": 478
    },
    "executionInfo": {
     "elapsed": 42,
     "status": "ok",
     "timestamp": 1628820273343,
     "user": {
      "displayName": "Prof. Leandro Lessa",
      "photoUrl": "https://lh3.googleusercontent.com/a-/AOh14GjOFTHd5R6mZqpiAveor8rupG9YPM_LbwR5AmNPtg=s64",
      "userId": "09430483952296203154"
     },
     "user_tz": 180
    },
    "id": "AdTwiMZmbBvP",
    "outputId": "1720e7d8-185e-45e0-dd86-62104846a4dc"
   },
   "outputs": [
    {
     "data": {
      "text/plain": [
       "array([[<Axes: title={'center': 'colesterol'}>]], dtype=object)"
      ]
     },
     "execution_count": 342,
     "metadata": {},
     "output_type": "execute_result"
    },
    {
     "data": {
      "image/png": "[encoded data removed]",
      "text/plain": [
       "<Figure size 1500x700 with 1 Axes>"
      ]
     },
     "metadata": {},
     "output_type": "display_data"
    }
   ],
   "source": [
    "clinicos.hist(column='colesterol', figsize=(15,7), bins=100)"
   ]
  },
  {
   "cell_type": "code",
   "execution_count": 343,
   "metadata": {
    "colab": {
     "base_uri": "https://localhost:8080/",
     "height": 419
    },
    "executionInfo": {
     "elapsed": 15,
     "status": "ok",
     "timestamp": 1628820273901,
     "user": {
      "displayName": "Prof. Leandro Lessa",
      "photoUrl": "https://lh3.googleusercontent.com/a-/AOh14GjOFTHd5R6mZqpiAveor8rupG9YPM_LbwR5AmNPtg=s64",
      "userId": "09430483952296203154"
     },
     "user_tz": 180
    },
    "id": "2sR5NJj_f7cI",
    "outputId": "eea823f6-2b3e-496a-de7e-d947d9db7999"
   },
   "outputs": [
    {
     "data": {
      "text/html": [
       "<div>\n",
       "<style scoped>\n",
       "    .dataframe tbody tr th:only-of-type {\n",
       "        vertical-align: middle;\n",
       "    }\n",
       "\n",
       "    .dataframe tbody tr th {\n",
       "        vertical-align: top;\n",
       "    }\n",
       "\n",
       "    .dataframe thead th {\n",
       "        text-align: right;\n",
       "    }\n",
       "</style>\n",
       "<table border=\"1\" class=\"dataframe\">\n",
       "  <thead>\n",
       "    <tr style=\"text-align: right;\">\n",
       "      <th></th>\n",
       "      <th>id_cliente</th>\n",
       "      <th>peso</th>\n",
       "      <th>colesterol</th>\n",
       "      <th>genero</th>\n",
       "    </tr>\n",
       "  </thead>\n",
       "  <tbody>\n",
       "    <tr>\n",
       "      <th>0</th>\n",
       "      <td>1</td>\n",
       "      <td>102.0</td>\n",
       "      <td>111</td>\n",
       "      <td>Masculino</td>\n",
       "    </tr>\n",
       "    <tr>\n",
       "      <th>1</th>\n",
       "      <td>2</td>\n",
       "      <td>115.0</td>\n",
       "      <td>135</td>\n",
       "      <td>Masculino</td>\n",
       "    </tr>\n",
       "    <tr>\n",
       "      <th>2</th>\n",
       "      <td>3</td>\n",
       "      <td>115.0</td>\n",
       "      <td>136</td>\n",
       "      <td>Masculino</td>\n",
       "    </tr>\n",
       "    <tr>\n",
       "      <th>3</th>\n",
       "      <td>4</td>\n",
       "      <td>140.0</td>\n",
       "      <td>167</td>\n",
       "      <td>Feminino</td>\n",
       "    </tr>\n",
       "    <tr>\n",
       "      <th>4</th>\n",
       "      <td>5</td>\n",
       "      <td>130.0</td>\n",
       "      <td>158</td>\n",
       "      <td>Masculino</td>\n",
       "    </tr>\n",
       "    <tr>\n",
       "      <th>...</th>\n",
       "      <td>...</td>\n",
       "      <td>...</td>\n",
       "      <td>...</td>\n",
       "      <td>...</td>\n",
       "    </tr>\n",
       "    <tr>\n",
       "      <th>542</th>\n",
       "      <td>543</td>\n",
       "      <td>172.0</td>\n",
       "      <td>207</td>\n",
       "      <td>Masculino</td>\n",
       "    </tr>\n",
       "    <tr>\n",
       "      <th>543</th>\n",
       "      <td>544</td>\n",
       "      <td>129.0</td>\n",
       "      <td>157</td>\n",
       "      <td>Masculino</td>\n",
       "    </tr>\n",
       "    <tr>\n",
       "      <th>544</th>\n",
       "      <td>545</td>\n",
       "      <td>107.0</td>\n",
       "      <td>115</td>\n",
       "      <td>Masculino</td>\n",
       "    </tr>\n",
       "    <tr>\n",
       "      <th>545</th>\n",
       "      <td>546</td>\n",
       "      <td>117.0</td>\n",
       "      <td>147</td>\n",
       "      <td>Masculino</td>\n",
       "    </tr>\n",
       "    <tr>\n",
       "      <th>546</th>\n",
       "      <td>547</td>\n",
       "      <td>148.0</td>\n",
       "      <td>176</td>\n",
       "      <td>Masculino</td>\n",
       "    </tr>\n",
       "  </tbody>\n",
       "</table>\n",
       "<p>542 rows × 4 columns</p>\n",
       "</div>"
      ],
      "text/plain": [
       "     id_cliente   peso  colesterol     genero\n",
       "0             1  102.0         111  Masculino\n",
       "1             2  115.0         135  Masculino\n",
       "2             3  115.0         136  Masculino\n",
       "3             4  140.0         167   Feminino\n",
       "4             5  130.0         158  Masculino\n",
       "..          ...    ...         ...        ...\n",
       "542         543  172.0         207  Masculino\n",
       "543         544  129.0         157  Masculino\n",
       "544         545  107.0         115  Masculino\n",
       "545         546  117.0         147  Masculino\n",
       "546         547  148.0         176  Masculino\n",
       "\n",
       "[542 rows x 4 columns]"
      ]
     },
     "execution_count": 343,
     "metadata": {},
     "output_type": "execute_result"
    }
   ],
   "source": [
    "clinicos\n",
    "\n",
    "# Coluna 'genero' é categórica e preciso ajustar para trabalhar com os algoritmos"
   ]
  },
  {
   "cell_type": "code",
   "execution_count": 344,
   "metadata": {
    "executionInfo": {
     "elapsed": 577,
     "status": "ok",
     "timestamp": 1628820273900,
     "user": {
      "displayName": "Prof. Leandro Lessa",
      "photoUrl": "https://lh3.googleusercontent.com/a-/AOh14GjOFTHd5R6mZqpiAveor8rupG9YPM_LbwR5AmNPtg=s64",
      "userId": "09430483952296203154"
     },
     "user_tz": 180
    },
    "id": "uis80NPlprpF"
   },
   "outputs": [],
   "source": [
    "#Criando um Identificador para a variável genero\n",
    "from sklearn.preprocessing import LabelEncoder\n",
    "\n",
    "LE = LabelEncoder()\n",
    "clinicos['genero_number'] = LE.fit_transform(clinicos['genero'])"
   ]
  },
  {
   "cell_type": "code",
   "execution_count": 345,
   "metadata": {},
   "outputs": [
    {
     "data": {
      "text/html": [
       "<div>\n",
       "<style scoped>\n",
       "    .dataframe tbody tr th:only-of-type {\n",
       "        vertical-align: middle;\n",
       "    }\n",
       "\n",
       "    .dataframe tbody tr th {\n",
       "        vertical-align: top;\n",
       "    }\n",
       "\n",
       "    .dataframe thead th {\n",
       "        text-align: right;\n",
       "    }\n",
       "</style>\n",
       "<table border=\"1\" class=\"dataframe\">\n",
       "  <thead>\n",
       "    <tr style=\"text-align: right;\">\n",
       "      <th></th>\n",
       "      <th>id_cliente</th>\n",
       "      <th>peso</th>\n",
       "      <th>colesterol</th>\n",
       "      <th>genero</th>\n",
       "      <th>genero_number</th>\n",
       "    </tr>\n",
       "  </thead>\n",
       "  <tbody>\n",
       "    <tr>\n",
       "      <th>0</th>\n",
       "      <td>1</td>\n",
       "      <td>102.0</td>\n",
       "      <td>111</td>\n",
       "      <td>Masculino</td>\n",
       "      <td>1</td>\n",
       "    </tr>\n",
       "    <tr>\n",
       "      <th>1</th>\n",
       "      <td>2</td>\n",
       "      <td>115.0</td>\n",
       "      <td>135</td>\n",
       "      <td>Masculino</td>\n",
       "      <td>1</td>\n",
       "    </tr>\n",
       "    <tr>\n",
       "      <th>2</th>\n",
       "      <td>3</td>\n",
       "      <td>115.0</td>\n",
       "      <td>136</td>\n",
       "      <td>Masculino</td>\n",
       "      <td>1</td>\n",
       "    </tr>\n",
       "    <tr>\n",
       "      <th>3</th>\n",
       "      <td>4</td>\n",
       "      <td>140.0</td>\n",
       "      <td>167</td>\n",
       "      <td>Feminino</td>\n",
       "      <td>0</td>\n",
       "    </tr>\n",
       "    <tr>\n",
       "      <th>4</th>\n",
       "      <td>5</td>\n",
       "      <td>130.0</td>\n",
       "      <td>158</td>\n",
       "      <td>Masculino</td>\n",
       "      <td>1</td>\n",
       "    </tr>\n",
       "    <tr>\n",
       "      <th>...</th>\n",
       "      <td>...</td>\n",
       "      <td>...</td>\n",
       "      <td>...</td>\n",
       "      <td>...</td>\n",
       "      <td>...</td>\n",
       "    </tr>\n",
       "    <tr>\n",
       "      <th>542</th>\n",
       "      <td>543</td>\n",
       "      <td>172.0</td>\n",
       "      <td>207</td>\n",
       "      <td>Masculino</td>\n",
       "      <td>1</td>\n",
       "    </tr>\n",
       "    <tr>\n",
       "      <th>543</th>\n",
       "      <td>544</td>\n",
       "      <td>129.0</td>\n",
       "      <td>157</td>\n",
       "      <td>Masculino</td>\n",
       "      <td>1</td>\n",
       "    </tr>\n",
       "    <tr>\n",
       "      <th>544</th>\n",
       "      <td>545</td>\n",
       "      <td>107.0</td>\n",
       "      <td>115</td>\n",
       "      <td>Masculino</td>\n",
       "      <td>1</td>\n",
       "    </tr>\n",
       "    <tr>\n",
       "      <th>545</th>\n",
       "      <td>546</td>\n",
       "      <td>117.0</td>\n",
       "      <td>147</td>\n",
       "      <td>Masculino</td>\n",
       "      <td>1</td>\n",
       "    </tr>\n",
       "    <tr>\n",
       "      <th>546</th>\n",
       "      <td>547</td>\n",
       "      <td>148.0</td>\n",
       "      <td>176</td>\n",
       "      <td>Masculino</td>\n",
       "      <td>1</td>\n",
       "    </tr>\n",
       "  </tbody>\n",
       "</table>\n",
       "<p>542 rows × 5 columns</p>\n",
       "</div>"
      ],
      "text/plain": [
       "     id_cliente   peso  colesterol     genero  genero_number\n",
       "0             1  102.0         111  Masculino              1\n",
       "1             2  115.0         135  Masculino              1\n",
       "2             3  115.0         136  Masculino              1\n",
       "3             4  140.0         167   Feminino              0\n",
       "4             5  130.0         158  Masculino              1\n",
       "..          ...    ...         ...        ...            ...\n",
       "542         543  172.0         207  Masculino              1\n",
       "543         544  129.0         157  Masculino              1\n",
       "544         545  107.0         115  Masculino              1\n",
       "545         546  117.0         147  Masculino              1\n",
       "546         547  148.0         176  Masculino              1\n",
       "\n",
       "[542 rows x 5 columns]"
      ]
     },
     "execution_count": 345,
     "metadata": {},
     "output_type": "execute_result"
    }
   ],
   "source": [
    "clinicos"
   ]
  },
  {
   "cell_type": "code",
   "execution_count": 346,
   "metadata": {
    "colab": {
     "base_uri": "https://localhost:8080/",
     "height": 478
    },
    "executionInfo": {
     "elapsed": 320,
     "status": "ok",
     "timestamp": 1628820274207,
     "user": {
      "displayName": "Prof. Leandro Lessa",
      "photoUrl": "https://lh3.googleusercontent.com/a-/AOh14GjOFTHd5R6mZqpiAveor8rupG9YPM_LbwR5AmNPtg=s64",
      "userId": "09430483952296203154"
     },
     "user_tz": 180
    },
    "id": "192dJ-r6d_qW",
    "outputId": "1630e177-6af0-4ebd-d159-ad1e7598f014"
   },
   "outputs": [
    {
     "data": {
      "text/plain": [
       "array([[<Axes: title={'center': 'genero_number'}>]], dtype=object)"
      ]
     },
     "execution_count": 346,
     "metadata": {},
     "output_type": "execute_result"
    },
    {
     "data": {
      "image/png": "[encoded data removed]",
      "text/plain": [
       "<Figure size 1500x700 with 1 Axes>"
      ]
     },
     "metadata": {},
     "output_type": "display_data"
    }
   ],
   "source": [
    "clinicos.hist(column='genero_number', figsize=(15,7), bins=3 )"
   ]
  },
  {
   "cell_type": "markdown",
   "metadata": {
    "id": "6Y4etLwEgCdS"
   },
   "source": [
    "# Junções entre os dados coletados\n",
    "Nessa etapa vamos realizar o merge entre os dados que realizamos a coleta\n",
    "\n"
   ]
  },
  {
   "cell_type": "code",
   "execution_count": 347,
   "metadata": {
    "colab": {
     "base_uri": "https://localhost:8080/",
     "height": 266
    },
    "executionInfo": {
     "elapsed": 17,
     "status": "ok",
     "timestamp": 1628820274208,
     "user": {
      "displayName": "Prof. Leandro Lessa",
      "photoUrl": "https://lh3.googleusercontent.com/a-/AOh14GjOFTHd5R6mZqpiAveor8rupG9YPM_LbwR5AmNPtg=s64",
      "userId": "09430483952296203154"
     },
     "user_tz": 180
    },
    "id": "4bMq9QzGg-GU",
    "outputId": "a3d2d3e6-0f43-4198-d3c7-75504ce67b81"
   },
   "outputs": [
    {
     "data": {
      "text/html": [
       "<div>\n",
       "<style scoped>\n",
       "    .dataframe tbody tr th:only-of-type {\n",
       "        vertical-align: middle;\n",
       "    }\n",
       "\n",
       "    .dataframe tbody tr th {\n",
       "        vertical-align: top;\n",
       "    }\n",
       "\n",
       "    .dataframe thead th {\n",
       "        text-align: right;\n",
       "    }\n",
       "</style>\n",
       "<table border=\"1\" class=\"dataframe\">\n",
       "  <thead>\n",
       "    <tr style=\"text-align: right;\">\n",
       "      <th></th>\n",
       "      <th>id_estado</th>\n",
       "      <th>sigla</th>\n",
       "      <th>estado</th>\n",
       "      <th>regiao</th>\n",
       "      <th>pais</th>\n",
       "    </tr>\n",
       "  </thead>\n",
       "  <tbody>\n",
       "    <tr>\n",
       "      <th>0</th>\n",
       "      <td>1</td>\n",
       "      <td>AC</td>\n",
       "      <td>Acre</td>\n",
       "      <td>Norte</td>\n",
       "      <td>Brasil</td>\n",
       "    </tr>\n",
       "    <tr>\n",
       "      <th>1</th>\n",
       "      <td>2</td>\n",
       "      <td>AL</td>\n",
       "      <td>Alagoas</td>\n",
       "      <td>Nordeste</td>\n",
       "      <td>Brasil</td>\n",
       "    </tr>\n",
       "    <tr>\n",
       "      <th>2</th>\n",
       "      <td>3</td>\n",
       "      <td>AP</td>\n",
       "      <td>Amapá</td>\n",
       "      <td>Norte</td>\n",
       "      <td>Brasil</td>\n",
       "    </tr>\n",
       "    <tr>\n",
       "      <th>3</th>\n",
       "      <td>4</td>\n",
       "      <td>AM</td>\n",
       "      <td>Amazonas</td>\n",
       "      <td>Norte</td>\n",
       "      <td>Brasil</td>\n",
       "    </tr>\n",
       "    <tr>\n",
       "      <th>4</th>\n",
       "      <td>5</td>\n",
       "      <td>BA</td>\n",
       "      <td>Bahia</td>\n",
       "      <td>Nordeste</td>\n",
       "      <td>Brasil</td>\n",
       "    </tr>\n",
       "  </tbody>\n",
       "</table>\n",
       "</div>"
      ],
      "text/plain": [
       "   id_estado sigla    estado    regiao    pais\n",
       "0          1    AC      Acre     Norte  Brasil\n",
       "1          2    AL   Alagoas  Nordeste  Brasil\n",
       "2          3    AP     Amapá     Norte  Brasil\n",
       "3          4    AM  Amazonas     Norte  Brasil\n",
       "4          5    BA     Bahia  Nordeste  Brasil"
      ]
     },
     "execution_count": 347,
     "metadata": {},
     "output_type": "execute_result"
    }
   ],
   "source": [
    "estados[:5]"
   ]
  },
  {
   "cell_type": "code",
   "execution_count": 348,
   "metadata": {
    "colab": {
     "base_uri": "https://localhost:8080/",
     "height": 204
    },
    "executionInfo": {
     "elapsed": 17,
     "status": "ok",
     "timestamp": 1628820274209,
     "user": {
      "displayName": "Prof. Leandro Lessa",
      "photoUrl": "https://lh3.googleusercontent.com/a-/AOh14GjOFTHd5R6mZqpiAveor8rupG9YPM_LbwR5AmNPtg=s64",
      "userId": "09430483952296203154"
     },
     "user_tz": 180
    },
    "id": "bfoj5BQrPqe1",
    "outputId": "68478d24-82fa-47a2-d1f7-95779a309151"
   },
   "outputs": [
    {
     "data": {
      "text/html": [
       "<div>\n",
       "<style scoped>\n",
       "    .dataframe tbody tr th:only-of-type {\n",
       "        vertical-align: middle;\n",
       "    }\n",
       "\n",
       "    .dataframe tbody tr th {\n",
       "        vertical-align: top;\n",
       "    }\n",
       "\n",
       "    .dataframe thead th {\n",
       "        text-align: right;\n",
       "    }\n",
       "</style>\n",
       "<table border=\"1\" class=\"dataframe\">\n",
       "  <thead>\n",
       "    <tr style=\"text-align: right;\">\n",
       "      <th></th>\n",
       "      <th>id_cliente</th>\n",
       "      <th>idade</th>\n",
       "      <th>classe_trabalho</th>\n",
       "      <th>escolaridade</th>\n",
       "      <th>id_estado</th>\n",
       "      <th>estado_civil</th>\n",
       "      <th>raca</th>\n",
       "      <th>qtde_filhos</th>\n",
       "      <th>salario</th>\n",
       "    </tr>\n",
       "  </thead>\n",
       "  <tbody>\n",
       "    <tr>\n",
       "      <th>0</th>\n",
       "      <td>1</td>\n",
       "      <td>39</td>\n",
       "      <td>Servidor Público</td>\n",
       "      <td>Ensino Médio Completo</td>\n",
       "      <td>2</td>\n",
       "      <td>Solteiro</td>\n",
       "      <td>Branco</td>\n",
       "      <td>2.0</td>\n",
       "      <td>4754</td>\n",
       "    </tr>\n",
       "    <tr>\n",
       "      <th>1</th>\n",
       "      <td>2</td>\n",
       "      <td>50</td>\n",
       "      <td>Autônomo</td>\n",
       "      <td>Superior Incompleto</td>\n",
       "      <td>24</td>\n",
       "      <td>Casado</td>\n",
       "      <td>Branco</td>\n",
       "      <td>1.0</td>\n",
       "      <td>3923</td>\n",
       "    </tr>\n",
       "    <tr>\n",
       "      <th>2</th>\n",
       "      <td>3</td>\n",
       "      <td>38</td>\n",
       "      <td>Funcionário Setor Privado</td>\n",
       "      <td>Ensino Médio Incompleto</td>\n",
       "      <td>4</td>\n",
       "      <td>Divorciado</td>\n",
       "      <td>Branco</td>\n",
       "      <td>0.0</td>\n",
       "      <td>1100</td>\n",
       "    </tr>\n",
       "    <tr>\n",
       "      <th>3</th>\n",
       "      <td>4</td>\n",
       "      <td>53</td>\n",
       "      <td>Funcionário Setor Privado</td>\n",
       "      <td>Ensino Médio Incompleto</td>\n",
       "      <td>24</td>\n",
       "      <td>Casado</td>\n",
       "      <td>Negro</td>\n",
       "      <td>1.0</td>\n",
       "      <td>1100</td>\n",
       "    </tr>\n",
       "    <tr>\n",
       "      <th>4</th>\n",
       "      <td>5</td>\n",
       "      <td>28</td>\n",
       "      <td>Funcionário Setor Privado</td>\n",
       "      <td>Ensino Médio Completo</td>\n",
       "      <td>15</td>\n",
       "      <td>Casado</td>\n",
       "      <td>Negro</td>\n",
       "      <td>0.0</td>\n",
       "      <td>3430</td>\n",
       "    </tr>\n",
       "  </tbody>\n",
       "</table>\n",
       "</div>"
      ],
      "text/plain": [
       "   id_cliente  idade            classe_trabalho             escolaridade  \\\n",
       "0           1     39           Servidor Público    Ensino Médio Completo   \n",
       "1           2     50                   Autônomo      Superior Incompleto   \n",
       "2           3     38  Funcionário Setor Privado  Ensino Médio Incompleto   \n",
       "3           4     53  Funcionário Setor Privado  Ensino Médio Incompleto   \n",
       "4           5     28  Funcionário Setor Privado    Ensino Médio Completo   \n",
       "\n",
       "   id_estado estado_civil    raca  qtde_filhos  salario  \n",
       "0          2     Solteiro  Branco          2.0     4754  \n",
       "1         24       Casado  Branco          1.0     3923  \n",
       "2          4   Divorciado  Branco          0.0     1100  \n",
       "3         24       Casado   Negro          1.0     1100  \n",
       "4         15       Casado   Negro          0.0     3430  "
      ]
     },
     "execution_count": 348,
     "metadata": {},
     "output_type": "execute_result"
    }
   ],
   "source": [
    "pacientes[:5]"
   ]
  },
  {
   "cell_type": "code",
   "execution_count": 349,
   "metadata": {
    "colab": {
     "base_uri": "https://localhost:8080/",
     "height": 419
    },
    "executionInfo": {
     "elapsed": 19,
     "status": "ok",
     "timestamp": 1628820274212,
     "user": {
      "displayName": "Prof. Leandro Lessa",
      "photoUrl": "https://lh3.googleusercontent.com/a-/AOh14GjOFTHd5R6mZqpiAveor8rupG9YPM_LbwR5AmNPtg=s64",
      "userId": "09430483952296203154"
     },
     "user_tz": 180
    },
    "id": "n80m-HhjgASF",
    "outputId": "bded492a-20bd-4c80-fb83-d1ea7a0bbb54"
   },
   "outputs": [
    {
     "data": {
      "text/html": [
       "<div>\n",
       "<style scoped>\n",
       "    .dataframe tbody tr th:only-of-type {\n",
       "        vertical-align: middle;\n",
       "    }\n",
       "\n",
       "    .dataframe tbody tr th {\n",
       "        vertical-align: top;\n",
       "    }\n",
       "\n",
       "    .dataframe thead th {\n",
       "        text-align: right;\n",
       "    }\n",
       "</style>\n",
       "<table border=\"1\" class=\"dataframe\">\n",
       "  <thead>\n",
       "    <tr style=\"text-align: right;\">\n",
       "      <th></th>\n",
       "      <th>id_cliente</th>\n",
       "      <th>idade</th>\n",
       "      <th>classe_trabalho</th>\n",
       "      <th>escolaridade</th>\n",
       "      <th>id_estado</th>\n",
       "      <th>estado_civil</th>\n",
       "      <th>raca</th>\n",
       "      <th>qtde_filhos</th>\n",
       "      <th>salario</th>\n",
       "      <th>sigla</th>\n",
       "      <th>estado</th>\n",
       "      <th>regiao</th>\n",
       "      <th>pais</th>\n",
       "    </tr>\n",
       "  </thead>\n",
       "  <tbody>\n",
       "    <tr>\n",
       "      <th>0</th>\n",
       "      <td>1</td>\n",
       "      <td>39</td>\n",
       "      <td>Servidor Público</td>\n",
       "      <td>Ensino Médio Completo</td>\n",
       "      <td>2</td>\n",
       "      <td>Solteiro</td>\n",
       "      <td>Branco</td>\n",
       "      <td>2.0</td>\n",
       "      <td>4754</td>\n",
       "      <td>AL</td>\n",
       "      <td>Alagoas</td>\n",
       "      <td>Nordeste</td>\n",
       "      <td>Brasil</td>\n",
       "    </tr>\n",
       "    <tr>\n",
       "      <th>1</th>\n",
       "      <td>2</td>\n",
       "      <td>50</td>\n",
       "      <td>Autônomo</td>\n",
       "      <td>Superior Incompleto</td>\n",
       "      <td>24</td>\n",
       "      <td>Casado</td>\n",
       "      <td>Branco</td>\n",
       "      <td>1.0</td>\n",
       "      <td>3923</td>\n",
       "      <td>SC</td>\n",
       "      <td>Santa Catarina</td>\n",
       "      <td>Sul</td>\n",
       "      <td>Brasil</td>\n",
       "    </tr>\n",
       "    <tr>\n",
       "      <th>2</th>\n",
       "      <td>3</td>\n",
       "      <td>38</td>\n",
       "      <td>Funcionário Setor Privado</td>\n",
       "      <td>Ensino Médio Incompleto</td>\n",
       "      <td>4</td>\n",
       "      <td>Divorciado</td>\n",
       "      <td>Branco</td>\n",
       "      <td>0.0</td>\n",
       "      <td>1100</td>\n",
       "      <td>AM</td>\n",
       "      <td>Amazonas</td>\n",
       "      <td>Norte</td>\n",
       "      <td>Brasil</td>\n",
       "    </tr>\n",
       "    <tr>\n",
       "      <th>3</th>\n",
       "      <td>4</td>\n",
       "      <td>53</td>\n",
       "      <td>Funcionário Setor Privado</td>\n",
       "      <td>Ensino Médio Incompleto</td>\n",
       "      <td>24</td>\n",
       "      <td>Casado</td>\n",
       "      <td>Negro</td>\n",
       "      <td>1.0</td>\n",
       "      <td>1100</td>\n",
       "      <td>SC</td>\n",
       "      <td>Santa Catarina</td>\n",
       "      <td>Sul</td>\n",
       "      <td>Brasil</td>\n",
       "    </tr>\n",
       "    <tr>\n",
       "      <th>4</th>\n",
       "      <td>5</td>\n",
       "      <td>28</td>\n",
       "      <td>Funcionário Setor Privado</td>\n",
       "      <td>Ensino Médio Completo</td>\n",
       "      <td>15</td>\n",
       "      <td>Casado</td>\n",
       "      <td>Negro</td>\n",
       "      <td>0.0</td>\n",
       "      <td>3430</td>\n",
       "      <td>PB</td>\n",
       "      <td>Paraíba</td>\n",
       "      <td>Nordeste</td>\n",
       "      <td>Brasil</td>\n",
       "    </tr>\n",
       "    <tr>\n",
       "      <th>...</th>\n",
       "      <td>...</td>\n",
       "      <td>...</td>\n",
       "      <td>...</td>\n",
       "      <td>...</td>\n",
       "      <td>...</td>\n",
       "      <td>...</td>\n",
       "      <td>...</td>\n",
       "      <td>...</td>\n",
       "      <td>...</td>\n",
       "      <td>...</td>\n",
       "      <td>...</td>\n",
       "      <td>...</td>\n",
       "      <td>...</td>\n",
       "    </tr>\n",
       "    <tr>\n",
       "      <th>7994</th>\n",
       "      <td>7995</td>\n",
       "      <td>23</td>\n",
       "      <td>Funcionário Setor Privado</td>\n",
       "      <td>Ensino Médio Completo</td>\n",
       "      <td>7</td>\n",
       "      <td>Casado</td>\n",
       "      <td>Negro</td>\n",
       "      <td>3.0</td>\n",
       "      <td>2856</td>\n",
       "      <td>DF</td>\n",
       "      <td>Distrito Federal</td>\n",
       "      <td>Centro-Oeste</td>\n",
       "      <td>Brasil</td>\n",
       "    </tr>\n",
       "    <tr>\n",
       "      <th>7995</th>\n",
       "      <td>7996</td>\n",
       "      <td>19</td>\n",
       "      <td>Funcionário Setor Privado</td>\n",
       "      <td>Ensino Médio Incompleto</td>\n",
       "      <td>5</td>\n",
       "      <td>Solteiro</td>\n",
       "      <td>Branco</td>\n",
       "      <td>1.0</td>\n",
       "      <td>1100</td>\n",
       "      <td>BA</td>\n",
       "      <td>Bahia</td>\n",
       "      <td>Nordeste</td>\n",
       "      <td>Brasil</td>\n",
       "    </tr>\n",
       "    <tr>\n",
       "      <th>7996</th>\n",
       "      <td>7997</td>\n",
       "      <td>44</td>\n",
       "      <td>Funcionário Setor Privado</td>\n",
       "      <td>Ensino Médio Completo</td>\n",
       "      <td>23</td>\n",
       "      <td>Casado</td>\n",
       "      <td>Branco</td>\n",
       "      <td>0.0</td>\n",
       "      <td>3729</td>\n",
       "      <td>RR</td>\n",
       "      <td>Roraima</td>\n",
       "      <td>Norte</td>\n",
       "      <td>Brasil</td>\n",
       "    </tr>\n",
       "    <tr>\n",
       "      <th>7997</th>\n",
       "      <td>7998</td>\n",
       "      <td>20</td>\n",
       "      <td>Funcionário Setor Privado</td>\n",
       "      <td>Ensino Médio Incompleto</td>\n",
       "      <td>8</td>\n",
       "      <td>Solteiro</td>\n",
       "      <td>Negro</td>\n",
       "      <td>0.0</td>\n",
       "      <td>1100</td>\n",
       "      <td>ES</td>\n",
       "      <td>Espírito Santo</td>\n",
       "      <td>Sudeste</td>\n",
       "      <td>Brasil</td>\n",
       "    </tr>\n",
       "    <tr>\n",
       "      <th>7998</th>\n",
       "      <td>7999</td>\n",
       "      <td>41</td>\n",
       "      <td>Funcionário Setor Privado</td>\n",
       "      <td>Ensino Médio Completo</td>\n",
       "      <td>13</td>\n",
       "      <td>Casado</td>\n",
       "      <td>Branco</td>\n",
       "      <td>1.0</td>\n",
       "      <td>2579</td>\n",
       "      <td>MG</td>\n",
       "      <td>Minas Gerais</td>\n",
       "      <td>Sudeste</td>\n",
       "      <td>Brasil</td>\n",
       "    </tr>\n",
       "  </tbody>\n",
       "</table>\n",
       "<p>7999 rows × 13 columns</p>\n",
       "</div>"
      ],
      "text/plain": [
       "      id_cliente  idade            classe_trabalho             escolaridade  \\\n",
       "0              1     39           Servidor Público    Ensino Médio Completo   \n",
       "1              2     50                   Autônomo      Superior Incompleto   \n",
       "2              3     38  Funcionário Setor Privado  Ensino Médio Incompleto   \n",
       "3              4     53  Funcionário Setor Privado  Ensino Médio Incompleto   \n",
       "4              5     28  Funcionário Setor Privado    Ensino Médio Completo   \n",
       "...          ...    ...                        ...                      ...   \n",
       "7994        7995     23  Funcionário Setor Privado    Ensino Médio Completo   \n",
       "7995        7996     19  Funcionário Setor Privado  Ensino Médio Incompleto   \n",
       "7996        7997     44  Funcionário Setor Privado    Ensino Médio Completo   \n",
       "7997        7998     20  Funcionário Setor Privado  Ensino Médio Incompleto   \n",
       "7998        7999     41  Funcionário Setor Privado    Ensino Médio Completo   \n",
       "\n",
       "      id_estado estado_civil    raca  qtde_filhos  salario sigla  \\\n",
       "0             2     Solteiro  Branco          2.0     4754    AL   \n",
       "1            24       Casado  Branco          1.0     3923    SC   \n",
       "2             4   Divorciado  Branco          0.0     1100    AM   \n",
       "3            24       Casado   Negro          1.0     1100    SC   \n",
       "4            15       Casado   Negro          0.0     3430    PB   \n",
       "...         ...          ...     ...          ...      ...   ...   \n",
       "7994          7       Casado   Negro          3.0     2856    DF   \n",
       "7995          5     Solteiro  Branco          1.0     1100    BA   \n",
       "7996         23       Casado  Branco          0.0     3729    RR   \n",
       "7997          8     Solteiro   Negro          0.0     1100    ES   \n",
       "7998         13       Casado  Branco          1.0     2579    MG   \n",
       "\n",
       "                estado        regiao    pais  \n",
       "0              Alagoas      Nordeste  Brasil  \n",
       "1       Santa Catarina           Sul  Brasil  \n",
       "2             Amazonas         Norte  Brasil  \n",
       "3       Santa Catarina           Sul  Brasil  \n",
       "4              Paraíba      Nordeste  Brasil  \n",
       "...                ...           ...     ...  \n",
       "7994  Distrito Federal  Centro-Oeste  Brasil  \n",
       "7995             Bahia      Nordeste  Brasil  \n",
       "7996           Roraima         Norte  Brasil  \n",
       "7997    Espírito Santo       Sudeste  Brasil  \n",
       "7998      Minas Gerais       Sudeste  Brasil  \n",
       "\n",
       "[7999 rows x 13 columns]"
      ]
     },
     "execution_count": 349,
     "metadata": {},
     "output_type": "execute_result"
    }
   ],
   "source": [
    "pacientes_estados = pd.merge(pacientes, estados, on='id_estado')\n",
    "pacientes_estados.sort_values('id_cliente')"
   ]
  },
  {
   "cell_type": "code",
   "execution_count": 350,
   "metadata": {},
   "outputs": [
    {
     "data": {
      "text/html": [
       "<div>\n",
       "<style scoped>\n",
       "    .dataframe tbody tr th:only-of-type {\n",
       "        vertical-align: middle;\n",
       "    }\n",
       "\n",
       "    .dataframe tbody tr th {\n",
       "        vertical-align: top;\n",
       "    }\n",
       "\n",
       "    .dataframe thead th {\n",
       "        text-align: right;\n",
       "    }\n",
       "</style>\n",
       "<table border=\"1\" class=\"dataframe\">\n",
       "  <thead>\n",
       "    <tr style=\"text-align: right;\">\n",
       "      <th></th>\n",
       "      <th>id_cliente</th>\n",
       "      <th>peso</th>\n",
       "      <th>colesterol</th>\n",
       "      <th>genero</th>\n",
       "      <th>genero_number</th>\n",
       "    </tr>\n",
       "  </thead>\n",
       "  <tbody>\n",
       "    <tr>\n",
       "      <th>0</th>\n",
       "      <td>1</td>\n",
       "      <td>102.0</td>\n",
       "      <td>111</td>\n",
       "      <td>Masculino</td>\n",
       "      <td>1</td>\n",
       "    </tr>\n",
       "    <tr>\n",
       "      <th>1</th>\n",
       "      <td>2</td>\n",
       "      <td>115.0</td>\n",
       "      <td>135</td>\n",
       "      <td>Masculino</td>\n",
       "      <td>1</td>\n",
       "    </tr>\n",
       "    <tr>\n",
       "      <th>2</th>\n",
       "      <td>3</td>\n",
       "      <td>115.0</td>\n",
       "      <td>136</td>\n",
       "      <td>Masculino</td>\n",
       "      <td>1</td>\n",
       "    </tr>\n",
       "    <tr>\n",
       "      <th>3</th>\n",
       "      <td>4</td>\n",
       "      <td>140.0</td>\n",
       "      <td>167</td>\n",
       "      <td>Feminino</td>\n",
       "      <td>0</td>\n",
       "    </tr>\n",
       "    <tr>\n",
       "      <th>4</th>\n",
       "      <td>5</td>\n",
       "      <td>130.0</td>\n",
       "      <td>158</td>\n",
       "      <td>Masculino</td>\n",
       "      <td>1</td>\n",
       "    </tr>\n",
       "  </tbody>\n",
       "</table>\n",
       "</div>"
      ],
      "text/plain": [
       "   id_cliente   peso  colesterol     genero  genero_number\n",
       "0           1  102.0         111  Masculino              1\n",
       "1           2  115.0         135  Masculino              1\n",
       "2           3  115.0         136  Masculino              1\n",
       "3           4  140.0         167   Feminino              0\n",
       "4           5  130.0         158  Masculino              1"
      ]
     },
     "execution_count": 350,
     "metadata": {},
     "output_type": "execute_result"
    }
   ],
   "source": [
    "clinicos[:5]"
   ]
  },
  {
   "cell_type": "code",
   "execution_count": 351,
   "metadata": {
    "executionInfo": {
     "elapsed": 19,
     "status": "ok",
     "timestamp": 1628820274213,
     "user": {
      "displayName": "Prof. Leandro Lessa",
      "photoUrl": "https://lh3.googleusercontent.com/a-/AOh14GjOFTHd5R6mZqpiAveor8rupG9YPM_LbwR5AmNPtg=s64",
      "userId": "09430483952296203154"
     },
     "user_tz": 180
    },
    "id": "IKE6af7bp2qV"
   },
   "outputs": [],
   "source": [
    "#realiza Junção entre clinicos e pacientes_estados\n",
    "base_completa = pd.merge(pacientes_estados, clinicos, on='id_cliente').sort_values('id_cliente')"
   ]
  },
  {
   "cell_type": "code",
   "execution_count": 352,
   "metadata": {
    "colab": {
     "base_uri": "https://localhost:8080/",
     "height": 419
    },
    "executionInfo": {
     "elapsed": 36,
     "status": "ok",
     "timestamp": 1628820274791,
     "user": {
      "displayName": "Prof. Leandro Lessa",
      "photoUrl": "https://lh3.googleusercontent.com/a-/AOh14GjOFTHd5R6mZqpiAveor8rupG9YPM_LbwR5AmNPtg=s64",
      "userId": "09430483952296203154"
     },
     "user_tz": 180
    },
    "id": "dIoHeVsOlV_d",
    "outputId": "e94b0e89-ed45-435e-b13a-ee3d82307995"
   },
   "outputs": [
    {
     "data": {
      "text/html": [
       "<div>\n",
       "<style scoped>\n",
       "    .dataframe tbody tr th:only-of-type {\n",
       "        vertical-align: middle;\n",
       "    }\n",
       "\n",
       "    .dataframe tbody tr th {\n",
       "        vertical-align: top;\n",
       "    }\n",
       "\n",
       "    .dataframe thead th {\n",
       "        text-align: right;\n",
       "    }\n",
       "</style>\n",
       "<table border=\"1\" class=\"dataframe\">\n",
       "  <thead>\n",
       "    <tr style=\"text-align: right;\">\n",
       "      <th></th>\n",
       "      <th>id_cliente</th>\n",
       "      <th>idade</th>\n",
       "      <th>classe_trabalho</th>\n",
       "      <th>escolaridade</th>\n",
       "      <th>id_estado</th>\n",
       "      <th>estado_civil</th>\n",
       "      <th>raca</th>\n",
       "      <th>qtde_filhos</th>\n",
       "      <th>salario</th>\n",
       "      <th>sigla</th>\n",
       "      <th>estado</th>\n",
       "      <th>regiao</th>\n",
       "      <th>pais</th>\n",
       "      <th>peso</th>\n",
       "      <th>colesterol</th>\n",
       "      <th>genero</th>\n",
       "      <th>genero_number</th>\n",
       "    </tr>\n",
       "  </thead>\n",
       "  <tbody>\n",
       "    <tr>\n",
       "      <th>0</th>\n",
       "      <td>1</td>\n",
       "      <td>39</td>\n",
       "      <td>Servidor Público</td>\n",
       "      <td>Ensino Médio Completo</td>\n",
       "      <td>2</td>\n",
       "      <td>Solteiro</td>\n",
       "      <td>Branco</td>\n",
       "      <td>2.0</td>\n",
       "      <td>4754</td>\n",
       "      <td>AL</td>\n",
       "      <td>Alagoas</td>\n",
       "      <td>Nordeste</td>\n",
       "      <td>Brasil</td>\n",
       "      <td>102.0</td>\n",
       "      <td>111</td>\n",
       "      <td>Masculino</td>\n",
       "      <td>1</td>\n",
       "    </tr>\n",
       "    <tr>\n",
       "      <th>1</th>\n",
       "      <td>2</td>\n",
       "      <td>50</td>\n",
       "      <td>Autônomo</td>\n",
       "      <td>Superior Incompleto</td>\n",
       "      <td>24</td>\n",
       "      <td>Casado</td>\n",
       "      <td>Branco</td>\n",
       "      <td>1.0</td>\n",
       "      <td>3923</td>\n",
       "      <td>SC</td>\n",
       "      <td>Santa Catarina</td>\n",
       "      <td>Sul</td>\n",
       "      <td>Brasil</td>\n",
       "      <td>115.0</td>\n",
       "      <td>135</td>\n",
       "      <td>Masculino</td>\n",
       "      <td>1</td>\n",
       "    </tr>\n",
       "    <tr>\n",
       "      <th>2</th>\n",
       "      <td>3</td>\n",
       "      <td>38</td>\n",
       "      <td>Funcionário Setor Privado</td>\n",
       "      <td>Ensino Médio Incompleto</td>\n",
       "      <td>4</td>\n",
       "      <td>Divorciado</td>\n",
       "      <td>Branco</td>\n",
       "      <td>0.0</td>\n",
       "      <td>1100</td>\n",
       "      <td>AM</td>\n",
       "      <td>Amazonas</td>\n",
       "      <td>Norte</td>\n",
       "      <td>Brasil</td>\n",
       "      <td>115.0</td>\n",
       "      <td>136</td>\n",
       "      <td>Masculino</td>\n",
       "      <td>1</td>\n",
       "    </tr>\n",
       "    <tr>\n",
       "      <th>3</th>\n",
       "      <td>4</td>\n",
       "      <td>53</td>\n",
       "      <td>Funcionário Setor Privado</td>\n",
       "      <td>Ensino Médio Incompleto</td>\n",
       "      <td>24</td>\n",
       "      <td>Casado</td>\n",
       "      <td>Negro</td>\n",
       "      <td>1.0</td>\n",
       "      <td>1100</td>\n",
       "      <td>SC</td>\n",
       "      <td>Santa Catarina</td>\n",
       "      <td>Sul</td>\n",
       "      <td>Brasil</td>\n",
       "      <td>140.0</td>\n",
       "      <td>167</td>\n",
       "      <td>Feminino</td>\n",
       "      <td>0</td>\n",
       "    </tr>\n",
       "    <tr>\n",
       "      <th>4</th>\n",
       "      <td>5</td>\n",
       "      <td>28</td>\n",
       "      <td>Funcionário Setor Privado</td>\n",
       "      <td>Ensino Médio Completo</td>\n",
       "      <td>15</td>\n",
       "      <td>Casado</td>\n",
       "      <td>Negro</td>\n",
       "      <td>0.0</td>\n",
       "      <td>3430</td>\n",
       "      <td>PB</td>\n",
       "      <td>Paraíba</td>\n",
       "      <td>Nordeste</td>\n",
       "      <td>Brasil</td>\n",
       "      <td>130.0</td>\n",
       "      <td>158</td>\n",
       "      <td>Masculino</td>\n",
       "      <td>1</td>\n",
       "    </tr>\n",
       "    <tr>\n",
       "      <th>...</th>\n",
       "      <td>...</td>\n",
       "      <td>...</td>\n",
       "      <td>...</td>\n",
       "      <td>...</td>\n",
       "      <td>...</td>\n",
       "      <td>...</td>\n",
       "      <td>...</td>\n",
       "      <td>...</td>\n",
       "      <td>...</td>\n",
       "      <td>...</td>\n",
       "      <td>...</td>\n",
       "      <td>...</td>\n",
       "      <td>...</td>\n",
       "      <td>...</td>\n",
       "      <td>...</td>\n",
       "      <td>...</td>\n",
       "      <td>...</td>\n",
       "    </tr>\n",
       "    <tr>\n",
       "      <th>537</th>\n",
       "      <td>543</td>\n",
       "      <td>46</td>\n",
       "      <td>Autônomo</td>\n",
       "      <td>Ensino Médio Completo</td>\n",
       "      <td>9</td>\n",
       "      <td>Divorciado</td>\n",
       "      <td>Branco</td>\n",
       "      <td>1.0</td>\n",
       "      <td>3533</td>\n",
       "      <td>GO</td>\n",
       "      <td>Goiás</td>\n",
       "      <td>Centro-Oeste</td>\n",
       "      <td>Brasil</td>\n",
       "      <td>172.0</td>\n",
       "      <td>207</td>\n",
       "      <td>Masculino</td>\n",
       "      <td>1</td>\n",
       "    </tr>\n",
       "    <tr>\n",
       "      <th>538</th>\n",
       "      <td>544</td>\n",
       "      <td>36</td>\n",
       "      <td>Autônomo</td>\n",
       "      <td>Ensino Médio Incompleto</td>\n",
       "      <td>5</td>\n",
       "      <td>Separado</td>\n",
       "      <td>Branco</td>\n",
       "      <td>1.0</td>\n",
       "      <td>1100</td>\n",
       "      <td>BA</td>\n",
       "      <td>Bahia</td>\n",
       "      <td>Nordeste</td>\n",
       "      <td>Brasil</td>\n",
       "      <td>129.0</td>\n",
       "      <td>157</td>\n",
       "      <td>Masculino</td>\n",
       "      <td>1</td>\n",
       "    </tr>\n",
       "    <tr>\n",
       "      <th>539</th>\n",
       "      <td>545</td>\n",
       "      <td>72</td>\n",
       "      <td>Aposentado</td>\n",
       "      <td>Ensino Médio Incompleto</td>\n",
       "      <td>1</td>\n",
       "      <td>Viúvo</td>\n",
       "      <td>Branco</td>\n",
       "      <td>1.0</td>\n",
       "      <td>4110</td>\n",
       "      <td>AC</td>\n",
       "      <td>Acre</td>\n",
       "      <td>Norte</td>\n",
       "      <td>Brasil</td>\n",
       "      <td>107.0</td>\n",
       "      <td>115</td>\n",
       "      <td>Masculino</td>\n",
       "      <td>1</td>\n",
       "    </tr>\n",
       "    <tr>\n",
       "      <th>540</th>\n",
       "      <td>546</td>\n",
       "      <td>35</td>\n",
       "      <td>Funcionário Setor Privado</td>\n",
       "      <td>Ensino Médio Incompleto</td>\n",
       "      <td>5</td>\n",
       "      <td>Casado</td>\n",
       "      <td>Negro</td>\n",
       "      <td>2.0</td>\n",
       "      <td>1100</td>\n",
       "      <td>BA</td>\n",
       "      <td>Bahia</td>\n",
       "      <td>Nordeste</td>\n",
       "      <td>Brasil</td>\n",
       "      <td>117.0</td>\n",
       "      <td>147</td>\n",
       "      <td>Masculino</td>\n",
       "      <td>1</td>\n",
       "    </tr>\n",
       "    <tr>\n",
       "      <th>541</th>\n",
       "      <td>547</td>\n",
       "      <td>33</td>\n",
       "      <td>Funcionário Público</td>\n",
       "      <td>Ensino Médio Completo</td>\n",
       "      <td>26</td>\n",
       "      <td>Divorciado</td>\n",
       "      <td>Negro</td>\n",
       "      <td>1.0</td>\n",
       "      <td>4925</td>\n",
       "      <td>SE</td>\n",
       "      <td>Sergipe</td>\n",
       "      <td>Nordeste</td>\n",
       "      <td>Brasil</td>\n",
       "      <td>148.0</td>\n",
       "      <td>176</td>\n",
       "      <td>Masculino</td>\n",
       "      <td>1</td>\n",
       "    </tr>\n",
       "  </tbody>\n",
       "</table>\n",
       "<p>542 rows × 17 columns</p>\n",
       "</div>"
      ],
      "text/plain": [
       "     id_cliente  idade            classe_trabalho             escolaridade  \\\n",
       "0             1     39           Servidor Público    Ensino Médio Completo   \n",
       "1             2     50                   Autônomo      Superior Incompleto   \n",
       "2             3     38  Funcionário Setor Privado  Ensino Médio Incompleto   \n",
       "3             4     53  Funcionário Setor Privado  Ensino Médio Incompleto   \n",
       "4             5     28  Funcionário Setor Privado    Ensino Médio Completo   \n",
       "..          ...    ...                        ...                      ...   \n",
       "537         543     46                   Autônomo    Ensino Médio Completo   \n",
       "538         544     36                   Autônomo  Ensino Médio Incompleto   \n",
       "539         545     72                 Aposentado  Ensino Médio Incompleto   \n",
       "540         546     35  Funcionário Setor Privado  Ensino Médio Incompleto   \n",
       "541         547     33        Funcionário Público    Ensino Médio Completo   \n",
       "\n",
       "     id_estado estado_civil    raca  qtde_filhos  salario sigla  \\\n",
       "0            2     Solteiro  Branco          2.0     4754    AL   \n",
       "1           24       Casado  Branco          1.0     3923    SC   \n",
       "2            4   Divorciado  Branco          0.0     1100    AM   \n",
       "3           24       Casado   Negro          1.0     1100    SC   \n",
       "4           15       Casado   Negro          0.0     3430    PB   \n",
       "..         ...          ...     ...          ...      ...   ...   \n",
       "537          9   Divorciado  Branco          1.0     3533    GO   \n",
       "538          5     Separado  Branco          1.0     1100    BA   \n",
       "539          1        Viúvo  Branco          1.0     4110    AC   \n",
       "540          5       Casado   Negro          2.0     1100    BA   \n",
       "541         26   Divorciado   Negro          1.0     4925    SE   \n",
       "\n",
       "             estado        regiao    pais   peso  colesterol     genero  \\\n",
       "0           Alagoas      Nordeste  Brasil  102.0         111  Masculino   \n",
       "1    Santa Catarina           Sul  Brasil  115.0         135  Masculino   \n",
       "2          Amazonas         Norte  Brasil  115.0         136  Masculino   \n",
       "3    Santa Catarina           Sul  Brasil  140.0         167   Feminino   \n",
       "4           Paraíba      Nordeste  Brasil  130.0         158  Masculino   \n",
       "..              ...           ...     ...    ...         ...        ...   \n",
       "537           Goiás  Centro-Oeste  Brasil  172.0         207  Masculino   \n",
       "538           Bahia      Nordeste  Brasil  129.0         157  Masculino   \n",
       "539            Acre         Norte  Brasil  107.0         115  Masculino   \n",
       "540           Bahia      Nordeste  Brasil  117.0         147  Masculino   \n",
       "541         Sergipe      Nordeste  Brasil  148.0         176  Masculino   \n",
       "\n",
       "     genero_number  \n",
       "0                1  \n",
       "1                1  \n",
       "2                1  \n",
       "3                0  \n",
       "4                1  \n",
       "..             ...  \n",
       "537              1  \n",
       "538              1  \n",
       "539              1  \n",
       "540              1  \n",
       "541              1  \n",
       "\n",
       "[542 rows x 17 columns]"
      ]
     },
     "execution_count": 352,
     "metadata": {},
     "output_type": "execute_result"
    }
   ],
   "source": [
    "base_completa"
   ]
  },
  {
   "cell_type": "code",
   "execution_count": 353,
   "metadata": {
    "colab": {
     "base_uri": "https://localhost:8080/",
     "height": 419
    },
    "executionInfo": {
     "elapsed": 34,
     "status": "ok",
     "timestamp": 1628820274792,
     "user": {
      "displayName": "Prof. Leandro Lessa",
      "photoUrl": "https://lh3.googleusercontent.com/a-/AOh14GjOFTHd5R6mZqpiAveor8rupG9YPM_LbwR5AmNPtg=s64",
      "userId": "09430483952296203154"
     },
     "user_tz": 180
    },
    "id": "ryUO9hJAlmt-",
    "outputId": "b8be63a3-7975-451a-a624-314826260d0e"
   },
   "outputs": [
    {
     "data": {
      "text/html": [
       "<div>\n",
       "<style scoped>\n",
       "    .dataframe tbody tr th:only-of-type {\n",
       "        vertical-align: middle;\n",
       "    }\n",
       "\n",
       "    .dataframe tbody tr th {\n",
       "        vertical-align: top;\n",
       "    }\n",
       "\n",
       "    .dataframe thead th {\n",
       "        text-align: right;\n",
       "    }\n",
       "</style>\n",
       "<table border=\"1\" class=\"dataframe\">\n",
       "  <thead>\n",
       "    <tr style=\"text-align: right;\">\n",
       "      <th></th>\n",
       "      <th>id_cliente</th>\n",
       "      <th>idade</th>\n",
       "      <th>classe_trabalho</th>\n",
       "      <th>escolaridade</th>\n",
       "      <th>id_estado</th>\n",
       "      <th>estado_civil</th>\n",
       "      <th>raca</th>\n",
       "      <th>qtde_filhos</th>\n",
       "      <th>salario</th>\n",
       "      <th>sigla</th>\n",
       "      <th>estado</th>\n",
       "      <th>regiao</th>\n",
       "      <th>pais</th>\n",
       "      <th>peso</th>\n",
       "      <th>colesterol</th>\n",
       "      <th>genero</th>\n",
       "      <th>genero_number</th>\n",
       "    </tr>\n",
       "  </thead>\n",
       "  <tbody>\n",
       "    <tr>\n",
       "      <th>0</th>\n",
       "      <td>1</td>\n",
       "      <td>39</td>\n",
       "      <td>Servidor Público</td>\n",
       "      <td>Ensino Médio Completo</td>\n",
       "      <td>2</td>\n",
       "      <td>Solteiro</td>\n",
       "      <td>Branco</td>\n",
       "      <td>2.0</td>\n",
       "      <td>4754</td>\n",
       "      <td>AL</td>\n",
       "      <td>Alagoas</td>\n",
       "      <td>Nordeste</td>\n",
       "      <td>Brasil</td>\n",
       "      <td>102.0</td>\n",
       "      <td>111</td>\n",
       "      <td>Masculino</td>\n",
       "      <td>1</td>\n",
       "    </tr>\n",
       "    <tr>\n",
       "      <th>1</th>\n",
       "      <td>2</td>\n",
       "      <td>50</td>\n",
       "      <td>Autônomo</td>\n",
       "      <td>Superior Incompleto</td>\n",
       "      <td>24</td>\n",
       "      <td>Casado</td>\n",
       "      <td>Branco</td>\n",
       "      <td>1.0</td>\n",
       "      <td>3923</td>\n",
       "      <td>SC</td>\n",
       "      <td>Santa Catarina</td>\n",
       "      <td>Sul</td>\n",
       "      <td>Brasil</td>\n",
       "      <td>115.0</td>\n",
       "      <td>135</td>\n",
       "      <td>Masculino</td>\n",
       "      <td>1</td>\n",
       "    </tr>\n",
       "    <tr>\n",
       "      <th>2</th>\n",
       "      <td>3</td>\n",
       "      <td>38</td>\n",
       "      <td>Funcionário Setor Privado</td>\n",
       "      <td>Ensino Médio Incompleto</td>\n",
       "      <td>4</td>\n",
       "      <td>Divorciado</td>\n",
       "      <td>Branco</td>\n",
       "      <td>0.0</td>\n",
       "      <td>1100</td>\n",
       "      <td>AM</td>\n",
       "      <td>Amazonas</td>\n",
       "      <td>Norte</td>\n",
       "      <td>Brasil</td>\n",
       "      <td>115.0</td>\n",
       "      <td>136</td>\n",
       "      <td>Masculino</td>\n",
       "      <td>1</td>\n",
       "    </tr>\n",
       "    <tr>\n",
       "      <th>3</th>\n",
       "      <td>4</td>\n",
       "      <td>53</td>\n",
       "      <td>Funcionário Setor Privado</td>\n",
       "      <td>Ensino Médio Incompleto</td>\n",
       "      <td>24</td>\n",
       "      <td>Casado</td>\n",
       "      <td>Negro</td>\n",
       "      <td>1.0</td>\n",
       "      <td>1100</td>\n",
       "      <td>SC</td>\n",
       "      <td>Santa Catarina</td>\n",
       "      <td>Sul</td>\n",
       "      <td>Brasil</td>\n",
       "      <td>140.0</td>\n",
       "      <td>167</td>\n",
       "      <td>Feminino</td>\n",
       "      <td>0</td>\n",
       "    </tr>\n",
       "    <tr>\n",
       "      <th>4</th>\n",
       "      <td>5</td>\n",
       "      <td>28</td>\n",
       "      <td>Funcionário Setor Privado</td>\n",
       "      <td>Ensino Médio Completo</td>\n",
       "      <td>15</td>\n",
       "      <td>Casado</td>\n",
       "      <td>Negro</td>\n",
       "      <td>0.0</td>\n",
       "      <td>3430</td>\n",
       "      <td>PB</td>\n",
       "      <td>Paraíba</td>\n",
       "      <td>Nordeste</td>\n",
       "      <td>Brasil</td>\n",
       "      <td>130.0</td>\n",
       "      <td>158</td>\n",
       "      <td>Masculino</td>\n",
       "      <td>1</td>\n",
       "    </tr>\n",
       "    <tr>\n",
       "      <th>...</th>\n",
       "      <td>...</td>\n",
       "      <td>...</td>\n",
       "      <td>...</td>\n",
       "      <td>...</td>\n",
       "      <td>...</td>\n",
       "      <td>...</td>\n",
       "      <td>...</td>\n",
       "      <td>...</td>\n",
       "      <td>...</td>\n",
       "      <td>...</td>\n",
       "      <td>...</td>\n",
       "      <td>...</td>\n",
       "      <td>...</td>\n",
       "      <td>...</td>\n",
       "      <td>...</td>\n",
       "      <td>...</td>\n",
       "      <td>...</td>\n",
       "    </tr>\n",
       "    <tr>\n",
       "      <th>537</th>\n",
       "      <td>543</td>\n",
       "      <td>46</td>\n",
       "      <td>Autônomo</td>\n",
       "      <td>Ensino Médio Completo</td>\n",
       "      <td>9</td>\n",
       "      <td>Divorciado</td>\n",
       "      <td>Branco</td>\n",
       "      <td>1.0</td>\n",
       "      <td>3533</td>\n",
       "      <td>GO</td>\n",
       "      <td>Goiás</td>\n",
       "      <td>Centro-Oeste</td>\n",
       "      <td>Brasil</td>\n",
       "      <td>172.0</td>\n",
       "      <td>207</td>\n",
       "      <td>Masculino</td>\n",
       "      <td>1</td>\n",
       "    </tr>\n",
       "    <tr>\n",
       "      <th>538</th>\n",
       "      <td>544</td>\n",
       "      <td>36</td>\n",
       "      <td>Autônomo</td>\n",
       "      <td>Ensino Médio Incompleto</td>\n",
       "      <td>5</td>\n",
       "      <td>Separado</td>\n",
       "      <td>Branco</td>\n",
       "      <td>1.0</td>\n",
       "      <td>1100</td>\n",
       "      <td>BA</td>\n",
       "      <td>Bahia</td>\n",
       "      <td>Nordeste</td>\n",
       "      <td>Brasil</td>\n",
       "      <td>129.0</td>\n",
       "      <td>157</td>\n",
       "      <td>Masculino</td>\n",
       "      <td>1</td>\n",
       "    </tr>\n",
       "    <tr>\n",
       "      <th>539</th>\n",
       "      <td>545</td>\n",
       "      <td>72</td>\n",
       "      <td>Aposentado</td>\n",
       "      <td>Ensino Médio Incompleto</td>\n",
       "      <td>1</td>\n",
       "      <td>Viúvo</td>\n",
       "      <td>Branco</td>\n",
       "      <td>1.0</td>\n",
       "      <td>4110</td>\n",
       "      <td>AC</td>\n",
       "      <td>Acre</td>\n",
       "      <td>Norte</td>\n",
       "      <td>Brasil</td>\n",
       "      <td>107.0</td>\n",
       "      <td>115</td>\n",
       "      <td>Masculino</td>\n",
       "      <td>1</td>\n",
       "    </tr>\n",
       "    <tr>\n",
       "      <th>540</th>\n",
       "      <td>546</td>\n",
       "      <td>35</td>\n",
       "      <td>Funcionário Setor Privado</td>\n",
       "      <td>Ensino Médio Incompleto</td>\n",
       "      <td>5</td>\n",
       "      <td>Casado</td>\n",
       "      <td>Negro</td>\n",
       "      <td>2.0</td>\n",
       "      <td>1100</td>\n",
       "      <td>BA</td>\n",
       "      <td>Bahia</td>\n",
       "      <td>Nordeste</td>\n",
       "      <td>Brasil</td>\n",
       "      <td>117.0</td>\n",
       "      <td>147</td>\n",
       "      <td>Masculino</td>\n",
       "      <td>1</td>\n",
       "    </tr>\n",
       "    <tr>\n",
       "      <th>541</th>\n",
       "      <td>547</td>\n",
       "      <td>33</td>\n",
       "      <td>Funcionário Público</td>\n",
       "      <td>Ensino Médio Completo</td>\n",
       "      <td>26</td>\n",
       "      <td>Divorciado</td>\n",
       "      <td>Negro</td>\n",
       "      <td>1.0</td>\n",
       "      <td>4925</td>\n",
       "      <td>SE</td>\n",
       "      <td>Sergipe</td>\n",
       "      <td>Nordeste</td>\n",
       "      <td>Brasil</td>\n",
       "      <td>148.0</td>\n",
       "      <td>176</td>\n",
       "      <td>Masculino</td>\n",
       "      <td>1</td>\n",
       "    </tr>\n",
       "  </tbody>\n",
       "</table>\n",
       "<p>542 rows × 17 columns</p>\n",
       "</div>"
      ],
      "text/plain": [
       "     id_cliente  idade            classe_trabalho             escolaridade  \\\n",
       "0             1     39           Servidor Público    Ensino Médio Completo   \n",
       "1             2     50                   Autônomo      Superior Incompleto   \n",
       "2             3     38  Funcionário Setor Privado  Ensino Médio Incompleto   \n",
       "3             4     53  Funcionário Setor Privado  Ensino Médio Incompleto   \n",
       "4             5     28  Funcionário Setor Privado    Ensino Médio Completo   \n",
       "..          ...    ...                        ...                      ...   \n",
       "537         543     46                   Autônomo    Ensino Médio Completo   \n",
       "538         544     36                   Autônomo  Ensino Médio Incompleto   \n",
       "539         545     72                 Aposentado  Ensino Médio Incompleto   \n",
       "540         546     35  Funcionário Setor Privado  Ensino Médio Incompleto   \n",
       "541         547     33        Funcionário Público    Ensino Médio Completo   \n",
       "\n",
       "     id_estado estado_civil    raca  qtde_filhos  salario sigla  \\\n",
       "0            2     Solteiro  Branco          2.0     4754    AL   \n",
       "1           24       Casado  Branco          1.0     3923    SC   \n",
       "2            4   Divorciado  Branco          0.0     1100    AM   \n",
       "3           24       Casado   Negro          1.0     1100    SC   \n",
       "4           15       Casado   Negro          0.0     3430    PB   \n",
       "..         ...          ...     ...          ...      ...   ...   \n",
       "537          9   Divorciado  Branco          1.0     3533    GO   \n",
       "538          5     Separado  Branco          1.0     1100    BA   \n",
       "539          1        Viúvo  Branco          1.0     4110    AC   \n",
       "540          5       Casado   Negro          2.0     1100    BA   \n",
       "541         26   Divorciado   Negro          1.0     4925    SE   \n",
       "\n",
       "             estado        regiao    pais   peso  colesterol     genero  \\\n",
       "0           Alagoas      Nordeste  Brasil  102.0         111  Masculino   \n",
       "1    Santa Catarina           Sul  Brasil  115.0         135  Masculino   \n",
       "2          Amazonas         Norte  Brasil  115.0         136  Masculino   \n",
       "3    Santa Catarina           Sul  Brasil  140.0         167   Feminino   \n",
       "4           Paraíba      Nordeste  Brasil  130.0         158  Masculino   \n",
       "..              ...           ...     ...    ...         ...        ...   \n",
       "537           Goiás  Centro-Oeste  Brasil  172.0         207  Masculino   \n",
       "538           Bahia      Nordeste  Brasil  129.0         157  Masculino   \n",
       "539            Acre         Norte  Brasil  107.0         115  Masculino   \n",
       "540           Bahia      Nordeste  Brasil  117.0         147  Masculino   \n",
       "541         Sergipe      Nordeste  Brasil  148.0         176  Masculino   \n",
       "\n",
       "     genero_number  \n",
       "0                1  \n",
       "1                1  \n",
       "2                1  \n",
       "3                0  \n",
       "4                1  \n",
       "..             ...  \n",
       "537              1  \n",
       "538              1  \n",
       "539              1  \n",
       "540              1  \n",
       "541              1  \n",
       "\n",
       "[542 rows x 17 columns]"
      ]
     },
     "execution_count": 353,
     "metadata": {},
     "output_type": "execute_result"
    }
   ],
   "source": [
    "base_completa.reset_index(drop=True)"
   ]
  },
  {
   "cell_type": "markdown",
   "metadata": {
    "id": "ztkUnFLFoZqQ"
   },
   "source": [
    "# Organizando a base de dados\n",
    "Podemos realizar várias alterações na base de dados a fim de melhorar o entendimento e disposição das colunas. Além disso, podemos fazer transformações nos textos das linhas e colunas."
   ]
  },
  {
   "cell_type": "code",
   "execution_count": 354,
   "metadata": {
    "colab": {
     "base_uri": "https://localhost:8080/",
     "height": 419
    },
    "executionInfo": {
     "elapsed": 33,
     "status": "ok",
     "timestamp": 1628820274793,
     "user": {
      "displayName": "Prof. Leandro Lessa",
      "photoUrl": "https://lh3.googleusercontent.com/a-/AOh14GjOFTHd5R6mZqpiAveor8rupG9YPM_LbwR5AmNPtg=s64",
      "userId": "09430483952296203154"
     },
     "user_tz": 180
    },
    "id": "LPs5if2YoPKd",
    "outputId": "bc573bc5-5093-4235-9374-ef992a93da33"
   },
   "outputs": [
    {
     "data": {
      "text/html": [
       "<div>\n",
       "<style scoped>\n",
       "    .dataframe tbody tr th:only-of-type {\n",
       "        vertical-align: middle;\n",
       "    }\n",
       "\n",
       "    .dataframe tbody tr th {\n",
       "        vertical-align: top;\n",
       "    }\n",
       "\n",
       "    .dataframe thead th {\n",
       "        text-align: right;\n",
       "    }\n",
       "</style>\n",
       "<table border=\"1\" class=\"dataframe\">\n",
       "  <thead>\n",
       "    <tr style=\"text-align: right;\">\n",
       "      <th></th>\n",
       "      <th>cod_cliente</th>\n",
       "      <th>idade</th>\n",
       "      <th>classe_trabalho</th>\n",
       "      <th>escolaridade</th>\n",
       "      <th>id_estado</th>\n",
       "      <th>estado_civil</th>\n",
       "      <th>raca</th>\n",
       "      <th>qtde_filhos</th>\n",
       "      <th>salario</th>\n",
       "      <th>sigla</th>\n",
       "      <th>estado</th>\n",
       "      <th>regiao</th>\n",
       "      <th>pais</th>\n",
       "      <th>peso</th>\n",
       "      <th>colesterol</th>\n",
       "      <th>genero</th>\n",
       "      <th>cod_genero</th>\n",
       "    </tr>\n",
       "  </thead>\n",
       "  <tbody>\n",
       "    <tr>\n",
       "      <th>0</th>\n",
       "      <td>1</td>\n",
       "      <td>39</td>\n",
       "      <td>Servidor Público</td>\n",
       "      <td>Ensino Médio Completo</td>\n",
       "      <td>2</td>\n",
       "      <td>Solteiro</td>\n",
       "      <td>Branco</td>\n",
       "      <td>2.0</td>\n",
       "      <td>4754</td>\n",
       "      <td>AL</td>\n",
       "      <td>Alagoas</td>\n",
       "      <td>Nordeste</td>\n",
       "      <td>Brasil</td>\n",
       "      <td>102.0</td>\n",
       "      <td>111</td>\n",
       "      <td>Masculino</td>\n",
       "      <td>1</td>\n",
       "    </tr>\n",
       "    <tr>\n",
       "      <th>1</th>\n",
       "      <td>2</td>\n",
       "      <td>50</td>\n",
       "      <td>Autônomo</td>\n",
       "      <td>Superior Incompleto</td>\n",
       "      <td>24</td>\n",
       "      <td>Casado</td>\n",
       "      <td>Branco</td>\n",
       "      <td>1.0</td>\n",
       "      <td>3923</td>\n",
       "      <td>SC</td>\n",
       "      <td>Santa Catarina</td>\n",
       "      <td>Sul</td>\n",
       "      <td>Brasil</td>\n",
       "      <td>115.0</td>\n",
       "      <td>135</td>\n",
       "      <td>Masculino</td>\n",
       "      <td>1</td>\n",
       "    </tr>\n",
       "    <tr>\n",
       "      <th>2</th>\n",
       "      <td>3</td>\n",
       "      <td>38</td>\n",
       "      <td>Funcionário Setor Privado</td>\n",
       "      <td>Ensino Médio Incompleto</td>\n",
       "      <td>4</td>\n",
       "      <td>Divorciado</td>\n",
       "      <td>Branco</td>\n",
       "      <td>0.0</td>\n",
       "      <td>1100</td>\n",
       "      <td>AM</td>\n",
       "      <td>Amazonas</td>\n",
       "      <td>Norte</td>\n",
       "      <td>Brasil</td>\n",
       "      <td>115.0</td>\n",
       "      <td>136</td>\n",
       "      <td>Masculino</td>\n",
       "      <td>1</td>\n",
       "    </tr>\n",
       "    <tr>\n",
       "      <th>3</th>\n",
       "      <td>4</td>\n",
       "      <td>53</td>\n",
       "      <td>Funcionário Setor Privado</td>\n",
       "      <td>Ensino Médio Incompleto</td>\n",
       "      <td>24</td>\n",
       "      <td>Casado</td>\n",
       "      <td>Negro</td>\n",
       "      <td>1.0</td>\n",
       "      <td>1100</td>\n",
       "      <td>SC</td>\n",
       "      <td>Santa Catarina</td>\n",
       "      <td>Sul</td>\n",
       "      <td>Brasil</td>\n",
       "      <td>140.0</td>\n",
       "      <td>167</td>\n",
       "      <td>Feminino</td>\n",
       "      <td>0</td>\n",
       "    </tr>\n",
       "    <tr>\n",
       "      <th>4</th>\n",
       "      <td>5</td>\n",
       "      <td>28</td>\n",
       "      <td>Funcionário Setor Privado</td>\n",
       "      <td>Ensino Médio Completo</td>\n",
       "      <td>15</td>\n",
       "      <td>Casado</td>\n",
       "      <td>Negro</td>\n",
       "      <td>0.0</td>\n",
       "      <td>3430</td>\n",
       "      <td>PB</td>\n",
       "      <td>Paraíba</td>\n",
       "      <td>Nordeste</td>\n",
       "      <td>Brasil</td>\n",
       "      <td>130.0</td>\n",
       "      <td>158</td>\n",
       "      <td>Masculino</td>\n",
       "      <td>1</td>\n",
       "    </tr>\n",
       "    <tr>\n",
       "      <th>...</th>\n",
       "      <td>...</td>\n",
       "      <td>...</td>\n",
       "      <td>...</td>\n",
       "      <td>...</td>\n",
       "      <td>...</td>\n",
       "      <td>...</td>\n",
       "      <td>...</td>\n",
       "      <td>...</td>\n",
       "      <td>...</td>\n",
       "      <td>...</td>\n",
       "      <td>...</td>\n",
       "      <td>...</td>\n",
       "      <td>...</td>\n",
       "      <td>...</td>\n",
       "      <td>...</td>\n",
       "      <td>...</td>\n",
       "      <td>...</td>\n",
       "    </tr>\n",
       "    <tr>\n",
       "      <th>537</th>\n",
       "      <td>543</td>\n",
       "      <td>46</td>\n",
       "      <td>Autônomo</td>\n",
       "      <td>Ensino Médio Completo</td>\n",
       "      <td>9</td>\n",
       "      <td>Divorciado</td>\n",
       "      <td>Branco</td>\n",
       "      <td>1.0</td>\n",
       "      <td>3533</td>\n",
       "      <td>GO</td>\n",
       "      <td>Goiás</td>\n",
       "      <td>Centro-Oeste</td>\n",
       "      <td>Brasil</td>\n",
       "      <td>172.0</td>\n",
       "      <td>207</td>\n",
       "      <td>Masculino</td>\n",
       "      <td>1</td>\n",
       "    </tr>\n",
       "    <tr>\n",
       "      <th>538</th>\n",
       "      <td>544</td>\n",
       "      <td>36</td>\n",
       "      <td>Autônomo</td>\n",
       "      <td>Ensino Médio Incompleto</td>\n",
       "      <td>5</td>\n",
       "      <td>Separado</td>\n",
       "      <td>Branco</td>\n",
       "      <td>1.0</td>\n",
       "      <td>1100</td>\n",
       "      <td>BA</td>\n",
       "      <td>Bahia</td>\n",
       "      <td>Nordeste</td>\n",
       "      <td>Brasil</td>\n",
       "      <td>129.0</td>\n",
       "      <td>157</td>\n",
       "      <td>Masculino</td>\n",
       "      <td>1</td>\n",
       "    </tr>\n",
       "    <tr>\n",
       "      <th>539</th>\n",
       "      <td>545</td>\n",
       "      <td>72</td>\n",
       "      <td>Aposentado</td>\n",
       "      <td>Ensino Médio Incompleto</td>\n",
       "      <td>1</td>\n",
       "      <td>Viúvo</td>\n",
       "      <td>Branco</td>\n",
       "      <td>1.0</td>\n",
       "      <td>4110</td>\n",
       "      <td>AC</td>\n",
       "      <td>Acre</td>\n",
       "      <td>Norte</td>\n",
       "      <td>Brasil</td>\n",
       "      <td>107.0</td>\n",
       "      <td>115</td>\n",
       "      <td>Masculino</td>\n",
       "      <td>1</td>\n",
       "    </tr>\n",
       "    <tr>\n",
       "      <th>540</th>\n",
       "      <td>546</td>\n",
       "      <td>35</td>\n",
       "      <td>Funcionário Setor Privado</td>\n",
       "      <td>Ensino Médio Incompleto</td>\n",
       "      <td>5</td>\n",
       "      <td>Casado</td>\n",
       "      <td>Negro</td>\n",
       "      <td>2.0</td>\n",
       "      <td>1100</td>\n",
       "      <td>BA</td>\n",
       "      <td>Bahia</td>\n",
       "      <td>Nordeste</td>\n",
       "      <td>Brasil</td>\n",
       "      <td>117.0</td>\n",
       "      <td>147</td>\n",
       "      <td>Masculino</td>\n",
       "      <td>1</td>\n",
       "    </tr>\n",
       "    <tr>\n",
       "      <th>541</th>\n",
       "      <td>547</td>\n",
       "      <td>33</td>\n",
       "      <td>Funcionário Público</td>\n",
       "      <td>Ensino Médio Completo</td>\n",
       "      <td>26</td>\n",
       "      <td>Divorciado</td>\n",
       "      <td>Negro</td>\n",
       "      <td>1.0</td>\n",
       "      <td>4925</td>\n",
       "      <td>SE</td>\n",
       "      <td>Sergipe</td>\n",
       "      <td>Nordeste</td>\n",
       "      <td>Brasil</td>\n",
       "      <td>148.0</td>\n",
       "      <td>176</td>\n",
       "      <td>Masculino</td>\n",
       "      <td>1</td>\n",
       "    </tr>\n",
       "  </tbody>\n",
       "</table>\n",
       "<p>542 rows × 17 columns</p>\n",
       "</div>"
      ],
      "text/plain": [
       "     cod_cliente  idade            classe_trabalho             escolaridade  \\\n",
       "0              1     39           Servidor Público    Ensino Médio Completo   \n",
       "1              2     50                   Autônomo      Superior Incompleto   \n",
       "2              3     38  Funcionário Setor Privado  Ensino Médio Incompleto   \n",
       "3              4     53  Funcionário Setor Privado  Ensino Médio Incompleto   \n",
       "4              5     28  Funcionário Setor Privado    Ensino Médio Completo   \n",
       "..           ...    ...                        ...                      ...   \n",
       "537          543     46                   Autônomo    Ensino Médio Completo   \n",
       "538          544     36                   Autônomo  Ensino Médio Incompleto   \n",
       "539          545     72                 Aposentado  Ensino Médio Incompleto   \n",
       "540          546     35  Funcionário Setor Privado  Ensino Médio Incompleto   \n",
       "541          547     33        Funcionário Público    Ensino Médio Completo   \n",
       "\n",
       "     id_estado estado_civil    raca  qtde_filhos  salario sigla  \\\n",
       "0            2     Solteiro  Branco          2.0     4754    AL   \n",
       "1           24       Casado  Branco          1.0     3923    SC   \n",
       "2            4   Divorciado  Branco          0.0     1100    AM   \n",
       "3           24       Casado   Negro          1.0     1100    SC   \n",
       "4           15       Casado   Negro          0.0     3430    PB   \n",
       "..         ...          ...     ...          ...      ...   ...   \n",
       "537          9   Divorciado  Branco          1.0     3533    GO   \n",
       "538          5     Separado  Branco          1.0     1100    BA   \n",
       "539          1        Viúvo  Branco          1.0     4110    AC   \n",
       "540          5       Casado   Negro          2.0     1100    BA   \n",
       "541         26   Divorciado   Negro          1.0     4925    SE   \n",
       "\n",
       "             estado        regiao    pais   peso  colesterol     genero  \\\n",
       "0           Alagoas      Nordeste  Brasil  102.0         111  Masculino   \n",
       "1    Santa Catarina           Sul  Brasil  115.0         135  Masculino   \n",
       "2          Amazonas         Norte  Brasil  115.0         136  Masculino   \n",
       "3    Santa Catarina           Sul  Brasil  140.0         167   Feminino   \n",
       "4           Paraíba      Nordeste  Brasil  130.0         158  Masculino   \n",
       "..              ...           ...     ...    ...         ...        ...   \n",
       "537           Goiás  Centro-Oeste  Brasil  172.0         207  Masculino   \n",
       "538           Bahia      Nordeste  Brasil  129.0         157  Masculino   \n",
       "539            Acre         Norte  Brasil  107.0         115  Masculino   \n",
       "540           Bahia      Nordeste  Brasil  117.0         147  Masculino   \n",
       "541         Sergipe      Nordeste  Brasil  148.0         176  Masculino   \n",
       "\n",
       "     cod_genero  \n",
       "0             1  \n",
       "1             1  \n",
       "2             1  \n",
       "3             0  \n",
       "4             1  \n",
       "..          ...  \n",
       "537           1  \n",
       "538           1  \n",
       "539           1  \n",
       "540           1  \n",
       "541           1  \n",
       "\n",
       "[542 rows x 17 columns]"
      ]
     },
     "execution_count": 354,
     "metadata": {},
     "output_type": "execute_result"
    }
   ],
   "source": [
    "# Alterando nome das colunas\n",
    "base_completa.rename(columns={'id_cliente': 'cod_cliente', 'genero_number': 'cod_genero'}, inplace = True)\n",
    "base_completa"
   ]
  },
  {
   "cell_type": "markdown",
   "metadata": {
    "id": "8dxGM6VkVXW_"
   },
   "source": []
  },
  {
   "cell_type": "code",
   "execution_count": 355,
   "metadata": {
    "colab": {
     "base_uri": "https://localhost:8080/",
     "height": 419
    },
    "executionInfo": {
     "elapsed": 27,
     "status": "ok",
     "timestamp": 1628820274796,
     "user": {
      "displayName": "Prof. Leandro Lessa",
      "photoUrl": "https://lh3.googleusercontent.com/a-/AOh14GjOFTHd5R6mZqpiAveor8rupG9YPM_LbwR5AmNPtg=s64",
      "userId": "09430483952296203154"
     },
     "user_tz": 180
    },
    "id": "yTS3kCAdVZaZ",
    "outputId": "442bd62f-6322-43ef-ef6d-bcd49f17ffe4"
   },
   "outputs": [
    {
     "data": {
      "text/html": [
       "<div>\n",
       "<style scoped>\n",
       "    .dataframe tbody tr th:only-of-type {\n",
       "        vertical-align: middle;\n",
       "    }\n",
       "\n",
       "    .dataframe tbody tr th {\n",
       "        vertical-align: top;\n",
       "    }\n",
       "\n",
       "    .dataframe thead th {\n",
       "        text-align: right;\n",
       "    }\n",
       "</style>\n",
       "<table border=\"1\" class=\"dataframe\">\n",
       "  <thead>\n",
       "    <tr style=\"text-align: right;\">\n",
       "      <th></th>\n",
       "      <th>cod_cliente</th>\n",
       "      <th>idade</th>\n",
       "      <th>classe_trabalho</th>\n",
       "      <th>escolaridade</th>\n",
       "      <th>id_estado</th>\n",
       "      <th>estado_civil</th>\n",
       "      <th>raca</th>\n",
       "      <th>qtde_filhos</th>\n",
       "      <th>salario</th>\n",
       "      <th>sigla</th>\n",
       "      <th>estado</th>\n",
       "      <th>regiao</th>\n",
       "      <th>pais</th>\n",
       "      <th>peso</th>\n",
       "      <th>colesterol</th>\n",
       "      <th>genero</th>\n",
       "      <th>cod_genero</th>\n",
       "    </tr>\n",
       "  </thead>\n",
       "  <tbody>\n",
       "    <tr>\n",
       "      <th>0</th>\n",
       "      <td>1</td>\n",
       "      <td>39</td>\n",
       "      <td>Servidor Público</td>\n",
       "      <td>Ensino Médio Completo</td>\n",
       "      <td>2</td>\n",
       "      <td>Solteiro</td>\n",
       "      <td>Branco</td>\n",
       "      <td>2.0</td>\n",
       "      <td>4754</td>\n",
       "      <td>AL</td>\n",
       "      <td>Alagoas</td>\n",
       "      <td>Nordeste</td>\n",
       "      <td>Brasil</td>\n",
       "      <td>102.0</td>\n",
       "      <td>111</td>\n",
       "      <td>Masculino</td>\n",
       "      <td>1</td>\n",
       "    </tr>\n",
       "    <tr>\n",
       "      <th>1</th>\n",
       "      <td>2</td>\n",
       "      <td>50</td>\n",
       "      <td>Autônomo</td>\n",
       "      <td>Superior Incompleto</td>\n",
       "      <td>24</td>\n",
       "      <td>Casado</td>\n",
       "      <td>Branco</td>\n",
       "      <td>1.0</td>\n",
       "      <td>3923</td>\n",
       "      <td>SC</td>\n",
       "      <td>Santa Catarina</td>\n",
       "      <td>Sul</td>\n",
       "      <td>Brasil</td>\n",
       "      <td>115.0</td>\n",
       "      <td>135</td>\n",
       "      <td>Masculino</td>\n",
       "      <td>1</td>\n",
       "    </tr>\n",
       "    <tr>\n",
       "      <th>2</th>\n",
       "      <td>3</td>\n",
       "      <td>38</td>\n",
       "      <td>Funcionário Setor Privado</td>\n",
       "      <td>Ensino Médio Incompleto</td>\n",
       "      <td>4</td>\n",
       "      <td>Divorciado</td>\n",
       "      <td>Branco</td>\n",
       "      <td>0.0</td>\n",
       "      <td>1100</td>\n",
       "      <td>AM</td>\n",
       "      <td>Amazonas</td>\n",
       "      <td>Norte</td>\n",
       "      <td>Brasil</td>\n",
       "      <td>115.0</td>\n",
       "      <td>136</td>\n",
       "      <td>Masculino</td>\n",
       "      <td>1</td>\n",
       "    </tr>\n",
       "    <tr>\n",
       "      <th>3</th>\n",
       "      <td>4</td>\n",
       "      <td>53</td>\n",
       "      <td>Funcionário Setor Privado</td>\n",
       "      <td>Ensino Médio Incompleto</td>\n",
       "      <td>24</td>\n",
       "      <td>Casado</td>\n",
       "      <td>Negro</td>\n",
       "      <td>1.0</td>\n",
       "      <td>1100</td>\n",
       "      <td>SC</td>\n",
       "      <td>Santa Catarina</td>\n",
       "      <td>Sul</td>\n",
       "      <td>Brasil</td>\n",
       "      <td>140.0</td>\n",
       "      <td>167</td>\n",
       "      <td>Feminino</td>\n",
       "      <td>0</td>\n",
       "    </tr>\n",
       "    <tr>\n",
       "      <th>4</th>\n",
       "      <td>5</td>\n",
       "      <td>28</td>\n",
       "      <td>Funcionário Setor Privado</td>\n",
       "      <td>Ensino Médio Completo</td>\n",
       "      <td>15</td>\n",
       "      <td>Casado</td>\n",
       "      <td>Negro</td>\n",
       "      <td>0.0</td>\n",
       "      <td>3430</td>\n",
       "      <td>PB</td>\n",
       "      <td>Paraíba</td>\n",
       "      <td>Nordeste</td>\n",
       "      <td>Brasil</td>\n",
       "      <td>130.0</td>\n",
       "      <td>158</td>\n",
       "      <td>Masculino</td>\n",
       "      <td>1</td>\n",
       "    </tr>\n",
       "    <tr>\n",
       "      <th>...</th>\n",
       "      <td>...</td>\n",
       "      <td>...</td>\n",
       "      <td>...</td>\n",
       "      <td>...</td>\n",
       "      <td>...</td>\n",
       "      <td>...</td>\n",
       "      <td>...</td>\n",
       "      <td>...</td>\n",
       "      <td>...</td>\n",
       "      <td>...</td>\n",
       "      <td>...</td>\n",
       "      <td>...</td>\n",
       "      <td>...</td>\n",
       "      <td>...</td>\n",
       "      <td>...</td>\n",
       "      <td>...</td>\n",
       "      <td>...</td>\n",
       "    </tr>\n",
       "    <tr>\n",
       "      <th>537</th>\n",
       "      <td>543</td>\n",
       "      <td>46</td>\n",
       "      <td>Autônomo</td>\n",
       "      <td>Ensino Médio Completo</td>\n",
       "      <td>9</td>\n",
       "      <td>Divorciado</td>\n",
       "      <td>Branco</td>\n",
       "      <td>1.0</td>\n",
       "      <td>3533</td>\n",
       "      <td>GO</td>\n",
       "      <td>Goiás</td>\n",
       "      <td>Centro-Oeste</td>\n",
       "      <td>Brasil</td>\n",
       "      <td>172.0</td>\n",
       "      <td>207</td>\n",
       "      <td>Masculino</td>\n",
       "      <td>1</td>\n",
       "    </tr>\n",
       "    <tr>\n",
       "      <th>538</th>\n",
       "      <td>544</td>\n",
       "      <td>36</td>\n",
       "      <td>Autônomo</td>\n",
       "      <td>Ensino Médio Incompleto</td>\n",
       "      <td>5</td>\n",
       "      <td>Separado</td>\n",
       "      <td>Branco</td>\n",
       "      <td>1.0</td>\n",
       "      <td>1100</td>\n",
       "      <td>BA</td>\n",
       "      <td>Bahia</td>\n",
       "      <td>Nordeste</td>\n",
       "      <td>Brasil</td>\n",
       "      <td>129.0</td>\n",
       "      <td>157</td>\n",
       "      <td>Masculino</td>\n",
       "      <td>1</td>\n",
       "    </tr>\n",
       "    <tr>\n",
       "      <th>539</th>\n",
       "      <td>545</td>\n",
       "      <td>72</td>\n",
       "      <td>Aposentado</td>\n",
       "      <td>Ensino Médio Incompleto</td>\n",
       "      <td>1</td>\n",
       "      <td>Viúvo</td>\n",
       "      <td>Branco</td>\n",
       "      <td>1.0</td>\n",
       "      <td>4110</td>\n",
       "      <td>AC</td>\n",
       "      <td>Acre</td>\n",
       "      <td>Norte</td>\n",
       "      <td>Brasil</td>\n",
       "      <td>107.0</td>\n",
       "      <td>115</td>\n",
       "      <td>Masculino</td>\n",
       "      <td>1</td>\n",
       "    </tr>\n",
       "    <tr>\n",
       "      <th>540</th>\n",
       "      <td>546</td>\n",
       "      <td>35</td>\n",
       "      <td>Funcionário Setor Privado</td>\n",
       "      <td>Ensino Médio Incompleto</td>\n",
       "      <td>5</td>\n",
       "      <td>Casado</td>\n",
       "      <td>Negro</td>\n",
       "      <td>2.0</td>\n",
       "      <td>1100</td>\n",
       "      <td>BA</td>\n",
       "      <td>Bahia</td>\n",
       "      <td>Nordeste</td>\n",
       "      <td>Brasil</td>\n",
       "      <td>117.0</td>\n",
       "      <td>147</td>\n",
       "      <td>Masculino</td>\n",
       "      <td>1</td>\n",
       "    </tr>\n",
       "    <tr>\n",
       "      <th>541</th>\n",
       "      <td>547</td>\n",
       "      <td>33</td>\n",
       "      <td>Funcionário Público</td>\n",
       "      <td>Ensino Médio Completo</td>\n",
       "      <td>26</td>\n",
       "      <td>Divorciado</td>\n",
       "      <td>Negro</td>\n",
       "      <td>1.0</td>\n",
       "      <td>4925</td>\n",
       "      <td>SE</td>\n",
       "      <td>Sergipe</td>\n",
       "      <td>Nordeste</td>\n",
       "      <td>Brasil</td>\n",
       "      <td>148.0</td>\n",
       "      <td>176</td>\n",
       "      <td>Masculino</td>\n",
       "      <td>1</td>\n",
       "    </tr>\n",
       "  </tbody>\n",
       "</table>\n",
       "<p>542 rows × 17 columns</p>\n",
       "</div>"
      ],
      "text/plain": [
       "     cod_cliente  idade            classe_trabalho             escolaridade  \\\n",
       "0              1     39           Servidor Público    Ensino Médio Completo   \n",
       "1              2     50                   Autônomo      Superior Incompleto   \n",
       "2              3     38  Funcionário Setor Privado  Ensino Médio Incompleto   \n",
       "3              4     53  Funcionário Setor Privado  Ensino Médio Incompleto   \n",
       "4              5     28  Funcionário Setor Privado    Ensino Médio Completo   \n",
       "..           ...    ...                        ...                      ...   \n",
       "537          543     46                   Autônomo    Ensino Médio Completo   \n",
       "538          544     36                   Autônomo  Ensino Médio Incompleto   \n",
       "539          545     72                 Aposentado  Ensino Médio Incompleto   \n",
       "540          546     35  Funcionário Setor Privado  Ensino Médio Incompleto   \n",
       "541          547     33        Funcionário Público    Ensino Médio Completo   \n",
       "\n",
       "     id_estado estado_civil    raca  qtde_filhos  salario sigla  \\\n",
       "0            2     Solteiro  Branco          2.0     4754    AL   \n",
       "1           24       Casado  Branco          1.0     3923    SC   \n",
       "2            4   Divorciado  Branco          0.0     1100    AM   \n",
       "3           24       Casado   Negro          1.0     1100    SC   \n",
       "4           15       Casado   Negro          0.0     3430    PB   \n",
       "..         ...          ...     ...          ...      ...   ...   \n",
       "537          9   Divorciado  Branco          1.0     3533    GO   \n",
       "538          5     Separado  Branco          1.0     1100    BA   \n",
       "539          1        Viúvo  Branco          1.0     4110    AC   \n",
       "540          5       Casado   Negro          2.0     1100    BA   \n",
       "541         26   Divorciado   Negro          1.0     4925    SE   \n",
       "\n",
       "             estado        regiao    pais   peso  colesterol     genero  \\\n",
       "0           Alagoas      Nordeste  Brasil  102.0         111  Masculino   \n",
       "1    Santa Catarina           Sul  Brasil  115.0         135  Masculino   \n",
       "2          Amazonas         Norte  Brasil  115.0         136  Masculino   \n",
       "3    Santa Catarina           Sul  Brasil  140.0         167   Feminino   \n",
       "4           Paraíba      Nordeste  Brasil  130.0         158  Masculino   \n",
       "..              ...           ...     ...    ...         ...        ...   \n",
       "537           Goiás  Centro-Oeste  Brasil  172.0         207  Masculino   \n",
       "538           Bahia      Nordeste  Brasil  129.0         157  Masculino   \n",
       "539            Acre         Norte  Brasil  107.0         115  Masculino   \n",
       "540           Bahia      Nordeste  Brasil  117.0         147  Masculino   \n",
       "541         Sergipe      Nordeste  Brasil  148.0         176  Masculino   \n",
       "\n",
       "     cod_genero  \n",
       "0             1  \n",
       "1             1  \n",
       "2             1  \n",
       "3             0  \n",
       "4             1  \n",
       "..          ...  \n",
       "537           1  \n",
       "538           1  \n",
       "539           1  \n",
       "540           1  \n",
       "541           1  \n",
       "\n",
       "[542 rows x 17 columns]"
      ]
     },
     "execution_count": 355,
     "metadata": {},
     "output_type": "execute_result"
    }
   ],
   "source": [
    "base_completa"
   ]
  },
  {
   "cell_type": "markdown",
   "metadata": {
    "id": "aiF6PDs5qQEw"
   },
   "source": [
    "# Alterando disposição das colunas do arquivo de dados\n",
    "Vamos alterar as disposições das colunas no nosso conjunto de dados a fim de faciliar a visuliazação."
   ]
  },
  {
   "cell_type": "code",
   "execution_count": 356,
   "metadata": {
    "colab": {
     "base_uri": "https://localhost:8080/",
     "height": 419
    },
    "executionInfo": {
     "elapsed": 27,
     "status": "ok",
     "timestamp": 1628820274798,
     "user": {
      "displayName": "Prof. Leandro Lessa",
      "photoUrl": "https://lh3.googleusercontent.com/a-/AOh14GjOFTHd5R6mZqpiAveor8rupG9YPM_LbwR5AmNPtg=s64",
      "userId": "09430483952296203154"
     },
     "user_tz": 180
    },
    "id": "k_PyZpZHpF7-",
    "outputId": "9b7c21e8-9561-417b-b846-e4542bf1c2a2"
   },
   "outputs": [
    {
     "data": {
      "text/html": [
       "<div>\n",
       "<style scoped>\n",
       "    .dataframe tbody tr th:only-of-type {\n",
       "        vertical-align: middle;\n",
       "    }\n",
       "\n",
       "    .dataframe tbody tr th {\n",
       "        vertical-align: top;\n",
       "    }\n",
       "\n",
       "    .dataframe thead th {\n",
       "        text-align: right;\n",
       "    }\n",
       "</style>\n",
       "<table border=\"1\" class=\"dataframe\">\n",
       "  <thead>\n",
       "    <tr style=\"text-align: right;\">\n",
       "      <th></th>\n",
       "      <th>cod_cliente</th>\n",
       "      <th>genero</th>\n",
       "      <th>classe_trabalho</th>\n",
       "      <th>escolaridade</th>\n",
       "      <th>salario</th>\n",
       "      <th>idade</th>\n",
       "      <th>peso</th>\n",
       "      <th>colesterol</th>\n",
       "      <th>id_estado</th>\n",
       "      <th>sigla</th>\n",
       "      <th>estado</th>\n",
       "      <th>regiao</th>\n",
       "      <th>pais</th>\n",
       "    </tr>\n",
       "  </thead>\n",
       "  <tbody>\n",
       "    <tr>\n",
       "      <th>0</th>\n",
       "      <td>1</td>\n",
       "      <td>Masculino</td>\n",
       "      <td>Servidor Público</td>\n",
       "      <td>Ensino Médio Completo</td>\n",
       "      <td>4754</td>\n",
       "      <td>39</td>\n",
       "      <td>102.0</td>\n",
       "      <td>111</td>\n",
       "      <td>2</td>\n",
       "      <td>AL</td>\n",
       "      <td>Alagoas</td>\n",
       "      <td>Nordeste</td>\n",
       "      <td>Brasil</td>\n",
       "    </tr>\n",
       "    <tr>\n",
       "      <th>1</th>\n",
       "      <td>2</td>\n",
       "      <td>Masculino</td>\n",
       "      <td>Autônomo</td>\n",
       "      <td>Superior Incompleto</td>\n",
       "      <td>3923</td>\n",
       "      <td>50</td>\n",
       "      <td>115.0</td>\n",
       "      <td>135</td>\n",
       "      <td>24</td>\n",
       "      <td>SC</td>\n",
       "      <td>Santa Catarina</td>\n",
       "      <td>Sul</td>\n",
       "      <td>Brasil</td>\n",
       "    </tr>\n",
       "    <tr>\n",
       "      <th>2</th>\n",
       "      <td>3</td>\n",
       "      <td>Masculino</td>\n",
       "      <td>Funcionário Setor Privado</td>\n",
       "      <td>Ensino Médio Incompleto</td>\n",
       "      <td>1100</td>\n",
       "      <td>38</td>\n",
       "      <td>115.0</td>\n",
       "      <td>136</td>\n",
       "      <td>4</td>\n",
       "      <td>AM</td>\n",
       "      <td>Amazonas</td>\n",
       "      <td>Norte</td>\n",
       "      <td>Brasil</td>\n",
       "    </tr>\n",
       "    <tr>\n",
       "      <th>3</th>\n",
       "      <td>4</td>\n",
       "      <td>Feminino</td>\n",
       "      <td>Funcionário Setor Privado</td>\n",
       "      <td>Ensino Médio Incompleto</td>\n",
       "      <td>1100</td>\n",
       "      <td>53</td>\n",
       "      <td>140.0</td>\n",
       "      <td>167</td>\n",
       "      <td>24</td>\n",
       "      <td>SC</td>\n",
       "      <td>Santa Catarina</td>\n",
       "      <td>Sul</td>\n",
       "      <td>Brasil</td>\n",
       "    </tr>\n",
       "    <tr>\n",
       "      <th>4</th>\n",
       "      <td>5</td>\n",
       "      <td>Masculino</td>\n",
       "      <td>Funcionário Setor Privado</td>\n",
       "      <td>Ensino Médio Completo</td>\n",
       "      <td>3430</td>\n",
       "      <td>28</td>\n",
       "      <td>130.0</td>\n",
       "      <td>158</td>\n",
       "      <td>15</td>\n",
       "      <td>PB</td>\n",
       "      <td>Paraíba</td>\n",
       "      <td>Nordeste</td>\n",
       "      <td>Brasil</td>\n",
       "    </tr>\n",
       "    <tr>\n",
       "      <th>...</th>\n",
       "      <td>...</td>\n",
       "      <td>...</td>\n",
       "      <td>...</td>\n",
       "      <td>...</td>\n",
       "      <td>...</td>\n",
       "      <td>...</td>\n",
       "      <td>...</td>\n",
       "      <td>...</td>\n",
       "      <td>...</td>\n",
       "      <td>...</td>\n",
       "      <td>...</td>\n",
       "      <td>...</td>\n",
       "      <td>...</td>\n",
       "    </tr>\n",
       "    <tr>\n",
       "      <th>537</th>\n",
       "      <td>543</td>\n",
       "      <td>Masculino</td>\n",
       "      <td>Autônomo</td>\n",
       "      <td>Ensino Médio Completo</td>\n",
       "      <td>3533</td>\n",
       "      <td>46</td>\n",
       "      <td>172.0</td>\n",
       "      <td>207</td>\n",
       "      <td>9</td>\n",
       "      <td>GO</td>\n",
       "      <td>Goiás</td>\n",
       "      <td>Centro-Oeste</td>\n",
       "      <td>Brasil</td>\n",
       "    </tr>\n",
       "    <tr>\n",
       "      <th>538</th>\n",
       "      <td>544</td>\n",
       "      <td>Masculino</td>\n",
       "      <td>Autônomo</td>\n",
       "      <td>Ensino Médio Incompleto</td>\n",
       "      <td>1100</td>\n",
       "      <td>36</td>\n",
       "      <td>129.0</td>\n",
       "      <td>157</td>\n",
       "      <td>5</td>\n",
       "      <td>BA</td>\n",
       "      <td>Bahia</td>\n",
       "      <td>Nordeste</td>\n",
       "      <td>Brasil</td>\n",
       "    </tr>\n",
       "    <tr>\n",
       "      <th>539</th>\n",
       "      <td>545</td>\n",
       "      <td>Masculino</td>\n",
       "      <td>Aposentado</td>\n",
       "      <td>Ensino Médio Incompleto</td>\n",
       "      <td>4110</td>\n",
       "      <td>72</td>\n",
       "      <td>107.0</td>\n",
       "      <td>115</td>\n",
       "      <td>1</td>\n",
       "      <td>AC</td>\n",
       "      <td>Acre</td>\n",
       "      <td>Norte</td>\n",
       "      <td>Brasil</td>\n",
       "    </tr>\n",
       "    <tr>\n",
       "      <th>540</th>\n",
       "      <td>546</td>\n",
       "      <td>Masculino</td>\n",
       "      <td>Funcionário Setor Privado</td>\n",
       "      <td>Ensino Médio Incompleto</td>\n",
       "      <td>1100</td>\n",
       "      <td>35</td>\n",
       "      <td>117.0</td>\n",
       "      <td>147</td>\n",
       "      <td>5</td>\n",
       "      <td>BA</td>\n",
       "      <td>Bahia</td>\n",
       "      <td>Nordeste</td>\n",
       "      <td>Brasil</td>\n",
       "    </tr>\n",
       "    <tr>\n",
       "      <th>541</th>\n",
       "      <td>547</td>\n",
       "      <td>Masculino</td>\n",
       "      <td>Funcionário Público</td>\n",
       "      <td>Ensino Médio Completo</td>\n",
       "      <td>4925</td>\n",
       "      <td>33</td>\n",
       "      <td>148.0</td>\n",
       "      <td>176</td>\n",
       "      <td>26</td>\n",
       "      <td>SE</td>\n",
       "      <td>Sergipe</td>\n",
       "      <td>Nordeste</td>\n",
       "      <td>Brasil</td>\n",
       "    </tr>\n",
       "  </tbody>\n",
       "</table>\n",
       "<p>542 rows × 13 columns</p>\n",
       "</div>"
      ],
      "text/plain": [
       "     cod_cliente     genero            classe_trabalho  \\\n",
       "0              1  Masculino           Servidor Público   \n",
       "1              2  Masculino                   Autônomo   \n",
       "2              3  Masculino  Funcionário Setor Privado   \n",
       "3              4   Feminino  Funcionário Setor Privado   \n",
       "4              5  Masculino  Funcionário Setor Privado   \n",
       "..           ...        ...                        ...   \n",
       "537          543  Masculino                   Autônomo   \n",
       "538          544  Masculino                   Autônomo   \n",
       "539          545  Masculino                 Aposentado   \n",
       "540          546  Masculino  Funcionário Setor Privado   \n",
       "541          547  Masculino        Funcionário Público   \n",
       "\n",
       "                escolaridade  salario  idade   peso  colesterol  id_estado  \\\n",
       "0      Ensino Médio Completo     4754     39  102.0         111          2   \n",
       "1        Superior Incompleto     3923     50  115.0         135         24   \n",
       "2    Ensino Médio Incompleto     1100     38  115.0         136          4   \n",
       "3    Ensino Médio Incompleto     1100     53  140.0         167         24   \n",
       "4      Ensino Médio Completo     3430     28  130.0         158         15   \n",
       "..                       ...      ...    ...    ...         ...        ...   \n",
       "537    Ensino Médio Completo     3533     46  172.0         207          9   \n",
       "538  Ensino Médio Incompleto     1100     36  129.0         157          5   \n",
       "539  Ensino Médio Incompleto     4110     72  107.0         115          1   \n",
       "540  Ensino Médio Incompleto     1100     35  117.0         147          5   \n",
       "541    Ensino Médio Completo     4925     33  148.0         176         26   \n",
       "\n",
       "    sigla          estado        regiao    pais  \n",
       "0      AL         Alagoas      Nordeste  Brasil  \n",
       "1      SC  Santa Catarina           Sul  Brasil  \n",
       "2      AM        Amazonas         Norte  Brasil  \n",
       "3      SC  Santa Catarina           Sul  Brasil  \n",
       "4      PB         Paraíba      Nordeste  Brasil  \n",
       "..    ...             ...           ...     ...  \n",
       "537    GO           Goiás  Centro-Oeste  Brasil  \n",
       "538    BA           Bahia      Nordeste  Brasil  \n",
       "539    AC            Acre         Norte  Brasil  \n",
       "540    BA           Bahia      Nordeste  Brasil  \n",
       "541    SE         Sergipe      Nordeste  Brasil  \n",
       "\n",
       "[542 rows x 13 columns]"
      ]
     },
     "execution_count": 356,
     "metadata": {},
     "output_type": "execute_result"
    }
   ],
   "source": [
    "base_completa[['cod_cliente', 'genero', 'classe_trabalho','escolaridade', 'salario','idade', 'peso', 'colesterol' ,'id_estado', 'sigla', 'estado', 'regiao', 'pais' ]]"
   ]
  },
  {
   "cell_type": "code",
   "execution_count": 357,
   "metadata": {
    "executionInfo": {
     "elapsed": 25,
     "status": "ok",
     "timestamp": 1628820274798,
     "user": {
      "displayName": "Prof. Leandro Lessa",
      "photoUrl": "https://lh3.googleusercontent.com/a-/AOh14GjOFTHd5R6mZqpiAveor8rupG9YPM_LbwR5AmNPtg=s64",
      "userId": "09430483952296203154"
     },
     "user_tz": 180
    },
    "id": "FZnIraVip7BG"
   },
   "outputs": [],
   "source": [
    "base_completa = base_completa[['cod_cliente', 'genero', 'classe_trabalho','escolaridade', 'salario','idade', 'peso', 'colesterol' ,'id_estado', 'sigla', 'estado', 'regiao', 'pais' ]].reset_index(drop=True)"
   ]
  },
  {
   "cell_type": "code",
   "execution_count": 358,
   "metadata": {
    "colab": {
     "base_uri": "https://localhost:8080/",
     "height": 419
    },
    "executionInfo": {
     "elapsed": 354,
     "status": "ok",
     "timestamp": 1628820275127,
     "user": {
      "displayName": "Prof. Leandro Lessa",
      "photoUrl": "https://lh3.googleusercontent.com/a-/AOh14GjOFTHd5R6mZqpiAveor8rupG9YPM_LbwR5AmNPtg=s64",
      "userId": "09430483952296203154"
     },
     "user_tz": 180
    },
    "id": "YEST0-9Q5-Bg",
    "outputId": "1fe5555b-9d72-4422-df9c-a3e1c6313c5a"
   },
   "outputs": [
    {
     "data": {
      "text/html": [
       "<div>\n",
       "<style scoped>\n",
       "    .dataframe tbody tr th:only-of-type {\n",
       "        vertical-align: middle;\n",
       "    }\n",
       "\n",
       "    .dataframe tbody tr th {\n",
       "        vertical-align: top;\n",
       "    }\n",
       "\n",
       "    .dataframe thead th {\n",
       "        text-align: right;\n",
       "    }\n",
       "</style>\n",
       "<table border=\"1\" class=\"dataframe\">\n",
       "  <thead>\n",
       "    <tr style=\"text-align: right;\">\n",
       "      <th></th>\n",
       "      <th>cod_cliente</th>\n",
       "      <th>genero</th>\n",
       "      <th>classe_trabalho</th>\n",
       "      <th>escolaridade</th>\n",
       "      <th>salario</th>\n",
       "      <th>idade</th>\n",
       "      <th>peso</th>\n",
       "      <th>colesterol</th>\n",
       "      <th>id_estado</th>\n",
       "      <th>sigla</th>\n",
       "      <th>estado</th>\n",
       "      <th>regiao</th>\n",
       "      <th>pais</th>\n",
       "    </tr>\n",
       "  </thead>\n",
       "  <tbody>\n",
       "    <tr>\n",
       "      <th>0</th>\n",
       "      <td>1</td>\n",
       "      <td>Masculino</td>\n",
       "      <td>Servidor Público</td>\n",
       "      <td>Ensino Médio Completo</td>\n",
       "      <td>4754</td>\n",
       "      <td>39</td>\n",
       "      <td>102.0</td>\n",
       "      <td>111</td>\n",
       "      <td>2</td>\n",
       "      <td>AL</td>\n",
       "      <td>Alagoas</td>\n",
       "      <td>Nordeste</td>\n",
       "      <td>Brasil</td>\n",
       "    </tr>\n",
       "    <tr>\n",
       "      <th>1</th>\n",
       "      <td>2</td>\n",
       "      <td>Masculino</td>\n",
       "      <td>Autônomo</td>\n",
       "      <td>Superior Incompleto</td>\n",
       "      <td>3923</td>\n",
       "      <td>50</td>\n",
       "      <td>115.0</td>\n",
       "      <td>135</td>\n",
       "      <td>24</td>\n",
       "      <td>SC</td>\n",
       "      <td>Santa Catarina</td>\n",
       "      <td>Sul</td>\n",
       "      <td>Brasil</td>\n",
       "    </tr>\n",
       "    <tr>\n",
       "      <th>2</th>\n",
       "      <td>3</td>\n",
       "      <td>Masculino</td>\n",
       "      <td>Funcionário Setor Privado</td>\n",
       "      <td>Ensino Médio Incompleto</td>\n",
       "      <td>1100</td>\n",
       "      <td>38</td>\n",
       "      <td>115.0</td>\n",
       "      <td>136</td>\n",
       "      <td>4</td>\n",
       "      <td>AM</td>\n",
       "      <td>Amazonas</td>\n",
       "      <td>Norte</td>\n",
       "      <td>Brasil</td>\n",
       "    </tr>\n",
       "    <tr>\n",
       "      <th>3</th>\n",
       "      <td>4</td>\n",
       "      <td>Feminino</td>\n",
       "      <td>Funcionário Setor Privado</td>\n",
       "      <td>Ensino Médio Incompleto</td>\n",
       "      <td>1100</td>\n",
       "      <td>53</td>\n",
       "      <td>140.0</td>\n",
       "      <td>167</td>\n",
       "      <td>24</td>\n",
       "      <td>SC</td>\n",
       "      <td>Santa Catarina</td>\n",
       "      <td>Sul</td>\n",
       "      <td>Brasil</td>\n",
       "    </tr>\n",
       "    <tr>\n",
       "      <th>4</th>\n",
       "      <td>5</td>\n",
       "      <td>Masculino</td>\n",
       "      <td>Funcionário Setor Privado</td>\n",
       "      <td>Ensino Médio Completo</td>\n",
       "      <td>3430</td>\n",
       "      <td>28</td>\n",
       "      <td>130.0</td>\n",
       "      <td>158</td>\n",
       "      <td>15</td>\n",
       "      <td>PB</td>\n",
       "      <td>Paraíba</td>\n",
       "      <td>Nordeste</td>\n",
       "      <td>Brasil</td>\n",
       "    </tr>\n",
       "    <tr>\n",
       "      <th>...</th>\n",
       "      <td>...</td>\n",
       "      <td>...</td>\n",
       "      <td>...</td>\n",
       "      <td>...</td>\n",
       "      <td>...</td>\n",
       "      <td>...</td>\n",
       "      <td>...</td>\n",
       "      <td>...</td>\n",
       "      <td>...</td>\n",
       "      <td>...</td>\n",
       "      <td>...</td>\n",
       "      <td>...</td>\n",
       "      <td>...</td>\n",
       "    </tr>\n",
       "    <tr>\n",
       "      <th>537</th>\n",
       "      <td>543</td>\n",
       "      <td>Masculino</td>\n",
       "      <td>Autônomo</td>\n",
       "      <td>Ensino Médio Completo</td>\n",
       "      <td>3533</td>\n",
       "      <td>46</td>\n",
       "      <td>172.0</td>\n",
       "      <td>207</td>\n",
       "      <td>9</td>\n",
       "      <td>GO</td>\n",
       "      <td>Goiás</td>\n",
       "      <td>Centro-Oeste</td>\n",
       "      <td>Brasil</td>\n",
       "    </tr>\n",
       "    <tr>\n",
       "      <th>538</th>\n",
       "      <td>544</td>\n",
       "      <td>Masculino</td>\n",
       "      <td>Autônomo</td>\n",
       "      <td>Ensino Médio Incompleto</td>\n",
       "      <td>1100</td>\n",
       "      <td>36</td>\n",
       "      <td>129.0</td>\n",
       "      <td>157</td>\n",
       "      <td>5</td>\n",
       "      <td>BA</td>\n",
       "      <td>Bahia</td>\n",
       "      <td>Nordeste</td>\n",
       "      <td>Brasil</td>\n",
       "    </tr>\n",
       "    <tr>\n",
       "      <th>539</th>\n",
       "      <td>545</td>\n",
       "      <td>Masculino</td>\n",
       "      <td>Aposentado</td>\n",
       "      <td>Ensino Médio Incompleto</td>\n",
       "      <td>4110</td>\n",
       "      <td>72</td>\n",
       "      <td>107.0</td>\n",
       "      <td>115</td>\n",
       "      <td>1</td>\n",
       "      <td>AC</td>\n",
       "      <td>Acre</td>\n",
       "      <td>Norte</td>\n",
       "      <td>Brasil</td>\n",
       "    </tr>\n",
       "    <tr>\n",
       "      <th>540</th>\n",
       "      <td>546</td>\n",
       "      <td>Masculino</td>\n",
       "      <td>Funcionário Setor Privado</td>\n",
       "      <td>Ensino Médio Incompleto</td>\n",
       "      <td>1100</td>\n",
       "      <td>35</td>\n",
       "      <td>117.0</td>\n",
       "      <td>147</td>\n",
       "      <td>5</td>\n",
       "      <td>BA</td>\n",
       "      <td>Bahia</td>\n",
       "      <td>Nordeste</td>\n",
       "      <td>Brasil</td>\n",
       "    </tr>\n",
       "    <tr>\n",
       "      <th>541</th>\n",
       "      <td>547</td>\n",
       "      <td>Masculino</td>\n",
       "      <td>Funcionário Público</td>\n",
       "      <td>Ensino Médio Completo</td>\n",
       "      <td>4925</td>\n",
       "      <td>33</td>\n",
       "      <td>148.0</td>\n",
       "      <td>176</td>\n",
       "      <td>26</td>\n",
       "      <td>SE</td>\n",
       "      <td>Sergipe</td>\n",
       "      <td>Nordeste</td>\n",
       "      <td>Brasil</td>\n",
       "    </tr>\n",
       "  </tbody>\n",
       "</table>\n",
       "<p>542 rows × 13 columns</p>\n",
       "</div>"
      ],
      "text/plain": [
       "     cod_cliente     genero            classe_trabalho  \\\n",
       "0              1  Masculino           Servidor Público   \n",
       "1              2  Masculino                   Autônomo   \n",
       "2              3  Masculino  Funcionário Setor Privado   \n",
       "3              4   Feminino  Funcionário Setor Privado   \n",
       "4              5  Masculino  Funcionário Setor Privado   \n",
       "..           ...        ...                        ...   \n",
       "537          543  Masculino                   Autônomo   \n",
       "538          544  Masculino                   Autônomo   \n",
       "539          545  Masculino                 Aposentado   \n",
       "540          546  Masculino  Funcionário Setor Privado   \n",
       "541          547  Masculino        Funcionário Público   \n",
       "\n",
       "                escolaridade  salario  idade   peso  colesterol  id_estado  \\\n",
       "0      Ensino Médio Completo     4754     39  102.0         111          2   \n",
       "1        Superior Incompleto     3923     50  115.0         135         24   \n",
       "2    Ensino Médio Incompleto     1100     38  115.0         136          4   \n",
       "3    Ensino Médio Incompleto     1100     53  140.0         167         24   \n",
       "4      Ensino Médio Completo     3430     28  130.0         158         15   \n",
       "..                       ...      ...    ...    ...         ...        ...   \n",
       "537    Ensino Médio Completo     3533     46  172.0         207          9   \n",
       "538  Ensino Médio Incompleto     1100     36  129.0         157          5   \n",
       "539  Ensino Médio Incompleto     4110     72  107.0         115          1   \n",
       "540  Ensino Médio Incompleto     1100     35  117.0         147          5   \n",
       "541    Ensino Médio Completo     4925     33  148.0         176         26   \n",
       "\n",
       "    sigla          estado        regiao    pais  \n",
       "0      AL         Alagoas      Nordeste  Brasil  \n",
       "1      SC  Santa Catarina           Sul  Brasil  \n",
       "2      AM        Amazonas         Norte  Brasil  \n",
       "3      SC  Santa Catarina           Sul  Brasil  \n",
       "4      PB         Paraíba      Nordeste  Brasil  \n",
       "..    ...             ...           ...     ...  \n",
       "537    GO           Goiás  Centro-Oeste  Brasil  \n",
       "538    BA           Bahia      Nordeste  Brasil  \n",
       "539    AC            Acre         Norte  Brasil  \n",
       "540    BA           Bahia      Nordeste  Brasil  \n",
       "541    SE         Sergipe      Nordeste  Brasil  \n",
       "\n",
       "[542 rows x 13 columns]"
      ]
     },
     "execution_count": 358,
     "metadata": {},
     "output_type": "execute_result"
    }
   ],
   "source": [
    "base_completa"
   ]
  },
  {
   "cell_type": "markdown",
   "metadata": {},
   "source": [
    "<h4>Analise do dataset</h4>"
   ]
  },
  {
   "cell_type": "code",
   "execution_count": 359,
   "metadata": {},
   "outputs": [
    {
     "name": "stdout",
     "output_type": "stream",
     "text": [
      "O estado da região Nordeste que se destaca pelo maior valor na média das idades é 6 (CE) com média de idade 42.72.\n"
     ]
    }
   ],
   "source": [
    "# Entre os estados da região Nordeste, qual se destaca pelo maior valor na média das idades?\n",
    "# Calcular a média das idades para cada estado\n",
    "# Filtrar os estados da região Nordeste\n",
    "nordeste = ['Alagoas', 'Bahia', 'Ceará', 'Maranhão', 'Paraíba', 'Pernambuco', 'Piauí', 'Rio Grande do Norte', 'Sergipe']\n",
    "dados_nordeste = base_completa[base_completa['regiao'] == 'Nordeste']\n",
    "\n",
    "# Calcular a média das idades para cada estado\n",
    "media_idades_por_estado = dados_nordeste.groupby('id_estado').agg({'idade': 'mean', 'sigla': 'first'})\n",
    "\n",
    "\n",
    "# Encontrar o estado com a maior média de idade\n",
    "estado_destaque = media_idades_por_estado['idade'].idxmax()\n",
    "media_maior_idade = media_idades_por_estado['idade'].max()\n",
    "sigla_estado_destaque = media_idades_por_estado.loc[estado_destaque, 'sigla']\n",
    "\n",
    "# Exibir o resultado\n",
    "print(f\"O estado da região Nordeste que se destaca pelo maior valor na média das idades é {estado_destaque} ({sigla_estado_destaque}) com média de idade {media_maior_idade:.2f}.\")\n",
    "\n"
   ]
  },
  {
   "cell_type": "code",
   "execution_count": 360,
   "metadata": {},
   "outputs": [
    {
     "name": "stdout",
     "output_type": "stream",
     "text": [
      "O estado que apresenta o maior número de pacientes com grau de escolaridade 'Mestrado' é 24 (SC) com 5 pacientes.\n"
     ]
    }
   ],
   "source": [
    "# Entre todos os estados, qual deles apresenta o maior número de pacientes com grau de escolaridade 'Mestrado'?\"\n",
    "\n",
    "# Filtrar pacientes com grau de escolaridade 'Mestrado'\n",
    "mestrado_pacientes = base_completa[base_completa['escolaridade'] == 'Mestrado']\n",
    "\n",
    "# Contar o número de pacientes com grau de escolaridade 'Mestrado' por estado\n",
    "contagem_mestrado_por_estado = mestrado_pacientes.groupby('id_estado').size()\n",
    "\n",
    "# Encontrar o estado com o maior número de pacientes com grau de escolaridade 'Mestrado'\n",
    "estado_maior_mestrado = contagem_mestrado_por_estado.idxmax()\n",
    "qtd_maior_mestrado = contagem_mestrado_por_estado.max()\n",
    "sigla_estado_maior_mestrado = base_completa.loc[base_completa['id_estado'] == estado_maior_mestrado, 'sigla'].iloc[0]\n",
    "\n",
    "# Exibir o resultado\n",
    "print(f\"O estado que apresenta o maior número de pacientes com grau de escolaridade 'Mestrado' é {estado_maior_mestrado} ({sigla_estado_maior_mestrado}) com {qtd_maior_mestrado} pacientes.\")\n"
   ]
  },
  {
   "cell_type": "markdown",
   "metadata": {
    "id": "e1xBIRrW88ki"
   },
   "source": [
    "# Análise de dados\n",
    "É a etapa onde selecionamos os algoritmos de Machine Learning que serão inseridos para alcançar o resultado, levando em consideração o conjunto de dados obtidos na etapa anterior.\n",
    "\n",
    "Para esse trabalho, vamos realizar um agrupamento de pessoas baseado no colestesterol, peso e idade das pessoas."
   ]
  },
  {
   "cell_type": "markdown",
   "metadata": {
    "id": "BzwCfPliQQS3"
   },
   "source": [
    "#Aplicando método do cotovelo\n",
    "Vamos iniciar visualizando identificando o número de clusters necessário para realizar o agrupamento"
   ]
  },
  {
   "cell_type": "code",
   "execution_count": 361,
   "metadata": {
    "executionInfo": {
     "elapsed": 12,
     "status": "ok",
     "timestamp": 1628820275129,
     "user": {
      "displayName": "Prof. Leandro Lessa",
      "photoUrl": "https://lh3.googleusercontent.com/a-/AOh14GjOFTHd5R6mZqpiAveor8rupG9YPM_LbwR5AmNPtg=s64",
      "userId": "09430483952296203154"
     },
     "user_tz": 180
    },
    "id": "2ztH6IZhTn6Q"
   },
   "outputs": [],
   "source": [
    "from sklearn.cluster import KMeans"
   ]
  },
  {
   "cell_type": "code",
   "execution_count": 362,
   "metadata": {
    "executionInfo": {
     "elapsed": 11,
     "status": "ok",
     "timestamp": 1628820275129,
     "user": {
      "displayName": "Prof. Leandro Lessa",
      "photoUrl": "https://lh3.googleusercontent.com/a-/AOh14GjOFTHd5R6mZqpiAveor8rupG9YPM_LbwR5AmNPtg=s64",
      "userId": "09430483952296203154"
     },
     "user_tz": 180
    },
    "id": "9lG_pKOSQO1J"
   },
   "outputs": [],
   "source": [
    "def calcular_wcss(dados_cliente):\n",
    "    wcss = []\n",
    "    for k in range(1,11):\n",
    "        kmeans = KMeans(n_clusters = k, random_state=0)\n",
    "        kmeans.fit(X=dados_cliente)        \n",
    "        wcss.append(kmeans.inertia_)\n",
    "    return wcss"
   ]
  },
  {
   "cell_type": "code",
   "execution_count": 363,
   "metadata": {
    "colab": {
     "base_uri": "https://localhost:8080/",
     "height": 204
    },
    "executionInfo": {
     "elapsed": 14,
     "status": "ok",
     "timestamp": 1628820275132,
     "user": {
      "displayName": "Prof. Leandro Lessa",
      "photoUrl": "https://lh3.googleusercontent.com/a-/AOh14GjOFTHd5R6mZqpiAveor8rupG9YPM_LbwR5AmNPtg=s64",
      "userId": "09430483952296203154"
     },
     "user_tz": 180
    },
    "id": "d3lEyldrWrOU",
    "outputId": "b08b4c69-6b75-44e7-9cbf-89b802e3654f"
   },
   "outputs": [
    {
     "data": {
      "text/html": [
       "<div>\n",
       "<style scoped>\n",
       "    .dataframe tbody tr th:only-of-type {\n",
       "        vertical-align: middle;\n",
       "    }\n",
       "\n",
       "    .dataframe tbody tr th {\n",
       "        vertical-align: top;\n",
       "    }\n",
       "\n",
       "    .dataframe thead th {\n",
       "        text-align: right;\n",
       "    }\n",
       "</style>\n",
       "<table border=\"1\" class=\"dataframe\">\n",
       "  <thead>\n",
       "    <tr style=\"text-align: right;\">\n",
       "      <th></th>\n",
       "      <th>peso</th>\n",
       "      <th>colesterol</th>\n",
       "      <th>idade</th>\n",
       "    </tr>\n",
       "  </thead>\n",
       "  <tbody>\n",
       "    <tr>\n",
       "      <th>0</th>\n",
       "      <td>102.0</td>\n",
       "      <td>111</td>\n",
       "      <td>39</td>\n",
       "    </tr>\n",
       "    <tr>\n",
       "      <th>1</th>\n",
       "      <td>115.0</td>\n",
       "      <td>135</td>\n",
       "      <td>50</td>\n",
       "    </tr>\n",
       "    <tr>\n",
       "      <th>2</th>\n",
       "      <td>115.0</td>\n",
       "      <td>136</td>\n",
       "      <td>38</td>\n",
       "    </tr>\n",
       "    <tr>\n",
       "      <th>3</th>\n",
       "      <td>140.0</td>\n",
       "      <td>167</td>\n",
       "      <td>53</td>\n",
       "    </tr>\n",
       "    <tr>\n",
       "      <th>4</th>\n",
       "      <td>130.0</td>\n",
       "      <td>158</td>\n",
       "      <td>28</td>\n",
       "    </tr>\n",
       "  </tbody>\n",
       "</table>\n",
       "</div>"
      ],
      "text/plain": [
       "    peso  colesterol  idade\n",
       "0  102.0         111     39\n",
       "1  115.0         135     50\n",
       "2  115.0         136     38\n",
       "3  140.0         167     53\n",
       "4  130.0         158     28"
      ]
     },
     "execution_count": 363,
     "metadata": {},
     "output_type": "execute_result"
    }
   ],
   "source": [
    "dados_cliente = base_completa[['peso', 'colesterol','idade']]\n",
    "dados_cliente.head()"
   ]
  },
  {
   "cell_type": "code",
   "execution_count": 364,
   "metadata": {
    "executionInfo": {
     "elapsed": 552,
     "status": "ok",
     "timestamp": 1628820275671,
     "user": {
      "displayName": "Prof. Leandro Lessa",
      "photoUrl": "https://lh3.googleusercontent.com/a-/AOh14GjOFTHd5R6mZqpiAveor8rupG9YPM_LbwR5AmNPtg=s64",
      "userId": "09430483952296203154"
     },
     "user_tz": 180
    },
    "id": "-ujHV7JBW6Pl"
   },
   "outputs": [],
   "source": [
    "wcss_clientes = calcular_wcss(dados_cliente)"
   ]
  },
  {
   "cell_type": "code",
   "execution_count": 386,
   "metadata": {},
   "outputs": [
    {
     "data": {
      "text/plain": [
       "[1444042.953874539,\n",
       " 425262.66207976267,\n",
       " 237415.05301877917,\n",
       " 178274.29070661237,\n",
       " 151368.41562544124,\n",
       " 136415.53021370346,\n",
       " 119901.25069697856,\n",
       " 108825.99693141753,\n",
       " 92495.94345437452,\n",
       " 79317.2445985859]"
      ]
     },
     "execution_count": 386,
     "metadata": {},
     "output_type": "execute_result"
    }
   ],
   "source": [
    "wcss_clientes"
   ]
  },
  {
   "cell_type": "code",
   "execution_count": 365,
   "metadata": {
    "colab": {
     "base_uri": "https://localhost:8080/"
    },
    "executionInfo": {
     "elapsed": 26,
     "status": "ok",
     "timestamp": 1628820275672,
     "user": {
      "displayName": "Prof. Leandro Lessa",
      "photoUrl": "https://lh3.googleusercontent.com/a-/AOh14GjOFTHd5R6mZqpiAveor8rupG9YPM_LbwR5AmNPtg=s64",
      "userId": "09430483952296203154"
     },
     "user_tz": 180
    },
    "id": "0Ucmk6ffW6AP",
    "outputId": "39ce6554-c0a3-42b7-b540-5c1e7f35f0ab"
   },
   "outputs": [
    {
     "data": {
      "text/plain": [
       "list"
      ]
     },
     "execution_count": 365,
     "metadata": {},
     "output_type": "execute_result"
    }
   ],
   "source": [
    "type(wcss_clientes)"
   ]
  },
  {
   "cell_type": "code",
   "execution_count": 366,
   "metadata": {
    "colab": {
     "base_uri": "https://localhost:8080/"
    },
    "executionInfo": {
     "elapsed": 18,
     "status": "ok",
     "timestamp": 1628820275673,
     "user": {
      "displayName": "Prof. Leandro Lessa",
      "photoUrl": "https://lh3.googleusercontent.com/a-/AOh14GjOFTHd5R6mZqpiAveor8rupG9YPM_LbwR5AmNPtg=s64",
      "userId": "09430483952296203154"
     },
     "user_tz": 180
    },
    "id": "pje9-qJU9uaA",
    "outputId": "b8114f96-4d25-4672-8a6d-0d4f88091d3b"
   },
   "outputs": [
    {
     "name": "stdout",
     "output_type": "stream",
     "text": [
      "O cluster 0 possui valor de WCSS de: 1444042.953874539\n",
      "O cluster 1 possui valor de WCSS de: 425262.66207976267\n",
      "O cluster 2 possui valor de WCSS de: 237415.05301877917\n",
      "O cluster 3 possui valor de WCSS de: 178274.29070661237\n",
      "O cluster 4 possui valor de WCSS de: 151368.41562544124\n",
      "O cluster 5 possui valor de WCSS de: 136415.53021370346\n",
      "O cluster 6 possui valor de WCSS de: 119901.25069697856\n",
      "O cluster 7 possui valor de WCSS de: 108825.99693141753\n",
      "O cluster 8 possui valor de WCSS de: 92495.94345437452\n",
      "O cluster 9 possui valor de WCSS de: 79317.2445985859\n"
     ]
    }
   ],
   "source": [
    "# Visualizando os dados obtidos do WCSS\n",
    "for i in range(len(wcss_clientes)):\n",
    "  print(f'O cluster {i} possui valor de WCSS de: {wcss_clientes[i]}')"
   ]
  },
  {
   "cell_type": "markdown",
   "metadata": {
    "id": "PvTdmO9HWCC9"
   },
   "source": [
    "# Visualizando o gráfico do cotovelo"
   ]
  },
  {
   "cell_type": "code",
   "execution_count": 367,
   "metadata": {
    "executionInfo": {
     "elapsed": 685,
     "status": "ok",
     "timestamp": 1628820276347,
     "user": {
      "displayName": "Prof. Leandro Lessa",
      "photoUrl": "https://lh3.googleusercontent.com/a-/AOh14GjOFTHd5R6mZqpiAveor8rupG9YPM_LbwR5AmNPtg=s64",
      "userId": "09430483952296203154"
     },
     "user_tz": 180
    },
    "id": "cnhmOfT2V-G0"
   },
   "outputs": [],
   "source": [
    "import plotly.express as px  #Criação de graficos dinâmnicos\n",
    "import plotly.offline as py\n",
    "import plotly.graph_objects as go #Para criação e concatenização de graficos"
   ]
  },
  {
   "cell_type": "code",
   "execution_count": 368,
   "metadata": {
    "colab": {
     "base_uri": "https://localhost:8080/",
     "height": 542
    },
    "executionInfo": {
     "elapsed": 1834,
     "status": "ok",
     "timestamp": 1628820278178,
     "user": {
      "displayName": "Prof. Leandro Lessa",
      "photoUrl": "https://lh3.googleusercontent.com/a-/AOh14GjOFTHd5R6mZqpiAveor8rupG9YPM_LbwR5AmNPtg=s64",
      "userId": "09430483952296203154"
     },
     "user_tz": 180
    },
    "id": "LeuHWK-nU5xZ",
    "outputId": "6628291d-f5cf-45b5-c022-b951addbfb30"
   },
   "outputs": [
    {
     "data": {
      "application/vnd.plotly.v1+json": {
       "config": {
        "plotlyServerURL": "https://plot.ly"
       },
       "data": [
        {
         "hovertemplate": "x=%{x}<br>y=%{y}<extra></extra>",
         "legendgroup": "",
         "line": {
          "color": "#636efa",
          "dash": "solid"
         },
         "marker": {
          "symbol": "circle"
         },
         "mode": "lines",
         "name": "",
         "orientation": "v",
         "showlegend": false,
         "type": "scatter",
         "x": [
          1,
          2,
          3,
          4,
          5,
          6,
          7,
          8,
          9,
          10
         ],
         "xaxis": "x",
         "y": [
          1444042.953874539,
          425262.66207976267,
          237415.05301877917,
          178274.29070661237,
          151368.41562544124,
          136415.53021370346,
          119901.25069697856,
          108825.99693141753,
          92495.94345437452,
          79317.2445985859
         ],
         "yaxis": "y"
        }
       ],
       "layout": {
        "legend": {
         "tracegroupgap": 0
        },
        "margin": {
         "t": 60
        },
        "template": {
         "data": {
          "bar": [
           {
            "error_x": {
             "color": "#2a3f5f"
            },
            "error_y": {
             "color": "#2a3f5f"
            },
            "marker": {
             "line": {
              "color": "white",
              "width": 0.5
             },
             "pattern": {
              "fillmode": "overlay",
              "size": 10,
              "solidity": 0.2
             }
            },
            "type": "bar"
           }
          ],
          "barpolar": [
           {
            "marker": {
             "line": {
              "color": "white",
              "width": 0.5
             },
             "pattern": {
              "fillmode": "overlay",
              "size": 10,
              "solidity": 0.2
             }
            },
            "type": "barpolar"
           }
          ],
          "carpet": [
           {
            "aaxis": {
             "endlinecolor": "#2a3f5f",
             "gridcolor": "#C8D4E3",
             "linecolor": "#C8D4E3",
             "minorgridcolor": "#C8D4E3",
             "startlinecolor": "#2a3f5f"
            },
            "baxis": {
             "endlinecolor": "#2a3f5f",
             "gridcolor": "#C8D4E3",
             "linecolor": "#C8D4E3",
             "minorgridcolor": "#C8D4E3",
             "startlinecolor": "#2a3f5f"
            },
            "type": "carpet"
           }
          ],
          "choropleth": [
           {
            "colorbar": {
             "outlinewidth": 0,
             "ticks": ""
            },
            "type": "choropleth"
           }
          ],
          "contour": [
           {
            "colorbar": {
             "outlinewidth": 0,
             "ticks": ""
            },
            "colorscale": [
             [
              0,
              "#0d0887"
             ],
             [
              0.1111111111111111,
              "#46039f"
             ],
             [
              0.2222222222222222,
              "#7201a8"
             ],
             [
              0.3333333333333333,
              "#9c179e"
             ],
             [
              0.4444444444444444,
              "#bd3786"
             ],
             [
              0.5555555555555556,
              "#d8576b"
             ],
             [
              0.6666666666666666,
              "#ed7953"
             ],
             [
              0.7777777777777778,
              "#fb9f3a"
             ],
             [
              0.8888888888888888,
              "#fdca26"
             ],
             [
              1,
              "#f0f921"
             ]
            ],
            "type": "contour"
           }
          ],
          "contourcarpet": [
           {
            "colorbar": {
             "outlinewidth": 0,
             "ticks": ""
            },
            "type": "contourcarpet"
           }
          ],
          "heatmap": [
           {
            "colorbar": {
             "outlinewidth": 0,
             "ticks": ""
            },
            "colorscale": [
             [
              0,
              "#0d0887"
             ],
             [
              0.1111111111111111,
              "#46039f"
             ],
             [
              0.2222222222222222,
              "#7201a8"
             ],
             [
              0.3333333333333333,
              "#9c179e"
             ],
             [
              0.4444444444444444,
              "#bd3786"
             ],
             [
              0.5555555555555556,
              "#d8576b"
             ],
             [
              0.6666666666666666,
              "#ed7953"
             ],
             [
              0.7777777777777778,
              "#fb9f3a"
             ],
             [
              0.8888888888888888,
              "#fdca26"
             ],
             [
              1,
              "#f0f921"
             ]
            ],
            "type": "heatmap"
           }
          ],
          "heatmapgl": [
           {
            "colorbar": {
             "outlinewidth": 0,
             "ticks": ""
            },
            "colorscale": [
             [
              0,
              "#0d0887"
             ],
             [
              0.1111111111111111,
              "#46039f"
             ],
             [
              0.2222222222222222,
              "#7201a8"
             ],
             [
              0.3333333333333333,
              "#9c179e"
             ],
             [
              0.4444444444444444,
              "#bd3786"
             ],
             [
              0.5555555555555556,
              "#d8576b"
             ],
             [
              0.6666666666666666,
              "#ed7953"
             ],
             [
              0.7777777777777778,
              "#fb9f3a"
             ],
             [
              0.8888888888888888,
              "#fdca26"
             ],
             [
              1,
              "#f0f921"
             ]
            ],
            "type": "heatmapgl"
           }
          ],
          "histogram": [
           {
            "marker": {
             "pattern": {
              "fillmode": "overlay",
              "size": 10,
              "solidity": 0.2
             }
            },
            "type": "histogram"
           }
          ],
          "histogram2d": [
           {
            "colorbar": {
             "outlinewidth": 0,
             "ticks": ""
            },
            "colorscale": [
             [
              0,
              "#0d0887"
             ],
             [
              0.1111111111111111,
              "#46039f"
             ],
             [
              0.2222222222222222,
              "#7201a8"
             ],
             [
              0.3333333333333333,
              "#9c179e"
             ],
             [
              0.4444444444444444,
              "#bd3786"
             ],
             [
              0.5555555555555556,
              "#d8576b"
             ],
             [
              0.6666666666666666,
              "#ed7953"
             ],
             [
              0.7777777777777778,
              "#fb9f3a"
             ],
             [
              0.8888888888888888,
              "#fdca26"
             ],
             [
              1,
              "#f0f921"
             ]
            ],
            "type": "histogram2d"
           }
          ],
          "histogram2dcontour": [
           {
            "colorbar": {
             "outlinewidth": 0,
             "ticks": ""
            },
            "colorscale": [
             [
              0,
              "#0d0887"
             ],
             [
              0.1111111111111111,
              "#46039f"
             ],
             [
              0.2222222222222222,
              "#7201a8"
             ],
             [
              0.3333333333333333,
              "#9c179e"
             ],
             [
              0.4444444444444444,
              "#bd3786"
             ],
             [
              0.5555555555555556,
              "#d8576b"
             ],
             [
              0.6666666666666666,
              "#ed7953"
             ],
             [
              0.7777777777777778,
              "#fb9f3a"
             ],
             [
              0.8888888888888888,
              "#fdca26"
             ],
             [
              1,
              "#f0f921"
             ]
            ],
            "type": "histogram2dcontour"
           }
          ],
          "mesh3d": [
           {
            "colorbar": {
             "outlinewidth": 0,
             "ticks": ""
            },
            "type": "mesh3d"
           }
          ],
          "parcoords": [
           {
            "line": {
             "colorbar": {
              "outlinewidth": 0,
              "ticks": ""
             }
            },
            "type": "parcoords"
           }
          ],
          "pie": [
           {
            "automargin": true,
            "type": "pie"
           }
          ],
          "scatter": [
           {
            "fillpattern": {
             "fillmode": "overlay",
             "size": 10,
             "solidity": 0.2
            },
            "type": "scatter"
           }
          ],
          "scatter3d": [
           {
            "line": {
             "colorbar": {
              "outlinewidth": 0,
              "ticks": ""
             }
            },
            "marker": {
             "colorbar": {
              "outlinewidth": 0,
              "ticks": ""
             }
            },
            "type": "scatter3d"
           }
          ],
          "scattercarpet": [
           {
            "marker": {
             "colorbar": {
              "outlinewidth": 0,
              "ticks": ""
             }
            },
            "type": "scattercarpet"
           }
          ],
          "scattergeo": [
           {
            "marker": {
             "colorbar": {
              "outlinewidth": 0,
              "ticks": ""
             }
            },
            "type": "scattergeo"
           }
          ],
          "scattergl": [
           {
            "marker": {
             "colorbar": {
              "outlinewidth": 0,
              "ticks": ""
             }
            },
            "type": "scattergl"
           }
          ],
          "scattermapbox": [
           {
            "marker": {
             "colorbar": {
              "outlinewidth": 0,
              "ticks": ""
             }
            },
            "type": "scattermapbox"
           }
          ],
          "scatterpolar": [
           {
            "marker": {
             "colorbar": {
              "outlinewidth": 0,
              "ticks": ""
             }
            },
            "type": "scatterpolar"
           }
          ],
          "scatterpolargl": [
           {
            "marker": {
             "colorbar": {
              "outlinewidth": 0,
              "ticks": ""
             }
            },
            "type": "scatterpolargl"
           }
          ],
          "scatterternary": [
           {
            "marker": {
             "colorbar": {
              "outlinewidth": 0,
              "ticks": ""
             }
            },
            "type": "scatterternary"
           }
          ],
          "surface": [
           {
            "colorbar": {
             "outlinewidth": 0,
             "ticks": ""
            },
            "colorscale": [
             [
              0,
              "#0d0887"
             ],
             [
              0.1111111111111111,
              "#46039f"
             ],
             [
              0.2222222222222222,
              "#7201a8"
             ],
             [
              0.3333333333333333,
              "#9c179e"
             ],
             [
              0.4444444444444444,
              "#bd3786"
             ],
             [
              0.5555555555555556,
              "#d8576b"
             ],
             [
              0.6666666666666666,
              "#ed7953"
             ],
             [
              0.7777777777777778,
              "#fb9f3a"
             ],
             [
              0.8888888888888888,
              "#fdca26"
             ],
             [
              1,
              "#f0f921"
             ]
            ],
            "type": "surface"
           }
          ],
          "table": [
           {
            "cells": {
             "fill": {
              "color": "#EBF0F8"
             },
             "line": {
              "color": "white"
             }
            },
            "header": {
             "fill": {
              "color": "#C8D4E3"
             },
             "line": {
              "color": "white"
             }
            },
            "type": "table"
           }
          ]
         },
         "layout": {
          "annotationdefaults": {
           "arrowcolor": "#2a3f5f",
           "arrowhead": 0,
           "arrowwidth": 1
          },
          "autotypenumbers": "strict",
          "coloraxis": {
           "colorbar": {
            "outlinewidth": 0,
            "ticks": ""
           }
          },
          "colorscale": {
           "diverging": [
            [
             0,
             "#8e0152"
            ],
            [
             0.1,
             "#c51b7d"
            ],
            [
             0.2,
             "#de77ae"
            ],
            [
             0.3,
             "#f1b6da"
            ],
            [
             0.4,
             "#fde0ef"
            ],
            [
             0.5,
             "#f7f7f7"
            ],
            [
             0.6,
             "#e6f5d0"
            ],
            [
             0.7,
             "#b8e186"
            ],
            [
             0.8,
             "#7fbc41"
            ],
            [
             0.9,
             "#4d9221"
            ],
            [
             1,
             "#276419"
            ]
           ],
           "sequential": [
            [
             0,
             "#0d0887"
            ],
            [
             0.1111111111111111,
             "#46039f"
            ],
            [
             0.2222222222222222,
             "#7201a8"
            ],
            [
             0.3333333333333333,
             "#9c179e"
            ],
            [
             0.4444444444444444,
             "#bd3786"
            ],
            [
             0.5555555555555556,
             "#d8576b"
            ],
            [
             0.6666666666666666,
             "#ed7953"
            ],
            [
             0.7777777777777778,
             "#fb9f3a"
            ],
            [
             0.8888888888888888,
             "#fdca26"
            ],
            [
             1,
             "#f0f921"
            ]
           ],
           "sequentialminus": [
            [
             0,
             "#0d0887"
            ],
            [
             0.1111111111111111,
             "#46039f"
            ],
            [
             0.2222222222222222,
             "#7201a8"
            ],
            [
             0.3333333333333333,
             "#9c179e"
            ],
            [
             0.4444444444444444,
             "#bd3786"
            ],
            [
             0.5555555555555556,
             "#d8576b"
            ],
            [
             0.6666666666666666,
             "#ed7953"
            ],
            [
             0.7777777777777778,
             "#fb9f3a"
            ],
            [
             0.8888888888888888,
             "#fdca26"
            ],
            [
             1,
             "#f0f921"
            ]
           ]
          },
          "colorway": [
           "#636efa",
           "#EF553B",
           "#00cc96",
           "#ab63fa",
           "#FFA15A",
           "#19d3f3",
           "#FF6692",
           "#B6E880",
           "#FF97FF",
           "#FECB52"
          ],
          "font": {
           "color": "#2a3f5f"
          },
          "geo": {
           "bgcolor": "white",
           "lakecolor": "white",
           "landcolor": "white",
           "showlakes": true,
           "showland": true,
           "subunitcolor": "#C8D4E3"
          },
          "hoverlabel": {
           "align": "left"
          },
          "hovermode": "closest",
          "mapbox": {
           "style": "light"
          },
          "paper_bgcolor": "white",
          "plot_bgcolor": "white",
          "polar": {
           "angularaxis": {
            "gridcolor": "#EBF0F8",
            "linecolor": "#EBF0F8",
            "ticks": ""
           },
           "bgcolor": "white",
           "radialaxis": {
            "gridcolor": "#EBF0F8",
            "linecolor": "#EBF0F8",
            "ticks": ""
           }
          },
          "scene": {
           "xaxis": {
            "backgroundcolor": "white",
            "gridcolor": "#DFE8F3",
            "gridwidth": 2,
            "linecolor": "#EBF0F8",
            "showbackground": true,
            "ticks": "",
            "zerolinecolor": "#EBF0F8"
           },
           "yaxis": {
            "backgroundcolor": "white",
            "gridcolor": "#DFE8F3",
            "gridwidth": 2,
            "linecolor": "#EBF0F8",
            "showbackground": true,
            "ticks": "",
            "zerolinecolor": "#EBF0F8"
           },
           "zaxis": {
            "backgroundcolor": "white",
            "gridcolor": "#DFE8F3",
            "gridwidth": 2,
            "linecolor": "#EBF0F8",
            "showbackground": true,
            "ticks": "",
            "zerolinecolor": "#EBF0F8"
           }
          },
          "shapedefaults": {
           "line": {
            "color": "#2a3f5f"
           }
          },
          "ternary": {
           "aaxis": {
            "gridcolor": "#DFE8F3",
            "linecolor": "#A2B1C6",
            "ticks": ""
           },
           "baxis": {
            "gridcolor": "#DFE8F3",
            "linecolor": "#A2B1C6",
            "ticks": ""
           },
           "bgcolor": "white",
           "caxis": {
            "gridcolor": "#DFE8F3",
            "linecolor": "#A2B1C6",
            "ticks": ""
           }
          },
          "title": {
           "x": 0.05
          },
          "xaxis": {
           "automargin": true,
           "gridcolor": "#EBF0F8",
           "linecolor": "#EBF0F8",
           "ticks": "",
           "title": {
            "standoff": 15
           },
           "zerolinecolor": "#EBF0F8",
           "zerolinewidth": 2
          },
          "yaxis": {
           "automargin": true,
           "gridcolor": "#EBF0F8",
           "linecolor": "#EBF0F8",
           "ticks": "",
           "title": {
            "standoff": 15
           },
           "zerolinecolor": "#EBF0F8",
           "zerolinewidth": 2
          }
         }
        },
        "title": {
         "text": "Calculando o WCSS"
        },
        "xaxis": {
         "anchor": "y",
         "domain": [
          0,
          1
         ],
         "title": {
          "text": "Número de clusters"
         }
        },
        "yaxis": {
         "anchor": "x",
         "domain": [
          0,
          1
         ],
         "title": {
          "text": "Valor do Wcss"
         }
        }
       }
      }
     },
     "metadata": {},
     "output_type": "display_data"
    }
   ],
   "source": [
    "grafico_wcss = px.line( x= range(1,11),\n",
    "                        y=wcss_clientes\n",
    "                       )\n",
    "fig = go.Figure(grafico_wcss)\n",
    "\n",
    "fig.update_layout(title='Calculando o WCSS',\n",
    "                  xaxis_title= 'Número de clusters',\n",
    "                  yaxis_title= 'Valor do Wcss', \n",
    "                  template =  'plotly_white'\n",
    "                  ) \n",
    "\n",
    "fig.show()\n",
    "\n"
   ]
  },
  {
   "cell_type": "code",
   "execution_count": 369,
   "metadata": {
    "executionInfo": {
     "elapsed": 38,
     "status": "ok",
     "timestamp": 1628820278179,
     "user": {
      "displayName": "Prof. Leandro Lessa",
      "photoUrl": "https://lh3.googleusercontent.com/a-/AOh14GjOFTHd5R6mZqpiAveor8rupG9YPM_LbwR5AmNPtg=s64",
      "userId": "09430483952296203154"
     },
     "user_tz": 180
    },
    "id": "4xbqiRfRYiS2"
   },
   "outputs": [],
   "source": [
    "kmeans_clientes = KMeans(n_clusters=3, random_state=42, n_init=10)\n",
    "base_completa['cluster'] = kmeans_clientes.fit_predict(dados_cliente)\n",
    "\n",
    "# Utilize k-means = 3, Random state = 42, i_init=10"
   ]
  },
  {
   "cell_type": "code",
   "execution_count": 370,
   "metadata": {
    "colab": {
     "base_uri": "https://localhost:8080/",
     "height": 419
    },
    "executionInfo": {
     "elapsed": 37,
     "status": "ok",
     "timestamp": 1628820278181,
     "user": {
      "displayName": "Prof. Leandro Lessa",
      "photoUrl": "https://lh3.googleusercontent.com/a-/AOh14GjOFTHd5R6mZqpiAveor8rupG9YPM_LbwR5AmNPtg=s64",
      "userId": "09430483952296203154"
     },
     "user_tz": 180
    },
    "id": "qt2GfEizZE6a",
    "outputId": "b7151a66-edfa-4604-a20b-b8b13b556f1e"
   },
   "outputs": [
    {
     "data": {
      "text/html": [
       "<div>\n",
       "<style scoped>\n",
       "    .dataframe tbody tr th:only-of-type {\n",
       "        vertical-align: middle;\n",
       "    }\n",
       "\n",
       "    .dataframe tbody tr th {\n",
       "        vertical-align: top;\n",
       "    }\n",
       "\n",
       "    .dataframe thead th {\n",
       "        text-align: right;\n",
       "    }\n",
       "</style>\n",
       "<table border=\"1\" class=\"dataframe\">\n",
       "  <thead>\n",
       "    <tr style=\"text-align: right;\">\n",
       "      <th></th>\n",
       "      <th>cod_cliente</th>\n",
       "      <th>genero</th>\n",
       "      <th>classe_trabalho</th>\n",
       "      <th>escolaridade</th>\n",
       "      <th>salario</th>\n",
       "      <th>idade</th>\n",
       "      <th>peso</th>\n",
       "      <th>colesterol</th>\n",
       "      <th>id_estado</th>\n",
       "      <th>sigla</th>\n",
       "      <th>estado</th>\n",
       "      <th>regiao</th>\n",
       "      <th>pais</th>\n",
       "      <th>cluster</th>\n",
       "    </tr>\n",
       "  </thead>\n",
       "  <tbody>\n",
       "    <tr>\n",
       "      <th>0</th>\n",
       "      <td>1</td>\n",
       "      <td>Masculino</td>\n",
       "      <td>Servidor Público</td>\n",
       "      <td>Ensino Médio Completo</td>\n",
       "      <td>4754</td>\n",
       "      <td>39</td>\n",
       "      <td>102.0</td>\n",
       "      <td>111</td>\n",
       "      <td>2</td>\n",
       "      <td>AL</td>\n",
       "      <td>Alagoas</td>\n",
       "      <td>Nordeste</td>\n",
       "      <td>Brasil</td>\n",
       "      <td>0</td>\n",
       "    </tr>\n",
       "    <tr>\n",
       "      <th>1</th>\n",
       "      <td>2</td>\n",
       "      <td>Masculino</td>\n",
       "      <td>Autônomo</td>\n",
       "      <td>Superior Incompleto</td>\n",
       "      <td>3923</td>\n",
       "      <td>50</td>\n",
       "      <td>115.0</td>\n",
       "      <td>135</td>\n",
       "      <td>24</td>\n",
       "      <td>SC</td>\n",
       "      <td>Santa Catarina</td>\n",
       "      <td>Sul</td>\n",
       "      <td>Brasil</td>\n",
       "      <td>0</td>\n",
       "    </tr>\n",
       "    <tr>\n",
       "      <th>2</th>\n",
       "      <td>3</td>\n",
       "      <td>Masculino</td>\n",
       "      <td>Funcionário Setor Privado</td>\n",
       "      <td>Ensino Médio Incompleto</td>\n",
       "      <td>1100</td>\n",
       "      <td>38</td>\n",
       "      <td>115.0</td>\n",
       "      <td>136</td>\n",
       "      <td>4</td>\n",
       "      <td>AM</td>\n",
       "      <td>Amazonas</td>\n",
       "      <td>Norte</td>\n",
       "      <td>Brasil</td>\n",
       "      <td>0</td>\n",
       "    </tr>\n",
       "    <tr>\n",
       "      <th>3</th>\n",
       "      <td>4</td>\n",
       "      <td>Feminino</td>\n",
       "      <td>Funcionário Setor Privado</td>\n",
       "      <td>Ensino Médio Incompleto</td>\n",
       "      <td>1100</td>\n",
       "      <td>53</td>\n",
       "      <td>140.0</td>\n",
       "      <td>167</td>\n",
       "      <td>24</td>\n",
       "      <td>SC</td>\n",
       "      <td>Santa Catarina</td>\n",
       "      <td>Sul</td>\n",
       "      <td>Brasil</td>\n",
       "      <td>2</td>\n",
       "    </tr>\n",
       "    <tr>\n",
       "      <th>4</th>\n",
       "      <td>5</td>\n",
       "      <td>Masculino</td>\n",
       "      <td>Funcionário Setor Privado</td>\n",
       "      <td>Ensino Médio Completo</td>\n",
       "      <td>3430</td>\n",
       "      <td>28</td>\n",
       "      <td>130.0</td>\n",
       "      <td>158</td>\n",
       "      <td>15</td>\n",
       "      <td>PB</td>\n",
       "      <td>Paraíba</td>\n",
       "      <td>Nordeste</td>\n",
       "      <td>Brasil</td>\n",
       "      <td>2</td>\n",
       "    </tr>\n",
       "    <tr>\n",
       "      <th>...</th>\n",
       "      <td>...</td>\n",
       "      <td>...</td>\n",
       "      <td>...</td>\n",
       "      <td>...</td>\n",
       "      <td>...</td>\n",
       "      <td>...</td>\n",
       "      <td>...</td>\n",
       "      <td>...</td>\n",
       "      <td>...</td>\n",
       "      <td>...</td>\n",
       "      <td>...</td>\n",
       "      <td>...</td>\n",
       "      <td>...</td>\n",
       "      <td>...</td>\n",
       "    </tr>\n",
       "    <tr>\n",
       "      <th>537</th>\n",
       "      <td>543</td>\n",
       "      <td>Masculino</td>\n",
       "      <td>Autônomo</td>\n",
       "      <td>Ensino Médio Completo</td>\n",
       "      <td>3533</td>\n",
       "      <td>46</td>\n",
       "      <td>172.0</td>\n",
       "      <td>207</td>\n",
       "      <td>9</td>\n",
       "      <td>GO</td>\n",
       "      <td>Goiás</td>\n",
       "      <td>Centro-Oeste</td>\n",
       "      <td>Brasil</td>\n",
       "      <td>1</td>\n",
       "    </tr>\n",
       "    <tr>\n",
       "      <th>538</th>\n",
       "      <td>544</td>\n",
       "      <td>Masculino</td>\n",
       "      <td>Autônomo</td>\n",
       "      <td>Ensino Médio Incompleto</td>\n",
       "      <td>1100</td>\n",
       "      <td>36</td>\n",
       "      <td>129.0</td>\n",
       "      <td>157</td>\n",
       "      <td>5</td>\n",
       "      <td>BA</td>\n",
       "      <td>Bahia</td>\n",
       "      <td>Nordeste</td>\n",
       "      <td>Brasil</td>\n",
       "      <td>2</td>\n",
       "    </tr>\n",
       "    <tr>\n",
       "      <th>539</th>\n",
       "      <td>545</td>\n",
       "      <td>Masculino</td>\n",
       "      <td>Aposentado</td>\n",
       "      <td>Ensino Médio Incompleto</td>\n",
       "      <td>4110</td>\n",
       "      <td>72</td>\n",
       "      <td>107.0</td>\n",
       "      <td>115</td>\n",
       "      <td>1</td>\n",
       "      <td>AC</td>\n",
       "      <td>Acre</td>\n",
       "      <td>Norte</td>\n",
       "      <td>Brasil</td>\n",
       "      <td>0</td>\n",
       "    </tr>\n",
       "    <tr>\n",
       "      <th>540</th>\n",
       "      <td>546</td>\n",
       "      <td>Masculino</td>\n",
       "      <td>Funcionário Setor Privado</td>\n",
       "      <td>Ensino Médio Incompleto</td>\n",
       "      <td>1100</td>\n",
       "      <td>35</td>\n",
       "      <td>117.0</td>\n",
       "      <td>147</td>\n",
       "      <td>5</td>\n",
       "      <td>BA</td>\n",
       "      <td>Bahia</td>\n",
       "      <td>Nordeste</td>\n",
       "      <td>Brasil</td>\n",
       "      <td>0</td>\n",
       "    </tr>\n",
       "    <tr>\n",
       "      <th>541</th>\n",
       "      <td>547</td>\n",
       "      <td>Masculino</td>\n",
       "      <td>Funcionário Público</td>\n",
       "      <td>Ensino Médio Completo</td>\n",
       "      <td>4925</td>\n",
       "      <td>33</td>\n",
       "      <td>148.0</td>\n",
       "      <td>176</td>\n",
       "      <td>26</td>\n",
       "      <td>SE</td>\n",
       "      <td>Sergipe</td>\n",
       "      <td>Nordeste</td>\n",
       "      <td>Brasil</td>\n",
       "      <td>2</td>\n",
       "    </tr>\n",
       "  </tbody>\n",
       "</table>\n",
       "<p>542 rows × 14 columns</p>\n",
       "</div>"
      ],
      "text/plain": [
       "     cod_cliente     genero            classe_trabalho  \\\n",
       "0              1  Masculino           Servidor Público   \n",
       "1              2  Masculino                   Autônomo   \n",
       "2              3  Masculino  Funcionário Setor Privado   \n",
       "3              4   Feminino  Funcionário Setor Privado   \n",
       "4              5  Masculino  Funcionário Setor Privado   \n",
       "..           ...        ...                        ...   \n",
       "537          543  Masculino                   Autônomo   \n",
       "538          544  Masculino                   Autônomo   \n",
       "539          545  Masculino                 Aposentado   \n",
       "540          546  Masculino  Funcionário Setor Privado   \n",
       "541          547  Masculino        Funcionário Público   \n",
       "\n",
       "                escolaridade  salario  idade   peso  colesterol  id_estado  \\\n",
       "0      Ensino Médio Completo     4754     39  102.0         111          2   \n",
       "1        Superior Incompleto     3923     50  115.0         135         24   \n",
       "2    Ensino Médio Incompleto     1100     38  115.0         136          4   \n",
       "3    Ensino Médio Incompleto     1100     53  140.0         167         24   \n",
       "4      Ensino Médio Completo     3430     28  130.0         158         15   \n",
       "..                       ...      ...    ...    ...         ...        ...   \n",
       "537    Ensino Médio Completo     3533     46  172.0         207          9   \n",
       "538  Ensino Médio Incompleto     1100     36  129.0         157          5   \n",
       "539  Ensino Médio Incompleto     4110     72  107.0         115          1   \n",
       "540  Ensino Médio Incompleto     1100     35  117.0         147          5   \n",
       "541    Ensino Médio Completo     4925     33  148.0         176         26   \n",
       "\n",
       "    sigla          estado        regiao    pais  cluster  \n",
       "0      AL         Alagoas      Nordeste  Brasil        0  \n",
       "1      SC  Santa Catarina           Sul  Brasil        0  \n",
       "2      AM        Amazonas         Norte  Brasil        0  \n",
       "3      SC  Santa Catarina           Sul  Brasil        2  \n",
       "4      PB         Paraíba      Nordeste  Brasil        2  \n",
       "..    ...             ...           ...     ...      ...  \n",
       "537    GO           Goiás  Centro-Oeste  Brasil        1  \n",
       "538    BA           Bahia      Nordeste  Brasil        2  \n",
       "539    AC            Acre         Norte  Brasil        0  \n",
       "540    BA           Bahia      Nordeste  Brasil        0  \n",
       "541    SE         Sergipe      Nordeste  Brasil        2  \n",
       "\n",
       "[542 rows x 14 columns]"
      ]
     },
     "execution_count": 370,
     "metadata": {},
     "output_type": "execute_result"
    }
   ],
   "source": [
    "base_completa"
   ]
  },
  {
   "cell_type": "markdown",
   "metadata": {
    "id": "toMKaHJAIKop"
   },
   "source": [
    "# Calcula os centroides de cada cluster"
   ]
  },
  {
   "cell_type": "code",
   "execution_count": 371,
   "metadata": {
    "colab": {
     "base_uri": "https://localhost:8080/"
    },
    "executionInfo": {
     "elapsed": 34,
     "status": "ok",
     "timestamp": 1628820278183,
     "user": {
      "displayName": "Prof. Leandro Lessa",
      "photoUrl": "https://lh3.googleusercontent.com/a-/AOh14GjOFTHd5R6mZqpiAveor8rupG9YPM_LbwR5AmNPtg=s64",
      "userId": "09430483952296203154"
     },
     "user_tz": 180
    },
    "id": "kpKoPzVSaNbz",
    "outputId": "3e98236a-734b-4ed0-bb0e-d9ea9a504cb1"
   },
   "outputs": [
    {
     "data": {
      "text/plain": [
       "array([[110.4       , 125.88947368,  38.64210526],\n",
       "       [182.18934911, 217.        ,  38.14792899],\n",
       "       [141.96174863, 173.22404372,  37.21857923]])"
      ]
     },
     "execution_count": 371,
     "metadata": {},
     "output_type": "execute_result"
    }
   ],
   "source": [
    "centroides_clusters = kmeans_clientes.cluster_centers_\n",
    "centroides_clusters"
   ]
  },
  {
   "cell_type": "code",
   "execution_count": 372,
   "metadata": {
    "colab": {
     "base_uri": "https://localhost:8080/",
     "height": 419
    },
    "executionInfo": {
     "elapsed": 21,
     "status": "ok",
     "timestamp": 1628820278184,
     "user": {
      "displayName": "Prof. Leandro Lessa",
      "photoUrl": "https://lh3.googleusercontent.com/a-/AOh14GjOFTHd5R6mZqpiAveor8rupG9YPM_LbwR5AmNPtg=s64",
      "userId": "09430483952296203154"
     },
     "user_tz": 180
    },
    "id": "AcDViKucYcY7",
    "outputId": "91255e31-346d-4a74-e1c5-1c7c7180801b"
   },
   "outputs": [
    {
     "data": {
      "text/html": [
       "<div>\n",
       "<style scoped>\n",
       "    .dataframe tbody tr th:only-of-type {\n",
       "        vertical-align: middle;\n",
       "    }\n",
       "\n",
       "    .dataframe tbody tr th {\n",
       "        vertical-align: top;\n",
       "    }\n",
       "\n",
       "    .dataframe thead th {\n",
       "        text-align: right;\n",
       "    }\n",
       "</style>\n",
       "<table border=\"1\" class=\"dataframe\">\n",
       "  <thead>\n",
       "    <tr style=\"text-align: right;\">\n",
       "      <th></th>\n",
       "      <th>peso</th>\n",
       "      <th>colesterol</th>\n",
       "      <th>idade</th>\n",
       "    </tr>\n",
       "  </thead>\n",
       "  <tbody>\n",
       "    <tr>\n",
       "      <th>0</th>\n",
       "      <td>102.0</td>\n",
       "      <td>111</td>\n",
       "      <td>39</td>\n",
       "    </tr>\n",
       "    <tr>\n",
       "      <th>1</th>\n",
       "      <td>115.0</td>\n",
       "      <td>135</td>\n",
       "      <td>50</td>\n",
       "    </tr>\n",
       "    <tr>\n",
       "      <th>2</th>\n",
       "      <td>115.0</td>\n",
       "      <td>136</td>\n",
       "      <td>38</td>\n",
       "    </tr>\n",
       "    <tr>\n",
       "      <th>3</th>\n",
       "      <td>140.0</td>\n",
       "      <td>167</td>\n",
       "      <td>53</td>\n",
       "    </tr>\n",
       "    <tr>\n",
       "      <th>4</th>\n",
       "      <td>130.0</td>\n",
       "      <td>158</td>\n",
       "      <td>28</td>\n",
       "    </tr>\n",
       "    <tr>\n",
       "      <th>...</th>\n",
       "      <td>...</td>\n",
       "      <td>...</td>\n",
       "      <td>...</td>\n",
       "    </tr>\n",
       "    <tr>\n",
       "      <th>537</th>\n",
       "      <td>172.0</td>\n",
       "      <td>207</td>\n",
       "      <td>46</td>\n",
       "    </tr>\n",
       "    <tr>\n",
       "      <th>538</th>\n",
       "      <td>129.0</td>\n",
       "      <td>157</td>\n",
       "      <td>36</td>\n",
       "    </tr>\n",
       "    <tr>\n",
       "      <th>539</th>\n",
       "      <td>107.0</td>\n",
       "      <td>115</td>\n",
       "      <td>72</td>\n",
       "    </tr>\n",
       "    <tr>\n",
       "      <th>540</th>\n",
       "      <td>117.0</td>\n",
       "      <td>147</td>\n",
       "      <td>35</td>\n",
       "    </tr>\n",
       "    <tr>\n",
       "      <th>541</th>\n",
       "      <td>148.0</td>\n",
       "      <td>176</td>\n",
       "      <td>33</td>\n",
       "    </tr>\n",
       "  </tbody>\n",
       "</table>\n",
       "<p>542 rows × 3 columns</p>\n",
       "</div>"
      ],
      "text/plain": [
       "      peso  colesterol  idade\n",
       "0    102.0         111     39\n",
       "1    115.0         135     50\n",
       "2    115.0         136     38\n",
       "3    140.0         167     53\n",
       "4    130.0         158     28\n",
       "..     ...         ...    ...\n",
       "537  172.0         207     46\n",
       "538  129.0         157     36\n",
       "539  107.0         115     72\n",
       "540  117.0         147     35\n",
       "541  148.0         176     33\n",
       "\n",
       "[542 rows x 3 columns]"
      ]
     },
     "execution_count": 372,
     "metadata": {},
     "output_type": "execute_result"
    }
   ],
   "source": [
    "dados_cliente"
   ]
  },
  {
   "cell_type": "markdown",
   "metadata": {
    "id": "a8MBQRQDDXAb"
   },
   "source": [
    "Aqui temos os centroides dos 3 cluster de acordo com os atributos. \n",
    "Nesse exemplo vemos os centroides de 'peso', 'colesterol','idade' respectivamente."
   ]
  },
  {
   "cell_type": "code",
   "execution_count": 373,
   "metadata": {
    "colab": {
     "base_uri": "https://localhost:8080/",
     "height": 542
    },
    "executionInfo": {
     "elapsed": 950,
     "status": "ok",
     "timestamp": 1628820279116,
     "user": {
      "displayName": "Prof. Leandro Lessa",
      "photoUrl": "https://lh3.googleusercontent.com/a-/AOh14GjOFTHd5R6mZqpiAveor8rupG9YPM_LbwR5AmNPtg=s64",
      "userId": "09430483952296203154"
     },
     "user_tz": 180
    },
    "id": "vzKU5D9dUWJb",
    "outputId": "5bcfcf72-13c8-400e-86ce-f208addad1c6"
   },
   "outputs": [
    {
     "data": {
      "application/vnd.plotly.v1+json": {
       "config": {
        "plotlyServerURL": "https://plot.ly"
       },
       "data": [
        {
         "hovertemplate": "x=%{x}<br>y=%{y}<br>color=%{marker.color}<extra></extra>",
         "legendgroup": "",
         "marker": {
          "color": [
           0,
           0,
           0,
           2,
           2,
           1,
           0,
           2,
           1,
           1,
           0,
           1,
           0,
           2,
           2,
           1,
           0,
           1,
           2,
           2,
           2,
           0,
           1,
           2,
           0,
           1,
           0,
           1,
           1,
           2,
           1,
           2,
           2,
           0,
           1,
           0,
           1,
           0,
           2,
           1,
           1,
           2,
           0,
           1,
           1,
           2,
           1,
           2,
           2,
           0,
           0,
           1,
           1,
           2,
           0,
           1,
           2,
           1,
           2,
           2,
           0,
           2,
           0,
           2,
           2,
           0,
           2,
           1,
           2,
           0,
           2,
           2,
           2,
           1,
           0,
           0,
           1,
           0,
           0,
           0,
           0,
           1,
           2,
           0,
           0,
           2,
           2,
           0,
           0,
           2,
           1,
           0,
           0,
           0,
           2,
           0,
           2,
           0,
           0,
           2,
           0,
           0,
           1,
           1,
           0,
           2,
           0,
           1,
           2,
           1,
           0,
           0,
           1,
           0,
           0,
           0,
           2,
           2,
           1,
           0,
           2,
           1,
           1,
           0,
           1,
           0,
           2,
           2,
           1,
           0,
           1,
           2,
           2,
           2,
           0,
           1,
           2,
           0,
           1,
           0,
           1,
           1,
           2,
           1,
           2,
           0,
           1,
           0,
           1,
           0,
           2,
           1,
           1,
           2,
           0,
           1,
           1,
           2,
           1,
           2,
           2,
           0,
           0,
           1,
           1,
           2,
           0,
           1,
           1,
           1,
           2,
           2,
           0,
           2,
           0,
           1,
           2,
           2,
           0,
           1,
           1,
           2,
           0,
           2,
           2,
           2,
           1,
           0,
           0,
           1,
           0,
           2,
           0,
           1,
           2,
           0,
           0,
           2,
           2,
           0,
           0,
           2,
           1,
           0,
           0,
           0,
           2,
           2,
           2,
           0,
           0,
           1,
           0,
           0,
           1,
           1,
           0,
           2,
           0,
           1,
           2,
           1,
           0,
           0,
           1,
           0,
           0,
           0,
           2,
           2,
           1,
           0,
           2,
           1,
           1,
           0,
           1,
           0,
           2,
           2,
           1,
           0,
           1,
           2,
           2,
           2,
           0,
           1,
           2,
           0,
           1,
           0,
           1,
           1,
           2,
           1,
           2,
           2,
           0,
           1,
           0,
           1,
           0,
           2,
           1,
           1,
           2,
           0,
           1,
           1,
           2,
           1,
           2,
           2,
           0,
           0,
           1,
           1,
           2,
           0,
           1,
           1,
           1,
           2,
           2,
           0,
           2,
           0,
           1,
           2,
           2,
           0,
           1,
           1,
           2,
           0,
           2,
           2,
           2,
           1,
           0,
           2,
           1,
           0,
           2,
           0,
           0,
           1,
           2,
           0,
           0,
           2,
           2,
           0,
           0,
           2,
           1,
           0,
           0,
           0,
           2,
           2,
           2,
           0,
           0,
           2,
           1,
           0,
           0,
           1,
           1,
           0,
           2,
           0,
           1,
           2,
           1,
           0,
           0,
           1,
           0,
           0,
           0,
           2,
           2,
           1,
           0,
           2,
           1,
           1,
           0,
           1,
           0,
           2,
           2,
           1,
           0,
           1,
           2,
           2,
           2,
           0,
           1,
           2,
           0,
           1,
           0,
           1,
           1,
           2,
           1,
           2,
           2,
           0,
           1,
           0,
           1,
           0,
           2,
           1,
           1,
           2,
           0,
           1,
           1,
           2,
           1,
           2,
           2,
           0,
           0,
           1,
           1,
           2,
           0,
           1,
           1,
           1,
           2,
           2,
           0,
           2,
           0,
           1,
           2,
           2,
           0,
           1,
           1,
           2,
           0,
           2,
           2,
           2,
           1,
           0,
           2,
           1,
           0,
           2,
           0,
           0,
           1,
           2,
           0,
           0,
           2,
           2,
           2,
           0,
           2,
           1,
           0,
           0,
           0,
           2,
           2,
           2,
           0,
           0,
           2,
           1,
           0,
           0,
           1,
           1,
           0,
           2,
           0,
           1,
           2,
           1,
           0,
           0,
           1,
           0,
           0,
           0,
           2,
           2,
           1,
           0,
           2,
           1,
           1,
           0,
           1,
           0,
           2,
           2,
           1,
           0,
           1,
           2,
           2,
           2,
           0,
           1,
           2,
           0,
           1,
           0,
           1,
           1,
           2,
           1,
           2,
           2,
           0,
           1,
           0,
           1,
           0,
           2,
           1,
           1,
           2,
           0,
           1,
           1,
           2,
           1,
           2,
           2,
           0,
           0,
           1,
           1,
           2,
           0,
           1,
           1,
           1,
           2,
           2,
           0,
           2,
           0,
           1,
           2,
           2,
           0,
           1,
           1,
           2,
           0,
           2,
           2,
           2,
           1,
           0,
           2,
           1,
           0,
           0,
           0,
           0,
           1,
           2,
           0,
           0,
           2
          ],
          "coloraxis": "coloraxis",
          "symbol": "circle"
         },
         "mode": "markers",
         "name": "",
         "orientation": "v",
         "showlegend": false,
         "type": "scatter",
         "x": [
          102,
          115,
          115,
          140,
          130,
          198,
          114,
          145,
          191,
          186,
          104,
          188,
          96,
          156,
          125,
          178,
          109,
          168,
          152,
          133,
          153,
          107,
          199,
          140,
          95,
          183,
          108,
          190,
          174,
          149,
          169,
          138,
          151,
          109,
          178,
          106,
          195,
          96,
          129,
          166,
          197,
          148,
          117,
          193,
          170,
          130,
          183,
          134,
          128,
          105,
          115,
          166,
          183,
          149,
          110,
          164,
          157,
          170,
          124,
          145,
          113,
          150,
          100,
          139,
          150,
          101,
          157,
          187,
          137,
          121,
          132,
          130,
          156,
          180,
          100,
          122,
          185,
          113,
          123,
          119,
          113,
          168,
          126,
          102,
          116,
          144,
          140,
          124,
          108,
          154,
          185,
          106,
          97,
          96,
          129,
          124,
          149,
          97,
          102,
          146,
          100,
          118,
          179,
          179,
          113,
          142,
          101,
          174,
          131,
          179,
          122,
          105,
          176,
          103,
          120,
          118,
          143,
          134,
          203,
          116,
          150,
          192,
          187,
          107,
          192,
          97,
          157,
          128,
          183,
          112,
          173,
          156,
          137,
          156,
          112,
          203,
          141,
          97,
          186,
          113,
          195,
          175,
          154,
          173,
          152,
          114,
          181,
          111,
          200,
          100,
          134,
          167,
          198,
          151,
          121,
          196,
          171,
          135,
          186,
          138,
          133,
          107,
          120,
          168,
          184,
          154,
          115,
          168,
          161,
          171,
          129,
          150,
          118,
          154,
          103,
          180,
          141,
          152,
          104,
          159,
          191,
          142,
          123,
          135,
          132,
          158,
          181,
          105,
          126,
          186,
          116,
          124,
          115,
          173,
          128,
          103,
          120,
          146,
          145,
          125,
          109,
          156,
          187,
          110,
          100,
          97,
          133,
          128,
          154,
          100,
          104,
          203,
          104,
          119,
          181,
          180,
          116,
          144,
          102,
          176,
          135,
          184,
          124,
          110,
          180,
          103,
          117,
          120,
          145,
          133,
          201,
          117,
          146,
          195,
          188,
          108,
          191,
          100,
          158,
          127,
          181,
          113,
          171,
          153,
          137,
          154,
          112,
          201,
          141,
          100,
          185,
          111,
          191,
          176,
          150,
          171,
          140,
          153,
          111,
          180,
          107,
          197,
          101,
          132,
          168,
          200,
          150,
          119,
          197,
          172,
          134,
          185,
          135,
          132,
          109,
          116,
          170,
          187,
          154,
          111,
          169,
          161,
          174,
          125,
          148,
          117,
          154,
          104,
          183,
          142,
          155,
          105,
          160,
          191,
          140,
          123,
          136,
          132,
          158,
          182,
          104,
          126,
          188,
          118,
          127,
          123,
          118,
          169,
          128,
          106,
          119,
          147,
          141,
          125,
          109,
          158,
          190,
          110,
          99,
          98,
          134,
          129,
          154,
          100,
          107,
          149,
          203,
          101,
          119,
          182,
          181,
          115,
          145,
          102,
          176,
          134,
          183,
          123,
          108,
          177,
          104,
          117,
          117,
          145,
          134,
          199,
          115,
          149,
          192,
          188,
          107,
          190,
          98,
          158,
          128,
          180,
          110,
          172,
          157,
          137,
          158,
          110,
          203,
          145,
          96,
          186,
          110,
          194,
          177,
          152,
          172,
          140,
          154,
          113,
          179,
          111,
          196,
          101,
          131,
          171,
          199,
          151,
          121,
          196,
          174,
          135,
          184,
          137,
          129,
          108,
          116,
          168,
          184,
          151,
          114,
          167,
          160,
          175,
          127,
          146,
          118,
          151,
          105,
          180,
          140,
          155,
          106,
          160,
          192,
          138,
          122,
          135,
          132,
          158,
          184,
          101,
          126,
          188,
          118,
          127,
          123,
          117,
          172,
          127,
          104,
          121,
          148,
          141,
          128,
          113,
          155,
          189,
          108,
          98,
          100,
          134,
          125,
          151,
          100,
          107,
          147,
          200,
          101,
          120,
          181,
          182,
          117,
          145,
          106,
          179,
          134,
          180,
          126,
          110,
          180,
          103,
          116,
          119,
          144,
          133,
          199,
          115,
          150,
          192,
          188,
          109,
          189,
          101,
          159,
          128,
          182,
          111,
          171,
          154,
          134,
          157,
          112,
          203,
          142,
          97,
          187,
          111,
          194,
          176,
          153,
          171,
          142,
          153,
          113,
          183,
          108,
          200,
          99,
          131,
          171,
          200,
          152,
          119,
          196,
          173,
          132,
          185,
          138,
          132,
          110,
          119,
          167,
          188,
          151,
          112,
          166,
          158,
          172,
          127,
          150,
          115,
          151,
          103,
          181,
          141,
          152,
          105,
          162,
          190,
          141,
          122,
          136,
          131,
          157,
          181,
          103,
          127,
          189,
          114,
          125,
          123,
          116,
          172,
          129,
          107,
          117,
          148
         ],
         "xaxis": "x",
         "y": [
          111,
          135,
          136,
          167,
          158,
          227,
          131,
          176,
          223,
          221,
          116,
          222,
          102,
          192,
          152,
          213,
          125,
          204,
          189,
          163,
          189,
          122,
          228,
          168,
          102,
          218,
          123,
          222,
          208,
          183,
          204,
          167,
          188,
          126,
          213,
          122,
          225,
          105,
          155,
          203,
          225,
          177,
          139,
          224,
          207,
          158,
          218,
          164,
          154,
          118,
          138,
          199,
          219,
          183,
          128,
          197,
          196,
          208,
          152,
          175,
          129,
          185,
          107,
          167,
          185,
          110,
          194,
          221,
          166,
          143,
          163,
          158,
          191,
          216,
          106,
          146,
          220,
          131,
          147,
          141,
          130,
          204,
          152,
          111,
          139,
          172,
          168,
          148,
          123,
          189,
          220,
          120,
          106,
          105,
          157,
          149,
          185,
          106,
          115,
          177,
          108,
          140,
          214,
          216,
          130,
          169,
          110,
          209,
          162,
          214,
          145,
          116,
          209,
          116,
          139,
          143,
          168,
          158,
          232,
          136,
          180,
          228,
          222,
          117,
          224,
          104,
          195,
          156,
          213,
          133,
          208,
          195,
          163,
          195,
          124,
          231,
          172,
          104,
          221,
          128,
          222,
          214,
          184,
          204,
          195,
          132,
          214,
          123,
          233,
          107,
          162,
          204,
          227,
          185,
          142,
          225,
          212,
          161,
          220,
          168,
          155,
          125,
          144,
          201,
          222,
          189,
          132,
          204,
          201,
          211,
          156,
          179,
          129,
          185,
          107,
          213,
          172,
          193,
          114,
          202,
          222,
          168,
          146,
          170,
          165,
          196,
          224,
          108,
          149,
          224,
          136,
          152,
          135,
          211,
          156,
          115,
          143,
          179,
          173,
          148,
          127,
          194,
          225,
          127,
          106,
          112,
          164,
          151,
          191,
          110,
          116,
          235,
          108,
          141,
          219,
          219,
          138,
          169,
          116,
          212,
          162,
          220,
          151,
          119,
          212,
          111,
          142,
          138,
          172,
          158,
          228,
          134,
          181,
          231,
          223,
          121,
          222,
          102,
          195,
          156,
          214,
          132,
          204,
          190,
          167,
          195,
          127,
          235,
          171,
          110,
          221,
          128,
          226,
          208,
          191,
          205,
          173,
          191,
          128,
          220,
          126,
          232,
          108,
          159,
          211,
          232,
          182,
          145,
          224,
          209,
          160,
          219,
          170,
          161,
          122,
          141,
          204,
          226,
          187,
          129,
          199,
          199,
          214,
          159,
          176,
          129,
          187,
          109,
          212,
          170,
          191,
          116,
          202,
          226,
          166,
          151,
          170,
          166,
          193,
          218,
          109,
          152,
          220,
          133,
          152,
          142,
          131,
          204,
          153,
          114,
          144,
          172,
          176,
          150,
          129,
          190,
          226,
          128,
          106,
          107,
          159,
          157,
          192,
          110,
          115,
          183,
          233,
          112,
          146,
          222,
          216,
          134,
          174,
          114,
          211,
          167,
          214,
          145,
          120,
          217,
          113,
          141,
          140,
          171,
          163,
          232,
          131,
          184,
          225,
          223,
          121,
          223,
          105,
          197,
          160,
          218,
          131,
          211,
          194,
          169,
          189,
          128,
          228,
          169,
          108,
          219,
          124,
          224,
          214,
          190,
          205,
          167,
          190,
          128,
          217,
          126,
          228,
          105,
          162,
          211,
          227,
          178,
          146,
          227,
          208,
          163,
          225,
          167,
          162,
          125,
          144,
          199,
          226,
          183,
          136,
          199,
          204,
          215,
          155,
          179,
          133,
          186,
          111,
          219,
          173,
          185,
          118,
          199,
          226,
          169,
          144,
          166,
          166,
          198,
          222,
          110,
          154,
          226,
          135,
          151,
          146,
          133,
          205,
          154,
          116,
          145,
          174,
          168,
          156,
          124,
          196,
          227,
          122,
          106,
          110,
          158,
          154,
          190,
          110,
          120,
          180,
          232,
          110,
          142,
          222,
          218,
          138,
          176,
          115,
          211,
          168,
          216,
          147,
          124,
          215,
          117,
          139,
          138,
          171,
          158,
          232,
          139,
          178,
          224,
          224,
          116,
          223,
          109,
          193,
          155,
          221,
          130,
          212,
          190,
          169,
          191,
          122,
          234,
          175,
          108,
          220,
          126,
          227,
          216,
          188,
          205,
          172,
          192,
          129,
          219,
          127,
          228,
          105,
          159,
          205,
          228,
          178,
          139,
          232,
          212,
          162,
          226,
          171,
          159,
          120,
          143,
          200,
          221,
          184,
          134,
          200,
          201,
          210,
          159,
          178,
          137,
          190,
          110,
          213,
          170,
          193,
          113,
          196,
          222,
          174,
          143,
          169,
          165,
          194,
          217,
          113,
          150,
          223,
          133,
          149,
          149,
          130,
          207,
          157,
          115,
          147,
          176
         ],
         "yaxis": "y"
        },
        {
         "hovertemplate": "x=%{x}<br>y=%{y}<br>size=%{marker.size}<extra></extra>",
         "legendgroup": "",
         "marker": {
          "color": "#636efa",
          "size": [
           7,
           7,
           7
          ],
          "sizemode": "area",
          "sizeref": 0.0175,
          "symbol": "circle"
         },
         "mode": "markers",
         "name": "",
         "orientation": "v",
         "showlegend": false,
         "type": "scatter",
         "x": [
          110.39999999999995,
          182.189349112426,
          141.96174863387978
         ],
         "xaxis": "x",
         "y": [
          125.88947368421043,
          216.9999999999999,
          173.224043715847
         ],
         "yaxis": "y"
        }
       ],
       "layout": {
        "template": {
         "data": {
          "bar": [
           {
            "error_x": {
             "color": "#2a3f5f"
            },
            "error_y": {
             "color": "#2a3f5f"
            },
            "marker": {
             "line": {
              "color": "#E5ECF6",
              "width": 0.5
             },
             "pattern": {
              "fillmode": "overlay",
              "size": 10,
              "solidity": 0.2
             }
            },
            "type": "bar"
           }
          ],
          "barpolar": [
           {
            "marker": {
             "line": {
              "color": "#E5ECF6",
              "width": 0.5
             },
             "pattern": {
              "fillmode": "overlay",
              "size": 10,
              "solidity": 0.2
             }
            },
            "type": "barpolar"
           }
          ],
          "carpet": [
           {
            "aaxis": {
             "endlinecolor": "#2a3f5f",
             "gridcolor": "white",
             "linecolor": "white",
             "minorgridcolor": "white",
             "startlinecolor": "#2a3f5f"
            },
            "baxis": {
             "endlinecolor": "#2a3f5f",
             "gridcolor": "white",
             "linecolor": "white",
             "minorgridcolor": "white",
             "startlinecolor": "#2a3f5f"
            },
            "type": "carpet"
           }
          ],
          "choropleth": [
           {
            "colorbar": {
             "outlinewidth": 0,
             "ticks": ""
            },
            "type": "choropleth"
           }
          ],
          "contour": [
           {
            "colorbar": {
             "outlinewidth": 0,
             "ticks": ""
            },
            "colorscale": [
             [
              0,
              "#0d0887"
             ],
             [
              0.1111111111111111,
              "#46039f"
             ],
             [
              0.2222222222222222,
              "#7201a8"
             ],
             [
              0.3333333333333333,
              "#9c179e"
             ],
             [
              0.4444444444444444,
              "#bd3786"
             ],
             [
              0.5555555555555556,
              "#d8576b"
             ],
             [
              0.6666666666666666,
              "#ed7953"
             ],
             [
              0.7777777777777778,
              "#fb9f3a"
             ],
             [
              0.8888888888888888,
              "#fdca26"
             ],
             [
              1,
              "#f0f921"
             ]
            ],
            "type": "contour"
           }
          ],
          "contourcarpet": [
           {
            "colorbar": {
             "outlinewidth": 0,
             "ticks": ""
            },
            "type": "contourcarpet"
           }
          ],
          "heatmap": [
           {
            "colorbar": {
             "outlinewidth": 0,
             "ticks": ""
            },
            "colorscale": [
             [
              0,
              "#0d0887"
             ],
             [
              0.1111111111111111,
              "#46039f"
             ],
             [
              0.2222222222222222,
              "#7201a8"
             ],
             [
              0.3333333333333333,
              "#9c179e"
             ],
             [
              0.4444444444444444,
              "#bd3786"
             ],
             [
              0.5555555555555556,
              "#d8576b"
             ],
             [
              0.6666666666666666,
              "#ed7953"
             ],
             [
              0.7777777777777778,
              "#fb9f3a"
             ],
             [
              0.8888888888888888,
              "#fdca26"
             ],
             [
              1,
              "#f0f921"
             ]
            ],
            "type": "heatmap"
           }
          ],
          "heatmapgl": [
           {
            "colorbar": {
             "outlinewidth": 0,
             "ticks": ""
            },
            "colorscale": [
             [
              0,
              "#0d0887"
             ],
             [
              0.1111111111111111,
              "#46039f"
             ],
             [
              0.2222222222222222,
              "#7201a8"
             ],
             [
              0.3333333333333333,
              "#9c179e"
             ],
             [
              0.4444444444444444,
              "#bd3786"
             ],
             [
              0.5555555555555556,
              "#d8576b"
             ],
             [
              0.6666666666666666,
              "#ed7953"
             ],
             [
              0.7777777777777778,
              "#fb9f3a"
             ],
             [
              0.8888888888888888,
              "#fdca26"
             ],
             [
              1,
              "#f0f921"
             ]
            ],
            "type": "heatmapgl"
           }
          ],
          "histogram": [
           {
            "marker": {
             "pattern": {
              "fillmode": "overlay",
              "size": 10,
              "solidity": 0.2
             }
            },
            "type": "histogram"
           }
          ],
          "histogram2d": [
           {
            "colorbar": {
             "outlinewidth": 0,
             "ticks": ""
            },
            "colorscale": [
             [
              0,
              "#0d0887"
             ],
             [
              0.1111111111111111,
              "#46039f"
             ],
             [
              0.2222222222222222,
              "#7201a8"
             ],
             [
              0.3333333333333333,
              "#9c179e"
             ],
             [
              0.4444444444444444,
              "#bd3786"
             ],
             [
              0.5555555555555556,
              "#d8576b"
             ],
             [
              0.6666666666666666,
              "#ed7953"
             ],
             [
              0.7777777777777778,
              "#fb9f3a"
             ],
             [
              0.8888888888888888,
              "#fdca26"
             ],
             [
              1,
              "#f0f921"
             ]
            ],
            "type": "histogram2d"
           }
          ],
          "histogram2dcontour": [
           {
            "colorbar": {
             "outlinewidth": 0,
             "ticks": ""
            },
            "colorscale": [
             [
              0,
              "#0d0887"
             ],
             [
              0.1111111111111111,
              "#46039f"
             ],
             [
              0.2222222222222222,
              "#7201a8"
             ],
             [
              0.3333333333333333,
              "#9c179e"
             ],
             [
              0.4444444444444444,
              "#bd3786"
             ],
             [
              0.5555555555555556,
              "#d8576b"
             ],
             [
              0.6666666666666666,
              "#ed7953"
             ],
             [
              0.7777777777777778,
              "#fb9f3a"
             ],
             [
              0.8888888888888888,
              "#fdca26"
             ],
             [
              1,
              "#f0f921"
             ]
            ],
            "type": "histogram2dcontour"
           }
          ],
          "mesh3d": [
           {
            "colorbar": {
             "outlinewidth": 0,
             "ticks": ""
            },
            "type": "mesh3d"
           }
          ],
          "parcoords": [
           {
            "line": {
             "colorbar": {
              "outlinewidth": 0,
              "ticks": ""
             }
            },
            "type": "parcoords"
           }
          ],
          "pie": [
           {
            "automargin": true,
            "type": "pie"
           }
          ],
          "scatter": [
           {
            "fillpattern": {
             "fillmode": "overlay",
             "size": 10,
             "solidity": 0.2
            },
            "type": "scatter"
           }
          ],
          "scatter3d": [
           {
            "line": {
             "colorbar": {
              "outlinewidth": 0,
              "ticks": ""
             }
            },
            "marker": {
             "colorbar": {
              "outlinewidth": 0,
              "ticks": ""
             }
            },
            "type": "scatter3d"
           }
          ],
          "scattercarpet": [
           {
            "marker": {
             "colorbar": {
              "outlinewidth": 0,
              "ticks": ""
             }
            },
            "type": "scattercarpet"
           }
          ],
          "scattergeo": [
           {
            "marker": {
             "colorbar": {
              "outlinewidth": 0,
              "ticks": ""
             }
            },
            "type": "scattergeo"
           }
          ],
          "scattergl": [
           {
            "marker": {
             "colorbar": {
              "outlinewidth": 0,
              "ticks": ""
             }
            },
            "type": "scattergl"
           }
          ],
          "scattermapbox": [
           {
            "marker": {
             "colorbar": {
              "outlinewidth": 0,
              "ticks": ""
             }
            },
            "type": "scattermapbox"
           }
          ],
          "scatterpolar": [
           {
            "marker": {
             "colorbar": {
              "outlinewidth": 0,
              "ticks": ""
             }
            },
            "type": "scatterpolar"
           }
          ],
          "scatterpolargl": [
           {
            "marker": {
             "colorbar": {
              "outlinewidth": 0,
              "ticks": ""
             }
            },
            "type": "scatterpolargl"
           }
          ],
          "scatterternary": [
           {
            "marker": {
             "colorbar": {
              "outlinewidth": 0,
              "ticks": ""
             }
            },
            "type": "scatterternary"
           }
          ],
          "surface": [
           {
            "colorbar": {
             "outlinewidth": 0,
             "ticks": ""
            },
            "colorscale": [
             [
              0,
              "#0d0887"
             ],
             [
              0.1111111111111111,
              "#46039f"
             ],
             [
              0.2222222222222222,
              "#7201a8"
             ],
             [
              0.3333333333333333,
              "#9c179e"
             ],
             [
              0.4444444444444444,
              "#bd3786"
             ],
             [
              0.5555555555555556,
              "#d8576b"
             ],
             [
              0.6666666666666666,
              "#ed7953"
             ],
             [
              0.7777777777777778,
              "#fb9f3a"
             ],
             [
              0.8888888888888888,
              "#fdca26"
             ],
             [
              1,
              "#f0f921"
             ]
            ],
            "type": "surface"
           }
          ],
          "table": [
           {
            "cells": {
             "fill": {
              "color": "#EBF0F8"
             },
             "line": {
              "color": "white"
             }
            },
            "header": {
             "fill": {
              "color": "#C8D4E3"
             },
             "line": {
              "color": "white"
             }
            },
            "type": "table"
           }
          ]
         },
         "layout": {
          "annotationdefaults": {
           "arrowcolor": "#2a3f5f",
           "arrowhead": 0,
           "arrowwidth": 1
          },
          "autotypenumbers": "strict",
          "coloraxis": {
           "colorbar": {
            "outlinewidth": 0,
            "ticks": ""
           }
          },
          "colorscale": {
           "diverging": [
            [
             0,
             "#8e0152"
            ],
            [
             0.1,
             "#c51b7d"
            ],
            [
             0.2,
             "#de77ae"
            ],
            [
             0.3,
             "#f1b6da"
            ],
            [
             0.4,
             "#fde0ef"
            ],
            [
             0.5,
             "#f7f7f7"
            ],
            [
             0.6,
             "#e6f5d0"
            ],
            [
             0.7,
             "#b8e186"
            ],
            [
             0.8,
             "#7fbc41"
            ],
            [
             0.9,
             "#4d9221"
            ],
            [
             1,
             "#276419"
            ]
           ],
           "sequential": [
            [
             0,
             "#0d0887"
            ],
            [
             0.1111111111111111,
             "#46039f"
            ],
            [
             0.2222222222222222,
             "#7201a8"
            ],
            [
             0.3333333333333333,
             "#9c179e"
            ],
            [
             0.4444444444444444,
             "#bd3786"
            ],
            [
             0.5555555555555556,
             "#d8576b"
            ],
            [
             0.6666666666666666,
             "#ed7953"
            ],
            [
             0.7777777777777778,
             "#fb9f3a"
            ],
            [
             0.8888888888888888,
             "#fdca26"
            ],
            [
             1,
             "#f0f921"
            ]
           ],
           "sequentialminus": [
            [
             0,
             "#0d0887"
            ],
            [
             0.1111111111111111,
             "#46039f"
            ],
            [
             0.2222222222222222,
             "#7201a8"
            ],
            [
             0.3333333333333333,
             "#9c179e"
            ],
            [
             0.4444444444444444,
             "#bd3786"
            ],
            [
             0.5555555555555556,
             "#d8576b"
            ],
            [
             0.6666666666666666,
             "#ed7953"
            ],
            [
             0.7777777777777778,
             "#fb9f3a"
            ],
            [
             0.8888888888888888,
             "#fdca26"
            ],
            [
             1,
             "#f0f921"
            ]
           ]
          },
          "colorway": [
           "#636efa",
           "#EF553B",
           "#00cc96",
           "#ab63fa",
           "#FFA15A",
           "#19d3f3",
           "#FF6692",
           "#B6E880",
           "#FF97FF",
           "#FECB52"
          ],
          "font": {
           "color": "#2a3f5f"
          },
          "geo": {
           "bgcolor": "white",
           "lakecolor": "white",
           "landcolor": "#E5ECF6",
           "showlakes": true,
           "showland": true,
           "subunitcolor": "white"
          },
          "hoverlabel": {
           "align": "left"
          },
          "hovermode": "closest",
          "mapbox": {
           "style": "light"
          },
          "paper_bgcolor": "white",
          "plot_bgcolor": "#E5ECF6",
          "polar": {
           "angularaxis": {
            "gridcolor": "white",
            "linecolor": "white",
            "ticks": ""
           },
           "bgcolor": "#E5ECF6",
           "radialaxis": {
            "gridcolor": "white",
            "linecolor": "white",
            "ticks": ""
           }
          },
          "scene": {
           "xaxis": {
            "backgroundcolor": "#E5ECF6",
            "gridcolor": "white",
            "gridwidth": 2,
            "linecolor": "white",
            "showbackground": true,
            "ticks": "",
            "zerolinecolor": "white"
           },
           "yaxis": {
            "backgroundcolor": "#E5ECF6",
            "gridcolor": "white",
            "gridwidth": 2,
            "linecolor": "white",
            "showbackground": true,
            "ticks": "",
            "zerolinecolor": "white"
           },
           "zaxis": {
            "backgroundcolor": "#E5ECF6",
            "gridcolor": "white",
            "gridwidth": 2,
            "linecolor": "white",
            "showbackground": true,
            "ticks": "",
            "zerolinecolor": "white"
           }
          },
          "shapedefaults": {
           "line": {
            "color": "#2a3f5f"
           }
          },
          "ternary": {
           "aaxis": {
            "gridcolor": "white",
            "linecolor": "white",
            "ticks": ""
           },
           "baxis": {
            "gridcolor": "white",
            "linecolor": "white",
            "ticks": ""
           },
           "bgcolor": "#E5ECF6",
           "caxis": {
            "gridcolor": "white",
            "linecolor": "white",
            "ticks": ""
           }
          },
          "title": {
           "x": 0.05
          },
          "xaxis": {
           "automargin": true,
           "gridcolor": "white",
           "linecolor": "white",
           "ticks": "",
           "title": {
            "standoff": 15
           },
           "zerolinecolor": "white",
           "zerolinewidth": 2
          },
          "yaxis": {
           "automargin": true,
           "gridcolor": "white",
           "linecolor": "white",
           "ticks": "",
           "title": {
            "standoff": 15
           },
           "zerolinecolor": "white",
           "zerolinewidth": 2
          }
         }
        }
       }
      }
     },
     "metadata": {},
     "output_type": "display_data"
    }
   ],
   "source": [
    "grafico = px.scatter(x = base_completa['peso'], \n",
    "                            y = base_completa['colesterol'], \n",
    "                            color= base_completa['cluster'])\n",
    "\n",
    "grafico_centroide = px.scatter(x = centroides_clusters[:,0], y = centroides_clusters[:,1], size = [7,7,7])\n",
    "grafico_final_petala = go.Figure(data = grafico.data + grafico_centroide.data)\n",
    "grafico_final_petala.show()"
   ]
  },
  {
   "cell_type": "markdown",
   "metadata": {
    "id": "tUMTmm5ZSiIG"
   },
   "source": [
    "# Visualizando e alterando layout do gráfico"
   ]
  },
  {
   "cell_type": "code",
   "execution_count": 374,
   "metadata": {
    "colab": {
     "base_uri": "https://localhost:8080/",
     "height": 542
    },
    "executionInfo": {
     "elapsed": 544,
     "status": "ok",
     "timestamp": 1628820279649,
     "user": {
      "displayName": "Prof. Leandro Lessa",
      "photoUrl": "https://lh3.googleusercontent.com/a-/AOh14GjOFTHd5R6mZqpiAveor8rupG9YPM_LbwR5AmNPtg=s64",
      "userId": "09430483952296203154"
     },
     "user_tz": 180
    },
    "id": "NJ9RLCTvZGCq",
    "outputId": "04552d81-1f7c-44e8-e4fc-07ca2f9e8baf"
   },
   "outputs": [
    {
     "data": {
      "application/vnd.plotly.v1+json": {
       "config": {
        "plotlyServerURL": "https://plot.ly"
       },
       "data": [
        {
         "hovertemplate": "x=%{x}<br>y=%{y}<br>color=%{marker.color}<extra></extra>",
         "legendgroup": "",
         "marker": {
          "color": [
           0,
           0,
           0,
           2,
           2,
           1,
           0,
           2,
           1,
           1,
           0,
           1,
           0,
           2,
           2,
           1,
           0,
           1,
           2,
           2,
           2,
           0,
           1,
           2,
           0,
           1,
           0,
           1,
           1,
           2,
           1,
           2,
           2,
           0,
           1,
           0,
           1,
           0,
           2,
           1,
           1,
           2,
           0,
           1,
           1,
           2,
           1,
           2,
           2,
           0,
           0,
           1,
           1,
           2,
           0,
           1,
           2,
           1,
           2,
           2,
           0,
           2,
           0,
           2,
           2,
           0,
           2,
           1,
           2,
           0,
           2,
           2,
           2,
           1,
           0,
           0,
           1,
           0,
           0,
           0,
           0,
           1,
           2,
           0,
           0,
           2,
           2,
           0,
           0,
           2,
           1,
           0,
           0,
           0,
           2,
           0,
           2,
           0,
           0,
           2,
           0,
           0,
           1,
           1,
           0,
           2,
           0,
           1,
           2,
           1,
           0,
           0,
           1,
           0,
           0,
           0,
           2,
           2,
           1,
           0,
           2,
           1,
           1,
           0,
           1,
           0,
           2,
           2,
           1,
           0,
           1,
           2,
           2,
           2,
           0,
           1,
           2,
           0,
           1,
           0,
           1,
           1,
           2,
           1,
           2,
           0,
           1,
           0,
           1,
           0,
           2,
           1,
           1,
           2,
           0,
           1,
           1,
           2,
           1,
           2,
           2,
           0,
           0,
           1,
           1,
           2,
           0,
           1,
           1,
           1,
           2,
           2,
           0,
           2,
           0,
           1,
           2,
           2,
           0,
           1,
           1,
           2,
           0,
           2,
           2,
           2,
           1,
           0,
           0,
           1,
           0,
           2,
           0,
           1,
           2,
           0,
           0,
           2,
           2,
           0,
           0,
           2,
           1,
           0,
           0,
           0,
           2,
           2,
           2,
           0,
           0,
           1,
           0,
           0,
           1,
           1,
           0,
           2,
           0,
           1,
           2,
           1,
           0,
           0,
           1,
           0,
           0,
           0,
           2,
           2,
           1,
           0,
           2,
           1,
           1,
           0,
           1,
           0,
           2,
           2,
           1,
           0,
           1,
           2,
           2,
           2,
           0,
           1,
           2,
           0,
           1,
           0,
           1,
           1,
           2,
           1,
           2,
           2,
           0,
           1,
           0,
           1,
           0,
           2,
           1,
           1,
           2,
           0,
           1,
           1,
           2,
           1,
           2,
           2,
           0,
           0,
           1,
           1,
           2,
           0,
           1,
           1,
           1,
           2,
           2,
           0,
           2,
           0,
           1,
           2,
           2,
           0,
           1,
           1,
           2,
           0,
           2,
           2,
           2,
           1,
           0,
           2,
           1,
           0,
           2,
           0,
           0,
           1,
           2,
           0,
           0,
           2,
           2,
           0,
           0,
           2,
           1,
           0,
           0,
           0,
           2,
           2,
           2,
           0,
           0,
           2,
           1,
           0,
           0,
           1,
           1,
           0,
           2,
           0,
           1,
           2,
           1,
           0,
           0,
           1,
           0,
           0,
           0,
           2,
           2,
           1,
           0,
           2,
           1,
           1,
           0,
           1,
           0,
           2,
           2,
           1,
           0,
           1,
           2,
           2,
           2,
           0,
           1,
           2,
           0,
           1,
           0,
           1,
           1,
           2,
           1,
           2,
           2,
           0,
           1,
           0,
           1,
           0,
           2,
           1,
           1,
           2,
           0,
           1,
           1,
           2,
           1,
           2,
           2,
           0,
           0,
           1,
           1,
           2,
           0,
           1,
           1,
           1,
           2,
           2,
           0,
           2,
           0,
           1,
           2,
           2,
           0,
           1,
           1,
           2,
           0,
           2,
           2,
           2,
           1,
           0,
           2,
           1,
           0,
           2,
           0,
           0,
           1,
           2,
           0,
           0,
           2,
           2,
           2,
           0,
           2,
           1,
           0,
           0,
           0,
           2,
           2,
           2,
           0,
           0,
           2,
           1,
           0,
           0,
           1,
           1,
           0,
           2,
           0,
           1,
           2,
           1,
           0,
           0,
           1,
           0,
           0,
           0,
           2,
           2,
           1,
           0,
           2,
           1,
           1,
           0,
           1,
           0,
           2,
           2,
           1,
           0,
           1,
           2,
           2,
           2,
           0,
           1,
           2,
           0,
           1,
           0,
           1,
           1,
           2,
           1,
           2,
           2,
           0,
           1,
           0,
           1,
           0,
           2,
           1,
           1,
           2,
           0,
           1,
           1,
           2,
           1,
           2,
           2,
           0,
           0,
           1,
           1,
           2,
           0,
           1,
           1,
           1,
           2,
           2,
           0,
           2,
           0,
           1,
           2,
           2,
           0,
           1,
           1,
           2,
           0,
           2,
           2,
           2,
           1,
           0,
           2,
           1,
           0,
           0,
           0,
           0,
           1,
           2,
           0,
           0,
           2
          ],
          "coloraxis": "coloraxis",
          "symbol": "circle"
         },
         "mode": "markers",
         "name": "",
         "orientation": "v",
         "showlegend": false,
         "type": "scatter",
         "x": [
          111,
          135,
          136,
          167,
          158,
          227,
          131,
          176,
          223,
          221,
          116,
          222,
          102,
          192,
          152,
          213,
          125,
          204,
          189,
          163,
          189,
          122,
          228,
          168,
          102,
          218,
          123,
          222,
          208,
          183,
          204,
          167,
          188,
          126,
          213,
          122,
          225,
          105,
          155,
          203,
          225,
          177,
          139,
          224,
          207,
          158,
          218,
          164,
          154,
          118,
          138,
          199,
          219,
          183,
          128,
          197,
          196,
          208,
          152,
          175,
          129,
          185,
          107,
          167,
          185,
          110,
          194,
          221,
          166,
          143,
          163,
          158,
          191,
          216,
          106,
          146,
          220,
          131,
          147,
          141,
          130,
          204,
          152,
          111,
          139,
          172,
          168,
          148,
          123,
          189,
          220,
          120,
          106,
          105,
          157,
          149,
          185,
          106,
          115,
          177,
          108,
          140,
          214,
          216,
          130,
          169,
          110,
          209,
          162,
          214,
          145,
          116,
          209,
          116,
          139,
          143,
          168,
          158,
          232,
          136,
          180,
          228,
          222,
          117,
          224,
          104,
          195,
          156,
          213,
          133,
          208,
          195,
          163,
          195,
          124,
          231,
          172,
          104,
          221,
          128,
          222,
          214,
          184,
          204,
          195,
          132,
          214,
          123,
          233,
          107,
          162,
          204,
          227,
          185,
          142,
          225,
          212,
          161,
          220,
          168,
          155,
          125,
          144,
          201,
          222,
          189,
          132,
          204,
          201,
          211,
          156,
          179,
          129,
          185,
          107,
          213,
          172,
          193,
          114,
          202,
          222,
          168,
          146,
          170,
          165,
          196,
          224,
          108,
          149,
          224,
          136,
          152,
          135,
          211,
          156,
          115,
          143,
          179,
          173,
          148,
          127,
          194,
          225,
          127,
          106,
          112,
          164,
          151,
          191,
          110,
          116,
          235,
          108,
          141,
          219,
          219,
          138,
          169,
          116,
          212,
          162,
          220,
          151,
          119,
          212,
          111,
          142,
          138,
          172,
          158,
          228,
          134,
          181,
          231,
          223,
          121,
          222,
          102,
          195,
          156,
          214,
          132,
          204,
          190,
          167,
          195,
          127,
          235,
          171,
          110,
          221,
          128,
          226,
          208,
          191,
          205,
          173,
          191,
          128,
          220,
          126,
          232,
          108,
          159,
          211,
          232,
          182,
          145,
          224,
          209,
          160,
          219,
          170,
          161,
          122,
          141,
          204,
          226,
          187,
          129,
          199,
          199,
          214,
          159,
          176,
          129,
          187,
          109,
          212,
          170,
          191,
          116,
          202,
          226,
          166,
          151,
          170,
          166,
          193,
          218,
          109,
          152,
          220,
          133,
          152,
          142,
          131,
          204,
          153,
          114,
          144,
          172,
          176,
          150,
          129,
          190,
          226,
          128,
          106,
          107,
          159,
          157,
          192,
          110,
          115,
          183,
          233,
          112,
          146,
          222,
          216,
          134,
          174,
          114,
          211,
          167,
          214,
          145,
          120,
          217,
          113,
          141,
          140,
          171,
          163,
          232,
          131,
          184,
          225,
          223,
          121,
          223,
          105,
          197,
          160,
          218,
          131,
          211,
          194,
          169,
          189,
          128,
          228,
          169,
          108,
          219,
          124,
          224,
          214,
          190,
          205,
          167,
          190,
          128,
          217,
          126,
          228,
          105,
          162,
          211,
          227,
          178,
          146,
          227,
          208,
          163,
          225,
          167,
          162,
          125,
          144,
          199,
          226,
          183,
          136,
          199,
          204,
          215,
          155,
          179,
          133,
          186,
          111,
          219,
          173,
          185,
          118,
          199,
          226,
          169,
          144,
          166,
          166,
          198,
          222,
          110,
          154,
          226,
          135,
          151,
          146,
          133,
          205,
          154,
          116,
          145,
          174,
          168,
          156,
          124,
          196,
          227,
          122,
          106,
          110,
          158,
          154,
          190,
          110,
          120,
          180,
          232,
          110,
          142,
          222,
          218,
          138,
          176,
          115,
          211,
          168,
          216,
          147,
          124,
          215,
          117,
          139,
          138,
          171,
          158,
          232,
          139,
          178,
          224,
          224,
          116,
          223,
          109,
          193,
          155,
          221,
          130,
          212,
          190,
          169,
          191,
          122,
          234,
          175,
          108,
          220,
          126,
          227,
          216,
          188,
          205,
          172,
          192,
          129,
          219,
          127,
          228,
          105,
          159,
          205,
          228,
          178,
          139,
          232,
          212,
          162,
          226,
          171,
          159,
          120,
          143,
          200,
          221,
          184,
          134,
          200,
          201,
          210,
          159,
          178,
          137,
          190,
          110,
          213,
          170,
          193,
          113,
          196,
          222,
          174,
          143,
          169,
          165,
          194,
          217,
          113,
          150,
          223,
          133,
          149,
          149,
          130,
          207,
          157,
          115,
          147,
          176
         ],
         "xaxis": "x",
         "y": [
          102,
          115,
          115,
          140,
          130,
          198,
          114,
          145,
          191,
          186,
          104,
          188,
          96,
          156,
          125,
          178,
          109,
          168,
          152,
          133,
          153,
          107,
          199,
          140,
          95,
          183,
          108,
          190,
          174,
          149,
          169,
          138,
          151,
          109,
          178,
          106,
          195,
          96,
          129,
          166,
          197,
          148,
          117,
          193,
          170,
          130,
          183,
          134,
          128,
          105,
          115,
          166,
          183,
          149,
          110,
          164,
          157,
          170,
          124,
          145,
          113,
          150,
          100,
          139,
          150,
          101,
          157,
          187,
          137,
          121,
          132,
          130,
          156,
          180,
          100,
          122,
          185,
          113,
          123,
          119,
          113,
          168,
          126,
          102,
          116,
          144,
          140,
          124,
          108,
          154,
          185,
          106,
          97,
          96,
          129,
          124,
          149,
          97,
          102,
          146,
          100,
          118,
          179,
          179,
          113,
          142,
          101,
          174,
          131,
          179,
          122,
          105,
          176,
          103,
          120,
          118,
          143,
          134,
          203,
          116,
          150,
          192,
          187,
          107,
          192,
          97,
          157,
          128,
          183,
          112,
          173,
          156,
          137,
          156,
          112,
          203,
          141,
          97,
          186,
          113,
          195,
          175,
          154,
          173,
          152,
          114,
          181,
          111,
          200,
          100,
          134,
          167,
          198,
          151,
          121,
          196,
          171,
          135,
          186,
          138,
          133,
          107,
          120,
          168,
          184,
          154,
          115,
          168,
          161,
          171,
          129,
          150,
          118,
          154,
          103,
          180,
          141,
          152,
          104,
          159,
          191,
          142,
          123,
          135,
          132,
          158,
          181,
          105,
          126,
          186,
          116,
          124,
          115,
          173,
          128,
          103,
          120,
          146,
          145,
          125,
          109,
          156,
          187,
          110,
          100,
          97,
          133,
          128,
          154,
          100,
          104,
          203,
          104,
          119,
          181,
          180,
          116,
          144,
          102,
          176,
          135,
          184,
          124,
          110,
          180,
          103,
          117,
          120,
          145,
          133,
          201,
          117,
          146,
          195,
          188,
          108,
          191,
          100,
          158,
          127,
          181,
          113,
          171,
          153,
          137,
          154,
          112,
          201,
          141,
          100,
          185,
          111,
          191,
          176,
          150,
          171,
          140,
          153,
          111,
          180,
          107,
          197,
          101,
          132,
          168,
          200,
          150,
          119,
          197,
          172,
          134,
          185,
          135,
          132,
          109,
          116,
          170,
          187,
          154,
          111,
          169,
          161,
          174,
          125,
          148,
          117,
          154,
          104,
          183,
          142,
          155,
          105,
          160,
          191,
          140,
          123,
          136,
          132,
          158,
          182,
          104,
          126,
          188,
          118,
          127,
          123,
          118,
          169,
          128,
          106,
          119,
          147,
          141,
          125,
          109,
          158,
          190,
          110,
          99,
          98,
          134,
          129,
          154,
          100,
          107,
          149,
          203,
          101,
          119,
          182,
          181,
          115,
          145,
          102,
          176,
          134,
          183,
          123,
          108,
          177,
          104,
          117,
          117,
          145,
          134,
          199,
          115,
          149,
          192,
          188,
          107,
          190,
          98,
          158,
          128,
          180,
          110,
          172,
          157,
          137,
          158,
          110,
          203,
          145,
          96,
          186,
          110,
          194,
          177,
          152,
          172,
          140,
          154,
          113,
          179,
          111,
          196,
          101,
          131,
          171,
          199,
          151,
          121,
          196,
          174,
          135,
          184,
          137,
          129,
          108,
          116,
          168,
          184,
          151,
          114,
          167,
          160,
          175,
          127,
          146,
          118,
          151,
          105,
          180,
          140,
          155,
          106,
          160,
          192,
          138,
          122,
          135,
          132,
          158,
          184,
          101,
          126,
          188,
          118,
          127,
          123,
          117,
          172,
          127,
          104,
          121,
          148,
          141,
          128,
          113,
          155,
          189,
          108,
          98,
          100,
          134,
          125,
          151,
          100,
          107,
          147,
          200,
          101,
          120,
          181,
          182,
          117,
          145,
          106,
          179,
          134,
          180,
          126,
          110,
          180,
          103,
          116,
          119,
          144,
          133,
          199,
          115,
          150,
          192,
          188,
          109,
          189,
          101,
          159,
          128,
          182,
          111,
          171,
          154,
          134,
          157,
          112,
          203,
          142,
          97,
          187,
          111,
          194,
          176,
          153,
          171,
          142,
          153,
          113,
          183,
          108,
          200,
          99,
          131,
          171,
          200,
          152,
          119,
          196,
          173,
          132,
          185,
          138,
          132,
          110,
          119,
          167,
          188,
          151,
          112,
          166,
          158,
          172,
          127,
          150,
          115,
          151,
          103,
          181,
          141,
          152,
          105,
          162,
          190,
          141,
          122,
          136,
          131,
          157,
          181,
          103,
          127,
          189,
          114,
          125,
          123,
          116,
          172,
          129,
          107,
          117,
          148
         ],
         "yaxis": "y"
        }
       ],
       "layout": {
        "coloraxis": {
         "colorbar": {
          "title": {
           "text": "color"
          }
         },
         "colorscale": [
          [
           0,
           "#0d0887"
          ],
          [
           0.1111111111111111,
           "#46039f"
          ],
          [
           0.2222222222222222,
           "#7201a8"
          ],
          [
           0.3333333333333333,
           "#9c179e"
          ],
          [
           0.4444444444444444,
           "#bd3786"
          ],
          [
           0.5555555555555556,
           "#d8576b"
          ],
          [
           0.6666666666666666,
           "#ed7953"
          ],
          [
           0.7777777777777778,
           "#fb9f3a"
          ],
          [
           0.8888888888888888,
           "#fdca26"
          ],
          [
           1,
           "#f0f921"
          ]
         ]
        },
        "legend": {
         "tracegroupgap": 0
        },
        "margin": {
         "t": 60
        },
        "template": {
         "data": {
          "bar": [
           {
            "error_x": {
             "color": "#2a3f5f"
            },
            "error_y": {
             "color": "#2a3f5f"
            },
            "marker": {
             "line": {
              "color": "#E5ECF6",
              "width": 0.5
             },
             "pattern": {
              "fillmode": "overlay",
              "size": 10,
              "solidity": 0.2
             }
            },
            "type": "bar"
           }
          ],
          "barpolar": [
           {
            "marker": {
             "line": {
              "color": "#E5ECF6",
              "width": 0.5
             },
             "pattern": {
              "fillmode": "overlay",
              "size": 10,
              "solidity": 0.2
             }
            },
            "type": "barpolar"
           }
          ],
          "carpet": [
           {
            "aaxis": {
             "endlinecolor": "#2a3f5f",
             "gridcolor": "white",
             "linecolor": "white",
             "minorgridcolor": "white",
             "startlinecolor": "#2a3f5f"
            },
            "baxis": {
             "endlinecolor": "#2a3f5f",
             "gridcolor": "white",
             "linecolor": "white",
             "minorgridcolor": "white",
             "startlinecolor": "#2a3f5f"
            },
            "type": "carpet"
           }
          ],
          "choropleth": [
           {
            "colorbar": {
             "outlinewidth": 0,
             "ticks": ""
            },
            "type": "choropleth"
           }
          ],
          "contour": [
           {
            "colorbar": {
             "outlinewidth": 0,
             "ticks": ""
            },
            "colorscale": [
             [
              0,
              "#0d0887"
             ],
             [
              0.1111111111111111,
              "#46039f"
             ],
             [
              0.2222222222222222,
              "#7201a8"
             ],
             [
              0.3333333333333333,
              "#9c179e"
             ],
             [
              0.4444444444444444,
              "#bd3786"
             ],
             [
              0.5555555555555556,
              "#d8576b"
             ],
             [
              0.6666666666666666,
              "#ed7953"
             ],
             [
              0.7777777777777778,
              "#fb9f3a"
             ],
             [
              0.8888888888888888,
              "#fdca26"
             ],
             [
              1,
              "#f0f921"
             ]
            ],
            "type": "contour"
           }
          ],
          "contourcarpet": [
           {
            "colorbar": {
             "outlinewidth": 0,
             "ticks": ""
            },
            "type": "contourcarpet"
           }
          ],
          "heatmap": [
           {
            "colorbar": {
             "outlinewidth": 0,
             "ticks": ""
            },
            "colorscale": [
             [
              0,
              "#0d0887"
             ],
             [
              0.1111111111111111,
              "#46039f"
             ],
             [
              0.2222222222222222,
              "#7201a8"
             ],
             [
              0.3333333333333333,
              "#9c179e"
             ],
             [
              0.4444444444444444,
              "#bd3786"
             ],
             [
              0.5555555555555556,
              "#d8576b"
             ],
             [
              0.6666666666666666,
              "#ed7953"
             ],
             [
              0.7777777777777778,
              "#fb9f3a"
             ],
             [
              0.8888888888888888,
              "#fdca26"
             ],
             [
              1,
              "#f0f921"
             ]
            ],
            "type": "heatmap"
           }
          ],
          "heatmapgl": [
           {
            "colorbar": {
             "outlinewidth": 0,
             "ticks": ""
            },
            "colorscale": [
             [
              0,
              "#0d0887"
             ],
             [
              0.1111111111111111,
              "#46039f"
             ],
             [
              0.2222222222222222,
              "#7201a8"
             ],
             [
              0.3333333333333333,
              "#9c179e"
             ],
             [
              0.4444444444444444,
              "#bd3786"
             ],
             [
              0.5555555555555556,
              "#d8576b"
             ],
             [
              0.6666666666666666,
              "#ed7953"
             ],
             [
              0.7777777777777778,
              "#fb9f3a"
             ],
             [
              0.8888888888888888,
              "#fdca26"
             ],
             [
              1,
              "#f0f921"
             ]
            ],
            "type": "heatmapgl"
           }
          ],
          "histogram": [
           {
            "marker": {
             "pattern": {
              "fillmode": "overlay",
              "size": 10,
              "solidity": 0.2
             }
            },
            "type": "histogram"
           }
          ],
          "histogram2d": [
           {
            "colorbar": {
             "outlinewidth": 0,
             "ticks": ""
            },
            "colorscale": [
             [
              0,
              "#0d0887"
             ],
             [
              0.1111111111111111,
              "#46039f"
             ],
             [
              0.2222222222222222,
              "#7201a8"
             ],
             [
              0.3333333333333333,
              "#9c179e"
             ],
             [
              0.4444444444444444,
              "#bd3786"
             ],
             [
              0.5555555555555556,
              "#d8576b"
             ],
             [
              0.6666666666666666,
              "#ed7953"
             ],
             [
              0.7777777777777778,
              "#fb9f3a"
             ],
             [
              0.8888888888888888,
              "#fdca26"
             ],
             [
              1,
              "#f0f921"
             ]
            ],
            "type": "histogram2d"
           }
          ],
          "histogram2dcontour": [
           {
            "colorbar": {
             "outlinewidth": 0,
             "ticks": ""
            },
            "colorscale": [
             [
              0,
              "#0d0887"
             ],
             [
              0.1111111111111111,
              "#46039f"
             ],
             [
              0.2222222222222222,
              "#7201a8"
             ],
             [
              0.3333333333333333,
              "#9c179e"
             ],
             [
              0.4444444444444444,
              "#bd3786"
             ],
             [
              0.5555555555555556,
              "#d8576b"
             ],
             [
              0.6666666666666666,
              "#ed7953"
             ],
             [
              0.7777777777777778,
              "#fb9f3a"
             ],
             [
              0.8888888888888888,
              "#fdca26"
             ],
             [
              1,
              "#f0f921"
             ]
            ],
            "type": "histogram2dcontour"
           }
          ],
          "mesh3d": [
           {
            "colorbar": {
             "outlinewidth": 0,
             "ticks": ""
            },
            "type": "mesh3d"
           }
          ],
          "parcoords": [
           {
            "line": {
             "colorbar": {
              "outlinewidth": 0,
              "ticks": ""
             }
            },
            "type": "parcoords"
           }
          ],
          "pie": [
           {
            "automargin": true,
            "type": "pie"
           }
          ],
          "scatter": [
           {
            "fillpattern": {
             "fillmode": "overlay",
             "size": 10,
             "solidity": 0.2
            },
            "type": "scatter"
           }
          ],
          "scatter3d": [
           {
            "line": {
             "colorbar": {
              "outlinewidth": 0,
              "ticks": ""
             }
            },
            "marker": {
             "colorbar": {
              "outlinewidth": 0,
              "ticks": ""
             }
            },
            "type": "scatter3d"
           }
          ],
          "scattercarpet": [
           {
            "marker": {
             "colorbar": {
              "outlinewidth": 0,
              "ticks": ""
             }
            },
            "type": "scattercarpet"
           }
          ],
          "scattergeo": [
           {
            "marker": {
             "colorbar": {
              "outlinewidth": 0,
              "ticks": ""
             }
            },
            "type": "scattergeo"
           }
          ],
          "scattergl": [
           {
            "marker": {
             "colorbar": {
              "outlinewidth": 0,
              "ticks": ""
             }
            },
            "type": "scattergl"
           }
          ],
          "scattermapbox": [
           {
            "marker": {
             "colorbar": {
              "outlinewidth": 0,
              "ticks": ""
             }
            },
            "type": "scattermapbox"
           }
          ],
          "scatterpolar": [
           {
            "marker": {
             "colorbar": {
              "outlinewidth": 0,
              "ticks": ""
             }
            },
            "type": "scatterpolar"
           }
          ],
          "scatterpolargl": [
           {
            "marker": {
             "colorbar": {
              "outlinewidth": 0,
              "ticks": ""
             }
            },
            "type": "scatterpolargl"
           }
          ],
          "scatterternary": [
           {
            "marker": {
             "colorbar": {
              "outlinewidth": 0,
              "ticks": ""
             }
            },
            "type": "scatterternary"
           }
          ],
          "surface": [
           {
            "colorbar": {
             "outlinewidth": 0,
             "ticks": ""
            },
            "colorscale": [
             [
              0,
              "#0d0887"
             ],
             [
              0.1111111111111111,
              "#46039f"
             ],
             [
              0.2222222222222222,
              "#7201a8"
             ],
             [
              0.3333333333333333,
              "#9c179e"
             ],
             [
              0.4444444444444444,
              "#bd3786"
             ],
             [
              0.5555555555555556,
              "#d8576b"
             ],
             [
              0.6666666666666666,
              "#ed7953"
             ],
             [
              0.7777777777777778,
              "#fb9f3a"
             ],
             [
              0.8888888888888888,
              "#fdca26"
             ],
             [
              1,
              "#f0f921"
             ]
            ],
            "type": "surface"
           }
          ],
          "table": [
           {
            "cells": {
             "fill": {
              "color": "#EBF0F8"
             },
             "line": {
              "color": "white"
             }
            },
            "header": {
             "fill": {
              "color": "#C8D4E3"
             },
             "line": {
              "color": "white"
             }
            },
            "type": "table"
           }
          ]
         },
         "layout": {
          "annotationdefaults": {
           "arrowcolor": "#2a3f5f",
           "arrowhead": 0,
           "arrowwidth": 1
          },
          "autotypenumbers": "strict",
          "coloraxis": {
           "colorbar": {
            "outlinewidth": 0,
            "ticks": ""
           }
          },
          "colorscale": {
           "diverging": [
            [
             0,
             "#8e0152"
            ],
            [
             0.1,
             "#c51b7d"
            ],
            [
             0.2,
             "#de77ae"
            ],
            [
             0.3,
             "#f1b6da"
            ],
            [
             0.4,
             "#fde0ef"
            ],
            [
             0.5,
             "#f7f7f7"
            ],
            [
             0.6,
             "#e6f5d0"
            ],
            [
             0.7,
             "#b8e186"
            ],
            [
             0.8,
             "#7fbc41"
            ],
            [
             0.9,
             "#4d9221"
            ],
            [
             1,
             "#276419"
            ]
           ],
           "sequential": [
            [
             0,
             "#0d0887"
            ],
            [
             0.1111111111111111,
             "#46039f"
            ],
            [
             0.2222222222222222,
             "#7201a8"
            ],
            [
             0.3333333333333333,
             "#9c179e"
            ],
            [
             0.4444444444444444,
             "#bd3786"
            ],
            [
             0.5555555555555556,
             "#d8576b"
            ],
            [
             0.6666666666666666,
             "#ed7953"
            ],
            [
             0.7777777777777778,
             "#fb9f3a"
            ],
            [
             0.8888888888888888,
             "#fdca26"
            ],
            [
             1,
             "#f0f921"
            ]
           ],
           "sequentialminus": [
            [
             0,
             "#0d0887"
            ],
            [
             0.1111111111111111,
             "#46039f"
            ],
            [
             0.2222222222222222,
             "#7201a8"
            ],
            [
             0.3333333333333333,
             "#9c179e"
            ],
            [
             0.4444444444444444,
             "#bd3786"
            ],
            [
             0.5555555555555556,
             "#d8576b"
            ],
            [
             0.6666666666666666,
             "#ed7953"
            ],
            [
             0.7777777777777778,
             "#fb9f3a"
            ],
            [
             0.8888888888888888,
             "#fdca26"
            ],
            [
             1,
             "#f0f921"
            ]
           ]
          },
          "colorway": [
           "#636efa",
           "#EF553B",
           "#00cc96",
           "#ab63fa",
           "#FFA15A",
           "#19d3f3",
           "#FF6692",
           "#B6E880",
           "#FF97FF",
           "#FECB52"
          ],
          "font": {
           "color": "#2a3f5f"
          },
          "geo": {
           "bgcolor": "white",
           "lakecolor": "white",
           "landcolor": "#E5ECF6",
           "showlakes": true,
           "showland": true,
           "subunitcolor": "white"
          },
          "hoverlabel": {
           "align": "left"
          },
          "hovermode": "closest",
          "mapbox": {
           "style": "light"
          },
          "paper_bgcolor": "white",
          "plot_bgcolor": "#E5ECF6",
          "polar": {
           "angularaxis": {
            "gridcolor": "white",
            "linecolor": "white",
            "ticks": ""
           },
           "bgcolor": "#E5ECF6",
           "radialaxis": {
            "gridcolor": "white",
            "linecolor": "white",
            "ticks": ""
           }
          },
          "scene": {
           "xaxis": {
            "backgroundcolor": "#E5ECF6",
            "gridcolor": "white",
            "gridwidth": 2,
            "linecolor": "white",
            "showbackground": true,
            "ticks": "",
            "zerolinecolor": "white"
           },
           "yaxis": {
            "backgroundcolor": "#E5ECF6",
            "gridcolor": "white",
            "gridwidth": 2,
            "linecolor": "white",
            "showbackground": true,
            "ticks": "",
            "zerolinecolor": "white"
           },
           "zaxis": {
            "backgroundcolor": "#E5ECF6",
            "gridcolor": "white",
            "gridwidth": 2,
            "linecolor": "white",
            "showbackground": true,
            "ticks": "",
            "zerolinecolor": "white"
           }
          },
          "shapedefaults": {
           "line": {
            "color": "#2a3f5f"
           }
          },
          "ternary": {
           "aaxis": {
            "gridcolor": "white",
            "linecolor": "white",
            "ticks": ""
           },
           "baxis": {
            "gridcolor": "white",
            "linecolor": "white",
            "ticks": ""
           },
           "bgcolor": "#E5ECF6",
           "caxis": {
            "gridcolor": "white",
            "linecolor": "white",
            "ticks": ""
           }
          },
          "title": {
           "x": 0.05
          },
          "xaxis": {
           "automargin": true,
           "gridcolor": "white",
           "linecolor": "white",
           "ticks": "",
           "title": {
            "standoff": 15
           },
           "zerolinecolor": "white",
           "zerolinewidth": 2
          },
          "yaxis": {
           "automargin": true,
           "gridcolor": "white",
           "linecolor": "white",
           "ticks": "",
           "title": {
            "standoff": 15
           },
           "zerolinecolor": "white",
           "zerolinewidth": 2
          }
         }
        },
        "title": {
         "text": "Análise de Clusters"
        },
        "xaxis": {
         "anchor": "y",
         "domain": [
          0,
          1
         ],
         "title": {
          "text": "Colesterol"
         }
        },
        "yaxis": {
         "anchor": "x",
         "domain": [
          0,
          1
         ],
         "title": {
          "text": "peso"
         }
        }
       }
      }
     },
     "metadata": {},
     "output_type": "display_data"
    }
   ],
   "source": [
    "grafico = px.scatter(x = base_completa['colesterol'], \n",
    "                     y = base_completa['peso'], \n",
    "                     color= base_completa['cluster'])\n",
    "fig = go.Figure(grafico)\n",
    "\n",
    "fig.update_layout(title='Análise de Clusters',\n",
    "                  xaxis_title= 'Colesterol',\n",
    "                  yaxis_title= 'peso',                  \n",
    "                  ) \n",
    "\n",
    "\n",
    "fig.show()"
   ]
  },
  {
   "cell_type": "markdown",
   "metadata": {
    "id": "67YpMMt7H_AM"
   },
   "source": [
    "# Criando Função para Gerar gráficos"
   ]
  },
  {
   "cell_type": "code",
   "execution_count": 375,
   "metadata": {
    "executionInfo": {
     "elapsed": 7,
     "status": "ok",
     "timestamp": 1628820279650,
     "user": {
      "displayName": "Prof. Leandro Lessa",
      "photoUrl": "https://lh3.googleusercontent.com/a-/AOh14GjOFTHd5R6mZqpiAveor8rupG9YPM_LbwR5AmNPtg=s64",
      "userId": "09430483952296203154"
     },
     "user_tz": 180
    },
    "id": "BmRLDR_U0sZn"
   },
   "outputs": [],
   "source": [
    "def plotar_grafico(x,y, xlabel, y_label):\n",
    "  grafico = px.scatter(x = x, \n",
    "                      y = y, \n",
    "                      color= base_completa['cluster'])\n",
    "  \n",
    "  fig = go.Figure(grafico)\n",
    "\n",
    "  fig.update_layout(title='Análise de Clusters',\n",
    "                    xaxis_title= xlabel,\n",
    "                    yaxis_title= y_label,                  \n",
    "                    ) \n",
    "\n",
    "  fig.show()"
   ]
  },
  {
   "cell_type": "code",
   "execution_count": 376,
   "metadata": {
    "colab": {
     "base_uri": "https://localhost:8080/",
     "height": 542
    },
    "executionInfo": {
     "elapsed": 502,
     "status": "ok",
     "timestamp": 1628820280146,
     "user": {
      "displayName": "Prof. Leandro Lessa",
      "photoUrl": "https://lh3.googleusercontent.com/a-/AOh14GjOFTHd5R6mZqpiAveor8rupG9YPM_LbwR5AmNPtg=s64",
      "userId": "09430483952296203154"
     },
     "user_tz": 180
    },
    "id": "YODUmCeF0sdw",
    "outputId": "cc69db50-c7a9-4910-e852-fb37adc81aa8"
   },
   "outputs": [
    {
     "data": {
      "application/vnd.plotly.v1+json": {
       "config": {
        "plotlyServerURL": "https://plot.ly"
       },
       "data": [
        {
         "hovertemplate": "x=%{x}<br>y=%{y}<br>color=%{marker.color}<extra></extra>",
         "legendgroup": "",
         "marker": {
          "color": [
           0,
           0,
           0,
           2,
           2,
           1,
           0,
           2,
           1,
           1,
           0,
           1,
           0,
           2,
           2,
           1,
           0,
           1,
           2,
           2,
           2,
           0,
           1,
           2,
           0,
           1,
           0,
           1,
           1,
           2,
           1,
           2,
           2,
           0,
           1,
           0,
           1,
           0,
           2,
           1,
           1,
           2,
           0,
           1,
           1,
           2,
           1,
           2,
           2,
           0,
           0,
           1,
           1,
           2,
           0,
           1,
           2,
           1,
           2,
           2,
           0,
           2,
           0,
           2,
           2,
           0,
           2,
           1,
           2,
           0,
           2,
           2,
           2,
           1,
           0,
           0,
           1,
           0,
           0,
           0,
           0,
           1,
           2,
           0,
           0,
           2,
           2,
           0,
           0,
           2,
           1,
           0,
           0,
           0,
           2,
           0,
           2,
           0,
           0,
           2,
           0,
           0,
           1,
           1,
           0,
           2,
           0,
           1,
           2,
           1,
           0,
           0,
           1,
           0,
           0,
           0,
           2,
           2,
           1,
           0,
           2,
           1,
           1,
           0,
           1,
           0,
           2,
           2,
           1,
           0,
           1,
           2,
           2,
           2,
           0,
           1,
           2,
           0,
           1,
           0,
           1,
           1,
           2,
           1,
           2,
           0,
           1,
           0,
           1,
           0,
           2,
           1,
           1,
           2,
           0,
           1,
           1,
           2,
           1,
           2,
           2,
           0,
           0,
           1,
           1,
           2,
           0,
           1,
           1,
           1,
           2,
           2,
           0,
           2,
           0,
           1,
           2,
           2,
           0,
           1,
           1,
           2,
           0,
           2,
           2,
           2,
           1,
           0,
           0,
           1,
           0,
           2,
           0,
           1,
           2,
           0,
           0,
           2,
           2,
           0,
           0,
           2,
           1,
           0,
           0,
           0,
           2,
           2,
           2,
           0,
           0,
           1,
           0,
           0,
           1,
           1,
           0,
           2,
           0,
           1,
           2,
           1,
           0,
           0,
           1,
           0,
           0,
           0,
           2,
           2,
           1,
           0,
           2,
           1,
           1,
           0,
           1,
           0,
           2,
           2,
           1,
           0,
           1,
           2,
           2,
           2,
           0,
           1,
           2,
           0,
           1,
           0,
           1,
           1,
           2,
           1,
           2,
           2,
           0,
           1,
           0,
           1,
           0,
           2,
           1,
           1,
           2,
           0,
           1,
           1,
           2,
           1,
           2,
           2,
           0,
           0,
           1,
           1,
           2,
           0,
           1,
           1,
           1,
           2,
           2,
           0,
           2,
           0,
           1,
           2,
           2,
           0,
           1,
           1,
           2,
           0,
           2,
           2,
           2,
           1,
           0,
           2,
           1,
           0,
           2,
           0,
           0,
           1,
           2,
           0,
           0,
           2,
           2,
           0,
           0,
           2,
           1,
           0,
           0,
           0,
           2,
           2,
           2,
           0,
           0,
           2,
           1,
           0,
           0,
           1,
           1,
           0,
           2,
           0,
           1,
           2,
           1,
           0,
           0,
           1,
           0,
           0,
           0,
           2,
           2,
           1,
           0,
           2,
           1,
           1,
           0,
           1,
           0,
           2,
           2,
           1,
           0,
           1,
           2,
           2,
           2,
           0,
           1,
           2,
           0,
           1,
           0,
           1,
           1,
           2,
           1,
           2,
           2,
           0,
           1,
           0,
           1,
           0,
           2,
           1,
           1,
           2,
           0,
           1,
           1,
           2,
           1,
           2,
           2,
           0,
           0,
           1,
           1,
           2,
           0,
           1,
           1,
           1,
           2,
           2,
           0,
           2,
           0,
           1,
           2,
           2,
           0,
           1,
           1,
           2,
           0,
           2,
           2,
           2,
           1,
           0,
           2,
           1,
           0,
           2,
           0,
           0,
           1,
           2,
           0,
           0,
           2,
           2,
           2,
           0,
           2,
           1,
           0,
           0,
           0,
           2,
           2,
           2,
           0,
           0,
           2,
           1,
           0,
           0,
           1,
           1,
           0,
           2,
           0,
           1,
           2,
           1,
           0,
           0,
           1,
           0,
           0,
           0,
           2,
           2,
           1,
           0,
           2,
           1,
           1,
           0,
           1,
           0,
           2,
           2,
           1,
           0,
           1,
           2,
           2,
           2,
           0,
           1,
           2,
           0,
           1,
           0,
           1,
           1,
           2,
           1,
           2,
           2,
           0,
           1,
           0,
           1,
           0,
           2,
           1,
           1,
           2,
           0,
           1,
           1,
           2,
           1,
           2,
           2,
           0,
           0,
           1,
           1,
           2,
           0,
           1,
           1,
           1,
           2,
           2,
           0,
           2,
           0,
           1,
           2,
           2,
           0,
           1,
           1,
           2,
           0,
           2,
           2,
           2,
           1,
           0,
           2,
           1,
           0,
           0,
           0,
           0,
           1,
           2,
           0,
           0,
           2
          ],
          "coloraxis": "coloraxis",
          "symbol": "circle"
         },
         "mode": "markers",
         "name": "",
         "orientation": "v",
         "showlegend": false,
         "type": "scatter",
         "x": [
          111,
          135,
          136,
          167,
          158,
          227,
          131,
          176,
          223,
          221,
          116,
          222,
          102,
          192,
          152,
          213,
          125,
          204,
          189,
          163,
          189,
          122,
          228,
          168,
          102,
          218,
          123,
          222,
          208,
          183,
          204,
          167,
          188,
          126,
          213,
          122,
          225,
          105,
          155,
          203,
          225,
          177,
          139,
          224,
          207,
          158,
          218,
          164,
          154,
          118,
          138,
          199,
          219,
          183,
          128,
          197,
          196,
          208,
          152,
          175,
          129,
          185,
          107,
          167,
          185,
          110,
          194,
          221,
          166,
          143,
          163,
          158,
          191,
          216,
          106,
          146,
          220,
          131,
          147,
          141,
          130,
          204,
          152,
          111,
          139,
          172,
          168,
          148,
          123,
          189,
          220,
          120,
          106,
          105,
          157,
          149,
          185,
          106,
          115,
          177,
          108,
          140,
          214,
          216,
          130,
          169,
          110,
          209,
          162,
          214,
          145,
          116,
          209,
          116,
          139,
          143,
          168,
          158,
          232,
          136,
          180,
          228,
          222,
          117,
          224,
          104,
          195,
          156,
          213,
          133,
          208,
          195,
          163,
          195,
          124,
          231,
          172,
          104,
          221,
          128,
          222,
          214,
          184,
          204,
          195,
          132,
          214,
          123,
          233,
          107,
          162,
          204,
          227,
          185,
          142,
          225,
          212,
          161,
          220,
          168,
          155,
          125,
          144,
          201,
          222,
          189,
          132,
          204,
          201,
          211,
          156,
          179,
          129,
          185,
          107,
          213,
          172,
          193,
          114,
          202,
          222,
          168,
          146,
          170,
          165,
          196,
          224,
          108,
          149,
          224,
          136,
          152,
          135,
          211,
          156,
          115,
          143,
          179,
          173,
          148,
          127,
          194,
          225,
          127,
          106,
          112,
          164,
          151,
          191,
          110,
          116,
          235,
          108,
          141,
          219,
          219,
          138,
          169,
          116,
          212,
          162,
          220,
          151,
          119,
          212,
          111,
          142,
          138,
          172,
          158,
          228,
          134,
          181,
          231,
          223,
          121,
          222,
          102,
          195,
          156,
          214,
          132,
          204,
          190,
          167,
          195,
          127,
          235,
          171,
          110,
          221,
          128,
          226,
          208,
          191,
          205,
          173,
          191,
          128,
          220,
          126,
          232,
          108,
          159,
          211,
          232,
          182,
          145,
          224,
          209,
          160,
          219,
          170,
          161,
          122,
          141,
          204,
          226,
          187,
          129,
          199,
          199,
          214,
          159,
          176,
          129,
          187,
          109,
          212,
          170,
          191,
          116,
          202,
          226,
          166,
          151,
          170,
          166,
          193,
          218,
          109,
          152,
          220,
          133,
          152,
          142,
          131,
          204,
          153,
          114,
          144,
          172,
          176,
          150,
          129,
          190,
          226,
          128,
          106,
          107,
          159,
          157,
          192,
          110,
          115,
          183,
          233,
          112,
          146,
          222,
          216,
          134,
          174,
          114,
          211,
          167,
          214,
          145,
          120,
          217,
          113,
          141,
          140,
          171,
          163,
          232,
          131,
          184,
          225,
          223,
          121,
          223,
          105,
          197,
          160,
          218,
          131,
          211,
          194,
          169,
          189,
          128,
          228,
          169,
          108,
          219,
          124,
          224,
          214,
          190,
          205,
          167,
          190,
          128,
          217,
          126,
          228,
          105,
          162,
          211,
          227,
          178,
          146,
          227,
          208,
          163,
          225,
          167,
          162,
          125,
          144,
          199,
          226,
          183,
          136,
          199,
          204,
          215,
          155,
          179,
          133,
          186,
          111,
          219,
          173,
          185,
          118,
          199,
          226,
          169,
          144,
          166,
          166,
          198,
          222,
          110,
          154,
          226,
          135,
          151,
          146,
          133,
          205,
          154,
          116,
          145,
          174,
          168,
          156,
          124,
          196,
          227,
          122,
          106,
          110,
          158,
          154,
          190,
          110,
          120,
          180,
          232,
          110,
          142,
          222,
          218,
          138,
          176,
          115,
          211,
          168,
          216,
          147,
          124,
          215,
          117,
          139,
          138,
          171,
          158,
          232,
          139,
          178,
          224,
          224,
          116,
          223,
          109,
          193,
          155,
          221,
          130,
          212,
          190,
          169,
          191,
          122,
          234,
          175,
          108,
          220,
          126,
          227,
          216,
          188,
          205,
          172,
          192,
          129,
          219,
          127,
          228,
          105,
          159,
          205,
          228,
          178,
          139,
          232,
          212,
          162,
          226,
          171,
          159,
          120,
          143,
          200,
          221,
          184,
          134,
          200,
          201,
          210,
          159,
          178,
          137,
          190,
          110,
          213,
          170,
          193,
          113,
          196,
          222,
          174,
          143,
          169,
          165,
          194,
          217,
          113,
          150,
          223,
          133,
          149,
          149,
          130,
          207,
          157,
          115,
          147,
          176
         ],
         "xaxis": "x",
         "y": [
          102,
          115,
          115,
          140,
          130,
          198,
          114,
          145,
          191,
          186,
          104,
          188,
          96,
          156,
          125,
          178,
          109,
          168,
          152,
          133,
          153,
          107,
          199,
          140,
          95,
          183,
          108,
          190,
          174,
          149,
          169,
          138,
          151,
          109,
          178,
          106,
          195,
          96,
          129,
          166,
          197,
          148,
          117,
          193,
          170,
          130,
          183,
          134,
          128,
          105,
          115,
          166,
          183,
          149,
          110,
          164,
          157,
          170,
          124,
          145,
          113,
          150,
          100,
          139,
          150,
          101,
          157,
          187,
          137,
          121,
          132,
          130,
          156,
          180,
          100,
          122,
          185,
          113,
          123,
          119,
          113,
          168,
          126,
          102,
          116,
          144,
          140,
          124,
          108,
          154,
          185,
          106,
          97,
          96,
          129,
          124,
          149,
          97,
          102,
          146,
          100,
          118,
          179,
          179,
          113,
          142,
          101,
          174,
          131,
          179,
          122,
          105,
          176,
          103,
          120,
          118,
          143,
          134,
          203,
          116,
          150,
          192,
          187,
          107,
          192,
          97,
          157,
          128,
          183,
          112,
          173,
          156,
          137,
          156,
          112,
          203,
          141,
          97,
          186,
          113,
          195,
          175,
          154,
          173,
          152,
          114,
          181,
          111,
          200,
          100,
          134,
          167,
          198,
          151,
          121,
          196,
          171,
          135,
          186,
          138,
          133,
          107,
          120,
          168,
          184,
          154,
          115,
          168,
          161,
          171,
          129,
          150,
          118,
          154,
          103,
          180,
          141,
          152,
          104,
          159,
          191,
          142,
          123,
          135,
          132,
          158,
          181,
          105,
          126,
          186,
          116,
          124,
          115,
          173,
          128,
          103,
          120,
          146,
          145,
          125,
          109,
          156,
          187,
          110,
          100,
          97,
          133,
          128,
          154,
          100,
          104,
          203,
          104,
          119,
          181,
          180,
          116,
          144,
          102,
          176,
          135,
          184,
          124,
          110,
          180,
          103,
          117,
          120,
          145,
          133,
          201,
          117,
          146,
          195,
          188,
          108,
          191,
          100,
          158,
          127,
          181,
          113,
          171,
          153,
          137,
          154,
          112,
          201,
          141,
          100,
          185,
          111,
          191,
          176,
          150,
          171,
          140,
          153,
          111,
          180,
          107,
          197,
          101,
          132,
          168,
          200,
          150,
          119,
          197,
          172,
          134,
          185,
          135,
          132,
          109,
          116,
          170,
          187,
          154,
          111,
          169,
          161,
          174,
          125,
          148,
          117,
          154,
          104,
          183,
          142,
          155,
          105,
          160,
          191,
          140,
          123,
          136,
          132,
          158,
          182,
          104,
          126,
          188,
          118,
          127,
          123,
          118,
          169,
          128,
          106,
          119,
          147,
          141,
          125,
          109,
          158,
          190,
          110,
          99,
          98,
          134,
          129,
          154,
          100,
          107,
          149,
          203,
          101,
          119,
          182,
          181,
          115,
          145,
          102,
          176,
          134,
          183,
          123,
          108,
          177,
          104,
          117,
          117,
          145,
          134,
          199,
          115,
          149,
          192,
          188,
          107,
          190,
          98,
          158,
          128,
          180,
          110,
          172,
          157,
          137,
          158,
          110,
          203,
          145,
          96,
          186,
          110,
          194,
          177,
          152,
          172,
          140,
          154,
          113,
          179,
          111,
          196,
          101,
          131,
          171,
          199,
          151,
          121,
          196,
          174,
          135,
          184,
          137,
          129,
          108,
          116,
          168,
          184,
          151,
          114,
          167,
          160,
          175,
          127,
          146,
          118,
          151,
          105,
          180,
          140,
          155,
          106,
          160,
          192,
          138,
          122,
          135,
          132,
          158,
          184,
          101,
          126,
          188,
          118,
          127,
          123,
          117,
          172,
          127,
          104,
          121,
          148,
          141,
          128,
          113,
          155,
          189,
          108,
          98,
          100,
          134,
          125,
          151,
          100,
          107,
          147,
          200,
          101,
          120,
          181,
          182,
          117,
          145,
          106,
          179,
          134,
          180,
          126,
          110,
          180,
          103,
          116,
          119,
          144,
          133,
          199,
          115,
          150,
          192,
          188,
          109,
          189,
          101,
          159,
          128,
          182,
          111,
          171,
          154,
          134,
          157,
          112,
          203,
          142,
          97,
          187,
          111,
          194,
          176,
          153,
          171,
          142,
          153,
          113,
          183,
          108,
          200,
          99,
          131,
          171,
          200,
          152,
          119,
          196,
          173,
          132,
          185,
          138,
          132,
          110,
          119,
          167,
          188,
          151,
          112,
          166,
          158,
          172,
          127,
          150,
          115,
          151,
          103,
          181,
          141,
          152,
          105,
          162,
          190,
          141,
          122,
          136,
          131,
          157,
          181,
          103,
          127,
          189,
          114,
          125,
          123,
          116,
          172,
          129,
          107,
          117,
          148
         ],
         "yaxis": "y"
        }
       ],
       "layout": {
        "coloraxis": {
         "colorbar": {
          "title": {
           "text": "color"
          }
         },
         "colorscale": [
          [
           0,
           "#0d0887"
          ],
          [
           0.1111111111111111,
           "#46039f"
          ],
          [
           0.2222222222222222,
           "#7201a8"
          ],
          [
           0.3333333333333333,
           "#9c179e"
          ],
          [
           0.4444444444444444,
           "#bd3786"
          ],
          [
           0.5555555555555556,
           "#d8576b"
          ],
          [
           0.6666666666666666,
           "#ed7953"
          ],
          [
           0.7777777777777778,
           "#fb9f3a"
          ],
          [
           0.8888888888888888,
           "#fdca26"
          ],
          [
           1,
           "#f0f921"
          ]
         ]
        },
        "legend": {
         "tracegroupgap": 0
        },
        "margin": {
         "t": 60
        },
        "template": {
         "data": {
          "bar": [
           {
            "error_x": {
             "color": "#2a3f5f"
            },
            "error_y": {
             "color": "#2a3f5f"
            },
            "marker": {
             "line": {
              "color": "#E5ECF6",
              "width": 0.5
             },
             "pattern": {
              "fillmode": "overlay",
              "size": 10,
              "solidity": 0.2
             }
            },
            "type": "bar"
           }
          ],
          "barpolar": [
           {
            "marker": {
             "line": {
              "color": "#E5ECF6",
              "width": 0.5
             },
             "pattern": {
              "fillmode": "overlay",
              "size": 10,
              "solidity": 0.2
             }
            },
            "type": "barpolar"
           }
          ],
          "carpet": [
           {
            "aaxis": {
             "endlinecolor": "#2a3f5f",
             "gridcolor": "white",
             "linecolor": "white",
             "minorgridcolor": "white",
             "startlinecolor": "#2a3f5f"
            },
            "baxis": {
             "endlinecolor": "#2a3f5f",
             "gridcolor": "white",
             "linecolor": "white",
             "minorgridcolor": "white",
             "startlinecolor": "#2a3f5f"
            },
            "type": "carpet"
           }
          ],
          "choropleth": [
           {
            "colorbar": {
             "outlinewidth": 0,
             "ticks": ""
            },
            "type": "choropleth"
           }
          ],
          "contour": [
           {
            "colorbar": {
             "outlinewidth": 0,
             "ticks": ""
            },
            "colorscale": [
             [
              0,
              "#0d0887"
             ],
             [
              0.1111111111111111,
              "#46039f"
             ],
             [
              0.2222222222222222,
              "#7201a8"
             ],
             [
              0.3333333333333333,
              "#9c179e"
             ],
             [
              0.4444444444444444,
              "#bd3786"
             ],
             [
              0.5555555555555556,
              "#d8576b"
             ],
             [
              0.6666666666666666,
              "#ed7953"
             ],
             [
              0.7777777777777778,
              "#fb9f3a"
             ],
             [
              0.8888888888888888,
              "#fdca26"
             ],
             [
              1,
              "#f0f921"
             ]
            ],
            "type": "contour"
           }
          ],
          "contourcarpet": [
           {
            "colorbar": {
             "outlinewidth": 0,
             "ticks": ""
            },
            "type": "contourcarpet"
           }
          ],
          "heatmap": [
           {
            "colorbar": {
             "outlinewidth": 0,
             "ticks": ""
            },
            "colorscale": [
             [
              0,
              "#0d0887"
             ],
             [
              0.1111111111111111,
              "#46039f"
             ],
             [
              0.2222222222222222,
              "#7201a8"
             ],
             [
              0.3333333333333333,
              "#9c179e"
             ],
             [
              0.4444444444444444,
              "#bd3786"
             ],
             [
              0.5555555555555556,
              "#d8576b"
             ],
             [
              0.6666666666666666,
              "#ed7953"
             ],
             [
              0.7777777777777778,
              "#fb9f3a"
             ],
             [
              0.8888888888888888,
              "#fdca26"
             ],
             [
              1,
              "#f0f921"
             ]
            ],
            "type": "heatmap"
           }
          ],
          "heatmapgl": [
           {
            "colorbar": {
             "outlinewidth": 0,
             "ticks": ""
            },
            "colorscale": [
             [
              0,
              "#0d0887"
             ],
             [
              0.1111111111111111,
              "#46039f"
             ],
             [
              0.2222222222222222,
              "#7201a8"
             ],
             [
              0.3333333333333333,
              "#9c179e"
             ],
             [
              0.4444444444444444,
              "#bd3786"
             ],
             [
              0.5555555555555556,
              "#d8576b"
             ],
             [
              0.6666666666666666,
              "#ed7953"
             ],
             [
              0.7777777777777778,
              "#fb9f3a"
             ],
             [
              0.8888888888888888,
              "#fdca26"
             ],
             [
              1,
              "#f0f921"
             ]
            ],
            "type": "heatmapgl"
           }
          ],
          "histogram": [
           {
            "marker": {
             "pattern": {
              "fillmode": "overlay",
              "size": 10,
              "solidity": 0.2
             }
            },
            "type": "histogram"
           }
          ],
          "histogram2d": [
           {
            "colorbar": {
             "outlinewidth": 0,
             "ticks": ""
            },
            "colorscale": [
             [
              0,
              "#0d0887"
             ],
             [
              0.1111111111111111,
              "#46039f"
             ],
             [
              0.2222222222222222,
              "#7201a8"
             ],
             [
              0.3333333333333333,
              "#9c179e"
             ],
             [
              0.4444444444444444,
              "#bd3786"
             ],
             [
              0.5555555555555556,
              "#d8576b"
             ],
             [
              0.6666666666666666,
              "#ed7953"
             ],
             [
              0.7777777777777778,
              "#fb9f3a"
             ],
             [
              0.8888888888888888,
              "#fdca26"
             ],
             [
              1,
              "#f0f921"
             ]
            ],
            "type": "histogram2d"
           }
          ],
          "histogram2dcontour": [
           {
            "colorbar": {
             "outlinewidth": 0,
             "ticks": ""
            },
            "colorscale": [
             [
              0,
              "#0d0887"
             ],
             [
              0.1111111111111111,
              "#46039f"
             ],
             [
              0.2222222222222222,
              "#7201a8"
             ],
             [
              0.3333333333333333,
              "#9c179e"
             ],
             [
              0.4444444444444444,
              "#bd3786"
             ],
             [
              0.5555555555555556,
              "#d8576b"
             ],
             [
              0.6666666666666666,
              "#ed7953"
             ],
             [
              0.7777777777777778,
              "#fb9f3a"
             ],
             [
              0.8888888888888888,
              "#fdca26"
             ],
             [
              1,
              "#f0f921"
             ]
            ],
            "type": "histogram2dcontour"
           }
          ],
          "mesh3d": [
           {
            "colorbar": {
             "outlinewidth": 0,
             "ticks": ""
            },
            "type": "mesh3d"
           }
          ],
          "parcoords": [
           {
            "line": {
             "colorbar": {
              "outlinewidth": 0,
              "ticks": ""
             }
            },
            "type": "parcoords"
           }
          ],
          "pie": [
           {
            "automargin": true,
            "type": "pie"
           }
          ],
          "scatter": [
           {
            "fillpattern": {
             "fillmode": "overlay",
             "size": 10,
             "solidity": 0.2
            },
            "type": "scatter"
           }
          ],
          "scatter3d": [
           {
            "line": {
             "colorbar": {
              "outlinewidth": 0,
              "ticks": ""
             }
            },
            "marker": {
             "colorbar": {
              "outlinewidth": 0,
              "ticks": ""
             }
            },
            "type": "scatter3d"
           }
          ],
          "scattercarpet": [
           {
            "marker": {
             "colorbar": {
              "outlinewidth": 0,
              "ticks": ""
             }
            },
            "type": "scattercarpet"
           }
          ],
          "scattergeo": [
           {
            "marker": {
             "colorbar": {
              "outlinewidth": 0,
              "ticks": ""
             }
            },
            "type": "scattergeo"
           }
          ],
          "scattergl": [
           {
            "marker": {
             "colorbar": {
              "outlinewidth": 0,
              "ticks": ""
             }
            },
            "type": "scattergl"
           }
          ],
          "scattermapbox": [
           {
            "marker": {
             "colorbar": {
              "outlinewidth": 0,
              "ticks": ""
             }
            },
            "type": "scattermapbox"
           }
          ],
          "scatterpolar": [
           {
            "marker": {
             "colorbar": {
              "outlinewidth": 0,
              "ticks": ""
             }
            },
            "type": "scatterpolar"
           }
          ],
          "scatterpolargl": [
           {
            "marker": {
             "colorbar": {
              "outlinewidth": 0,
              "ticks": ""
             }
            },
            "type": "scatterpolargl"
           }
          ],
          "scatterternary": [
           {
            "marker": {
             "colorbar": {
              "outlinewidth": 0,
              "ticks": ""
             }
            },
            "type": "scatterternary"
           }
          ],
          "surface": [
           {
            "colorbar": {
             "outlinewidth": 0,
             "ticks": ""
            },
            "colorscale": [
             [
              0,
              "#0d0887"
             ],
             [
              0.1111111111111111,
              "#46039f"
             ],
             [
              0.2222222222222222,
              "#7201a8"
             ],
             [
              0.3333333333333333,
              "#9c179e"
             ],
             [
              0.4444444444444444,
              "#bd3786"
             ],
             [
              0.5555555555555556,
              "#d8576b"
             ],
             [
              0.6666666666666666,
              "#ed7953"
             ],
             [
              0.7777777777777778,
              "#fb9f3a"
             ],
             [
              0.8888888888888888,
              "#fdca26"
             ],
             [
              1,
              "#f0f921"
             ]
            ],
            "type": "surface"
           }
          ],
          "table": [
           {
            "cells": {
             "fill": {
              "color": "#EBF0F8"
             },
             "line": {
              "color": "white"
             }
            },
            "header": {
             "fill": {
              "color": "#C8D4E3"
             },
             "line": {
              "color": "white"
             }
            },
            "type": "table"
           }
          ]
         },
         "layout": {
          "annotationdefaults": {
           "arrowcolor": "#2a3f5f",
           "arrowhead": 0,
           "arrowwidth": 1
          },
          "autotypenumbers": "strict",
          "coloraxis": {
           "colorbar": {
            "outlinewidth": 0,
            "ticks": ""
           }
          },
          "colorscale": {
           "diverging": [
            [
             0,
             "#8e0152"
            ],
            [
             0.1,
             "#c51b7d"
            ],
            [
             0.2,
             "#de77ae"
            ],
            [
             0.3,
             "#f1b6da"
            ],
            [
             0.4,
             "#fde0ef"
            ],
            [
             0.5,
             "#f7f7f7"
            ],
            [
             0.6,
             "#e6f5d0"
            ],
            [
             0.7,
             "#b8e186"
            ],
            [
             0.8,
             "#7fbc41"
            ],
            [
             0.9,
             "#4d9221"
            ],
            [
             1,
             "#276419"
            ]
           ],
           "sequential": [
            [
             0,
             "#0d0887"
            ],
            [
             0.1111111111111111,
             "#46039f"
            ],
            [
             0.2222222222222222,
             "#7201a8"
            ],
            [
             0.3333333333333333,
             "#9c179e"
            ],
            [
             0.4444444444444444,
             "#bd3786"
            ],
            [
             0.5555555555555556,
             "#d8576b"
            ],
            [
             0.6666666666666666,
             "#ed7953"
            ],
            [
             0.7777777777777778,
             "#fb9f3a"
            ],
            [
             0.8888888888888888,
             "#fdca26"
            ],
            [
             1,
             "#f0f921"
            ]
           ],
           "sequentialminus": [
            [
             0,
             "#0d0887"
            ],
            [
             0.1111111111111111,
             "#46039f"
            ],
            [
             0.2222222222222222,
             "#7201a8"
            ],
            [
             0.3333333333333333,
             "#9c179e"
            ],
            [
             0.4444444444444444,
             "#bd3786"
            ],
            [
             0.5555555555555556,
             "#d8576b"
            ],
            [
             0.6666666666666666,
             "#ed7953"
            ],
            [
             0.7777777777777778,
             "#fb9f3a"
            ],
            [
             0.8888888888888888,
             "#fdca26"
            ],
            [
             1,
             "#f0f921"
            ]
           ]
          },
          "colorway": [
           "#636efa",
           "#EF553B",
           "#00cc96",
           "#ab63fa",
           "#FFA15A",
           "#19d3f3",
           "#FF6692",
           "#B6E880",
           "#FF97FF",
           "#FECB52"
          ],
          "font": {
           "color": "#2a3f5f"
          },
          "geo": {
           "bgcolor": "white",
           "lakecolor": "white",
           "landcolor": "#E5ECF6",
           "showlakes": true,
           "showland": true,
           "subunitcolor": "white"
          },
          "hoverlabel": {
           "align": "left"
          },
          "hovermode": "closest",
          "mapbox": {
           "style": "light"
          },
          "paper_bgcolor": "white",
          "plot_bgcolor": "#E5ECF6",
          "polar": {
           "angularaxis": {
            "gridcolor": "white",
            "linecolor": "white",
            "ticks": ""
           },
           "bgcolor": "#E5ECF6",
           "radialaxis": {
            "gridcolor": "white",
            "linecolor": "white",
            "ticks": ""
           }
          },
          "scene": {
           "xaxis": {
            "backgroundcolor": "#E5ECF6",
            "gridcolor": "white",
            "gridwidth": 2,
            "linecolor": "white",
            "showbackground": true,
            "ticks": "",
            "zerolinecolor": "white"
           },
           "yaxis": {
            "backgroundcolor": "#E5ECF6",
            "gridcolor": "white",
            "gridwidth": 2,
            "linecolor": "white",
            "showbackground": true,
            "ticks": "",
            "zerolinecolor": "white"
           },
           "zaxis": {
            "backgroundcolor": "#E5ECF6",
            "gridcolor": "white",
            "gridwidth": 2,
            "linecolor": "white",
            "showbackground": true,
            "ticks": "",
            "zerolinecolor": "white"
           }
          },
          "shapedefaults": {
           "line": {
            "color": "#2a3f5f"
           }
          },
          "ternary": {
           "aaxis": {
            "gridcolor": "white",
            "linecolor": "white",
            "ticks": ""
           },
           "baxis": {
            "gridcolor": "white",
            "linecolor": "white",
            "ticks": ""
           },
           "bgcolor": "#E5ECF6",
           "caxis": {
            "gridcolor": "white",
            "linecolor": "white",
            "ticks": ""
           }
          },
          "title": {
           "x": 0.05
          },
          "xaxis": {
           "automargin": true,
           "gridcolor": "white",
           "linecolor": "white",
           "ticks": "",
           "title": {
            "standoff": 15
           },
           "zerolinecolor": "white",
           "zerolinewidth": 2
          },
          "yaxis": {
           "automargin": true,
           "gridcolor": "white",
           "linecolor": "white",
           "ticks": "",
           "title": {
            "standoff": 15
           },
           "zerolinecolor": "white",
           "zerolinewidth": 2
          }
         }
        },
        "title": {
         "text": "Análise de Clusters"
        },
        "xaxis": {
         "anchor": "y",
         "domain": [
          0,
          1
         ],
         "title": {
          "text": "colesterol"
         }
        },
        "yaxis": {
         "anchor": "x",
         "domain": [
          0,
          1
         ],
         "title": {
          "text": "peso"
         }
        }
       }
      }
     },
     "metadata": {},
     "output_type": "display_data"
    }
   ],
   "source": [
    "plotar_grafico(base_completa['colesterol'], base_completa['peso'], 'colesterol', 'peso')"
   ]
  },
  {
   "cell_type": "code",
   "execution_count": 377,
   "metadata": {
    "colab": {
     "base_uri": "https://localhost:8080/",
     "height": 542
    },
    "executionInfo": {
     "elapsed": 299,
     "status": "ok",
     "timestamp": 1628820280435,
     "user": {
      "displayName": "Prof. Leandro Lessa",
      "photoUrl": "https://lh3.googleusercontent.com/a-/AOh14GjOFTHd5R6mZqpiAveor8rupG9YPM_LbwR5AmNPtg=s64",
      "userId": "09430483952296203154"
     },
     "user_tz": 180
    },
    "id": "SNRcOGGx0sf-",
    "outputId": "2cc3fced-dac6-4ee9-e9c1-052442b1447a"
   },
   "outputs": [
    {
     "data": {
      "application/vnd.plotly.v1+json": {
       "config": {
        "plotlyServerURL": "https://plot.ly"
       },
       "data": [
        {
         "hovertemplate": "x=%{x}<br>y=%{y}<br>color=%{marker.color}<extra></extra>",
         "legendgroup": "",
         "marker": {
          "color": [
           0,
           0,
           0,
           2,
           2,
           1,
           0,
           2,
           1,
           1,
           0,
           1,
           0,
           2,
           2,
           1,
           0,
           1,
           2,
           2,
           2,
           0,
           1,
           2,
           0,
           1,
           0,
           1,
           1,
           2,
           1,
           2,
           2,
           0,
           1,
           0,
           1,
           0,
           2,
           1,
           1,
           2,
           0,
           1,
           1,
           2,
           1,
           2,
           2,
           0,
           0,
           1,
           1,
           2,
           0,
           1,
           2,
           1,
           2,
           2,
           0,
           2,
           0,
           2,
           2,
           0,
           2,
           1,
           2,
           0,
           2,
           2,
           2,
           1,
           0,
           0,
           1,
           0,
           0,
           0,
           0,
           1,
           2,
           0,
           0,
           2,
           2,
           0,
           0,
           2,
           1,
           0,
           0,
           0,
           2,
           0,
           2,
           0,
           0,
           2,
           0,
           0,
           1,
           1,
           0,
           2,
           0,
           1,
           2,
           1,
           0,
           0,
           1,
           0,
           0,
           0,
           2,
           2,
           1,
           0,
           2,
           1,
           1,
           0,
           1,
           0,
           2,
           2,
           1,
           0,
           1,
           2,
           2,
           2,
           0,
           1,
           2,
           0,
           1,
           0,
           1,
           1,
           2,
           1,
           2,
           0,
           1,
           0,
           1,
           0,
           2,
           1,
           1,
           2,
           0,
           1,
           1,
           2,
           1,
           2,
           2,
           0,
           0,
           1,
           1,
           2,
           0,
           1,
           1,
           1,
           2,
           2,
           0,
           2,
           0,
           1,
           2,
           2,
           0,
           1,
           1,
           2,
           0,
           2,
           2,
           2,
           1,
           0,
           0,
           1,
           0,
           2,
           0,
           1,
           2,
           0,
           0,
           2,
           2,
           0,
           0,
           2,
           1,
           0,
           0,
           0,
           2,
           2,
           2,
           0,
           0,
           1,
           0,
           0,
           1,
           1,
           0,
           2,
           0,
           1,
           2,
           1,
           0,
           0,
           1,
           0,
           0,
           0,
           2,
           2,
           1,
           0,
           2,
           1,
           1,
           0,
           1,
           0,
           2,
           2,
           1,
           0,
           1,
           2,
           2,
           2,
           0,
           1,
           2,
           0,
           1,
           0,
           1,
           1,
           2,
           1,
           2,
           2,
           0,
           1,
           0,
           1,
           0,
           2,
           1,
           1,
           2,
           0,
           1,
           1,
           2,
           1,
           2,
           2,
           0,
           0,
           1,
           1,
           2,
           0,
           1,
           1,
           1,
           2,
           2,
           0,
           2,
           0,
           1,
           2,
           2,
           0,
           1,
           1,
           2,
           0,
           2,
           2,
           2,
           1,
           0,
           2,
           1,
           0,
           2,
           0,
           0,
           1,
           2,
           0,
           0,
           2,
           2,
           0,
           0,
           2,
           1,
           0,
           0,
           0,
           2,
           2,
           2,
           0,
           0,
           2,
           1,
           0,
           0,
           1,
           1,
           0,
           2,
           0,
           1,
           2,
           1,
           0,
           0,
           1,
           0,
           0,
           0,
           2,
           2,
           1,
           0,
           2,
           1,
           1,
           0,
           1,
           0,
           2,
           2,
           1,
           0,
           1,
           2,
           2,
           2,
           0,
           1,
           2,
           0,
           1,
           0,
           1,
           1,
           2,
           1,
           2,
           2,
           0,
           1,
           0,
           1,
           0,
           2,
           1,
           1,
           2,
           0,
           1,
           1,
           2,
           1,
           2,
           2,
           0,
           0,
           1,
           1,
           2,
           0,
           1,
           1,
           1,
           2,
           2,
           0,
           2,
           0,
           1,
           2,
           2,
           0,
           1,
           1,
           2,
           0,
           2,
           2,
           2,
           1,
           0,
           2,
           1,
           0,
           2,
           0,
           0,
           1,
           2,
           0,
           0,
           2,
           2,
           2,
           0,
           2,
           1,
           0,
           0,
           0,
           2,
           2,
           2,
           0,
           0,
           2,
           1,
           0,
           0,
           1,
           1,
           0,
           2,
           0,
           1,
           2,
           1,
           0,
           0,
           1,
           0,
           0,
           0,
           2,
           2,
           1,
           0,
           2,
           1,
           1,
           0,
           1,
           0,
           2,
           2,
           1,
           0,
           1,
           2,
           2,
           2,
           0,
           1,
           2,
           0,
           1,
           0,
           1,
           1,
           2,
           1,
           2,
           2,
           0,
           1,
           0,
           1,
           0,
           2,
           1,
           1,
           2,
           0,
           1,
           1,
           2,
           1,
           2,
           2,
           0,
           0,
           1,
           1,
           2,
           0,
           1,
           1,
           1,
           2,
           2,
           0,
           2,
           0,
           1,
           2,
           2,
           0,
           1,
           1,
           2,
           0,
           2,
           2,
           2,
           1,
           0,
           2,
           1,
           0,
           0,
           0,
           0,
           1,
           2,
           0,
           0,
           2
          ],
          "coloraxis": "coloraxis",
          "symbol": "circle"
         },
         "mode": "markers",
         "name": "",
         "orientation": "v",
         "showlegend": false,
         "type": "scatter",
         "x": [
          102,
          115,
          115,
          140,
          130,
          198,
          114,
          145,
          191,
          186,
          104,
          188,
          96,
          156,
          125,
          178,
          109,
          168,
          152,
          133,
          153,
          107,
          199,
          140,
          95,
          183,
          108,
          190,
          174,
          149,
          169,
          138,
          151,
          109,
          178,
          106,
          195,
          96,
          129,
          166,
          197,
          148,
          117,
          193,
          170,
          130,
          183,
          134,
          128,
          105,
          115,
          166,
          183,
          149,
          110,
          164,
          157,
          170,
          124,
          145,
          113,
          150,
          100,
          139,
          150,
          101,
          157,
          187,
          137,
          121,
          132,
          130,
          156,
          180,
          100,
          122,
          185,
          113,
          123,
          119,
          113,
          168,
          126,
          102,
          116,
          144,
          140,
          124,
          108,
          154,
          185,
          106,
          97,
          96,
          129,
          124,
          149,
          97,
          102,
          146,
          100,
          118,
          179,
          179,
          113,
          142,
          101,
          174,
          131,
          179,
          122,
          105,
          176,
          103,
          120,
          118,
          143,
          134,
          203,
          116,
          150,
          192,
          187,
          107,
          192,
          97,
          157,
          128,
          183,
          112,
          173,
          156,
          137,
          156,
          112,
          203,
          141,
          97,
          186,
          113,
          195,
          175,
          154,
          173,
          152,
          114,
          181,
          111,
          200,
          100,
          134,
          167,
          198,
          151,
          121,
          196,
          171,
          135,
          186,
          138,
          133,
          107,
          120,
          168,
          184,
          154,
          115,
          168,
          161,
          171,
          129,
          150,
          118,
          154,
          103,
          180,
          141,
          152,
          104,
          159,
          191,
          142,
          123,
          135,
          132,
          158,
          181,
          105,
          126,
          186,
          116,
          124,
          115,
          173,
          128,
          103,
          120,
          146,
          145,
          125,
          109,
          156,
          187,
          110,
          100,
          97,
          133,
          128,
          154,
          100,
          104,
          203,
          104,
          119,
          181,
          180,
          116,
          144,
          102,
          176,
          135,
          184,
          124,
          110,
          180,
          103,
          117,
          120,
          145,
          133,
          201,
          117,
          146,
          195,
          188,
          108,
          191,
          100,
          158,
          127,
          181,
          113,
          171,
          153,
          137,
          154,
          112,
          201,
          141,
          100,
          185,
          111,
          191,
          176,
          150,
          171,
          140,
          153,
          111,
          180,
          107,
          197,
          101,
          132,
          168,
          200,
          150,
          119,
          197,
          172,
          134,
          185,
          135,
          132,
          109,
          116,
          170,
          187,
          154,
          111,
          169,
          161,
          174,
          125,
          148,
          117,
          154,
          104,
          183,
          142,
          155,
          105,
          160,
          191,
          140,
          123,
          136,
          132,
          158,
          182,
          104,
          126,
          188,
          118,
          127,
          123,
          118,
          169,
          128,
          106,
          119,
          147,
          141,
          125,
          109,
          158,
          190,
          110,
          99,
          98,
          134,
          129,
          154,
          100,
          107,
          149,
          203,
          101,
          119,
          182,
          181,
          115,
          145,
          102,
          176,
          134,
          183,
          123,
          108,
          177,
          104,
          117,
          117,
          145,
          134,
          199,
          115,
          149,
          192,
          188,
          107,
          190,
          98,
          158,
          128,
          180,
          110,
          172,
          157,
          137,
          158,
          110,
          203,
          145,
          96,
          186,
          110,
          194,
          177,
          152,
          172,
          140,
          154,
          113,
          179,
          111,
          196,
          101,
          131,
          171,
          199,
          151,
          121,
          196,
          174,
          135,
          184,
          137,
          129,
          108,
          116,
          168,
          184,
          151,
          114,
          167,
          160,
          175,
          127,
          146,
          118,
          151,
          105,
          180,
          140,
          155,
          106,
          160,
          192,
          138,
          122,
          135,
          132,
          158,
          184,
          101,
          126,
          188,
          118,
          127,
          123,
          117,
          172,
          127,
          104,
          121,
          148,
          141,
          128,
          113,
          155,
          189,
          108,
          98,
          100,
          134,
          125,
          151,
          100,
          107,
          147,
          200,
          101,
          120,
          181,
          182,
          117,
          145,
          106,
          179,
          134,
          180,
          126,
          110,
          180,
          103,
          116,
          119,
          144,
          133,
          199,
          115,
          150,
          192,
          188,
          109,
          189,
          101,
          159,
          128,
          182,
          111,
          171,
          154,
          134,
          157,
          112,
          203,
          142,
          97,
          187,
          111,
          194,
          176,
          153,
          171,
          142,
          153,
          113,
          183,
          108,
          200,
          99,
          131,
          171,
          200,
          152,
          119,
          196,
          173,
          132,
          185,
          138,
          132,
          110,
          119,
          167,
          188,
          151,
          112,
          166,
          158,
          172,
          127,
          150,
          115,
          151,
          103,
          181,
          141,
          152,
          105,
          162,
          190,
          141,
          122,
          136,
          131,
          157,
          181,
          103,
          127,
          189,
          114,
          125,
          123,
          116,
          172,
          129,
          107,
          117,
          148
         ],
         "xaxis": "x",
         "y": [
          111,
          135,
          136,
          167,
          158,
          227,
          131,
          176,
          223,
          221,
          116,
          222,
          102,
          192,
          152,
          213,
          125,
          204,
          189,
          163,
          189,
          122,
          228,
          168,
          102,
          218,
          123,
          222,
          208,
          183,
          204,
          167,
          188,
          126,
          213,
          122,
          225,
          105,
          155,
          203,
          225,
          177,
          139,
          224,
          207,
          158,
          218,
          164,
          154,
          118,
          138,
          199,
          219,
          183,
          128,
          197,
          196,
          208,
          152,
          175,
          129,
          185,
          107,
          167,
          185,
          110,
          194,
          221,
          166,
          143,
          163,
          158,
          191,
          216,
          106,
          146,
          220,
          131,
          147,
          141,
          130,
          204,
          152,
          111,
          139,
          172,
          168,
          148,
          123,
          189,
          220,
          120,
          106,
          105,
          157,
          149,
          185,
          106,
          115,
          177,
          108,
          140,
          214,
          216,
          130,
          169,
          110,
          209,
          162,
          214,
          145,
          116,
          209,
          116,
          139,
          143,
          168,
          158,
          232,
          136,
          180,
          228,
          222,
          117,
          224,
          104,
          195,
          156,
          213,
          133,
          208,
          195,
          163,
          195,
          124,
          231,
          172,
          104,
          221,
          128,
          222,
          214,
          184,
          204,
          195,
          132,
          214,
          123,
          233,
          107,
          162,
          204,
          227,
          185,
          142,
          225,
          212,
          161,
          220,
          168,
          155,
          125,
          144,
          201,
          222,
          189,
          132,
          204,
          201,
          211,
          156,
          179,
          129,
          185,
          107,
          213,
          172,
          193,
          114,
          202,
          222,
          168,
          146,
          170,
          165,
          196,
          224,
          108,
          149,
          224,
          136,
          152,
          135,
          211,
          156,
          115,
          143,
          179,
          173,
          148,
          127,
          194,
          225,
          127,
          106,
          112,
          164,
          151,
          191,
          110,
          116,
          235,
          108,
          141,
          219,
          219,
          138,
          169,
          116,
          212,
          162,
          220,
          151,
          119,
          212,
          111,
          142,
          138,
          172,
          158,
          228,
          134,
          181,
          231,
          223,
          121,
          222,
          102,
          195,
          156,
          214,
          132,
          204,
          190,
          167,
          195,
          127,
          235,
          171,
          110,
          221,
          128,
          226,
          208,
          191,
          205,
          173,
          191,
          128,
          220,
          126,
          232,
          108,
          159,
          211,
          232,
          182,
          145,
          224,
          209,
          160,
          219,
          170,
          161,
          122,
          141,
          204,
          226,
          187,
          129,
          199,
          199,
          214,
          159,
          176,
          129,
          187,
          109,
          212,
          170,
          191,
          116,
          202,
          226,
          166,
          151,
          170,
          166,
          193,
          218,
          109,
          152,
          220,
          133,
          152,
          142,
          131,
          204,
          153,
          114,
          144,
          172,
          176,
          150,
          129,
          190,
          226,
          128,
          106,
          107,
          159,
          157,
          192,
          110,
          115,
          183,
          233,
          112,
          146,
          222,
          216,
          134,
          174,
          114,
          211,
          167,
          214,
          145,
          120,
          217,
          113,
          141,
          140,
          171,
          163,
          232,
          131,
          184,
          225,
          223,
          121,
          223,
          105,
          197,
          160,
          218,
          131,
          211,
          194,
          169,
          189,
          128,
          228,
          169,
          108,
          219,
          124,
          224,
          214,
          190,
          205,
          167,
          190,
          128,
          217,
          126,
          228,
          105,
          162,
          211,
          227,
          178,
          146,
          227,
          208,
          163,
          225,
          167,
          162,
          125,
          144,
          199,
          226,
          183,
          136,
          199,
          204,
          215,
          155,
          179,
          133,
          186,
          111,
          219,
          173,
          185,
          118,
          199,
          226,
          169,
          144,
          166,
          166,
          198,
          222,
          110,
          154,
          226,
          135,
          151,
          146,
          133,
          205,
          154,
          116,
          145,
          174,
          168,
          156,
          124,
          196,
          227,
          122,
          106,
          110,
          158,
          154,
          190,
          110,
          120,
          180,
          232,
          110,
          142,
          222,
          218,
          138,
          176,
          115,
          211,
          168,
          216,
          147,
          124,
          215,
          117,
          139,
          138,
          171,
          158,
          232,
          139,
          178,
          224,
          224,
          116,
          223,
          109,
          193,
          155,
          221,
          130,
          212,
          190,
          169,
          191,
          122,
          234,
          175,
          108,
          220,
          126,
          227,
          216,
          188,
          205,
          172,
          192,
          129,
          219,
          127,
          228,
          105,
          159,
          205,
          228,
          178,
          139,
          232,
          212,
          162,
          226,
          171,
          159,
          120,
          143,
          200,
          221,
          184,
          134,
          200,
          201,
          210,
          159,
          178,
          137,
          190,
          110,
          213,
          170,
          193,
          113,
          196,
          222,
          174,
          143,
          169,
          165,
          194,
          217,
          113,
          150,
          223,
          133,
          149,
          149,
          130,
          207,
          157,
          115,
          147,
          176
         ],
         "yaxis": "y"
        }
       ],
       "layout": {
        "coloraxis": {
         "colorbar": {
          "title": {
           "text": "color"
          }
         },
         "colorscale": [
          [
           0,
           "#0d0887"
          ],
          [
           0.1111111111111111,
           "#46039f"
          ],
          [
           0.2222222222222222,
           "#7201a8"
          ],
          [
           0.3333333333333333,
           "#9c179e"
          ],
          [
           0.4444444444444444,
           "#bd3786"
          ],
          [
           0.5555555555555556,
           "#d8576b"
          ],
          [
           0.6666666666666666,
           "#ed7953"
          ],
          [
           0.7777777777777778,
           "#fb9f3a"
          ],
          [
           0.8888888888888888,
           "#fdca26"
          ],
          [
           1,
           "#f0f921"
          ]
         ]
        },
        "legend": {
         "tracegroupgap": 0
        },
        "margin": {
         "t": 60
        },
        "template": {
         "data": {
          "bar": [
           {
            "error_x": {
             "color": "#2a3f5f"
            },
            "error_y": {
             "color": "#2a3f5f"
            },
            "marker": {
             "line": {
              "color": "#E5ECF6",
              "width": 0.5
             },
             "pattern": {
              "fillmode": "overlay",
              "size": 10,
              "solidity": 0.2
             }
            },
            "type": "bar"
           }
          ],
          "barpolar": [
           {
            "marker": {
             "line": {
              "color": "#E5ECF6",
              "width": 0.5
             },
             "pattern": {
              "fillmode": "overlay",
              "size": 10,
              "solidity": 0.2
             }
            },
            "type": "barpolar"
           }
          ],
          "carpet": [
           {
            "aaxis": {
             "endlinecolor": "#2a3f5f",
             "gridcolor": "white",
             "linecolor": "white",
             "minorgridcolor": "white",
             "startlinecolor": "#2a3f5f"
            },
            "baxis": {
             "endlinecolor": "#2a3f5f",
             "gridcolor": "white",
             "linecolor": "white",
             "minorgridcolor": "white",
             "startlinecolor": "#2a3f5f"
            },
            "type": "carpet"
           }
          ],
          "choropleth": [
           {
            "colorbar": {
             "outlinewidth": 0,
             "ticks": ""
            },
            "type": "choropleth"
           }
          ],
          "contour": [
           {
            "colorbar": {
             "outlinewidth": 0,
             "ticks": ""
            },
            "colorscale": [
             [
              0,
              "#0d0887"
             ],
             [
              0.1111111111111111,
              "#46039f"
             ],
             [
              0.2222222222222222,
              "#7201a8"
             ],
             [
              0.3333333333333333,
              "#9c179e"
             ],
             [
              0.4444444444444444,
              "#bd3786"
             ],
             [
              0.5555555555555556,
              "#d8576b"
             ],
             [
              0.6666666666666666,
              "#ed7953"
             ],
             [
              0.7777777777777778,
              "#fb9f3a"
             ],
             [
              0.8888888888888888,
              "#fdca26"
             ],
             [
              1,
              "#f0f921"
             ]
            ],
            "type": "contour"
           }
          ],
          "contourcarpet": [
           {
            "colorbar": {
             "outlinewidth": 0,
             "ticks": ""
            },
            "type": "contourcarpet"
           }
          ],
          "heatmap": [
           {
            "colorbar": {
             "outlinewidth": 0,
             "ticks": ""
            },
            "colorscale": [
             [
              0,
              "#0d0887"
             ],
             [
              0.1111111111111111,
              "#46039f"
             ],
             [
              0.2222222222222222,
              "#7201a8"
             ],
             [
              0.3333333333333333,
              "#9c179e"
             ],
             [
              0.4444444444444444,
              "#bd3786"
             ],
             [
              0.5555555555555556,
              "#d8576b"
             ],
             [
              0.6666666666666666,
              "#ed7953"
             ],
             [
              0.7777777777777778,
              "#fb9f3a"
             ],
             [
              0.8888888888888888,
              "#fdca26"
             ],
             [
              1,
              "#f0f921"
             ]
            ],
            "type": "heatmap"
           }
          ],
          "heatmapgl": [
           {
            "colorbar": {
             "outlinewidth": 0,
             "ticks": ""
            },
            "colorscale": [
             [
              0,
              "#0d0887"
             ],
             [
              0.1111111111111111,
              "#46039f"
             ],
             [
              0.2222222222222222,
              "#7201a8"
             ],
             [
              0.3333333333333333,
              "#9c179e"
             ],
             [
              0.4444444444444444,
              "#bd3786"
             ],
             [
              0.5555555555555556,
              "#d8576b"
             ],
             [
              0.6666666666666666,
              "#ed7953"
             ],
             [
              0.7777777777777778,
              "#fb9f3a"
             ],
             [
              0.8888888888888888,
              "#fdca26"
             ],
             [
              1,
              "#f0f921"
             ]
            ],
            "type": "heatmapgl"
           }
          ],
          "histogram": [
           {
            "marker": {
             "pattern": {
              "fillmode": "overlay",
              "size": 10,
              "solidity": 0.2
             }
            },
            "type": "histogram"
           }
          ],
          "histogram2d": [
           {
            "colorbar": {
             "outlinewidth": 0,
             "ticks": ""
            },
            "colorscale": [
             [
              0,
              "#0d0887"
             ],
             [
              0.1111111111111111,
              "#46039f"
             ],
             [
              0.2222222222222222,
              "#7201a8"
             ],
             [
              0.3333333333333333,
              "#9c179e"
             ],
             [
              0.4444444444444444,
              "#bd3786"
             ],
             [
              0.5555555555555556,
              "#d8576b"
             ],
             [
              0.6666666666666666,
              "#ed7953"
             ],
             [
              0.7777777777777778,
              "#fb9f3a"
             ],
             [
              0.8888888888888888,
              "#fdca26"
             ],
             [
              1,
              "#f0f921"
             ]
            ],
            "type": "histogram2d"
           }
          ],
          "histogram2dcontour": [
           {
            "colorbar": {
             "outlinewidth": 0,
             "ticks": ""
            },
            "colorscale": [
             [
              0,
              "#0d0887"
             ],
             [
              0.1111111111111111,
              "#46039f"
             ],
             [
              0.2222222222222222,
              "#7201a8"
             ],
             [
              0.3333333333333333,
              "#9c179e"
             ],
             [
              0.4444444444444444,
              "#bd3786"
             ],
             [
              0.5555555555555556,
              "#d8576b"
             ],
             [
              0.6666666666666666,
              "#ed7953"
             ],
             [
              0.7777777777777778,
              "#fb9f3a"
             ],
             [
              0.8888888888888888,
              "#fdca26"
             ],
             [
              1,
              "#f0f921"
             ]
            ],
            "type": "histogram2dcontour"
           }
          ],
          "mesh3d": [
           {
            "colorbar": {
             "outlinewidth": 0,
             "ticks": ""
            },
            "type": "mesh3d"
           }
          ],
          "parcoords": [
           {
            "line": {
             "colorbar": {
              "outlinewidth": 0,
              "ticks": ""
             }
            },
            "type": "parcoords"
           }
          ],
          "pie": [
           {
            "automargin": true,
            "type": "pie"
           }
          ],
          "scatter": [
           {
            "fillpattern": {
             "fillmode": "overlay",
             "size": 10,
             "solidity": 0.2
            },
            "type": "scatter"
           }
          ],
          "scatter3d": [
           {
            "line": {
             "colorbar": {
              "outlinewidth": 0,
              "ticks": ""
             }
            },
            "marker": {
             "colorbar": {
              "outlinewidth": 0,
              "ticks": ""
             }
            },
            "type": "scatter3d"
           }
          ],
          "scattercarpet": [
           {
            "marker": {
             "colorbar": {
              "outlinewidth": 0,
              "ticks": ""
             }
            },
            "type": "scattercarpet"
           }
          ],
          "scattergeo": [
           {
            "marker": {
             "colorbar": {
              "outlinewidth": 0,
              "ticks": ""
             }
            },
            "type": "scattergeo"
           }
          ],
          "scattergl": [
           {
            "marker": {
             "colorbar": {
              "outlinewidth": 0,
              "ticks": ""
             }
            },
            "type": "scattergl"
           }
          ],
          "scattermapbox": [
           {
            "marker": {
             "colorbar": {
              "outlinewidth": 0,
              "ticks": ""
             }
            },
            "type": "scattermapbox"
           }
          ],
          "scatterpolar": [
           {
            "marker": {
             "colorbar": {
              "outlinewidth": 0,
              "ticks": ""
             }
            },
            "type": "scatterpolar"
           }
          ],
          "scatterpolargl": [
           {
            "marker": {
             "colorbar": {
              "outlinewidth": 0,
              "ticks": ""
             }
            },
            "type": "scatterpolargl"
           }
          ],
          "scatterternary": [
           {
            "marker": {
             "colorbar": {
              "outlinewidth": 0,
              "ticks": ""
             }
            },
            "type": "scatterternary"
           }
          ],
          "surface": [
           {
            "colorbar": {
             "outlinewidth": 0,
             "ticks": ""
            },
            "colorscale": [
             [
              0,
              "#0d0887"
             ],
             [
              0.1111111111111111,
              "#46039f"
             ],
             [
              0.2222222222222222,
              "#7201a8"
             ],
             [
              0.3333333333333333,
              "#9c179e"
             ],
             [
              0.4444444444444444,
              "#bd3786"
             ],
             [
              0.5555555555555556,
              "#d8576b"
             ],
             [
              0.6666666666666666,
              "#ed7953"
             ],
             [
              0.7777777777777778,
              "#fb9f3a"
             ],
             [
              0.8888888888888888,
              "#fdca26"
             ],
             [
              1,
              "#f0f921"
             ]
            ],
            "type": "surface"
           }
          ],
          "table": [
           {
            "cells": {
             "fill": {
              "color": "#EBF0F8"
             },
             "line": {
              "color": "white"
             }
            },
            "header": {
             "fill": {
              "color": "#C8D4E3"
             },
             "line": {
              "color": "white"
             }
            },
            "type": "table"
           }
          ]
         },
         "layout": {
          "annotationdefaults": {
           "arrowcolor": "#2a3f5f",
           "arrowhead": 0,
           "arrowwidth": 1
          },
          "autotypenumbers": "strict",
          "coloraxis": {
           "colorbar": {
            "outlinewidth": 0,
            "ticks": ""
           }
          },
          "colorscale": {
           "diverging": [
            [
             0,
             "#8e0152"
            ],
            [
             0.1,
             "#c51b7d"
            ],
            [
             0.2,
             "#de77ae"
            ],
            [
             0.3,
             "#f1b6da"
            ],
            [
             0.4,
             "#fde0ef"
            ],
            [
             0.5,
             "#f7f7f7"
            ],
            [
             0.6,
             "#e6f5d0"
            ],
            [
             0.7,
             "#b8e186"
            ],
            [
             0.8,
             "#7fbc41"
            ],
            [
             0.9,
             "#4d9221"
            ],
            [
             1,
             "#276419"
            ]
           ],
           "sequential": [
            [
             0,
             "#0d0887"
            ],
            [
             0.1111111111111111,
             "#46039f"
            ],
            [
             0.2222222222222222,
             "#7201a8"
            ],
            [
             0.3333333333333333,
             "#9c179e"
            ],
            [
             0.4444444444444444,
             "#bd3786"
            ],
            [
             0.5555555555555556,
             "#d8576b"
            ],
            [
             0.6666666666666666,
             "#ed7953"
            ],
            [
             0.7777777777777778,
             "#fb9f3a"
            ],
            [
             0.8888888888888888,
             "#fdca26"
            ],
            [
             1,
             "#f0f921"
            ]
           ],
           "sequentialminus": [
            [
             0,
             "#0d0887"
            ],
            [
             0.1111111111111111,
             "#46039f"
            ],
            [
             0.2222222222222222,
             "#7201a8"
            ],
            [
             0.3333333333333333,
             "#9c179e"
            ],
            [
             0.4444444444444444,
             "#bd3786"
            ],
            [
             0.5555555555555556,
             "#d8576b"
            ],
            [
             0.6666666666666666,
             "#ed7953"
            ],
            [
             0.7777777777777778,
             "#fb9f3a"
            ],
            [
             0.8888888888888888,
             "#fdca26"
            ],
            [
             1,
             "#f0f921"
            ]
           ]
          },
          "colorway": [
           "#636efa",
           "#EF553B",
           "#00cc96",
           "#ab63fa",
           "#FFA15A",
           "#19d3f3",
           "#FF6692",
           "#B6E880",
           "#FF97FF",
           "#FECB52"
          ],
          "font": {
           "color": "#2a3f5f"
          },
          "geo": {
           "bgcolor": "white",
           "lakecolor": "white",
           "landcolor": "#E5ECF6",
           "showlakes": true,
           "showland": true,
           "subunitcolor": "white"
          },
          "hoverlabel": {
           "align": "left"
          },
          "hovermode": "closest",
          "mapbox": {
           "style": "light"
          },
          "paper_bgcolor": "white",
          "plot_bgcolor": "#E5ECF6",
          "polar": {
           "angularaxis": {
            "gridcolor": "white",
            "linecolor": "white",
            "ticks": ""
           },
           "bgcolor": "#E5ECF6",
           "radialaxis": {
            "gridcolor": "white",
            "linecolor": "white",
            "ticks": ""
           }
          },
          "scene": {
           "xaxis": {
            "backgroundcolor": "#E5ECF6",
            "gridcolor": "white",
            "gridwidth": 2,
            "linecolor": "white",
            "showbackground": true,
            "ticks": "",
            "zerolinecolor": "white"
           },
           "yaxis": {
            "backgroundcolor": "#E5ECF6",
            "gridcolor": "white",
            "gridwidth": 2,
            "linecolor": "white",
            "showbackground": true,
            "ticks": "",
            "zerolinecolor": "white"
           },
           "zaxis": {
            "backgroundcolor": "#E5ECF6",
            "gridcolor": "white",
            "gridwidth": 2,
            "linecolor": "white",
            "showbackground": true,
            "ticks": "",
            "zerolinecolor": "white"
           }
          },
          "shapedefaults": {
           "line": {
            "color": "#2a3f5f"
           }
          },
          "ternary": {
           "aaxis": {
            "gridcolor": "white",
            "linecolor": "white",
            "ticks": ""
           },
           "baxis": {
            "gridcolor": "white",
            "linecolor": "white",
            "ticks": ""
           },
           "bgcolor": "#E5ECF6",
           "caxis": {
            "gridcolor": "white",
            "linecolor": "white",
            "ticks": ""
           }
          },
          "title": {
           "x": 0.05
          },
          "xaxis": {
           "automargin": true,
           "gridcolor": "white",
           "linecolor": "white",
           "ticks": "",
           "title": {
            "standoff": 15
           },
           "zerolinecolor": "white",
           "zerolinewidth": 2
          },
          "yaxis": {
           "automargin": true,
           "gridcolor": "white",
           "linecolor": "white",
           "ticks": "",
           "title": {
            "standoff": 15
           },
           "zerolinecolor": "white",
           "zerolinewidth": 2
          }
         }
        },
        "title": {
         "text": "Análise de Clusters"
        },
        "xaxis": {
         "anchor": "y",
         "domain": [
          0,
          1
         ],
         "title": {
          "text": "peso"
         }
        },
        "yaxis": {
         "anchor": "x",
         "domain": [
          0,
          1
         ],
         "title": {
          "text": "colesterol"
         }
        }
       }
      }
     },
     "metadata": {},
     "output_type": "display_data"
    }
   ],
   "source": [
    "plotar_grafico(base_completa['peso'], base_completa['colesterol'], 'peso', 'colesterol')"
   ]
  },
  {
   "cell_type": "code",
   "execution_count": 378,
   "metadata": {
    "colab": {
     "base_uri": "https://localhost:8080/",
     "height": 542
    },
    "executionInfo": {
     "elapsed": 571,
     "status": "ok",
     "timestamp": 1628820281002,
     "user": {
      "displayName": "Prof. Leandro Lessa",
      "photoUrl": "https://lh3.googleusercontent.com/a-/AOh14GjOFTHd5R6mZqpiAveor8rupG9YPM_LbwR5AmNPtg=s64",
      "userId": "09430483952296203154"
     },
     "user_tz": 180
    },
    "id": "gS3bfQsR0sib",
    "outputId": "f6edd37d-6815-4e9a-996d-b482cb8dbedf"
   },
   "outputs": [
    {
     "data": {
      "application/vnd.plotly.v1+json": {
       "config": {
        "plotlyServerURL": "https://plot.ly"
       },
       "data": [
        {
         "hovertemplate": "x=%{x}<br>y=%{y}<br>color=%{marker.color}<extra></extra>",
         "legendgroup": "",
         "marker": {
          "color": [
           0,
           0,
           0,
           2,
           2,
           1,
           0,
           2,
           1,
           1,
           0,
           1,
           0,
           2,
           2,
           1,
           0,
           1,
           2,
           2,
           2,
           0,
           1,
           2,
           0,
           1,
           0,
           1,
           1,
           2,
           1,
           2,
           2,
           0,
           1,
           0,
           1,
           0,
           2,
           1,
           1,
           2,
           0,
           1,
           1,
           2,
           1,
           2,
           2,
           0,
           0,
           1,
           1,
           2,
           0,
           1,
           2,
           1,
           2,
           2,
           0,
           2,
           0,
           2,
           2,
           0,
           2,
           1,
           2,
           0,
           2,
           2,
           2,
           1,
           0,
           0,
           1,
           0,
           0,
           0,
           0,
           1,
           2,
           0,
           0,
           2,
           2,
           0,
           0,
           2,
           1,
           0,
           0,
           0,
           2,
           0,
           2,
           0,
           0,
           2,
           0,
           0,
           1,
           1,
           0,
           2,
           0,
           1,
           2,
           1,
           0,
           0,
           1,
           0,
           0,
           0,
           2,
           2,
           1,
           0,
           2,
           1,
           1,
           0,
           1,
           0,
           2,
           2,
           1,
           0,
           1,
           2,
           2,
           2,
           0,
           1,
           2,
           0,
           1,
           0,
           1,
           1,
           2,
           1,
           2,
           0,
           1,
           0,
           1,
           0,
           2,
           1,
           1,
           2,
           0,
           1,
           1,
           2,
           1,
           2,
           2,
           0,
           0,
           1,
           1,
           2,
           0,
           1,
           1,
           1,
           2,
           2,
           0,
           2,
           0,
           1,
           2,
           2,
           0,
           1,
           1,
           2,
           0,
           2,
           2,
           2,
           1,
           0,
           0,
           1,
           0,
           2,
           0,
           1,
           2,
           0,
           0,
           2,
           2,
           0,
           0,
           2,
           1,
           0,
           0,
           0,
           2,
           2,
           2,
           0,
           0,
           1,
           0,
           0,
           1,
           1,
           0,
           2,
           0,
           1,
           2,
           1,
           0,
           0,
           1,
           0,
           0,
           0,
           2,
           2,
           1,
           0,
           2,
           1,
           1,
           0,
           1,
           0,
           2,
           2,
           1,
           0,
           1,
           2,
           2,
           2,
           0,
           1,
           2,
           0,
           1,
           0,
           1,
           1,
           2,
           1,
           2,
           2,
           0,
           1,
           0,
           1,
           0,
           2,
           1,
           1,
           2,
           0,
           1,
           1,
           2,
           1,
           2,
           2,
           0,
           0,
           1,
           1,
           2,
           0,
           1,
           1,
           1,
           2,
           2,
           0,
           2,
           0,
           1,
           2,
           2,
           0,
           1,
           1,
           2,
           0,
           2,
           2,
           2,
           1,
           0,
           2,
           1,
           0,
           2,
           0,
           0,
           1,
           2,
           0,
           0,
           2,
           2,
           0,
           0,
           2,
           1,
           0,
           0,
           0,
           2,
           2,
           2,
           0,
           0,
           2,
           1,
           0,
           0,
           1,
           1,
           0,
           2,
           0,
           1,
           2,
           1,
           0,
           0,
           1,
           0,
           0,
           0,
           2,
           2,
           1,
           0,
           2,
           1,
           1,
           0,
           1,
           0,
           2,
           2,
           1,
           0,
           1,
           2,
           2,
           2,
           0,
           1,
           2,
           0,
           1,
           0,
           1,
           1,
           2,
           1,
           2,
           2,
           0,
           1,
           0,
           1,
           0,
           2,
           1,
           1,
           2,
           0,
           1,
           1,
           2,
           1,
           2,
           2,
           0,
           0,
           1,
           1,
           2,
           0,
           1,
           1,
           1,
           2,
           2,
           0,
           2,
           0,
           1,
           2,
           2,
           0,
           1,
           1,
           2,
           0,
           2,
           2,
           2,
           1,
           0,
           2,
           1,
           0,
           2,
           0,
           0,
           1,
           2,
           0,
           0,
           2,
           2,
           2,
           0,
           2,
           1,
           0,
           0,
           0,
           2,
           2,
           2,
           0,
           0,
           2,
           1,
           0,
           0,
           1,
           1,
           0,
           2,
           0,
           1,
           2,
           1,
           0,
           0,
           1,
           0,
           0,
           0,
           2,
           2,
           1,
           0,
           2,
           1,
           1,
           0,
           1,
           0,
           2,
           2,
           1,
           0,
           1,
           2,
           2,
           2,
           0,
           1,
           2,
           0,
           1,
           0,
           1,
           1,
           2,
           1,
           2,
           2,
           0,
           1,
           0,
           1,
           0,
           2,
           1,
           1,
           2,
           0,
           1,
           1,
           2,
           1,
           2,
           2,
           0,
           0,
           1,
           1,
           2,
           0,
           1,
           1,
           1,
           2,
           2,
           0,
           2,
           0,
           1,
           2,
           2,
           0,
           1,
           1,
           2,
           0,
           2,
           2,
           2,
           1,
           0,
           2,
           1,
           0,
           0,
           0,
           0,
           1,
           2,
           0,
           0,
           2
          ],
          "coloraxis": "coloraxis",
          "symbol": "circle"
         },
         "mode": "markers",
         "name": "",
         "orientation": "v",
         "showlegend": false,
         "type": "scatter",
         "x": [
          39,
          50,
          38,
          53,
          28,
          37,
          49,
          52,
          31,
          42,
          37,
          30,
          23,
          32,
          40,
          34,
          25,
          32,
          38,
          43,
          40,
          54,
          35,
          43,
          59,
          56,
          19,
          54,
          39,
          49,
          23,
          20,
          45,
          30,
          22,
          48,
          21,
          19,
          31,
          48,
          31,
          53,
          24,
          49,
          25,
          57,
          53,
          44,
          41,
          29,
          25,
          18,
          47,
          50,
          47,
          43,
          46,
          35,
          41,
          30,
          30,
          32,
          48,
          29,
          36,
          28,
          53,
          49,
          25,
          19,
          31,
          29,
          23,
          79,
          27,
          40,
          67,
          18,
          31,
          18,
          52,
          59,
          44,
          53,
          49,
          33,
          30,
          43,
          57,
          37,
          28,
          30,
          34,
          29,
          48,
          37,
          48,
          32,
          76,
          44,
          20,
          29,
          32,
          17,
          30,
          31,
          42,
          24,
          38,
          56,
          28,
          36,
          53,
          56,
          49,
          55,
          22,
          21,
          40,
          30,
          29,
          19,
          47,
          20,
          31,
          35,
          39,
          28,
          24,
          38,
          37,
          46,
          38,
          43,
          27,
          20,
          49,
          61,
          27,
          19,
          45,
          70,
          31,
          22,
          64,
          43,
          47,
          34,
          33,
          21,
          52,
          48,
          23,
          71,
          29,
          42,
          68,
          25,
          44,
          28,
          45,
          36,
          39,
          46,
          18,
          66,
          27,
          28,
          51,
          27,
          28,
          27,
          21,
          34,
          18,
          33,
          44,
          43,
          30,
          40,
          37,
          34,
          41,
          53,
          31,
          58,
          38,
          24,
          41,
          47,
          41,
          23,
          40,
          35,
          24,
          26,
          19,
          51,
          42,
          37,
          18,
          36,
          35,
          58,
          17,
          44,
          37,
          35,
          60,
          54,
          37,
          38,
          45,
          25,
          31,
          64,
          90,
          54,
          53,
          18,
          60,
          66,
          75,
          65,
          35,
          41,
          25,
          33,
          28,
          59,
          40,
          41,
          38,
          23,
          40,
          41,
          24,
          20,
          38,
          56,
          58,
          32,
          40,
          45,
          41,
          42,
          59,
          19,
          58,
          42,
          20,
          32,
          45,
          50,
          36,
          45,
          17,
          59,
          26,
          37,
          19,
          64,
          33,
          33,
          61,
          17,
          50,
          27,
          30,
          43,
          44,
          35,
          25,
          24,
          22,
          42,
          34,
          60,
          21,
          57,
          41,
          50,
          25,
          50,
          36,
          31,
          29,
          21,
          27,
          65,
          37,
          39,
          24,
          38,
          48,
          21,
          31,
          55,
          24,
          43,
          26,
          46,
          35,
          41,
          26,
          34,
          19,
          36,
          22,
          24,
          77,
          22,
          29,
          62,
          39,
          43,
          35,
          29,
          76,
          63,
          23,
          43,
          58,
          66,
          41,
          26,
          47,
          55,
          53,
          17,
          30,
          49,
          19,
          45,
          26,
          38,
          36,
          33,
          22,
          43,
          67,
          30,
          56,
          31,
          33,
          26,
          33,
          46,
          59,
          38,
          65,
          40,
          42,
          26,
          36,
          62,
          43,
          43,
          22,
          28,
          56,
          22,
          57,
          39,
          26,
          17,
          40,
          45,
          44,
          20,
          33,
          23,
          46,
          54,
          46,
          25,
          46,
          36,
          23,
          29,
          44,
          19,
          19,
          35,
          27,
          46,
          34,
          34,
          44,
          45,
          20,
          25,
          52,
          20,
          28,
          50,
          34,
          28,
          41,
          46,
          28,
          32,
          41,
          24,
          33,
          46,
          31,
          35,
          52,
          30,
          34,
          34,
          20,
          17,
          32,
          29,
          33,
          25,
          36,
          23,
          63,
          47,
          80,
          17,
          40,
          27,
          33,
          34,
          34,
          23,
          42,
          29,
          45,
          24,
          44,
          27,
          20,
          44,
          51,
          20,
          17,
          19,
          45,
          60,
          42,
          44,
          40,
          30,
          38,
          23,
          32,
          54,
          32,
          50,
          24,
          37,
          52,
          38,
          49,
          30,
          60,
          22,
          35,
          30,
          67,
          46,
          17,
          22,
          27,
          23,
          33,
          43,
          28,
          41,
          52,
          25,
          63,
          45,
          38,
          40,
          46,
          35,
          34,
          33,
          41,
          20,
          23,
          26,
          72,
          23,
          62,
          52,
          58,
          25,
          24,
          19,
          43,
          47,
          39,
          49,
          53,
          32,
          34,
          57,
          25,
          20,
          21,
          34,
          38,
          50,
          24,
          37,
          44,
          28,
          42,
          74,
          38,
          44,
          44,
          26,
          36,
          41,
          67,
          39,
          57,
          29,
          31,
          34,
          44,
          30,
          27,
          27,
          32,
          58,
          35,
          21,
          28,
          46,
          36,
          72,
          35,
          33
         ],
         "xaxis": "x",
         "y": [
          111,
          135,
          136,
          167,
          158,
          227,
          131,
          176,
          223,
          221,
          116,
          222,
          102,
          192,
          152,
          213,
          125,
          204,
          189,
          163,
          189,
          122,
          228,
          168,
          102,
          218,
          123,
          222,
          208,
          183,
          204,
          167,
          188,
          126,
          213,
          122,
          225,
          105,
          155,
          203,
          225,
          177,
          139,
          224,
          207,
          158,
          218,
          164,
          154,
          118,
          138,
          199,
          219,
          183,
          128,
          197,
          196,
          208,
          152,
          175,
          129,
          185,
          107,
          167,
          185,
          110,
          194,
          221,
          166,
          143,
          163,
          158,
          191,
          216,
          106,
          146,
          220,
          131,
          147,
          141,
          130,
          204,
          152,
          111,
          139,
          172,
          168,
          148,
          123,
          189,
          220,
          120,
          106,
          105,
          157,
          149,
          185,
          106,
          115,
          177,
          108,
          140,
          214,
          216,
          130,
          169,
          110,
          209,
          162,
          214,
          145,
          116,
          209,
          116,
          139,
          143,
          168,
          158,
          232,
          136,
          180,
          228,
          222,
          117,
          224,
          104,
          195,
          156,
          213,
          133,
          208,
          195,
          163,
          195,
          124,
          231,
          172,
          104,
          221,
          128,
          222,
          214,
          184,
          204,
          195,
          132,
          214,
          123,
          233,
          107,
          162,
          204,
          227,
          185,
          142,
          225,
          212,
          161,
          220,
          168,
          155,
          125,
          144,
          201,
          222,
          189,
          132,
          204,
          201,
          211,
          156,
          179,
          129,
          185,
          107,
          213,
          172,
          193,
          114,
          202,
          222,
          168,
          146,
          170,
          165,
          196,
          224,
          108,
          149,
          224,
          136,
          152,
          135,
          211,
          156,
          115,
          143,
          179,
          173,
          148,
          127,
          194,
          225,
          127,
          106,
          112,
          164,
          151,
          191,
          110,
          116,
          235,
          108,
          141,
          219,
          219,
          138,
          169,
          116,
          212,
          162,
          220,
          151,
          119,
          212,
          111,
          142,
          138,
          172,
          158,
          228,
          134,
          181,
          231,
          223,
          121,
          222,
          102,
          195,
          156,
          214,
          132,
          204,
          190,
          167,
          195,
          127,
          235,
          171,
          110,
          221,
          128,
          226,
          208,
          191,
          205,
          173,
          191,
          128,
          220,
          126,
          232,
          108,
          159,
          211,
          232,
          182,
          145,
          224,
          209,
          160,
          219,
          170,
          161,
          122,
          141,
          204,
          226,
          187,
          129,
          199,
          199,
          214,
          159,
          176,
          129,
          187,
          109,
          212,
          170,
          191,
          116,
          202,
          226,
          166,
          151,
          170,
          166,
          193,
          218,
          109,
          152,
          220,
          133,
          152,
          142,
          131,
          204,
          153,
          114,
          144,
          172,
          176,
          150,
          129,
          190,
          226,
          128,
          106,
          107,
          159,
          157,
          192,
          110,
          115,
          183,
          233,
          112,
          146,
          222,
          216,
          134,
          174,
          114,
          211,
          167,
          214,
          145,
          120,
          217,
          113,
          141,
          140,
          171,
          163,
          232,
          131,
          184,
          225,
          223,
          121,
          223,
          105,
          197,
          160,
          218,
          131,
          211,
          194,
          169,
          189,
          128,
          228,
          169,
          108,
          219,
          124,
          224,
          214,
          190,
          205,
          167,
          190,
          128,
          217,
          126,
          228,
          105,
          162,
          211,
          227,
          178,
          146,
          227,
          208,
          163,
          225,
          167,
          162,
          125,
          144,
          199,
          226,
          183,
          136,
          199,
          204,
          215,
          155,
          179,
          133,
          186,
          111,
          219,
          173,
          185,
          118,
          199,
          226,
          169,
          144,
          166,
          166,
          198,
          222,
          110,
          154,
          226,
          135,
          151,
          146,
          133,
          205,
          154,
          116,
          145,
          174,
          168,
          156,
          124,
          196,
          227,
          122,
          106,
          110,
          158,
          154,
          190,
          110,
          120,
          180,
          232,
          110,
          142,
          222,
          218,
          138,
          176,
          115,
          211,
          168,
          216,
          147,
          124,
          215,
          117,
          139,
          138,
          171,
          158,
          232,
          139,
          178,
          224,
          224,
          116,
          223,
          109,
          193,
          155,
          221,
          130,
          212,
          190,
          169,
          191,
          122,
          234,
          175,
          108,
          220,
          126,
          227,
          216,
          188,
          205,
          172,
          192,
          129,
          219,
          127,
          228,
          105,
          159,
          205,
          228,
          178,
          139,
          232,
          212,
          162,
          226,
          171,
          159,
          120,
          143,
          200,
          221,
          184,
          134,
          200,
          201,
          210,
          159,
          178,
          137,
          190,
          110,
          213,
          170,
          193,
          113,
          196,
          222,
          174,
          143,
          169,
          165,
          194,
          217,
          113,
          150,
          223,
          133,
          149,
          149,
          130,
          207,
          157,
          115,
          147,
          176
         ],
         "yaxis": "y"
        }
       ],
       "layout": {
        "coloraxis": {
         "colorbar": {
          "title": {
           "text": "color"
          }
         },
         "colorscale": [
          [
           0,
           "#0d0887"
          ],
          [
           0.1111111111111111,
           "#46039f"
          ],
          [
           0.2222222222222222,
           "#7201a8"
          ],
          [
           0.3333333333333333,
           "#9c179e"
          ],
          [
           0.4444444444444444,
           "#bd3786"
          ],
          [
           0.5555555555555556,
           "#d8576b"
          ],
          [
           0.6666666666666666,
           "#ed7953"
          ],
          [
           0.7777777777777778,
           "#fb9f3a"
          ],
          [
           0.8888888888888888,
           "#fdca26"
          ],
          [
           1,
           "#f0f921"
          ]
         ]
        },
        "legend": {
         "tracegroupgap": 0
        },
        "margin": {
         "t": 60
        },
        "template": {
         "data": {
          "bar": [
           {
            "error_x": {
             "color": "#2a3f5f"
            },
            "error_y": {
             "color": "#2a3f5f"
            },
            "marker": {
             "line": {
              "color": "#E5ECF6",
              "width": 0.5
             },
             "pattern": {
              "fillmode": "overlay",
              "size": 10,
              "solidity": 0.2
             }
            },
            "type": "bar"
           }
          ],
          "barpolar": [
           {
            "marker": {
             "line": {
              "color": "#E5ECF6",
              "width": 0.5
             },
             "pattern": {
              "fillmode": "overlay",
              "size": 10,
              "solidity": 0.2
             }
            },
            "type": "barpolar"
           }
          ],
          "carpet": [
           {
            "aaxis": {
             "endlinecolor": "#2a3f5f",
             "gridcolor": "white",
             "linecolor": "white",
             "minorgridcolor": "white",
             "startlinecolor": "#2a3f5f"
            },
            "baxis": {
             "endlinecolor": "#2a3f5f",
             "gridcolor": "white",
             "linecolor": "white",
             "minorgridcolor": "white",
             "startlinecolor": "#2a3f5f"
            },
            "type": "carpet"
           }
          ],
          "choropleth": [
           {
            "colorbar": {
             "outlinewidth": 0,
             "ticks": ""
            },
            "type": "choropleth"
           }
          ],
          "contour": [
           {
            "colorbar": {
             "outlinewidth": 0,
             "ticks": ""
            },
            "colorscale": [
             [
              0,
              "#0d0887"
             ],
             [
              0.1111111111111111,
              "#46039f"
             ],
             [
              0.2222222222222222,
              "#7201a8"
             ],
             [
              0.3333333333333333,
              "#9c179e"
             ],
             [
              0.4444444444444444,
              "#bd3786"
             ],
             [
              0.5555555555555556,
              "#d8576b"
             ],
             [
              0.6666666666666666,
              "#ed7953"
             ],
             [
              0.7777777777777778,
              "#fb9f3a"
             ],
             [
              0.8888888888888888,
              "#fdca26"
             ],
             [
              1,
              "#f0f921"
             ]
            ],
            "type": "contour"
           }
          ],
          "contourcarpet": [
           {
            "colorbar": {
             "outlinewidth": 0,
             "ticks": ""
            },
            "type": "contourcarpet"
           }
          ],
          "heatmap": [
           {
            "colorbar": {
             "outlinewidth": 0,
             "ticks": ""
            },
            "colorscale": [
             [
              0,
              "#0d0887"
             ],
             [
              0.1111111111111111,
              "#46039f"
             ],
             [
              0.2222222222222222,
              "#7201a8"
             ],
             [
              0.3333333333333333,
              "#9c179e"
             ],
             [
              0.4444444444444444,
              "#bd3786"
             ],
             [
              0.5555555555555556,
              "#d8576b"
             ],
             [
              0.6666666666666666,
              "#ed7953"
             ],
             [
              0.7777777777777778,
              "#fb9f3a"
             ],
             [
              0.8888888888888888,
              "#fdca26"
             ],
             [
              1,
              "#f0f921"
             ]
            ],
            "type": "heatmap"
           }
          ],
          "heatmapgl": [
           {
            "colorbar": {
             "outlinewidth": 0,
             "ticks": ""
            },
            "colorscale": [
             [
              0,
              "#0d0887"
             ],
             [
              0.1111111111111111,
              "#46039f"
             ],
             [
              0.2222222222222222,
              "#7201a8"
             ],
             [
              0.3333333333333333,
              "#9c179e"
             ],
             [
              0.4444444444444444,
              "#bd3786"
             ],
             [
              0.5555555555555556,
              "#d8576b"
             ],
             [
              0.6666666666666666,
              "#ed7953"
             ],
             [
              0.7777777777777778,
              "#fb9f3a"
             ],
             [
              0.8888888888888888,
              "#fdca26"
             ],
             [
              1,
              "#f0f921"
             ]
            ],
            "type": "heatmapgl"
           }
          ],
          "histogram": [
           {
            "marker": {
             "pattern": {
              "fillmode": "overlay",
              "size": 10,
              "solidity": 0.2
             }
            },
            "type": "histogram"
           }
          ],
          "histogram2d": [
           {
            "colorbar": {
             "outlinewidth": 0,
             "ticks": ""
            },
            "colorscale": [
             [
              0,
              "#0d0887"
             ],
             [
              0.1111111111111111,
              "#46039f"
             ],
             [
              0.2222222222222222,
              "#7201a8"
             ],
             [
              0.3333333333333333,
              "#9c179e"
             ],
             [
              0.4444444444444444,
              "#bd3786"
             ],
             [
              0.5555555555555556,
              "#d8576b"
             ],
             [
              0.6666666666666666,
              "#ed7953"
             ],
             [
              0.7777777777777778,
              "#fb9f3a"
             ],
             [
              0.8888888888888888,
              "#fdca26"
             ],
             [
              1,
              "#f0f921"
             ]
            ],
            "type": "histogram2d"
           }
          ],
          "histogram2dcontour": [
           {
            "colorbar": {
             "outlinewidth": 0,
             "ticks": ""
            },
            "colorscale": [
             [
              0,
              "#0d0887"
             ],
             [
              0.1111111111111111,
              "#46039f"
             ],
             [
              0.2222222222222222,
              "#7201a8"
             ],
             [
              0.3333333333333333,
              "#9c179e"
             ],
             [
              0.4444444444444444,
              "#bd3786"
             ],
             [
              0.5555555555555556,
              "#d8576b"
             ],
             [
              0.6666666666666666,
              "#ed7953"
             ],
             [
              0.7777777777777778,
              "#fb9f3a"
             ],
             [
              0.8888888888888888,
              "#fdca26"
             ],
             [
              1,
              "#f0f921"
             ]
            ],
            "type": "histogram2dcontour"
           }
          ],
          "mesh3d": [
           {
            "colorbar": {
             "outlinewidth": 0,
             "ticks": ""
            },
            "type": "mesh3d"
           }
          ],
          "parcoords": [
           {
            "line": {
             "colorbar": {
              "outlinewidth": 0,
              "ticks": ""
             }
            },
            "type": "parcoords"
           }
          ],
          "pie": [
           {
            "automargin": true,
            "type": "pie"
           }
          ],
          "scatter": [
           {
            "fillpattern": {
             "fillmode": "overlay",
             "size": 10,
             "solidity": 0.2
            },
            "type": "scatter"
           }
          ],
          "scatter3d": [
           {
            "line": {
             "colorbar": {
              "outlinewidth": 0,
              "ticks": ""
             }
            },
            "marker": {
             "colorbar": {
              "outlinewidth": 0,
              "ticks": ""
             }
            },
            "type": "scatter3d"
           }
          ],
          "scattercarpet": [
           {
            "marker": {
             "colorbar": {
              "outlinewidth": 0,
              "ticks": ""
             }
            },
            "type": "scattercarpet"
           }
          ],
          "scattergeo": [
           {
            "marker": {
             "colorbar": {
              "outlinewidth": 0,
              "ticks": ""
             }
            },
            "type": "scattergeo"
           }
          ],
          "scattergl": [
           {
            "marker": {
             "colorbar": {
              "outlinewidth": 0,
              "ticks": ""
             }
            },
            "type": "scattergl"
           }
          ],
          "scattermapbox": [
           {
            "marker": {
             "colorbar": {
              "outlinewidth": 0,
              "ticks": ""
             }
            },
            "type": "scattermapbox"
           }
          ],
          "scatterpolar": [
           {
            "marker": {
             "colorbar": {
              "outlinewidth": 0,
              "ticks": ""
             }
            },
            "type": "scatterpolar"
           }
          ],
          "scatterpolargl": [
           {
            "marker": {
             "colorbar": {
              "outlinewidth": 0,
              "ticks": ""
             }
            },
            "type": "scatterpolargl"
           }
          ],
          "scatterternary": [
           {
            "marker": {
             "colorbar": {
              "outlinewidth": 0,
              "ticks": ""
             }
            },
            "type": "scatterternary"
           }
          ],
          "surface": [
           {
            "colorbar": {
             "outlinewidth": 0,
             "ticks": ""
            },
            "colorscale": [
             [
              0,
              "#0d0887"
             ],
             [
              0.1111111111111111,
              "#46039f"
             ],
             [
              0.2222222222222222,
              "#7201a8"
             ],
             [
              0.3333333333333333,
              "#9c179e"
             ],
             [
              0.4444444444444444,
              "#bd3786"
             ],
             [
              0.5555555555555556,
              "#d8576b"
             ],
             [
              0.6666666666666666,
              "#ed7953"
             ],
             [
              0.7777777777777778,
              "#fb9f3a"
             ],
             [
              0.8888888888888888,
              "#fdca26"
             ],
             [
              1,
              "#f0f921"
             ]
            ],
            "type": "surface"
           }
          ],
          "table": [
           {
            "cells": {
             "fill": {
              "color": "#EBF0F8"
             },
             "line": {
              "color": "white"
             }
            },
            "header": {
             "fill": {
              "color": "#C8D4E3"
             },
             "line": {
              "color": "white"
             }
            },
            "type": "table"
           }
          ]
         },
         "layout": {
          "annotationdefaults": {
           "arrowcolor": "#2a3f5f",
           "arrowhead": 0,
           "arrowwidth": 1
          },
          "autotypenumbers": "strict",
          "coloraxis": {
           "colorbar": {
            "outlinewidth": 0,
            "ticks": ""
           }
          },
          "colorscale": {
           "diverging": [
            [
             0,
             "#8e0152"
            ],
            [
             0.1,
             "#c51b7d"
            ],
            [
             0.2,
             "#de77ae"
            ],
            [
             0.3,
             "#f1b6da"
            ],
            [
             0.4,
             "#fde0ef"
            ],
            [
             0.5,
             "#f7f7f7"
            ],
            [
             0.6,
             "#e6f5d0"
            ],
            [
             0.7,
             "#b8e186"
            ],
            [
             0.8,
             "#7fbc41"
            ],
            [
             0.9,
             "#4d9221"
            ],
            [
             1,
             "#276419"
            ]
           ],
           "sequential": [
            [
             0,
             "#0d0887"
            ],
            [
             0.1111111111111111,
             "#46039f"
            ],
            [
             0.2222222222222222,
             "#7201a8"
            ],
            [
             0.3333333333333333,
             "#9c179e"
            ],
            [
             0.4444444444444444,
             "#bd3786"
            ],
            [
             0.5555555555555556,
             "#d8576b"
            ],
            [
             0.6666666666666666,
             "#ed7953"
            ],
            [
             0.7777777777777778,
             "#fb9f3a"
            ],
            [
             0.8888888888888888,
             "#fdca26"
            ],
            [
             1,
             "#f0f921"
            ]
           ],
           "sequentialminus": [
            [
             0,
             "#0d0887"
            ],
            [
             0.1111111111111111,
             "#46039f"
            ],
            [
             0.2222222222222222,
             "#7201a8"
            ],
            [
             0.3333333333333333,
             "#9c179e"
            ],
            [
             0.4444444444444444,
             "#bd3786"
            ],
            [
             0.5555555555555556,
             "#d8576b"
            ],
            [
             0.6666666666666666,
             "#ed7953"
            ],
            [
             0.7777777777777778,
             "#fb9f3a"
            ],
            [
             0.8888888888888888,
             "#fdca26"
            ],
            [
             1,
             "#f0f921"
            ]
           ]
          },
          "colorway": [
           "#636efa",
           "#EF553B",
           "#00cc96",
           "#ab63fa",
           "#FFA15A",
           "#19d3f3",
           "#FF6692",
           "#B6E880",
           "#FF97FF",
           "#FECB52"
          ],
          "font": {
           "color": "#2a3f5f"
          },
          "geo": {
           "bgcolor": "white",
           "lakecolor": "white",
           "landcolor": "#E5ECF6",
           "showlakes": true,
           "showland": true,
           "subunitcolor": "white"
          },
          "hoverlabel": {
           "align": "left"
          },
          "hovermode": "closest",
          "mapbox": {
           "style": "light"
          },
          "paper_bgcolor": "white",
          "plot_bgcolor": "#E5ECF6",
          "polar": {
           "angularaxis": {
            "gridcolor": "white",
            "linecolor": "white",
            "ticks": ""
           },
           "bgcolor": "#E5ECF6",
           "radialaxis": {
            "gridcolor": "white",
            "linecolor": "white",
            "ticks": ""
           }
          },
          "scene": {
           "xaxis": {
            "backgroundcolor": "#E5ECF6",
            "gridcolor": "white",
            "gridwidth": 2,
            "linecolor": "white",
            "showbackground": true,
            "ticks": "",
            "zerolinecolor": "white"
           },
           "yaxis": {
            "backgroundcolor": "#E5ECF6",
            "gridcolor": "white",
            "gridwidth": 2,
            "linecolor": "white",
            "showbackground": true,
            "ticks": "",
            "zerolinecolor": "white"
           },
           "zaxis": {
            "backgroundcolor": "#E5ECF6",
            "gridcolor": "white",
            "gridwidth": 2,
            "linecolor": "white",
            "showbackground": true,
            "ticks": "",
            "zerolinecolor": "white"
           }
          },
          "shapedefaults": {
           "line": {
            "color": "#2a3f5f"
           }
          },
          "ternary": {
           "aaxis": {
            "gridcolor": "white",
            "linecolor": "white",
            "ticks": ""
           },
           "baxis": {
            "gridcolor": "white",
            "linecolor": "white",
            "ticks": ""
           },
           "bgcolor": "#E5ECF6",
           "caxis": {
            "gridcolor": "white",
            "linecolor": "white",
            "ticks": ""
           }
          },
          "title": {
           "x": 0.05
          },
          "xaxis": {
           "automargin": true,
           "gridcolor": "white",
           "linecolor": "white",
           "ticks": "",
           "title": {
            "standoff": 15
           },
           "zerolinecolor": "white",
           "zerolinewidth": 2
          },
          "yaxis": {
           "automargin": true,
           "gridcolor": "white",
           "linecolor": "white",
           "ticks": "",
           "title": {
            "standoff": 15
           },
           "zerolinecolor": "white",
           "zerolinewidth": 2
          }
         }
        },
        "title": {
         "text": "Análise de Clusters"
        },
        "xaxis": {
         "anchor": "y",
         "domain": [
          0,
          1
         ],
         "title": {
          "text": "idade"
         }
        },
        "yaxis": {
         "anchor": "x",
         "domain": [
          0,
          1
         ],
         "title": {
          "text": "colesterol"
         }
        }
       }
      }
     },
     "metadata": {},
     "output_type": "display_data"
    }
   ],
   "source": [
    "plotar_grafico(base_completa['idade'], base_completa['colesterol'], 'idade', 'colesterol')"
   ]
  },
  {
   "cell_type": "markdown",
   "metadata": {
    "id": "V4STiwchJwGf"
   },
   "source": [
    "# Segmentando os clientes baseado na análise dos clusters\n",
    "\n",
    "Agora vamos analisar os dados dos clusters referente aos atributos peso e colesterol e atribuir nomes que representam aquele agrupamento.\n",
    "\n",
    "Vamos agrupar  em 3 tipos:\n",
    "\n",
    "\n",
    "Alto risco: Peso e colesterol altos\n",
    "\n",
    "Baixo risco: Baixo peso e colesterol baixo\n",
    "\n",
    "Moderado risco: peso e colesterol medianos\n",
    "\n",
    "\n"
   ]
  },
  {
   "cell_type": "code",
   "execution_count": 379,
   "metadata": {
    "colab": {
     "base_uri": "https://localhost:8080/",
     "height": 542
    },
    "executionInfo": {
     "elapsed": 729,
     "status": "ok",
     "timestamp": 1628820281640,
     "user": {
      "displayName": "Prof. Leandro Lessa",
      "photoUrl": "https://lh3.googleusercontent.com/a-/AOh14GjOFTHd5R6mZqpiAveor8rupG9YPM_LbwR5AmNPtg=s64",
      "userId": "09430483952296203154"
     },
     "user_tz": 180
    },
    "id": "6lqdGyDjptnw",
    "outputId": "05c0ab7d-46eb-452d-ac3f-78ed5e6d4013"
   },
   "outputs": [
    {
     "data": {
      "application/vnd.plotly.v1+json": {
       "config": {
        "plotlyServerURL": "https://plot.ly"
       },
       "data": [
        {
         "hovertemplate": "x=%{x}<br>y=%{y}<br>color=%{marker.color}<extra></extra>",
         "legendgroup": "",
         "marker": {
          "color": [
           0,
           0,
           0,
           2,
           2,
           1,
           0,
           2,
           1,
           1,
           0,
           1,
           0,
           2,
           2,
           1,
           0,
           1,
           2,
           2,
           2,
           0,
           1,
           2,
           0,
           1,
           0,
           1,
           1,
           2,
           1,
           2,
           2,
           0,
           1,
           0,
           1,
           0,
           2,
           1,
           1,
           2,
           0,
           1,
           1,
           2,
           1,
           2,
           2,
           0,
           0,
           1,
           1,
           2,
           0,
           1,
           2,
           1,
           2,
           2,
           0,
           2,
           0,
           2,
           2,
           0,
           2,
           1,
           2,
           0,
           2,
           2,
           2,
           1,
           0,
           0,
           1,
           0,
           0,
           0,
           0,
           1,
           2,
           0,
           0,
           2,
           2,
           0,
           0,
           2,
           1,
           0,
           0,
           0,
           2,
           0,
           2,
           0,
           0,
           2,
           0,
           0,
           1,
           1,
           0,
           2,
           0,
           1,
           2,
           1,
           0,
           0,
           1,
           0,
           0,
           0,
           2,
           2,
           1,
           0,
           2,
           1,
           1,
           0,
           1,
           0,
           2,
           2,
           1,
           0,
           1,
           2,
           2,
           2,
           0,
           1,
           2,
           0,
           1,
           0,
           1,
           1,
           2,
           1,
           2,
           0,
           1,
           0,
           1,
           0,
           2,
           1,
           1,
           2,
           0,
           1,
           1,
           2,
           1,
           2,
           2,
           0,
           0,
           1,
           1,
           2,
           0,
           1,
           1,
           1,
           2,
           2,
           0,
           2,
           0,
           1,
           2,
           2,
           0,
           1,
           1,
           2,
           0,
           2,
           2,
           2,
           1,
           0,
           0,
           1,
           0,
           2,
           0,
           1,
           2,
           0,
           0,
           2,
           2,
           0,
           0,
           2,
           1,
           0,
           0,
           0,
           2,
           2,
           2,
           0,
           0,
           1,
           0,
           0,
           1,
           1,
           0,
           2,
           0,
           1,
           2,
           1,
           0,
           0,
           1,
           0,
           0,
           0,
           2,
           2,
           1,
           0,
           2,
           1,
           1,
           0,
           1,
           0,
           2,
           2,
           1,
           0,
           1,
           2,
           2,
           2,
           0,
           1,
           2,
           0,
           1,
           0,
           1,
           1,
           2,
           1,
           2,
           2,
           0,
           1,
           0,
           1,
           0,
           2,
           1,
           1,
           2,
           0,
           1,
           1,
           2,
           1,
           2,
           2,
           0,
           0,
           1,
           1,
           2,
           0,
           1,
           1,
           1,
           2,
           2,
           0,
           2,
           0,
           1,
           2,
           2,
           0,
           1,
           1,
           2,
           0,
           2,
           2,
           2,
           1,
           0,
           2,
           1,
           0,
           2,
           0,
           0,
           1,
           2,
           0,
           0,
           2,
           2,
           0,
           0,
           2,
           1,
           0,
           0,
           0,
           2,
           2,
           2,
           0,
           0,
           2,
           1,
           0,
           0,
           1,
           1,
           0,
           2,
           0,
           1,
           2,
           1,
           0,
           0,
           1,
           0,
           0,
           0,
           2,
           2,
           1,
           0,
           2,
           1,
           1,
           0,
           1,
           0,
           2,
           2,
           1,
           0,
           1,
           2,
           2,
           2,
           0,
           1,
           2,
           0,
           1,
           0,
           1,
           1,
           2,
           1,
           2,
           2,
           0,
           1,
           0,
           1,
           0,
           2,
           1,
           1,
           2,
           0,
           1,
           1,
           2,
           1,
           2,
           2,
           0,
           0,
           1,
           1,
           2,
           0,
           1,
           1,
           1,
           2,
           2,
           0,
           2,
           0,
           1,
           2,
           2,
           0,
           1,
           1,
           2,
           0,
           2,
           2,
           2,
           1,
           0,
           2,
           1,
           0,
           2,
           0,
           0,
           1,
           2,
           0,
           0,
           2,
           2,
           2,
           0,
           2,
           1,
           0,
           0,
           0,
           2,
           2,
           2,
           0,
           0,
           2,
           1,
           0,
           0,
           1,
           1,
           0,
           2,
           0,
           1,
           2,
           1,
           0,
           0,
           1,
           0,
           0,
           0,
           2,
           2,
           1,
           0,
           2,
           1,
           1,
           0,
           1,
           0,
           2,
           2,
           1,
           0,
           1,
           2,
           2,
           2,
           0,
           1,
           2,
           0,
           1,
           0,
           1,
           1,
           2,
           1,
           2,
           2,
           0,
           1,
           0,
           1,
           0,
           2,
           1,
           1,
           2,
           0,
           1,
           1,
           2,
           1,
           2,
           2,
           0,
           0,
           1,
           1,
           2,
           0,
           1,
           1,
           1,
           2,
           2,
           0,
           2,
           0,
           1,
           2,
           2,
           0,
           1,
           1,
           2,
           0,
           2,
           2,
           2,
           1,
           0,
           2,
           1,
           0,
           0,
           0,
           0,
           1,
           2,
           0,
           0,
           2
          ],
          "coloraxis": "coloraxis",
          "symbol": "circle"
         },
         "mode": "markers",
         "name": "",
         "orientation": "v",
         "showlegend": false,
         "type": "scatter",
         "x": [
          111,
          135,
          136,
          167,
          158,
          227,
          131,
          176,
          223,
          221,
          116,
          222,
          102,
          192,
          152,
          213,
          125,
          204,
          189,
          163,
          189,
          122,
          228,
          168,
          102,
          218,
          123,
          222,
          208,
          183,
          204,
          167,
          188,
          126,
          213,
          122,
          225,
          105,
          155,
          203,
          225,
          177,
          139,
          224,
          207,
          158,
          218,
          164,
          154,
          118,
          138,
          199,
          219,
          183,
          128,
          197,
          196,
          208,
          152,
          175,
          129,
          185,
          107,
          167,
          185,
          110,
          194,
          221,
          166,
          143,
          163,
          158,
          191,
          216,
          106,
          146,
          220,
          131,
          147,
          141,
          130,
          204,
          152,
          111,
          139,
          172,
          168,
          148,
          123,
          189,
          220,
          120,
          106,
          105,
          157,
          149,
          185,
          106,
          115,
          177,
          108,
          140,
          214,
          216,
          130,
          169,
          110,
          209,
          162,
          214,
          145,
          116,
          209,
          116,
          139,
          143,
          168,
          158,
          232,
          136,
          180,
          228,
          222,
          117,
          224,
          104,
          195,
          156,
          213,
          133,
          208,
          195,
          163,
          195,
          124,
          231,
          172,
          104,
          221,
          128,
          222,
          214,
          184,
          204,
          195,
          132,
          214,
          123,
          233,
          107,
          162,
          204,
          227,
          185,
          142,
          225,
          212,
          161,
          220,
          168,
          155,
          125,
          144,
          201,
          222,
          189,
          132,
          204,
          201,
          211,
          156,
          179,
          129,
          185,
          107,
          213,
          172,
          193,
          114,
          202,
          222,
          168,
          146,
          170,
          165,
          196,
          224,
          108,
          149,
          224,
          136,
          152,
          135,
          211,
          156,
          115,
          143,
          179,
          173,
          148,
          127,
          194,
          225,
          127,
          106,
          112,
          164,
          151,
          191,
          110,
          116,
          235,
          108,
          141,
          219,
          219,
          138,
          169,
          116,
          212,
          162,
          220,
          151,
          119,
          212,
          111,
          142,
          138,
          172,
          158,
          228,
          134,
          181,
          231,
          223,
          121,
          222,
          102,
          195,
          156,
          214,
          132,
          204,
          190,
          167,
          195,
          127,
          235,
          171,
          110,
          221,
          128,
          226,
          208,
          191,
          205,
          173,
          191,
          128,
          220,
          126,
          232,
          108,
          159,
          211,
          232,
          182,
          145,
          224,
          209,
          160,
          219,
          170,
          161,
          122,
          141,
          204,
          226,
          187,
          129,
          199,
          199,
          214,
          159,
          176,
          129,
          187,
          109,
          212,
          170,
          191,
          116,
          202,
          226,
          166,
          151,
          170,
          166,
          193,
          218,
          109,
          152,
          220,
          133,
          152,
          142,
          131,
          204,
          153,
          114,
          144,
          172,
          176,
          150,
          129,
          190,
          226,
          128,
          106,
          107,
          159,
          157,
          192,
          110,
          115,
          183,
          233,
          112,
          146,
          222,
          216,
          134,
          174,
          114,
          211,
          167,
          214,
          145,
          120,
          217,
          113,
          141,
          140,
          171,
          163,
          232,
          131,
          184,
          225,
          223,
          121,
          223,
          105,
          197,
          160,
          218,
          131,
          211,
          194,
          169,
          189,
          128,
          228,
          169,
          108,
          219,
          124,
          224,
          214,
          190,
          205,
          167,
          190,
          128,
          217,
          126,
          228,
          105,
          162,
          211,
          227,
          178,
          146,
          227,
          208,
          163,
          225,
          167,
          162,
          125,
          144,
          199,
          226,
          183,
          136,
          199,
          204,
          215,
          155,
          179,
          133,
          186,
          111,
          219,
          173,
          185,
          118,
          199,
          226,
          169,
          144,
          166,
          166,
          198,
          222,
          110,
          154,
          226,
          135,
          151,
          146,
          133,
          205,
          154,
          116,
          145,
          174,
          168,
          156,
          124,
          196,
          227,
          122,
          106,
          110,
          158,
          154,
          190,
          110,
          120,
          180,
          232,
          110,
          142,
          222,
          218,
          138,
          176,
          115,
          211,
          168,
          216,
          147,
          124,
          215,
          117,
          139,
          138,
          171,
          158,
          232,
          139,
          178,
          224,
          224,
          116,
          223,
          109,
          193,
          155,
          221,
          130,
          212,
          190,
          169,
          191,
          122,
          234,
          175,
          108,
          220,
          126,
          227,
          216,
          188,
          205,
          172,
          192,
          129,
          219,
          127,
          228,
          105,
          159,
          205,
          228,
          178,
          139,
          232,
          212,
          162,
          226,
          171,
          159,
          120,
          143,
          200,
          221,
          184,
          134,
          200,
          201,
          210,
          159,
          178,
          137,
          190,
          110,
          213,
          170,
          193,
          113,
          196,
          222,
          174,
          143,
          169,
          165,
          194,
          217,
          113,
          150,
          223,
          133,
          149,
          149,
          130,
          207,
          157,
          115,
          147,
          176
         ],
         "xaxis": "x",
         "y": [
          102,
          115,
          115,
          140,
          130,
          198,
          114,
          145,
          191,
          186,
          104,
          188,
          96,
          156,
          125,
          178,
          109,
          168,
          152,
          133,
          153,
          107,
          199,
          140,
          95,
          183,
          108,
          190,
          174,
          149,
          169,
          138,
          151,
          109,
          178,
          106,
          195,
          96,
          129,
          166,
          197,
          148,
          117,
          193,
          170,
          130,
          183,
          134,
          128,
          105,
          115,
          166,
          183,
          149,
          110,
          164,
          157,
          170,
          124,
          145,
          113,
          150,
          100,
          139,
          150,
          101,
          157,
          187,
          137,
          121,
          132,
          130,
          156,
          180,
          100,
          122,
          185,
          113,
          123,
          119,
          113,
          168,
          126,
          102,
          116,
          144,
          140,
          124,
          108,
          154,
          185,
          106,
          97,
          96,
          129,
          124,
          149,
          97,
          102,
          146,
          100,
          118,
          179,
          179,
          113,
          142,
          101,
          174,
          131,
          179,
          122,
          105,
          176,
          103,
          120,
          118,
          143,
          134,
          203,
          116,
          150,
          192,
          187,
          107,
          192,
          97,
          157,
          128,
          183,
          112,
          173,
          156,
          137,
          156,
          112,
          203,
          141,
          97,
          186,
          113,
          195,
          175,
          154,
          173,
          152,
          114,
          181,
          111,
          200,
          100,
          134,
          167,
          198,
          151,
          121,
          196,
          171,
          135,
          186,
          138,
          133,
          107,
          120,
          168,
          184,
          154,
          115,
          168,
          161,
          171,
          129,
          150,
          118,
          154,
          103,
          180,
          141,
          152,
          104,
          159,
          191,
          142,
          123,
          135,
          132,
          158,
          181,
          105,
          126,
          186,
          116,
          124,
          115,
          173,
          128,
          103,
          120,
          146,
          145,
          125,
          109,
          156,
          187,
          110,
          100,
          97,
          133,
          128,
          154,
          100,
          104,
          203,
          104,
          119,
          181,
          180,
          116,
          144,
          102,
          176,
          135,
          184,
          124,
          110,
          180,
          103,
          117,
          120,
          145,
          133,
          201,
          117,
          146,
          195,
          188,
          108,
          191,
          100,
          158,
          127,
          181,
          113,
          171,
          153,
          137,
          154,
          112,
          201,
          141,
          100,
          185,
          111,
          191,
          176,
          150,
          171,
          140,
          153,
          111,
          180,
          107,
          197,
          101,
          132,
          168,
          200,
          150,
          119,
          197,
          172,
          134,
          185,
          135,
          132,
          109,
          116,
          170,
          187,
          154,
          111,
          169,
          161,
          174,
          125,
          148,
          117,
          154,
          104,
          183,
          142,
          155,
          105,
          160,
          191,
          140,
          123,
          136,
          132,
          158,
          182,
          104,
          126,
          188,
          118,
          127,
          123,
          118,
          169,
          128,
          106,
          119,
          147,
          141,
          125,
          109,
          158,
          190,
          110,
          99,
          98,
          134,
          129,
          154,
          100,
          107,
          149,
          203,
          101,
          119,
          182,
          181,
          115,
          145,
          102,
          176,
          134,
          183,
          123,
          108,
          177,
          104,
          117,
          117,
          145,
          134,
          199,
          115,
          149,
          192,
          188,
          107,
          190,
          98,
          158,
          128,
          180,
          110,
          172,
          157,
          137,
          158,
          110,
          203,
          145,
          96,
          186,
          110,
          194,
          177,
          152,
          172,
          140,
          154,
          113,
          179,
          111,
          196,
          101,
          131,
          171,
          199,
          151,
          121,
          196,
          174,
          135,
          184,
          137,
          129,
          108,
          116,
          168,
          184,
          151,
          114,
          167,
          160,
          175,
          127,
          146,
          118,
          151,
          105,
          180,
          140,
          155,
          106,
          160,
          192,
          138,
          122,
          135,
          132,
          158,
          184,
          101,
          126,
          188,
          118,
          127,
          123,
          117,
          172,
          127,
          104,
          121,
          148,
          141,
          128,
          113,
          155,
          189,
          108,
          98,
          100,
          134,
          125,
          151,
          100,
          107,
          147,
          200,
          101,
          120,
          181,
          182,
          117,
          145,
          106,
          179,
          134,
          180,
          126,
          110,
          180,
          103,
          116,
          119,
          144,
          133,
          199,
          115,
          150,
          192,
          188,
          109,
          189,
          101,
          159,
          128,
          182,
          111,
          171,
          154,
          134,
          157,
          112,
          203,
          142,
          97,
          187,
          111,
          194,
          176,
          153,
          171,
          142,
          153,
          113,
          183,
          108,
          200,
          99,
          131,
          171,
          200,
          152,
          119,
          196,
          173,
          132,
          185,
          138,
          132,
          110,
          119,
          167,
          188,
          151,
          112,
          166,
          158,
          172,
          127,
          150,
          115,
          151,
          103,
          181,
          141,
          152,
          105,
          162,
          190,
          141,
          122,
          136,
          131,
          157,
          181,
          103,
          127,
          189,
          114,
          125,
          123,
          116,
          172,
          129,
          107,
          117,
          148
         ],
         "yaxis": "y"
        }
       ],
       "layout": {
        "coloraxis": {
         "colorbar": {
          "title": {
           "text": "color"
          }
         },
         "colorscale": [
          [
           0,
           "#0d0887"
          ],
          [
           0.1111111111111111,
           "#46039f"
          ],
          [
           0.2222222222222222,
           "#7201a8"
          ],
          [
           0.3333333333333333,
           "#9c179e"
          ],
          [
           0.4444444444444444,
           "#bd3786"
          ],
          [
           0.5555555555555556,
           "#d8576b"
          ],
          [
           0.6666666666666666,
           "#ed7953"
          ],
          [
           0.7777777777777778,
           "#fb9f3a"
          ],
          [
           0.8888888888888888,
           "#fdca26"
          ],
          [
           1,
           "#f0f921"
          ]
         ]
        },
        "legend": {
         "tracegroupgap": 0
        },
        "margin": {
         "t": 60
        },
        "template": {
         "data": {
          "bar": [
           {
            "error_x": {
             "color": "#2a3f5f"
            },
            "error_y": {
             "color": "#2a3f5f"
            },
            "marker": {
             "line": {
              "color": "#E5ECF6",
              "width": 0.5
             },
             "pattern": {
              "fillmode": "overlay",
              "size": 10,
              "solidity": 0.2
             }
            },
            "type": "bar"
           }
          ],
          "barpolar": [
           {
            "marker": {
             "line": {
              "color": "#E5ECF6",
              "width": 0.5
             },
             "pattern": {
              "fillmode": "overlay",
              "size": 10,
              "solidity": 0.2
             }
            },
            "type": "barpolar"
           }
          ],
          "carpet": [
           {
            "aaxis": {
             "endlinecolor": "#2a3f5f",
             "gridcolor": "white",
             "linecolor": "white",
             "minorgridcolor": "white",
             "startlinecolor": "#2a3f5f"
            },
            "baxis": {
             "endlinecolor": "#2a3f5f",
             "gridcolor": "white",
             "linecolor": "white",
             "minorgridcolor": "white",
             "startlinecolor": "#2a3f5f"
            },
            "type": "carpet"
           }
          ],
          "choropleth": [
           {
            "colorbar": {
             "outlinewidth": 0,
             "ticks": ""
            },
            "type": "choropleth"
           }
          ],
          "contour": [
           {
            "colorbar": {
             "outlinewidth": 0,
             "ticks": ""
            },
            "colorscale": [
             [
              0,
              "#0d0887"
             ],
             [
              0.1111111111111111,
              "#46039f"
             ],
             [
              0.2222222222222222,
              "#7201a8"
             ],
             [
              0.3333333333333333,
              "#9c179e"
             ],
             [
              0.4444444444444444,
              "#bd3786"
             ],
             [
              0.5555555555555556,
              "#d8576b"
             ],
             [
              0.6666666666666666,
              "#ed7953"
             ],
             [
              0.7777777777777778,
              "#fb9f3a"
             ],
             [
              0.8888888888888888,
              "#fdca26"
             ],
             [
              1,
              "#f0f921"
             ]
            ],
            "type": "contour"
           }
          ],
          "contourcarpet": [
           {
            "colorbar": {
             "outlinewidth": 0,
             "ticks": ""
            },
            "type": "contourcarpet"
           }
          ],
          "heatmap": [
           {
            "colorbar": {
             "outlinewidth": 0,
             "ticks": ""
            },
            "colorscale": [
             [
              0,
              "#0d0887"
             ],
             [
              0.1111111111111111,
              "#46039f"
             ],
             [
              0.2222222222222222,
              "#7201a8"
             ],
             [
              0.3333333333333333,
              "#9c179e"
             ],
             [
              0.4444444444444444,
              "#bd3786"
             ],
             [
              0.5555555555555556,
              "#d8576b"
             ],
             [
              0.6666666666666666,
              "#ed7953"
             ],
             [
              0.7777777777777778,
              "#fb9f3a"
             ],
             [
              0.8888888888888888,
              "#fdca26"
             ],
             [
              1,
              "#f0f921"
             ]
            ],
            "type": "heatmap"
           }
          ],
          "heatmapgl": [
           {
            "colorbar": {
             "outlinewidth": 0,
             "ticks": ""
            },
            "colorscale": [
             [
              0,
              "#0d0887"
             ],
             [
              0.1111111111111111,
              "#46039f"
             ],
             [
              0.2222222222222222,
              "#7201a8"
             ],
             [
              0.3333333333333333,
              "#9c179e"
             ],
             [
              0.4444444444444444,
              "#bd3786"
             ],
             [
              0.5555555555555556,
              "#d8576b"
             ],
             [
              0.6666666666666666,
              "#ed7953"
             ],
             [
              0.7777777777777778,
              "#fb9f3a"
             ],
             [
              0.8888888888888888,
              "#fdca26"
             ],
             [
              1,
              "#f0f921"
             ]
            ],
            "type": "heatmapgl"
           }
          ],
          "histogram": [
           {
            "marker": {
             "pattern": {
              "fillmode": "overlay",
              "size": 10,
              "solidity": 0.2
             }
            },
            "type": "histogram"
           }
          ],
          "histogram2d": [
           {
            "colorbar": {
             "outlinewidth": 0,
             "ticks": ""
            },
            "colorscale": [
             [
              0,
              "#0d0887"
             ],
             [
              0.1111111111111111,
              "#46039f"
             ],
             [
              0.2222222222222222,
              "#7201a8"
             ],
             [
              0.3333333333333333,
              "#9c179e"
             ],
             [
              0.4444444444444444,
              "#bd3786"
             ],
             [
              0.5555555555555556,
              "#d8576b"
             ],
             [
              0.6666666666666666,
              "#ed7953"
             ],
             [
              0.7777777777777778,
              "#fb9f3a"
             ],
             [
              0.8888888888888888,
              "#fdca26"
             ],
             [
              1,
              "#f0f921"
             ]
            ],
            "type": "histogram2d"
           }
          ],
          "histogram2dcontour": [
           {
            "colorbar": {
             "outlinewidth": 0,
             "ticks": ""
            },
            "colorscale": [
             [
              0,
              "#0d0887"
             ],
             [
              0.1111111111111111,
              "#46039f"
             ],
             [
              0.2222222222222222,
              "#7201a8"
             ],
             [
              0.3333333333333333,
              "#9c179e"
             ],
             [
              0.4444444444444444,
              "#bd3786"
             ],
             [
              0.5555555555555556,
              "#d8576b"
             ],
             [
              0.6666666666666666,
              "#ed7953"
             ],
             [
              0.7777777777777778,
              "#fb9f3a"
             ],
             [
              0.8888888888888888,
              "#fdca26"
             ],
             [
              1,
              "#f0f921"
             ]
            ],
            "type": "histogram2dcontour"
           }
          ],
          "mesh3d": [
           {
            "colorbar": {
             "outlinewidth": 0,
             "ticks": ""
            },
            "type": "mesh3d"
           }
          ],
          "parcoords": [
           {
            "line": {
             "colorbar": {
              "outlinewidth": 0,
              "ticks": ""
             }
            },
            "type": "parcoords"
           }
          ],
          "pie": [
           {
            "automargin": true,
            "type": "pie"
           }
          ],
          "scatter": [
           {
            "fillpattern": {
             "fillmode": "overlay",
             "size": 10,
             "solidity": 0.2
            },
            "type": "scatter"
           }
          ],
          "scatter3d": [
           {
            "line": {
             "colorbar": {
              "outlinewidth": 0,
              "ticks": ""
             }
            },
            "marker": {
             "colorbar": {
              "outlinewidth": 0,
              "ticks": ""
             }
            },
            "type": "scatter3d"
           }
          ],
          "scattercarpet": [
           {
            "marker": {
             "colorbar": {
              "outlinewidth": 0,
              "ticks": ""
             }
            },
            "type": "scattercarpet"
           }
          ],
          "scattergeo": [
           {
            "marker": {
             "colorbar": {
              "outlinewidth": 0,
              "ticks": ""
             }
            },
            "type": "scattergeo"
           }
          ],
          "scattergl": [
           {
            "marker": {
             "colorbar": {
              "outlinewidth": 0,
              "ticks": ""
             }
            },
            "type": "scattergl"
           }
          ],
          "scattermapbox": [
           {
            "marker": {
             "colorbar": {
              "outlinewidth": 0,
              "ticks": ""
             }
            },
            "type": "scattermapbox"
           }
          ],
          "scatterpolar": [
           {
            "marker": {
             "colorbar": {
              "outlinewidth": 0,
              "ticks": ""
             }
            },
            "type": "scatterpolar"
           }
          ],
          "scatterpolargl": [
           {
            "marker": {
             "colorbar": {
              "outlinewidth": 0,
              "ticks": ""
             }
            },
            "type": "scatterpolargl"
           }
          ],
          "scatterternary": [
           {
            "marker": {
             "colorbar": {
              "outlinewidth": 0,
              "ticks": ""
             }
            },
            "type": "scatterternary"
           }
          ],
          "surface": [
           {
            "colorbar": {
             "outlinewidth": 0,
             "ticks": ""
            },
            "colorscale": [
             [
              0,
              "#0d0887"
             ],
             [
              0.1111111111111111,
              "#46039f"
             ],
             [
              0.2222222222222222,
              "#7201a8"
             ],
             [
              0.3333333333333333,
              "#9c179e"
             ],
             [
              0.4444444444444444,
              "#bd3786"
             ],
             [
              0.5555555555555556,
              "#d8576b"
             ],
             [
              0.6666666666666666,
              "#ed7953"
             ],
             [
              0.7777777777777778,
              "#fb9f3a"
             ],
             [
              0.8888888888888888,
              "#fdca26"
             ],
             [
              1,
              "#f0f921"
             ]
            ],
            "type": "surface"
           }
          ],
          "table": [
           {
            "cells": {
             "fill": {
              "color": "#EBF0F8"
             },
             "line": {
              "color": "white"
             }
            },
            "header": {
             "fill": {
              "color": "#C8D4E3"
             },
             "line": {
              "color": "white"
             }
            },
            "type": "table"
           }
          ]
         },
         "layout": {
          "annotationdefaults": {
           "arrowcolor": "#2a3f5f",
           "arrowhead": 0,
           "arrowwidth": 1
          },
          "autotypenumbers": "strict",
          "coloraxis": {
           "colorbar": {
            "outlinewidth": 0,
            "ticks": ""
           }
          },
          "colorscale": {
           "diverging": [
            [
             0,
             "#8e0152"
            ],
            [
             0.1,
             "#c51b7d"
            ],
            [
             0.2,
             "#de77ae"
            ],
            [
             0.3,
             "#f1b6da"
            ],
            [
             0.4,
             "#fde0ef"
            ],
            [
             0.5,
             "#f7f7f7"
            ],
            [
             0.6,
             "#e6f5d0"
            ],
            [
             0.7,
             "#b8e186"
            ],
            [
             0.8,
             "#7fbc41"
            ],
            [
             0.9,
             "#4d9221"
            ],
            [
             1,
             "#276419"
            ]
           ],
           "sequential": [
            [
             0,
             "#0d0887"
            ],
            [
             0.1111111111111111,
             "#46039f"
            ],
            [
             0.2222222222222222,
             "#7201a8"
            ],
            [
             0.3333333333333333,
             "#9c179e"
            ],
            [
             0.4444444444444444,
             "#bd3786"
            ],
            [
             0.5555555555555556,
             "#d8576b"
            ],
            [
             0.6666666666666666,
             "#ed7953"
            ],
            [
             0.7777777777777778,
             "#fb9f3a"
            ],
            [
             0.8888888888888888,
             "#fdca26"
            ],
            [
             1,
             "#f0f921"
            ]
           ],
           "sequentialminus": [
            [
             0,
             "#0d0887"
            ],
            [
             0.1111111111111111,
             "#46039f"
            ],
            [
             0.2222222222222222,
             "#7201a8"
            ],
            [
             0.3333333333333333,
             "#9c179e"
            ],
            [
             0.4444444444444444,
             "#bd3786"
            ],
            [
             0.5555555555555556,
             "#d8576b"
            ],
            [
             0.6666666666666666,
             "#ed7953"
            ],
            [
             0.7777777777777778,
             "#fb9f3a"
            ],
            [
             0.8888888888888888,
             "#fdca26"
            ],
            [
             1,
             "#f0f921"
            ]
           ]
          },
          "colorway": [
           "#636efa",
           "#EF553B",
           "#00cc96",
           "#ab63fa",
           "#FFA15A",
           "#19d3f3",
           "#FF6692",
           "#B6E880",
           "#FF97FF",
           "#FECB52"
          ],
          "font": {
           "color": "#2a3f5f"
          },
          "geo": {
           "bgcolor": "white",
           "lakecolor": "white",
           "landcolor": "#E5ECF6",
           "showlakes": true,
           "showland": true,
           "subunitcolor": "white"
          },
          "hoverlabel": {
           "align": "left"
          },
          "hovermode": "closest",
          "mapbox": {
           "style": "light"
          },
          "paper_bgcolor": "white",
          "plot_bgcolor": "#E5ECF6",
          "polar": {
           "angularaxis": {
            "gridcolor": "white",
            "linecolor": "white",
            "ticks": ""
           },
           "bgcolor": "#E5ECF6",
           "radialaxis": {
            "gridcolor": "white",
            "linecolor": "white",
            "ticks": ""
           }
          },
          "scene": {
           "xaxis": {
            "backgroundcolor": "#E5ECF6",
            "gridcolor": "white",
            "gridwidth": 2,
            "linecolor": "white",
            "showbackground": true,
            "ticks": "",
            "zerolinecolor": "white"
           },
           "yaxis": {
            "backgroundcolor": "#E5ECF6",
            "gridcolor": "white",
            "gridwidth": 2,
            "linecolor": "white",
            "showbackground": true,
            "ticks": "",
            "zerolinecolor": "white"
           },
           "zaxis": {
            "backgroundcolor": "#E5ECF6",
            "gridcolor": "white",
            "gridwidth": 2,
            "linecolor": "white",
            "showbackground": true,
            "ticks": "",
            "zerolinecolor": "white"
           }
          },
          "shapedefaults": {
           "line": {
            "color": "#2a3f5f"
           }
          },
          "ternary": {
           "aaxis": {
            "gridcolor": "white",
            "linecolor": "white",
            "ticks": ""
           },
           "baxis": {
            "gridcolor": "white",
            "linecolor": "white",
            "ticks": ""
           },
           "bgcolor": "#E5ECF6",
           "caxis": {
            "gridcolor": "white",
            "linecolor": "white",
            "ticks": ""
           }
          },
          "title": {
           "x": 0.05
          },
          "xaxis": {
           "automargin": true,
           "gridcolor": "white",
           "linecolor": "white",
           "ticks": "",
           "title": {
            "standoff": 15
           },
           "zerolinecolor": "white",
           "zerolinewidth": 2
          },
          "yaxis": {
           "automargin": true,
           "gridcolor": "white",
           "linecolor": "white",
           "ticks": "",
           "title": {
            "standoff": 15
           },
           "zerolinecolor": "white",
           "zerolinewidth": 2
          }
         }
        },
        "title": {
         "text": "Análise de Clusters"
        },
        "xaxis": {
         "anchor": "y",
         "domain": [
          0,
          1
         ],
         "title": {
          "text": "colesterol"
         }
        },
        "yaxis": {
         "anchor": "x",
         "domain": [
          0,
          1
         ],
         "title": {
          "text": "peso"
         }
        }
       }
      }
     },
     "metadata": {},
     "output_type": "display_data"
    }
   ],
   "source": [
    "x = 'colesterol'\n",
    "y = 'peso'\n",
    "\n",
    "plotar_grafico(base_completa[x], base_completa[y], x, y)\n"
   ]
  },
  {
   "cell_type": "code",
   "execution_count": 380,
   "metadata": {
    "executionInfo": {
     "elapsed": 105,
     "status": "ok",
     "timestamp": 1628820281643,
     "user": {
      "displayName": "Prof. Leandro Lessa",
      "photoUrl": "https://lh3.googleusercontent.com/a-/AOh14GjOFTHd5R6mZqpiAveor8rupG9YPM_LbwR5AmNPtg=s64",
      "userId": "09430483952296203154"
     },
     "user_tz": 180
    },
    "id": "Q6gYvrb_qSER"
   },
   "outputs": [],
   "source": [
    "cluster_clientes = base_completa"
   ]
  },
  {
   "cell_type": "code",
   "execution_count": 381,
   "metadata": {
    "executionInfo": {
     "elapsed": 103,
     "status": "ok",
     "timestamp": 1628820281644,
     "user": {
      "displayName": "Prof. Leandro Lessa",
      "photoUrl": "https://lh3.googleusercontent.com/a-/AOh14GjOFTHd5R6mZqpiAveor8rupG9YPM_LbwR5AmNPtg=s64",
      "userId": "09430483952296203154"
     },
     "user_tz": 180
    },
    "id": "LpWlZl4GJvrB"
   },
   "outputs": [],
   "source": [
    "# Seguimentando os clientes baseado na análise dos clusters\n",
    "cluster_clientes.loc[cluster_clientes['cluster']==2,'nome_cluster'] = 'Alto Risco'\n",
    "cluster_clientes.loc[cluster_clientes['cluster']==1,'nome_cluster'] = 'Baixo Risco'\n",
    "cluster_clientes.loc[cluster_clientes['cluster']==0,'nome_cluster'] = 'Risco Moderado'"
   ]
  },
  {
   "cell_type": "code",
   "execution_count": 382,
   "metadata": {
    "colab": {
     "base_uri": "https://localhost:8080/",
     "height": 419
    },
    "executionInfo": {
     "elapsed": 680,
     "status": "ok",
     "timestamp": 1628820282224,
     "user": {
      "displayName": "Prof. Leandro Lessa",
      "photoUrl": "https://lh3.googleusercontent.com/a-/AOh14GjOFTHd5R6mZqpiAveor8rupG9YPM_LbwR5AmNPtg=s64",
      "userId": "09430483952296203154"
     },
     "user_tz": 180
    },
    "id": "phiF-4pEPINV",
    "outputId": "e46d04be-45be-4445-ed65-e133c314ce2e"
   },
   "outputs": [
    {
     "data": {
      "text/html": [
       "<div>\n",
       "<style scoped>\n",
       "    .dataframe tbody tr th:only-of-type {\n",
       "        vertical-align: middle;\n",
       "    }\n",
       "\n",
       "    .dataframe tbody tr th {\n",
       "        vertical-align: top;\n",
       "    }\n",
       "\n",
       "    .dataframe thead th {\n",
       "        text-align: right;\n",
       "    }\n",
       "</style>\n",
       "<table border=\"1\" class=\"dataframe\">\n",
       "  <thead>\n",
       "    <tr style=\"text-align: right;\">\n",
       "      <th></th>\n",
       "      <th>cod_cliente</th>\n",
       "      <th>genero</th>\n",
       "      <th>classe_trabalho</th>\n",
       "      <th>escolaridade</th>\n",
       "      <th>salario</th>\n",
       "      <th>idade</th>\n",
       "      <th>peso</th>\n",
       "      <th>colesterol</th>\n",
       "      <th>id_estado</th>\n",
       "      <th>sigla</th>\n",
       "      <th>estado</th>\n",
       "      <th>regiao</th>\n",
       "      <th>pais</th>\n",
       "      <th>cluster</th>\n",
       "      <th>nome_cluster</th>\n",
       "    </tr>\n",
       "  </thead>\n",
       "  <tbody>\n",
       "    <tr>\n",
       "      <th>0</th>\n",
       "      <td>1</td>\n",
       "      <td>Masculino</td>\n",
       "      <td>Servidor Público</td>\n",
       "      <td>Ensino Médio Completo</td>\n",
       "      <td>4754</td>\n",
       "      <td>39</td>\n",
       "      <td>102.0</td>\n",
       "      <td>111</td>\n",
       "      <td>2</td>\n",
       "      <td>AL</td>\n",
       "      <td>Alagoas</td>\n",
       "      <td>Nordeste</td>\n",
       "      <td>Brasil</td>\n",
       "      <td>0</td>\n",
       "      <td>Risco Moderado</td>\n",
       "    </tr>\n",
       "    <tr>\n",
       "      <th>1</th>\n",
       "      <td>2</td>\n",
       "      <td>Masculino</td>\n",
       "      <td>Autônomo</td>\n",
       "      <td>Superior Incompleto</td>\n",
       "      <td>3923</td>\n",
       "      <td>50</td>\n",
       "      <td>115.0</td>\n",
       "      <td>135</td>\n",
       "      <td>24</td>\n",
       "      <td>SC</td>\n",
       "      <td>Santa Catarina</td>\n",
       "      <td>Sul</td>\n",
       "      <td>Brasil</td>\n",
       "      <td>0</td>\n",
       "      <td>Risco Moderado</td>\n",
       "    </tr>\n",
       "    <tr>\n",
       "      <th>2</th>\n",
       "      <td>3</td>\n",
       "      <td>Masculino</td>\n",
       "      <td>Funcionário Setor Privado</td>\n",
       "      <td>Ensino Médio Incompleto</td>\n",
       "      <td>1100</td>\n",
       "      <td>38</td>\n",
       "      <td>115.0</td>\n",
       "      <td>136</td>\n",
       "      <td>4</td>\n",
       "      <td>AM</td>\n",
       "      <td>Amazonas</td>\n",
       "      <td>Norte</td>\n",
       "      <td>Brasil</td>\n",
       "      <td>0</td>\n",
       "      <td>Risco Moderado</td>\n",
       "    </tr>\n",
       "    <tr>\n",
       "      <th>3</th>\n",
       "      <td>4</td>\n",
       "      <td>Feminino</td>\n",
       "      <td>Funcionário Setor Privado</td>\n",
       "      <td>Ensino Médio Incompleto</td>\n",
       "      <td>1100</td>\n",
       "      <td>53</td>\n",
       "      <td>140.0</td>\n",
       "      <td>167</td>\n",
       "      <td>24</td>\n",
       "      <td>SC</td>\n",
       "      <td>Santa Catarina</td>\n",
       "      <td>Sul</td>\n",
       "      <td>Brasil</td>\n",
       "      <td>2</td>\n",
       "      <td>Alto Risco</td>\n",
       "    </tr>\n",
       "    <tr>\n",
       "      <th>4</th>\n",
       "      <td>5</td>\n",
       "      <td>Masculino</td>\n",
       "      <td>Funcionário Setor Privado</td>\n",
       "      <td>Ensino Médio Completo</td>\n",
       "      <td>3430</td>\n",
       "      <td>28</td>\n",
       "      <td>130.0</td>\n",
       "      <td>158</td>\n",
       "      <td>15</td>\n",
       "      <td>PB</td>\n",
       "      <td>Paraíba</td>\n",
       "      <td>Nordeste</td>\n",
       "      <td>Brasil</td>\n",
       "      <td>2</td>\n",
       "      <td>Alto Risco</td>\n",
       "    </tr>\n",
       "    <tr>\n",
       "      <th>...</th>\n",
       "      <td>...</td>\n",
       "      <td>...</td>\n",
       "      <td>...</td>\n",
       "      <td>...</td>\n",
       "      <td>...</td>\n",
       "      <td>...</td>\n",
       "      <td>...</td>\n",
       "      <td>...</td>\n",
       "      <td>...</td>\n",
       "      <td>...</td>\n",
       "      <td>...</td>\n",
       "      <td>...</td>\n",
       "      <td>...</td>\n",
       "      <td>...</td>\n",
       "      <td>...</td>\n",
       "    </tr>\n",
       "    <tr>\n",
       "      <th>537</th>\n",
       "      <td>543</td>\n",
       "      <td>Masculino</td>\n",
       "      <td>Autônomo</td>\n",
       "      <td>Ensino Médio Completo</td>\n",
       "      <td>3533</td>\n",
       "      <td>46</td>\n",
       "      <td>172.0</td>\n",
       "      <td>207</td>\n",
       "      <td>9</td>\n",
       "      <td>GO</td>\n",
       "      <td>Goiás</td>\n",
       "      <td>Centro-Oeste</td>\n",
       "      <td>Brasil</td>\n",
       "      <td>1</td>\n",
       "      <td>Baixo Risco</td>\n",
       "    </tr>\n",
       "    <tr>\n",
       "      <th>538</th>\n",
       "      <td>544</td>\n",
       "      <td>Masculino</td>\n",
       "      <td>Autônomo</td>\n",
       "      <td>Ensino Médio Incompleto</td>\n",
       "      <td>1100</td>\n",
       "      <td>36</td>\n",
       "      <td>129.0</td>\n",
       "      <td>157</td>\n",
       "      <td>5</td>\n",
       "      <td>BA</td>\n",
       "      <td>Bahia</td>\n",
       "      <td>Nordeste</td>\n",
       "      <td>Brasil</td>\n",
       "      <td>2</td>\n",
       "      <td>Alto Risco</td>\n",
       "    </tr>\n",
       "    <tr>\n",
       "      <th>539</th>\n",
       "      <td>545</td>\n",
       "      <td>Masculino</td>\n",
       "      <td>Aposentado</td>\n",
       "      <td>Ensino Médio Incompleto</td>\n",
       "      <td>4110</td>\n",
       "      <td>72</td>\n",
       "      <td>107.0</td>\n",
       "      <td>115</td>\n",
       "      <td>1</td>\n",
       "      <td>AC</td>\n",
       "      <td>Acre</td>\n",
       "      <td>Norte</td>\n",
       "      <td>Brasil</td>\n",
       "      <td>0</td>\n",
       "      <td>Risco Moderado</td>\n",
       "    </tr>\n",
       "    <tr>\n",
       "      <th>540</th>\n",
       "      <td>546</td>\n",
       "      <td>Masculino</td>\n",
       "      <td>Funcionário Setor Privado</td>\n",
       "      <td>Ensino Médio Incompleto</td>\n",
       "      <td>1100</td>\n",
       "      <td>35</td>\n",
       "      <td>117.0</td>\n",
       "      <td>147</td>\n",
       "      <td>5</td>\n",
       "      <td>BA</td>\n",
       "      <td>Bahia</td>\n",
       "      <td>Nordeste</td>\n",
       "      <td>Brasil</td>\n",
       "      <td>0</td>\n",
       "      <td>Risco Moderado</td>\n",
       "    </tr>\n",
       "    <tr>\n",
       "      <th>541</th>\n",
       "      <td>547</td>\n",
       "      <td>Masculino</td>\n",
       "      <td>Funcionário Público</td>\n",
       "      <td>Ensino Médio Completo</td>\n",
       "      <td>4925</td>\n",
       "      <td>33</td>\n",
       "      <td>148.0</td>\n",
       "      <td>176</td>\n",
       "      <td>26</td>\n",
       "      <td>SE</td>\n",
       "      <td>Sergipe</td>\n",
       "      <td>Nordeste</td>\n",
       "      <td>Brasil</td>\n",
       "      <td>2</td>\n",
       "      <td>Alto Risco</td>\n",
       "    </tr>\n",
       "  </tbody>\n",
       "</table>\n",
       "<p>542 rows × 15 columns</p>\n",
       "</div>"
      ],
      "text/plain": [
       "     cod_cliente     genero            classe_trabalho  \\\n",
       "0              1  Masculino           Servidor Público   \n",
       "1              2  Masculino                   Autônomo   \n",
       "2              3  Masculino  Funcionário Setor Privado   \n",
       "3              4   Feminino  Funcionário Setor Privado   \n",
       "4              5  Masculino  Funcionário Setor Privado   \n",
       "..           ...        ...                        ...   \n",
       "537          543  Masculino                   Autônomo   \n",
       "538          544  Masculino                   Autônomo   \n",
       "539          545  Masculino                 Aposentado   \n",
       "540          546  Masculino  Funcionário Setor Privado   \n",
       "541          547  Masculino        Funcionário Público   \n",
       "\n",
       "                escolaridade  salario  idade   peso  colesterol  id_estado  \\\n",
       "0      Ensino Médio Completo     4754     39  102.0         111          2   \n",
       "1        Superior Incompleto     3923     50  115.0         135         24   \n",
       "2    Ensino Médio Incompleto     1100     38  115.0         136          4   \n",
       "3    Ensino Médio Incompleto     1100     53  140.0         167         24   \n",
       "4      Ensino Médio Completo     3430     28  130.0         158         15   \n",
       "..                       ...      ...    ...    ...         ...        ...   \n",
       "537    Ensino Médio Completo     3533     46  172.0         207          9   \n",
       "538  Ensino Médio Incompleto     1100     36  129.0         157          5   \n",
       "539  Ensino Médio Incompleto     4110     72  107.0         115          1   \n",
       "540  Ensino Médio Incompleto     1100     35  117.0         147          5   \n",
       "541    Ensino Médio Completo     4925     33  148.0         176         26   \n",
       "\n",
       "    sigla          estado        regiao    pais  cluster    nome_cluster  \n",
       "0      AL         Alagoas      Nordeste  Brasil        0  Risco Moderado  \n",
       "1      SC  Santa Catarina           Sul  Brasil        0  Risco Moderado  \n",
       "2      AM        Amazonas         Norte  Brasil        0  Risco Moderado  \n",
       "3      SC  Santa Catarina           Sul  Brasil        2      Alto Risco  \n",
       "4      PB         Paraíba      Nordeste  Brasil        2      Alto Risco  \n",
       "..    ...             ...           ...     ...      ...             ...  \n",
       "537    GO           Goiás  Centro-Oeste  Brasil        1     Baixo Risco  \n",
       "538    BA           Bahia      Nordeste  Brasil        2      Alto Risco  \n",
       "539    AC            Acre         Norte  Brasil        0  Risco Moderado  \n",
       "540    BA           Bahia      Nordeste  Brasil        0  Risco Moderado  \n",
       "541    SE         Sergipe      Nordeste  Brasil        2      Alto Risco  \n",
       "\n",
       "[542 rows x 15 columns]"
      ]
     },
     "execution_count": 382,
     "metadata": {},
     "output_type": "execute_result"
    }
   ],
   "source": [
    "cluster_clientes"
   ]
  },
  {
   "cell_type": "markdown",
   "metadata": {
    "id": "HGEiXygfToTc"
   },
   "source": [
    "# Análises dos clusters criados"
   ]
  },
  {
   "cell_type": "code",
   "execution_count": 383,
   "metadata": {},
   "outputs": [
    {
     "data": {
      "text/html": [
       "<div>\n",
       "<style scoped>\n",
       "    .dataframe tbody tr th:only-of-type {\n",
       "        vertical-align: middle;\n",
       "    }\n",
       "\n",
       "    .dataframe tbody tr th {\n",
       "        vertical-align: top;\n",
       "    }\n",
       "\n",
       "    .dataframe thead th {\n",
       "        text-align: right;\n",
       "    }\n",
       "</style>\n",
       "<table border=\"1\" class=\"dataframe\">\n",
       "  <thead>\n",
       "    <tr style=\"text-align: right;\">\n",
       "      <th></th>\n",
       "      <th>cod_cliente</th>\n",
       "      <th>genero</th>\n",
       "      <th>classe_trabalho</th>\n",
       "      <th>escolaridade</th>\n",
       "      <th>salario</th>\n",
       "      <th>idade</th>\n",
       "      <th>peso</th>\n",
       "      <th>colesterol</th>\n",
       "      <th>id_estado</th>\n",
       "      <th>sigla</th>\n",
       "      <th>estado</th>\n",
       "      <th>regiao</th>\n",
       "      <th>pais</th>\n",
       "      <th>cluster</th>\n",
       "      <th>nome_cluster</th>\n",
       "    </tr>\n",
       "  </thead>\n",
       "  <tbody>\n",
       "    <tr>\n",
       "      <th>0</th>\n",
       "      <td>1</td>\n",
       "      <td>Masculino</td>\n",
       "      <td>Servidor Público</td>\n",
       "      <td>Ensino Médio Completo</td>\n",
       "      <td>4754</td>\n",
       "      <td>39</td>\n",
       "      <td>102.0</td>\n",
       "      <td>111</td>\n",
       "      <td>2</td>\n",
       "      <td>AL</td>\n",
       "      <td>Alagoas</td>\n",
       "      <td>Nordeste</td>\n",
       "      <td>Brasil</td>\n",
       "      <td>0</td>\n",
       "      <td>Risco Moderado</td>\n",
       "    </tr>\n",
       "    <tr>\n",
       "      <th>1</th>\n",
       "      <td>2</td>\n",
       "      <td>Masculino</td>\n",
       "      <td>Autônomo</td>\n",
       "      <td>Superior Incompleto</td>\n",
       "      <td>3923</td>\n",
       "      <td>50</td>\n",
       "      <td>115.0</td>\n",
       "      <td>135</td>\n",
       "      <td>24</td>\n",
       "      <td>SC</td>\n",
       "      <td>Santa Catarina</td>\n",
       "      <td>Sul</td>\n",
       "      <td>Brasil</td>\n",
       "      <td>0</td>\n",
       "      <td>Risco Moderado</td>\n",
       "    </tr>\n",
       "    <tr>\n",
       "      <th>2</th>\n",
       "      <td>3</td>\n",
       "      <td>Masculino</td>\n",
       "      <td>Funcionário Setor Privado</td>\n",
       "      <td>Ensino Médio Incompleto</td>\n",
       "      <td>1100</td>\n",
       "      <td>38</td>\n",
       "      <td>115.0</td>\n",
       "      <td>136</td>\n",
       "      <td>4</td>\n",
       "      <td>AM</td>\n",
       "      <td>Amazonas</td>\n",
       "      <td>Norte</td>\n",
       "      <td>Brasil</td>\n",
       "      <td>0</td>\n",
       "      <td>Risco Moderado</td>\n",
       "    </tr>\n",
       "    <tr>\n",
       "      <th>3</th>\n",
       "      <td>4</td>\n",
       "      <td>Feminino</td>\n",
       "      <td>Funcionário Setor Privado</td>\n",
       "      <td>Ensino Médio Incompleto</td>\n",
       "      <td>1100</td>\n",
       "      <td>53</td>\n",
       "      <td>140.0</td>\n",
       "      <td>167</td>\n",
       "      <td>24</td>\n",
       "      <td>SC</td>\n",
       "      <td>Santa Catarina</td>\n",
       "      <td>Sul</td>\n",
       "      <td>Brasil</td>\n",
       "      <td>2</td>\n",
       "      <td>Alto Risco</td>\n",
       "    </tr>\n",
       "    <tr>\n",
       "      <th>4</th>\n",
       "      <td>5</td>\n",
       "      <td>Masculino</td>\n",
       "      <td>Funcionário Setor Privado</td>\n",
       "      <td>Ensino Médio Completo</td>\n",
       "      <td>3430</td>\n",
       "      <td>28</td>\n",
       "      <td>130.0</td>\n",
       "      <td>158</td>\n",
       "      <td>15</td>\n",
       "      <td>PB</td>\n",
       "      <td>Paraíba</td>\n",
       "      <td>Nordeste</td>\n",
       "      <td>Brasil</td>\n",
       "      <td>2</td>\n",
       "      <td>Alto Risco</td>\n",
       "    </tr>\n",
       "    <tr>\n",
       "      <th>...</th>\n",
       "      <td>...</td>\n",
       "      <td>...</td>\n",
       "      <td>...</td>\n",
       "      <td>...</td>\n",
       "      <td>...</td>\n",
       "      <td>...</td>\n",
       "      <td>...</td>\n",
       "      <td>...</td>\n",
       "      <td>...</td>\n",
       "      <td>...</td>\n",
       "      <td>...</td>\n",
       "      <td>...</td>\n",
       "      <td>...</td>\n",
       "      <td>...</td>\n",
       "      <td>...</td>\n",
       "    </tr>\n",
       "    <tr>\n",
       "      <th>537</th>\n",
       "      <td>543</td>\n",
       "      <td>Masculino</td>\n",
       "      <td>Autônomo</td>\n",
       "      <td>Ensino Médio Completo</td>\n",
       "      <td>3533</td>\n",
       "      <td>46</td>\n",
       "      <td>172.0</td>\n",
       "      <td>207</td>\n",
       "      <td>9</td>\n",
       "      <td>GO</td>\n",
       "      <td>Goiás</td>\n",
       "      <td>Centro-Oeste</td>\n",
       "      <td>Brasil</td>\n",
       "      <td>1</td>\n",
       "      <td>Baixo Risco</td>\n",
       "    </tr>\n",
       "    <tr>\n",
       "      <th>538</th>\n",
       "      <td>544</td>\n",
       "      <td>Masculino</td>\n",
       "      <td>Autônomo</td>\n",
       "      <td>Ensino Médio Incompleto</td>\n",
       "      <td>1100</td>\n",
       "      <td>36</td>\n",
       "      <td>129.0</td>\n",
       "      <td>157</td>\n",
       "      <td>5</td>\n",
       "      <td>BA</td>\n",
       "      <td>Bahia</td>\n",
       "      <td>Nordeste</td>\n",
       "      <td>Brasil</td>\n",
       "      <td>2</td>\n",
       "      <td>Alto Risco</td>\n",
       "    </tr>\n",
       "    <tr>\n",
       "      <th>539</th>\n",
       "      <td>545</td>\n",
       "      <td>Masculino</td>\n",
       "      <td>Aposentado</td>\n",
       "      <td>Ensino Médio Incompleto</td>\n",
       "      <td>4110</td>\n",
       "      <td>72</td>\n",
       "      <td>107.0</td>\n",
       "      <td>115</td>\n",
       "      <td>1</td>\n",
       "      <td>AC</td>\n",
       "      <td>Acre</td>\n",
       "      <td>Norte</td>\n",
       "      <td>Brasil</td>\n",
       "      <td>0</td>\n",
       "      <td>Risco Moderado</td>\n",
       "    </tr>\n",
       "    <tr>\n",
       "      <th>540</th>\n",
       "      <td>546</td>\n",
       "      <td>Masculino</td>\n",
       "      <td>Funcionário Setor Privado</td>\n",
       "      <td>Ensino Médio Incompleto</td>\n",
       "      <td>1100</td>\n",
       "      <td>35</td>\n",
       "      <td>117.0</td>\n",
       "      <td>147</td>\n",
       "      <td>5</td>\n",
       "      <td>BA</td>\n",
       "      <td>Bahia</td>\n",
       "      <td>Nordeste</td>\n",
       "      <td>Brasil</td>\n",
       "      <td>0</td>\n",
       "      <td>Risco Moderado</td>\n",
       "    </tr>\n",
       "    <tr>\n",
       "      <th>541</th>\n",
       "      <td>547</td>\n",
       "      <td>Masculino</td>\n",
       "      <td>Funcionário Público</td>\n",
       "      <td>Ensino Médio Completo</td>\n",
       "      <td>4925</td>\n",
       "      <td>33</td>\n",
       "      <td>148.0</td>\n",
       "      <td>176</td>\n",
       "      <td>26</td>\n",
       "      <td>SE</td>\n",
       "      <td>Sergipe</td>\n",
       "      <td>Nordeste</td>\n",
       "      <td>Brasil</td>\n",
       "      <td>2</td>\n",
       "      <td>Alto Risco</td>\n",
       "    </tr>\n",
       "  </tbody>\n",
       "</table>\n",
       "<p>542 rows × 15 columns</p>\n",
       "</div>"
      ],
      "text/plain": [
       "     cod_cliente     genero            classe_trabalho  \\\n",
       "0              1  Masculino           Servidor Público   \n",
       "1              2  Masculino                   Autônomo   \n",
       "2              3  Masculino  Funcionário Setor Privado   \n",
       "3              4   Feminino  Funcionário Setor Privado   \n",
       "4              5  Masculino  Funcionário Setor Privado   \n",
       "..           ...        ...                        ...   \n",
       "537          543  Masculino                   Autônomo   \n",
       "538          544  Masculino                   Autônomo   \n",
       "539          545  Masculino                 Aposentado   \n",
       "540          546  Masculino  Funcionário Setor Privado   \n",
       "541          547  Masculino        Funcionário Público   \n",
       "\n",
       "                escolaridade  salario  idade   peso  colesterol  id_estado  \\\n",
       "0      Ensino Médio Completo     4754     39  102.0         111          2   \n",
       "1        Superior Incompleto     3923     50  115.0         135         24   \n",
       "2    Ensino Médio Incompleto     1100     38  115.0         136          4   \n",
       "3    Ensino Médio Incompleto     1100     53  140.0         167         24   \n",
       "4      Ensino Médio Completo     3430     28  130.0         158         15   \n",
       "..                       ...      ...    ...    ...         ...        ...   \n",
       "537    Ensino Médio Completo     3533     46  172.0         207          9   \n",
       "538  Ensino Médio Incompleto     1100     36  129.0         157          5   \n",
       "539  Ensino Médio Incompleto     4110     72  107.0         115          1   \n",
       "540  Ensino Médio Incompleto     1100     35  117.0         147          5   \n",
       "541    Ensino Médio Completo     4925     33  148.0         176         26   \n",
       "\n",
       "    sigla          estado        regiao    pais  cluster    nome_cluster  \n",
       "0      AL         Alagoas      Nordeste  Brasil        0  Risco Moderado  \n",
       "1      SC  Santa Catarina           Sul  Brasil        0  Risco Moderado  \n",
       "2      AM        Amazonas         Norte  Brasil        0  Risco Moderado  \n",
       "3      SC  Santa Catarina           Sul  Brasil        2      Alto Risco  \n",
       "4      PB         Paraíba      Nordeste  Brasil        2      Alto Risco  \n",
       "..    ...             ...           ...     ...      ...             ...  \n",
       "537    GO           Goiás  Centro-Oeste  Brasil        1     Baixo Risco  \n",
       "538    BA           Bahia      Nordeste  Brasil        2      Alto Risco  \n",
       "539    AC            Acre         Norte  Brasil        0  Risco Moderado  \n",
       "540    BA           Bahia      Nordeste  Brasil        0  Risco Moderado  \n",
       "541    SE         Sergipe      Nordeste  Brasil        2      Alto Risco  \n",
       "\n",
       "[542 rows x 15 columns]"
      ]
     },
     "execution_count": 383,
     "metadata": {},
     "output_type": "execute_result"
    }
   ],
   "source": [
    "cluster_clientes"
   ]
  },
  {
   "cell_type": "code",
   "execution_count": 384,
   "metadata": {
    "colab": {
     "base_uri": "https://localhost:8080/",
     "height": 173
    },
    "executionInfo": {
     "elapsed": 122,
     "status": "ok",
     "timestamp": 1628820282227,
     "user": {
      "displayName": "Prof. Leandro Lessa",
      "photoUrl": "https://lh3.googleusercontent.com/a-/AOh14GjOFTHd5R6mZqpiAveor8rupG9YPM_LbwR5AmNPtg=s64",
      "userId": "09430483952296203154"
     },
     "user_tz": 180
    },
    "id": "J4fFSkQjUdU_",
    "outputId": "85f6ccd6-73fe-4dac-9c9d-3c9505158094"
   },
   "outputs": [
    {
     "data": {
      "text/html": [
       "<div>\n",
       "<style scoped>\n",
       "    .dataframe tbody tr th:only-of-type {\n",
       "        vertical-align: middle;\n",
       "    }\n",
       "\n",
       "    .dataframe tbody tr th {\n",
       "        vertical-align: top;\n",
       "    }\n",
       "\n",
       "    .dataframe thead th {\n",
       "        text-align: right;\n",
       "    }\n",
       "</style>\n",
       "<table border=\"1\" class=\"dataframe\">\n",
       "  <thead>\n",
       "    <tr style=\"text-align: right;\">\n",
       "      <th></th>\n",
       "      <th>count</th>\n",
       "      <th>mean</th>\n",
       "      <th>std</th>\n",
       "      <th>min</th>\n",
       "      <th>25%</th>\n",
       "      <th>50%</th>\n",
       "      <th>75%</th>\n",
       "      <th>max</th>\n",
       "    </tr>\n",
       "    <tr>\n",
       "      <th>nome_cluster</th>\n",
       "      <th></th>\n",
       "      <th></th>\n",
       "      <th></th>\n",
       "      <th></th>\n",
       "      <th></th>\n",
       "      <th></th>\n",
       "      <th></th>\n",
       "      <th></th>\n",
       "    </tr>\n",
       "  </thead>\n",
       "  <tbody>\n",
       "    <tr>\n",
       "      <th>Alto Risco</th>\n",
       "      <td>183.0</td>\n",
       "      <td>37.218579</td>\n",
       "      <td>11.761657</td>\n",
       "      <td>17.0</td>\n",
       "      <td>28.0</td>\n",
       "      <td>36.0</td>\n",
       "      <td>45.00</td>\n",
       "      <td>71.0</td>\n",
       "    </tr>\n",
       "    <tr>\n",
       "      <th>Baixo Risco</th>\n",
       "      <td>169.0</td>\n",
       "      <td>38.147929</td>\n",
       "      <td>13.612691</td>\n",
       "      <td>17.0</td>\n",
       "      <td>28.0</td>\n",
       "      <td>36.0</td>\n",
       "      <td>46.00</td>\n",
       "      <td>80.0</td>\n",
       "    </tr>\n",
       "    <tr>\n",
       "      <th>Risco Moderado</th>\n",
       "      <td>190.0</td>\n",
       "      <td>38.642105</td>\n",
       "      <td>14.978232</td>\n",
       "      <td>17.0</td>\n",
       "      <td>27.0</td>\n",
       "      <td>37.0</td>\n",
       "      <td>47.75</td>\n",
       "      <td>90.0</td>\n",
       "    </tr>\n",
       "  </tbody>\n",
       "</table>\n",
       "</div>"
      ],
      "text/plain": [
       "                count       mean        std   min   25%   50%    75%   max\n",
       "nome_cluster                                                              \n",
       "Alto Risco      183.0  37.218579  11.761657  17.0  28.0  36.0  45.00  71.0\n",
       "Baixo Risco     169.0  38.147929  13.612691  17.0  28.0  36.0  46.00  80.0\n",
       "Risco Moderado  190.0  38.642105  14.978232  17.0  27.0  37.0  47.75  90.0"
      ]
     },
     "execution_count": 384,
     "metadata": {},
     "output_type": "execute_result"
    }
   ],
   "source": [
    "# Verifica os valores de idade por cluster\n",
    "cluster_clientes.groupby('nome_cluster')['idade'].describe()"
   ]
  },
  {
   "cell_type": "code",
   "execution_count": 385,
   "metadata": {},
   "outputs": [
    {
     "data": {
      "text/html": [
       "<div>\n",
       "<style scoped>\n",
       "    .dataframe tbody tr th:only-of-type {\n",
       "        vertical-align: middle;\n",
       "    }\n",
       "\n",
       "    .dataframe tbody tr th {\n",
       "        vertical-align: top;\n",
       "    }\n",
       "\n",
       "    .dataframe thead th {\n",
       "        text-align: right;\n",
       "    }\n",
       "</style>\n",
       "<table border=\"1\" class=\"dataframe\">\n",
       "  <thead>\n",
       "    <tr style=\"text-align: right;\">\n",
       "      <th></th>\n",
       "      <th>count</th>\n",
       "      <th>mean</th>\n",
       "      <th>std</th>\n",
       "      <th>min</th>\n",
       "      <th>25%</th>\n",
       "      <th>50%</th>\n",
       "      <th>75%</th>\n",
       "      <th>max</th>\n",
       "    </tr>\n",
       "    <tr>\n",
       "      <th>nome_cluster</th>\n",
       "      <th></th>\n",
       "      <th></th>\n",
       "      <th></th>\n",
       "      <th></th>\n",
       "      <th></th>\n",
       "      <th></th>\n",
       "      <th></th>\n",
       "      <th></th>\n",
       "    </tr>\n",
       "  </thead>\n",
       "  <tbody>\n",
       "    <tr>\n",
       "      <th>Alto Risco</th>\n",
       "      <td>183.0</td>\n",
       "      <td>3337.781421</td>\n",
       "      <td>3235.014451</td>\n",
       "      <td>1100.0</td>\n",
       "      <td>1100.0</td>\n",
       "      <td>2583.0</td>\n",
       "      <td>3665.0</td>\n",
       "      <td>17682.0</td>\n",
       "    </tr>\n",
       "    <tr>\n",
       "      <th>Baixo Risco</th>\n",
       "      <td>169.0</td>\n",
       "      <td>3311.982249</td>\n",
       "      <td>2968.941790</td>\n",
       "      <td>0.0</td>\n",
       "      <td>1100.0</td>\n",
       "      <td>2622.0</td>\n",
       "      <td>3816.0</td>\n",
       "      <td>19727.0</td>\n",
       "    </tr>\n",
       "    <tr>\n",
       "      <th>Risco Moderado</th>\n",
       "      <td>190.0</td>\n",
       "      <td>3374.247368</td>\n",
       "      <td>2888.404372</td>\n",
       "      <td>2.0</td>\n",
       "      <td>1100.0</td>\n",
       "      <td>2808.5</td>\n",
       "      <td>3906.0</td>\n",
       "      <td>17397.0</td>\n",
       "    </tr>\n",
       "  </tbody>\n",
       "</table>\n",
       "</div>"
      ],
      "text/plain": [
       "                count         mean          std     min     25%     50%  \\\n",
       "nome_cluster                                                              \n",
       "Alto Risco      183.0  3337.781421  3235.014451  1100.0  1100.0  2583.0   \n",
       "Baixo Risco     169.0  3311.982249  2968.941790     0.0  1100.0  2622.0   \n",
       "Risco Moderado  190.0  3374.247368  2888.404372     2.0  1100.0  2808.5   \n",
       "\n",
       "                   75%      max  \n",
       "nome_cluster                     \n",
       "Alto Risco      3665.0  17682.0  \n",
       "Baixo Risco     3816.0  19727.0  \n",
       "Risco Moderado  3906.0  17397.0  "
      ]
     },
     "execution_count": 385,
     "metadata": {},
     "output_type": "execute_result"
    }
   ],
   "source": [
    "# Verifica os valores de idade por cluster\n",
    "cluster_clientes.groupby('nome_cluster')['salario'].describe()"
   ]
  },
  {
   "cell_type": "code",
   "execution_count": 309,
   "metadata": {},
   "outputs": [
    {
     "name": "stdout",
     "output_type": "stream",
     "text": [
      "O grupo que possui a maior média de salário é 'Risco Moderado' com média de salário de R$3374.25.\n"
     ]
    }
   ],
   "source": [
    "# Calcular a média de salário por grupo\n",
    "media_salario_por_grupo = cluster_clientes.groupby('nome_cluster')['salario'].mean()\n",
    "\n",
    "# Encontrar o grupo com a maior média de salário\n",
    "grupo_maior_media_salario = media_salario_por_grupo.idxmax()\n",
    "maior_media_salario = media_salario_por_grupo.max()\n",
    "\n",
    "# Exibir o resultado\n",
    "print(f\"O grupo que possui a maior média de salário é '{grupo_maior_media_salario}' com média de salário de R${maior_media_salario:.2f}.\")\n"
   ]
  },
  {
   "cell_type": "code",
   "execution_count": 310,
   "metadata": {},
   "outputs": [
    {
     "name": "stdout",
     "output_type": "stream",
     "text": [
      "Média de salário por grupo:\n",
      "nome_cluster\n",
      "Alto Risco        3337.781421\n",
      "Baixo Risco       3311.982249\n",
      "Risco Moderado    3374.247368\n",
      "Name: salario, dtype: float64\n"
     ]
    }
   ],
   "source": [
    "# Calcular a média de salário por grupo\n",
    "media_salario_por_grupo = cluster_clientes.groupby('nome_cluster')['salario'].mean()\n",
    "\n",
    "# Exibir a média de salário para todos os grupos\n",
    "print(\"Média de salário por grupo:\")\n",
    "print(media_salario_por_grupo)"
   ]
  },
  {
   "cell_type": "code",
   "execution_count": 208,
   "metadata": {
    "colab": {
     "base_uri": "https://localhost:8080/",
     "height": 173
    },
    "executionInfo": {
     "elapsed": 123,
     "status": "ok",
     "timestamp": 1628820282230,
     "user": {
      "displayName": "Prof. Leandro Lessa",
      "photoUrl": "https://lh3.googleusercontent.com/a-/AOh14GjOFTHd5R6mZqpiAveor8rupG9YPM_LbwR5AmNPtg=s64",
      "userId": "09430483952296203154"
     },
     "user_tz": 180
    },
    "id": "5hO0iredUjZp",
    "outputId": "02ebfa47-4d58-42d7-db6d-f19391212ad9"
   },
   "outputs": [
    {
     "data": {
      "text/html": [
       "<div>\n",
       "<style scoped>\n",
       "    .dataframe tbody tr th:only-of-type {\n",
       "        vertical-align: middle;\n",
       "    }\n",
       "\n",
       "    .dataframe tbody tr th {\n",
       "        vertical-align: top;\n",
       "    }\n",
       "\n",
       "    .dataframe thead th {\n",
       "        text-align: right;\n",
       "    }\n",
       "</style>\n",
       "<table border=\"1\" class=\"dataframe\">\n",
       "  <thead>\n",
       "    <tr style=\"text-align: right;\">\n",
       "      <th></th>\n",
       "      <th>count</th>\n",
       "      <th>unique</th>\n",
       "      <th>top</th>\n",
       "      <th>freq</th>\n",
       "    </tr>\n",
       "    <tr>\n",
       "      <th>nome_cluster</th>\n",
       "      <th></th>\n",
       "      <th></th>\n",
       "      <th></th>\n",
       "      <th></th>\n",
       "    </tr>\n",
       "  </thead>\n",
       "  <tbody>\n",
       "    <tr>\n",
       "      <th>Alto Risco</th>\n",
       "      <td>183</td>\n",
       "      <td>27</td>\n",
       "      <td>TO</td>\n",
       "      <td>16</td>\n",
       "    </tr>\n",
       "    <tr>\n",
       "      <th>Baixo Risco</th>\n",
       "      <td>169</td>\n",
       "      <td>27</td>\n",
       "      <td>TO</td>\n",
       "      <td>11</td>\n",
       "    </tr>\n",
       "    <tr>\n",
       "      <th>Risco Moderado</th>\n",
       "      <td>190</td>\n",
       "      <td>27</td>\n",
       "      <td>RO</td>\n",
       "      <td>12</td>\n",
       "    </tr>\n",
       "  </tbody>\n",
       "</table>\n",
       "</div>"
      ],
      "text/plain": [
       "               count unique top freq\n",
       "nome_cluster                        \n",
       "Alto Risco       183     27  TO   16\n",
       "Baixo Risco      169     27  TO   11\n",
       "Risco Moderado   190     27  RO   12"
      ]
     },
     "execution_count": 208,
     "metadata": {},
     "output_type": "execute_result"
    }
   ],
   "source": [
    "# Verifica os valores de estado por cluster\n",
    "cluster_clientes.groupby('nome_cluster')['sigla'].describe()"
   ]
  },
  {
   "cell_type": "code",
   "execution_count": 209,
   "metadata": {
    "colab": {
     "base_uri": "https://localhost:8080/",
     "height": 235
    },
    "executionInfo": {
     "elapsed": 121,
     "status": "ok",
     "timestamp": 1628820282231,
     "user": {
      "displayName": "Prof. Leandro Lessa",
      "photoUrl": "https://lh3.googleusercontent.com/a-/AOh14GjOFTHd5R6mZqpiAveor8rupG9YPM_LbwR5AmNPtg=s64",
      "userId": "09430483952296203154"
     },
     "user_tz": 180
    },
    "id": "5xl4LHvXWvpN",
    "outputId": "23135439-17bf-4d06-b5c3-3519ec0c58ab"
   },
   "outputs": [
    {
     "data": {
      "text/html": [
       "<div>\n",
       "<style scoped>\n",
       "    .dataframe tbody tr th:only-of-type {\n",
       "        vertical-align: middle;\n",
       "    }\n",
       "\n",
       "    .dataframe tbody tr th {\n",
       "        vertical-align: top;\n",
       "    }\n",
       "\n",
       "    .dataframe thead th {\n",
       "        text-align: right;\n",
       "    }\n",
       "</style>\n",
       "<table border=\"1\" class=\"dataframe\">\n",
       "  <thead>\n",
       "    <tr style=\"text-align: right;\">\n",
       "      <th></th>\n",
       "      <th>cod_cliente</th>\n",
       "      <th>genero</th>\n",
       "      <th>escolaridade</th>\n",
       "      <th>idade</th>\n",
       "      <th>peso</th>\n",
       "      <th>colesterol</th>\n",
       "      <th>id_estado</th>\n",
       "      <th>sigla</th>\n",
       "      <th>regiao</th>\n",
       "      <th>pais</th>\n",
       "      <th>cluster</th>\n",
       "      <th>nome_cluster</th>\n",
       "    </tr>\n",
       "  </thead>\n",
       "  <tbody>\n",
       "    <tr>\n",
       "      <th>32</th>\n",
       "      <td>33</td>\n",
       "      <td>Masculino</td>\n",
       "      <td>Ensino Médio Completo</td>\n",
       "      <td>45</td>\n",
       "      <td>151.0</td>\n",
       "      <td>188</td>\n",
       "      <td>27</td>\n",
       "      <td>TO</td>\n",
       "      <td>Norte</td>\n",
       "      <td>Brasil</td>\n",
       "      <td>2</td>\n",
       "      <td>Alto Risco</td>\n",
       "    </tr>\n",
       "    <tr>\n",
       "      <th>59</th>\n",
       "      <td>60</td>\n",
       "      <td>Masculino</td>\n",
       "      <td>Ensino Médio Incompleto</td>\n",
       "      <td>30</td>\n",
       "      <td>145.0</td>\n",
       "      <td>175</td>\n",
       "      <td>27</td>\n",
       "      <td>TO</td>\n",
       "      <td>Norte</td>\n",
       "      <td>Brasil</td>\n",
       "      <td>2</td>\n",
       "      <td>Alto Risco</td>\n",
       "    </tr>\n",
       "    <tr>\n",
       "      <th>63</th>\n",
       "      <td>65</td>\n",
       "      <td>Feminino</td>\n",
       "      <td>Ensino Médio Completo</td>\n",
       "      <td>29</td>\n",
       "      <td>139.0</td>\n",
       "      <td>167</td>\n",
       "      <td>27</td>\n",
       "      <td>TO</td>\n",
       "      <td>Norte</td>\n",
       "      <td>Brasil</td>\n",
       "      <td>2</td>\n",
       "      <td>Alto Risco</td>\n",
       "    </tr>\n",
       "    <tr>\n",
       "      <th>133</th>\n",
       "      <td>136</td>\n",
       "      <td>Feminino</td>\n",
       "      <td>Ensino Médio Incompleto</td>\n",
       "      <td>43</td>\n",
       "      <td>156.0</td>\n",
       "      <td>195</td>\n",
       "      <td>27</td>\n",
       "      <td>TO</td>\n",
       "      <td>Norte</td>\n",
       "      <td>Brasil</td>\n",
       "      <td>2</td>\n",
       "      <td>Alto Risco</td>\n",
       "    </tr>\n",
       "    <tr>\n",
       "      <th>159</th>\n",
       "      <td>163</td>\n",
       "      <td>Feminino</td>\n",
       "      <td>Ensino Médio Incompleto</td>\n",
       "      <td>28</td>\n",
       "      <td>138.0</td>\n",
       "      <td>168</td>\n",
       "      <td>27</td>\n",
       "      <td>TO</td>\n",
       "      <td>Norte</td>\n",
       "      <td>Brasil</td>\n",
       "      <td>2</td>\n",
       "      <td>Alto Risco</td>\n",
       "    </tr>\n",
       "    <tr>\n",
       "      <th>170</th>\n",
       "      <td>174</td>\n",
       "      <td>Masculino</td>\n",
       "      <td>Ensino Médio Completo</td>\n",
       "      <td>28</td>\n",
       "      <td>129.0</td>\n",
       "      <td>156</td>\n",
       "      <td>27</td>\n",
       "      <td>TO</td>\n",
       "      <td>Norte</td>\n",
       "      <td>Brasil</td>\n",
       "      <td>2</td>\n",
       "      <td>Alto Risco</td>\n",
       "    </tr>\n",
       "    <tr>\n",
       "      <th>177</th>\n",
       "      <td>181</td>\n",
       "      <td>Masculino</td>\n",
       "      <td>Ensino Médio Completo</td>\n",
       "      <td>43</td>\n",
       "      <td>152.0</td>\n",
       "      <td>193</td>\n",
       "      <td>27</td>\n",
       "      <td>TO</td>\n",
       "      <td>Norte</td>\n",
       "      <td>Brasil</td>\n",
       "      <td>2</td>\n",
       "      <td>Alto Risco</td>\n",
       "    </tr>\n",
       "    <tr>\n",
       "      <th>217</th>\n",
       "      <td>223</td>\n",
       "      <td>Feminino</td>\n",
       "      <td>Ensino Médio Incompleto</td>\n",
       "      <td>54</td>\n",
       "      <td>144.0</td>\n",
       "      <td>169</td>\n",
       "      <td>27</td>\n",
       "      <td>TO</td>\n",
       "      <td>Norte</td>\n",
       "      <td>Brasil</td>\n",
       "      <td>2</td>\n",
       "      <td>Alto Risco</td>\n",
       "    </tr>\n",
       "    <tr>\n",
       "      <th>232</th>\n",
       "      <td>238</td>\n",
       "      <td>Feminino</td>\n",
       "      <td>Mestrado</td>\n",
       "      <td>38</td>\n",
       "      <td>146.0</td>\n",
       "      <td>181</td>\n",
       "      <td>27</td>\n",
       "      <td>TO</td>\n",
       "      <td>Norte</td>\n",
       "      <td>Brasil</td>\n",
       "      <td>2</td>\n",
       "      <td>Alto Risco</td>\n",
       "    </tr>\n",
       "    <tr>\n",
       "      <th>257</th>\n",
       "      <td>263</td>\n",
       "      <td>Masculino</td>\n",
       "      <td>Ensino Médio Completo</td>\n",
       "      <td>59</td>\n",
       "      <td>153.0</td>\n",
       "      <td>191</td>\n",
       "      <td>27</td>\n",
       "      <td>TO</td>\n",
       "      <td>Norte</td>\n",
       "      <td>Brasil</td>\n",
       "      <td>2</td>\n",
       "      <td>Alto Risco</td>\n",
       "    </tr>\n",
       "    <tr>\n",
       "      <th>284</th>\n",
       "      <td>290</td>\n",
       "      <td>Masculino</td>\n",
       "      <td>Ensino Médio Completo</td>\n",
       "      <td>36</td>\n",
       "      <td>148.0</td>\n",
       "      <td>176</td>\n",
       "      <td>27</td>\n",
       "      <td>TO</td>\n",
       "      <td>Norte</td>\n",
       "      <td>Brasil</td>\n",
       "      <td>2</td>\n",
       "      <td>Alto Risco</td>\n",
       "    </tr>\n",
       "    <tr>\n",
       "      <th>358</th>\n",
       "      <td>364</td>\n",
       "      <td>Feminino</td>\n",
       "      <td>Ensino Médio Incompleto</td>\n",
       "      <td>22</td>\n",
       "      <td>157.0</td>\n",
       "      <td>194</td>\n",
       "      <td>27</td>\n",
       "      <td>TO</td>\n",
       "      <td>Norte</td>\n",
       "      <td>Brasil</td>\n",
       "      <td>2</td>\n",
       "      <td>Alto Risco</td>\n",
       "    </tr>\n",
       "    <tr>\n",
       "      <th>369</th>\n",
       "      <td>375</td>\n",
       "      <td>Masculino</td>\n",
       "      <td>Ensino Médio Completo</td>\n",
       "      <td>20</td>\n",
       "      <td>152.0</td>\n",
       "      <td>190</td>\n",
       "      <td>27</td>\n",
       "      <td>TO</td>\n",
       "      <td>Norte</td>\n",
       "      <td>Brasil</td>\n",
       "      <td>2</td>\n",
       "      <td>Alto Risco</td>\n",
       "    </tr>\n",
       "    <tr>\n",
       "      <th>378</th>\n",
       "      <td>384</td>\n",
       "      <td>Feminino</td>\n",
       "      <td>Ensino Médio Incompleto</td>\n",
       "      <td>23</td>\n",
       "      <td>131.0</td>\n",
       "      <td>162</td>\n",
       "      <td>27</td>\n",
       "      <td>TO</td>\n",
       "      <td>Norte</td>\n",
       "      <td>Brasil</td>\n",
       "      <td>2</td>\n",
       "      <td>Alto Risco</td>\n",
       "    </tr>\n",
       "    <tr>\n",
       "      <th>462</th>\n",
       "      <td>468</td>\n",
       "      <td>Feminino</td>\n",
       "      <td>Ensino Médio Incompleto</td>\n",
       "      <td>35</td>\n",
       "      <td>150.0</td>\n",
       "      <td>178</td>\n",
       "      <td>27</td>\n",
       "      <td>TO</td>\n",
       "      <td>Norte</td>\n",
       "      <td>Brasil</td>\n",
       "      <td>2</td>\n",
       "      <td>Alto Risco</td>\n",
       "    </tr>\n",
       "    <tr>\n",
       "      <th>500</th>\n",
       "      <td>506</td>\n",
       "      <td>Feminino</td>\n",
       "      <td>Ensino Fundamental Incompleto</td>\n",
       "      <td>53</td>\n",
       "      <td>132.0</td>\n",
       "      <td>162</td>\n",
       "      <td>27</td>\n",
       "      <td>TO</td>\n",
       "      <td>Norte</td>\n",
       "      <td>Brasil</td>\n",
       "      <td>2</td>\n",
       "      <td>Alto Risco</td>\n",
       "    </tr>\n",
       "  </tbody>\n",
       "</table>\n",
       "</div>"
      ],
      "text/plain": [
       "     cod_cliente     genero                   escolaridade  idade   peso  \\\n",
       "32            33  Masculino          Ensino Médio Completo     45  151.0   \n",
       "59            60  Masculino        Ensino Médio Incompleto     30  145.0   \n",
       "63            65   Feminino          Ensino Médio Completo     29  139.0   \n",
       "133          136   Feminino        Ensino Médio Incompleto     43  156.0   \n",
       "159          163   Feminino        Ensino Médio Incompleto     28  138.0   \n",
       "170          174  Masculino          Ensino Médio Completo     28  129.0   \n",
       "177          181  Masculino          Ensino Médio Completo     43  152.0   \n",
       "217          223   Feminino        Ensino Médio Incompleto     54  144.0   \n",
       "232          238   Feminino                       Mestrado     38  146.0   \n",
       "257          263  Masculino          Ensino Médio Completo     59  153.0   \n",
       "284          290  Masculino          Ensino Médio Completo     36  148.0   \n",
       "358          364   Feminino        Ensino Médio Incompleto     22  157.0   \n",
       "369          375  Masculino          Ensino Médio Completo     20  152.0   \n",
       "378          384   Feminino        Ensino Médio Incompleto     23  131.0   \n",
       "462          468   Feminino        Ensino Médio Incompleto     35  150.0   \n",
       "500          506   Feminino  Ensino Fundamental Incompleto     53  132.0   \n",
       "\n",
       "     colesterol  id_estado sigla regiao    pais  cluster nome_cluster  \n",
       "32          188         27    TO  Norte  Brasil        2   Alto Risco  \n",
       "59          175         27    TO  Norte  Brasil        2   Alto Risco  \n",
       "63          167         27    TO  Norte  Brasil        2   Alto Risco  \n",
       "133         195         27    TO  Norte  Brasil        2   Alto Risco  \n",
       "159         168         27    TO  Norte  Brasil        2   Alto Risco  \n",
       "170         156         27    TO  Norte  Brasil        2   Alto Risco  \n",
       "177         193         27    TO  Norte  Brasil        2   Alto Risco  \n",
       "217         169         27    TO  Norte  Brasil        2   Alto Risco  \n",
       "232         181         27    TO  Norte  Brasil        2   Alto Risco  \n",
       "257         191         27    TO  Norte  Brasil        2   Alto Risco  \n",
       "284         176         27    TO  Norte  Brasil        2   Alto Risco  \n",
       "358         194         27    TO  Norte  Brasil        2   Alto Risco  \n",
       "369         190         27    TO  Norte  Brasil        2   Alto Risco  \n",
       "378         162         27    TO  Norte  Brasil        2   Alto Risco  \n",
       "462         178         27    TO  Norte  Brasil        2   Alto Risco  \n",
       "500         162         27    TO  Norte  Brasil        2   Alto Risco  "
      ]
     },
     "execution_count": 209,
     "metadata": {},
     "output_type": "execute_result"
    }
   ],
   "source": [
    "cluster_clientes.query('nome_cluster == \"Alto Risco\" & sigla == \"TO\"')"
   ]
  },
  {
   "cell_type": "code",
   "execution_count": 210,
   "metadata": {
    "colab": {
     "base_uri": "https://localhost:8080/",
     "height": 266
    },
    "executionInfo": {
     "elapsed": 121,
     "status": "ok",
     "timestamp": 1628820282232,
     "user": {
      "displayName": "Prof. Leandro Lessa",
      "photoUrl": "https://lh3.googleusercontent.com/a-/AOh14GjOFTHd5R6mZqpiAveor8rupG9YPM_LbwR5AmNPtg=s64",
      "userId": "09430483952296203154"
     },
     "user_tz": 180
    },
    "id": "oloNeDHTTUtH",
    "outputId": "2ca58473-9dd1-404f-f60b-3ba4649ec3fd"
   },
   "outputs": [
    {
     "data": {
      "text/html": [
       "<div>\n",
       "<style scoped>\n",
       "    .dataframe tbody tr th:only-of-type {\n",
       "        vertical-align: middle;\n",
       "    }\n",
       "\n",
       "    .dataframe tbody tr th {\n",
       "        vertical-align: top;\n",
       "    }\n",
       "\n",
       "    .dataframe thead th {\n",
       "        text-align: right;\n",
       "    }\n",
       "</style>\n",
       "<table border=\"1\" class=\"dataframe\">\n",
       "  <thead>\n",
       "    <tr style=\"text-align: right;\">\n",
       "      <th></th>\n",
       "      <th></th>\n",
       "      <th>count</th>\n",
       "      <th>mean</th>\n",
       "      <th>std</th>\n",
       "      <th>min</th>\n",
       "      <th>25%</th>\n",
       "      <th>50%</th>\n",
       "      <th>75%</th>\n",
       "      <th>max</th>\n",
       "    </tr>\n",
       "    <tr>\n",
       "      <th>nome_cluster</th>\n",
       "      <th>genero</th>\n",
       "      <th></th>\n",
       "      <th></th>\n",
       "      <th></th>\n",
       "      <th></th>\n",
       "      <th></th>\n",
       "      <th></th>\n",
       "      <th></th>\n",
       "      <th></th>\n",
       "    </tr>\n",
       "  </thead>\n",
       "  <tbody>\n",
       "    <tr>\n",
       "      <th rowspan=\"2\" valign=\"top\">Alto Risco</th>\n",
       "      <th>Feminino</th>\n",
       "      <td>109.0</td>\n",
       "      <td>142.339450</td>\n",
       "      <td>10.312901</td>\n",
       "      <td>124.0</td>\n",
       "      <td>134.00</td>\n",
       "      <td>141.0</td>\n",
       "      <td>153.0</td>\n",
       "      <td>159.0</td>\n",
       "    </tr>\n",
       "    <tr>\n",
       "      <th>Masculino</th>\n",
       "      <td>74.0</td>\n",
       "      <td>141.405405</td>\n",
       "      <td>10.290199</td>\n",
       "      <td>124.0</td>\n",
       "      <td>132.00</td>\n",
       "      <td>145.5</td>\n",
       "      <td>151.0</td>\n",
       "      <td>157.0</td>\n",
       "    </tr>\n",
       "    <tr>\n",
       "      <th rowspan=\"2\" valign=\"top\">Baixo Risco</th>\n",
       "      <th>Feminino</th>\n",
       "      <td>70.0</td>\n",
       "      <td>183.385714</td>\n",
       "      <td>10.488493</td>\n",
       "      <td>158.0</td>\n",
       "      <td>178.25</td>\n",
       "      <td>185.0</td>\n",
       "      <td>191.0</td>\n",
       "      <td>203.0</td>\n",
       "    </tr>\n",
       "    <tr>\n",
       "      <th>Masculino</th>\n",
       "      <td>99.0</td>\n",
       "      <td>181.343434</td>\n",
       "      <td>11.701353</td>\n",
       "      <td>159.0</td>\n",
       "      <td>172.00</td>\n",
       "      <td>180.0</td>\n",
       "      <td>188.0</td>\n",
       "      <td>203.0</td>\n",
       "    </tr>\n",
       "    <tr>\n",
       "      <th rowspan=\"2\" valign=\"top\">Risco Moderado</th>\n",
       "      <th>Feminino</th>\n",
       "      <td>85.0</td>\n",
       "      <td>111.329412</td>\n",
       "      <td>7.925829</td>\n",
       "      <td>96.0</td>\n",
       "      <td>107.00</td>\n",
       "      <td>112.0</td>\n",
       "      <td>117.0</td>\n",
       "      <td>126.0</td>\n",
       "    </tr>\n",
       "    <tr>\n",
       "      <th>Masculino</th>\n",
       "      <td>105.0</td>\n",
       "      <td>109.647619</td>\n",
       "      <td>8.222835</td>\n",
       "      <td>95.0</td>\n",
       "      <td>103.00</td>\n",
       "      <td>108.0</td>\n",
       "      <td>117.0</td>\n",
       "      <td>126.0</td>\n",
       "    </tr>\n",
       "  </tbody>\n",
       "</table>\n",
       "</div>"
      ],
      "text/plain": [
       "                          count        mean        std    min     25%    50%  \\\n",
       "nome_cluster   genero                                                          \n",
       "Alto Risco     Feminino   109.0  142.339450  10.312901  124.0  134.00  141.0   \n",
       "               Masculino   74.0  141.405405  10.290199  124.0  132.00  145.5   \n",
       "Baixo Risco    Feminino    70.0  183.385714  10.488493  158.0  178.25  185.0   \n",
       "               Masculino   99.0  181.343434  11.701353  159.0  172.00  180.0   \n",
       "Risco Moderado Feminino    85.0  111.329412   7.925829   96.0  107.00  112.0   \n",
       "               Masculino  105.0  109.647619   8.222835   95.0  103.00  108.0   \n",
       "\n",
       "                            75%    max  \n",
       "nome_cluster   genero                   \n",
       "Alto Risco     Feminino   153.0  159.0  \n",
       "               Masculino  151.0  157.0  \n",
       "Baixo Risco    Feminino   191.0  203.0  \n",
       "               Masculino  188.0  203.0  \n",
       "Risco Moderado Feminino   117.0  126.0  \n",
       "               Masculino  117.0  126.0  "
      ]
     },
     "execution_count": 210,
     "metadata": {},
     "output_type": "execute_result"
    }
   ],
   "source": [
    "cluster_clientes.groupby(['nome_cluster', 'genero'])['peso'].describe()"
   ]
  },
  {
   "cell_type": "code",
   "execution_count": 211,
   "metadata": {},
   "outputs": [
    {
     "data": {
      "text/html": [
       "<div>\n",
       "<style scoped>\n",
       "    .dataframe tbody tr th:only-of-type {\n",
       "        vertical-align: middle;\n",
       "    }\n",
       "\n",
       "    .dataframe tbody tr th {\n",
       "        vertical-align: top;\n",
       "    }\n",
       "\n",
       "    .dataframe thead th {\n",
       "        text-align: right;\n",
       "    }\n",
       "</style>\n",
       "<table border=\"1\" class=\"dataframe\">\n",
       "  <thead>\n",
       "    <tr style=\"text-align: right;\">\n",
       "      <th></th>\n",
       "      <th></th>\n",
       "      <th>count</th>\n",
       "      <th>unique</th>\n",
       "      <th>top</th>\n",
       "      <th>freq</th>\n",
       "    </tr>\n",
       "    <tr>\n",
       "      <th>nome_cluster</th>\n",
       "      <th>genero</th>\n",
       "      <th></th>\n",
       "      <th></th>\n",
       "      <th></th>\n",
       "      <th></th>\n",
       "    </tr>\n",
       "  </thead>\n",
       "  <tbody>\n",
       "    <tr>\n",
       "      <th rowspan=\"2\" valign=\"top\">Alto Risco</th>\n",
       "      <th>Feminino</th>\n",
       "      <td>109</td>\n",
       "      <td>8</td>\n",
       "      <td>Ensino Médio Completo</td>\n",
       "      <td>47</td>\n",
       "    </tr>\n",
       "    <tr>\n",
       "      <th>Masculino</th>\n",
       "      <td>74</td>\n",
       "      <td>7</td>\n",
       "      <td>Ensino Médio Completo</td>\n",
       "      <td>38</td>\n",
       "    </tr>\n",
       "    <tr>\n",
       "      <th rowspan=\"2\" valign=\"top\">Baixo Risco</th>\n",
       "      <th>Feminino</th>\n",
       "      <td>70</td>\n",
       "      <td>6</td>\n",
       "      <td>Ensino Médio Completo</td>\n",
       "      <td>36</td>\n",
       "    </tr>\n",
       "    <tr>\n",
       "      <th>Masculino</th>\n",
       "      <td>99</td>\n",
       "      <td>8</td>\n",
       "      <td>Ensino Médio Completo</td>\n",
       "      <td>50</td>\n",
       "    </tr>\n",
       "    <tr>\n",
       "      <th rowspan=\"2\" valign=\"top\">Risco Moderado</th>\n",
       "      <th>Feminino</th>\n",
       "      <td>85</td>\n",
       "      <td>8</td>\n",
       "      <td>Ensino Médio Completo</td>\n",
       "      <td>35</td>\n",
       "    </tr>\n",
       "    <tr>\n",
       "      <th>Masculino</th>\n",
       "      <td>105</td>\n",
       "      <td>8</td>\n",
       "      <td>Ensino Médio Completo</td>\n",
       "      <td>49</td>\n",
       "    </tr>\n",
       "  </tbody>\n",
       "</table>\n",
       "</div>"
      ],
      "text/plain": [
       "                         count unique                    top freq\n",
       "nome_cluster   genero                                            \n",
       "Alto Risco     Feminino    109      8  Ensino Médio Completo   47\n",
       "               Masculino    74      7  Ensino Médio Completo   38\n",
       "Baixo Risco    Feminino     70      6  Ensino Médio Completo   36\n",
       "               Masculino    99      8  Ensino Médio Completo   50\n",
       "Risco Moderado Feminino     85      8  Ensino Médio Completo   35\n",
       "               Masculino   105      8  Ensino Médio Completo   49"
      ]
     },
     "execution_count": 211,
     "metadata": {},
     "output_type": "execute_result"
    }
   ],
   "source": [
    "cluster_clientes.groupby(['nome_cluster', 'genero'])['escolaridade'].describe()"
   ]
  },
  {
   "cell_type": "code",
   "execution_count": 234,
   "metadata": {},
   "outputs": [
    {
     "data": {
      "text/html": [
       "<div>\n",
       "<style scoped>\n",
       "    .dataframe tbody tr th:only-of-type {\n",
       "        vertical-align: middle;\n",
       "    }\n",
       "\n",
       "    .dataframe tbody tr th {\n",
       "        vertical-align: top;\n",
       "    }\n",
       "\n",
       "    .dataframe thead th {\n",
       "        text-align: right;\n",
       "    }\n",
       "</style>\n",
       "<table border=\"1\" class=\"dataframe\">\n",
       "  <thead>\n",
       "    <tr style=\"text-align: right;\">\n",
       "      <th></th>\n",
       "      <th></th>\n",
       "      <th>count</th>\n",
       "      <th>unique</th>\n",
       "      <th>top</th>\n",
       "      <th>freq</th>\n",
       "    </tr>\n",
       "    <tr>\n",
       "      <th>nome_cluster</th>\n",
       "      <th>genero</th>\n",
       "      <th></th>\n",
       "      <th></th>\n",
       "      <th></th>\n",
       "      <th></th>\n",
       "    </tr>\n",
       "  </thead>\n",
       "  <tbody>\n",
       "    <tr>\n",
       "      <th rowspan=\"2\" valign=\"top\">Alto Risco</th>\n",
       "      <th>Feminino</th>\n",
       "      <td>109</td>\n",
       "      <td>8</td>\n",
       "      <td>Ensino Médio Completo</td>\n",
       "      <td>47</td>\n",
       "    </tr>\n",
       "    <tr>\n",
       "      <th>Masculino</th>\n",
       "      <td>74</td>\n",
       "      <td>7</td>\n",
       "      <td>Ensino Médio Completo</td>\n",
       "      <td>38</td>\n",
       "    </tr>\n",
       "    <tr>\n",
       "      <th rowspan=\"2\" valign=\"top\">Baixo Risco</th>\n",
       "      <th>Feminino</th>\n",
       "      <td>70</td>\n",
       "      <td>6</td>\n",
       "      <td>Ensino Médio Completo</td>\n",
       "      <td>36</td>\n",
       "    </tr>\n",
       "    <tr>\n",
       "      <th>Masculino</th>\n",
       "      <td>99</td>\n",
       "      <td>8</td>\n",
       "      <td>Ensino Médio Completo</td>\n",
       "      <td>50</td>\n",
       "    </tr>\n",
       "    <tr>\n",
       "      <th rowspan=\"2\" valign=\"top\">Risco Moderado</th>\n",
       "      <th>Feminino</th>\n",
       "      <td>85</td>\n",
       "      <td>8</td>\n",
       "      <td>Ensino Médio Completo</td>\n",
       "      <td>35</td>\n",
       "    </tr>\n",
       "    <tr>\n",
       "      <th>Masculino</th>\n",
       "      <td>105</td>\n",
       "      <td>8</td>\n",
       "      <td>Ensino Médio Completo</td>\n",
       "      <td>49</td>\n",
       "    </tr>\n",
       "  </tbody>\n",
       "</table>\n",
       "</div>"
      ],
      "text/plain": [
       "                         count unique                    top freq\n",
       "nome_cluster   genero                                            \n",
       "Alto Risco     Feminino    109      8  Ensino Médio Completo   47\n",
       "               Masculino    74      7  Ensino Médio Completo   38\n",
       "Baixo Risco    Feminino     70      6  Ensino Médio Completo   36\n",
       "               Masculino    99      8  Ensino Médio Completo   50\n",
       "Risco Moderado Feminino     85      8  Ensino Médio Completo   35\n",
       "               Masculino   105      8  Ensino Médio Completo   49"
      ]
     },
     "execution_count": 234,
     "metadata": {},
     "output_type": "execute_result"
    }
   ],
   "source": [
    "# Qual é o grupo que possui a maior média de salário?\n",
    "\n"
   ]
  },
  {
   "cell_type": "markdown",
   "metadata": {
    "id": "7wIkQiEQTYdv"
   },
   "source": [
    "# Exportando dados "
   ]
  },
  {
   "cell_type": "code",
   "execution_count": 212,
   "metadata": {
    "executionInfo": {
     "elapsed": 120,
     "status": "ok",
     "timestamp": 1628820282233,
     "user": {
      "displayName": "Prof. Leandro Lessa",
      "photoUrl": "https://lh3.googleusercontent.com/a-/AOh14GjOFTHd5R6mZqpiAveor8rupG9YPM_LbwR5AmNPtg=s64",
      "userId": "09430483952296203154"
     },
     "user_tz": 180
    },
    "id": "gZ08K2GEPQmb"
   },
   "outputs": [],
   "source": [
    "cluster_clientes.to_csv('./dataset/classificacao_pacientes.csv', sep = ';', encoding='latin1') "
   ]
  }
 ],
 "metadata": {
  "colab": {
   "authorship_tag": "ABX9TyPcVj2j0Esc+piDiBrQd0xg",
   "collapsed_sections": [],
   "name": "Plano_saúde.ipynb",
   "provenance": []
  },
  "kernelspec": {
   "display_name": "Python 3",
   "language": "python",
   "name": "python3"
  },
  "language_info": {
   "codemirror_mode": {
    "name": "ipython",
    "version": 3
   },
   "file_extension": ".py",
   "mimetype": "text/x-python",
   "name": "python",
   "nbconvert_exporter": "python",
   "pygments_lexer": "ipython3",
   "version": "3.12.1"
  }
 },
 "nbformat": 4,
 "nbformat_minor": 1
}
