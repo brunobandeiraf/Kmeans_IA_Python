{
 "cells": [
  {
   "cell_type": "markdown",
   "metadata": {
    "id": "KOVtMBy9MT5n"
   },
   "source": [
    "# Coleta dos dados \n",
    "Nesta etapa, são definidas as fontes a serem utilizadas para gerar armazenamento, podendo ser bancos de dados SQL, NoSQL, Frameworks e muitas outras fontes. \n",
    "\n",
    "Para esse exercício vamos coletar dados já estruturados de dois arquivos. Um arquivo Excel no formato xlxs e outro no formato csv. "
   ]
  },
  {
   "cell_type": "markdown",
   "metadata": {
    "id": "JxX2b1HoM0UT"
   },
   "source": [
    "# Coletando dados de estados brasileiros"
   ]
  },
  {
   "cell_type": "code",
   "execution_count": 35,
   "metadata": {
    "executionInfo": {
     "elapsed": 326,
     "status": "ok",
     "timestamp": 1628820271101,
     "user": {
      "displayName": "Prof. Leandro Lessa",
      "photoUrl": "https://lh3.googleusercontent.com/a-/AOh14GjOFTHd5R6mZqpiAveor8rupG9YPM_LbwR5AmNPtg=s64",
      "userId": "09430483952296203154"
     },
     "user_tz": 180
    },
    "id": "6nUvnQVwMToT"
   },
   "outputs": [],
   "source": [
    "import pandas as pd # biblioteca de leitura e tratamento de dataframes\n",
    "\n",
    "# lendo arquivo \n",
    "estados = pd.read_csv('./dataset/estado_regiao.csv', sep = ';', encoding='latin-1')"
   ]
  },
  {
   "cell_type": "code",
   "execution_count": 36,
   "metadata": {
    "colab": {
     "base_uri": "https://localhost:8080/",
     "height": 204
    },
    "executionInfo": {
     "elapsed": 380,
     "status": "ok",
     "timestamp": 1628820271882,
     "user": {
      "displayName": "Prof. Leandro Lessa",
      "photoUrl": "https://lh3.googleusercontent.com/a-/AOh14GjOFTHd5R6mZqpiAveor8rupG9YPM_LbwR5AmNPtg=s64",
      "userId": "09430483952296203154"
     },
     "user_tz": 180
    },
    "id": "EDbLDASxNp26",
    "outputId": "a3df47c3-80b9-436d-c7ea-855936b6dbc3"
   },
   "outputs": [
    {
     "data": {
      "text/html": [
       "<div>\n",
       "<style scoped>\n",
       "    .dataframe tbody tr th:only-of-type {\n",
       "        vertical-align: middle;\n",
       "    }\n",
       "\n",
       "    .dataframe tbody tr th {\n",
       "        vertical-align: top;\n",
       "    }\n",
       "\n",
       "    .dataframe thead th {\n",
       "        text-align: right;\n",
       "    }\n",
       "</style>\n",
       "<table border=\"1\" class=\"dataframe\">\n",
       "  <thead>\n",
       "    <tr style=\"text-align: right;\">\n",
       "      <th></th>\n",
       "      <th>id_estado</th>\n",
       "      <th>sigla</th>\n",
       "      <th>estado</th>\n",
       "      <th>regiao</th>\n",
       "      <th>pais</th>\n",
       "    </tr>\n",
       "  </thead>\n",
       "  <tbody>\n",
       "    <tr>\n",
       "      <th>0</th>\n",
       "      <td>1</td>\n",
       "      <td>AC</td>\n",
       "      <td>Acre</td>\n",
       "      <td>Norte</td>\n",
       "      <td>Brasil</td>\n",
       "    </tr>\n",
       "    <tr>\n",
       "      <th>1</th>\n",
       "      <td>2</td>\n",
       "      <td>AL</td>\n",
       "      <td>Alagoas</td>\n",
       "      <td>Nordeste</td>\n",
       "      <td>Brasil</td>\n",
       "    </tr>\n",
       "    <tr>\n",
       "      <th>2</th>\n",
       "      <td>3</td>\n",
       "      <td>AP</td>\n",
       "      <td>Amapá</td>\n",
       "      <td>Norte</td>\n",
       "      <td>Brasil</td>\n",
       "    </tr>\n",
       "    <tr>\n",
       "      <th>3</th>\n",
       "      <td>4</td>\n",
       "      <td>AM</td>\n",
       "      <td>Amazonas</td>\n",
       "      <td>Norte</td>\n",
       "      <td>Brasil</td>\n",
       "    </tr>\n",
       "    <tr>\n",
       "      <th>4</th>\n",
       "      <td>5</td>\n",
       "      <td>BA</td>\n",
       "      <td>Bahia</td>\n",
       "      <td>Nordeste</td>\n",
       "      <td>Brasil</td>\n",
       "    </tr>\n",
       "  </tbody>\n",
       "</table>\n",
       "</div>"
      ],
      "text/plain": [
       "   id_estado sigla    estado    regiao    pais\n",
       "0          1    AC      Acre     Norte  Brasil\n",
       "1          2    AL   Alagoas  Nordeste  Brasil\n",
       "2          3    AP     Amapá     Norte  Brasil\n",
       "3          4    AM  Amazonas     Norte  Brasil\n",
       "4          5    BA     Bahia  Nordeste  Brasil"
      ]
     },
     "execution_count": 36,
     "metadata": {},
     "output_type": "execute_result"
    }
   ],
   "source": [
    "estados.head()"
   ]
  },
  {
   "cell_type": "markdown",
   "metadata": {
    "id": "IC8ImMW8M5oG"
   },
   "source": [
    "# Coletando dados de Pacientes"
   ]
  },
  {
   "cell_type": "code",
   "execution_count": 37,
   "metadata": {
    "colab": {
     "base_uri": "https://localhost:8080/",
     "height": 204
    },
    "executionInfo": {
     "elapsed": 75,
     "status": "ok",
     "timestamp": 1628820271886,
     "user": {
      "displayName": "Prof. Leandro Lessa",
      "photoUrl": "https://lh3.googleusercontent.com/a-/AOh14GjOFTHd5R6mZqpiAveor8rupG9YPM_LbwR5AmNPtg=s64",
      "userId": "09430483952296203154"
     },
     "user_tz": 180
    },
    "id": "WGfebt5iMRd5",
    "outputId": "8fcc06b6-b0cd-494a-fced-6f6dc2c244f3"
   },
   "outputs": [
    {
     "data": {
      "text/html": [
       "<div>\n",
       "<style scoped>\n",
       "    .dataframe tbody tr th:only-of-type {\n",
       "        vertical-align: middle;\n",
       "    }\n",
       "\n",
       "    .dataframe tbody tr th {\n",
       "        vertical-align: top;\n",
       "    }\n",
       "\n",
       "    .dataframe thead th {\n",
       "        text-align: right;\n",
       "    }\n",
       "</style>\n",
       "<table border=\"1\" class=\"dataframe\">\n",
       "  <thead>\n",
       "    <tr style=\"text-align: right;\">\n",
       "      <th></th>\n",
       "      <th>id_cliente</th>\n",
       "      <th>idade</th>\n",
       "      <th>classe_trabalho</th>\n",
       "      <th>escolaridade</th>\n",
       "      <th>id_estado</th>\n",
       "      <th>estado_civil</th>\n",
       "      <th>raca</th>\n",
       "      <th>qtde_filhos</th>\n",
       "      <th>salario</th>\n",
       "    </tr>\n",
       "  </thead>\n",
       "  <tbody>\n",
       "    <tr>\n",
       "      <th>0</th>\n",
       "      <td>1</td>\n",
       "      <td>39</td>\n",
       "      <td>Servidor Público</td>\n",
       "      <td>Ensino Médio Completo</td>\n",
       "      <td>2</td>\n",
       "      <td>Solteiro</td>\n",
       "      <td>Branco</td>\n",
       "      <td>2.0</td>\n",
       "      <td>4754</td>\n",
       "    </tr>\n",
       "    <tr>\n",
       "      <th>1</th>\n",
       "      <td>2</td>\n",
       "      <td>50</td>\n",
       "      <td>Autônomo</td>\n",
       "      <td>Superior Incompleto</td>\n",
       "      <td>24</td>\n",
       "      <td>Casado</td>\n",
       "      <td>Branco</td>\n",
       "      <td>1.0</td>\n",
       "      <td>3923</td>\n",
       "    </tr>\n",
       "    <tr>\n",
       "      <th>2</th>\n",
       "      <td>3</td>\n",
       "      <td>38</td>\n",
       "      <td>Funcionário Setor Privado</td>\n",
       "      <td>Ensino Médio Incompleto</td>\n",
       "      <td>4</td>\n",
       "      <td>Divorciado</td>\n",
       "      <td>Branco</td>\n",
       "      <td>0.0</td>\n",
       "      <td>1100</td>\n",
       "    </tr>\n",
       "    <tr>\n",
       "      <th>3</th>\n",
       "      <td>4</td>\n",
       "      <td>53</td>\n",
       "      <td>Funcionário Setor Privado</td>\n",
       "      <td>Ensino Médio Incompleto</td>\n",
       "      <td>24</td>\n",
       "      <td>Casado</td>\n",
       "      <td>Negro</td>\n",
       "      <td>1.0</td>\n",
       "      <td>1100</td>\n",
       "    </tr>\n",
       "    <tr>\n",
       "      <th>4</th>\n",
       "      <td>5</td>\n",
       "      <td>28</td>\n",
       "      <td>Funcionário Setor Privado</td>\n",
       "      <td>Ensino Médio Completo</td>\n",
       "      <td>15</td>\n",
       "      <td>Casado</td>\n",
       "      <td>Negro</td>\n",
       "      <td>0.0</td>\n",
       "      <td>3430</td>\n",
       "    </tr>\n",
       "  </tbody>\n",
       "</table>\n",
       "</div>"
      ],
      "text/plain": [
       "   id_cliente  idade            classe_trabalho             escolaridade  \\\n",
       "0           1     39           Servidor Público    Ensino Médio Completo   \n",
       "1           2     50                   Autônomo      Superior Incompleto   \n",
       "2           3     38  Funcionário Setor Privado  Ensino Médio Incompleto   \n",
       "3           4     53  Funcionário Setor Privado  Ensino Médio Incompleto   \n",
       "4           5     28  Funcionário Setor Privado    Ensino Médio Completo   \n",
       "\n",
       "   id_estado estado_civil    raca  qtde_filhos  salario  \n",
       "0          2     Solteiro  Branco          2.0     4754  \n",
       "1         24       Casado  Branco          1.0     3923  \n",
       "2          4   Divorciado  Branco          0.0     1100  \n",
       "3         24       Casado   Negro          1.0     1100  \n",
       "4         15       Casado   Negro          0.0     3430  "
      ]
     },
     "execution_count": 37,
     "metadata": {},
     "output_type": "execute_result"
    }
   ],
   "source": [
    "pacientes = pd.read_csv('./dataset/dados_pacientes.csv', sep=';', encoding='utf-8')\n",
    "pacientes.head()"
   ]
  },
  {
   "cell_type": "markdown",
   "metadata": {
    "id": "cHMchwam_Ohj"
   },
   "source": [
    "# Coletando dados Clínicos"
   ]
  },
  {
   "cell_type": "code",
   "execution_count": 38,
   "metadata": {
    "colab": {
     "base_uri": "https://localhost:8080/",
     "height": 204
    },
    "executionInfo": {
     "elapsed": 74,
     "status": "ok",
     "timestamp": 1628820271887,
     "user": {
      "displayName": "Prof. Leandro Lessa",
      "photoUrl": "https://lh3.googleusercontent.com/a-/AOh14GjOFTHd5R6mZqpiAveor8rupG9YPM_LbwR5AmNPtg=s64",
      "userId": "09430483952296203154"
     },
     "user_tz": 180
    },
    "id": "Yhdd4v5B_VA8",
    "outputId": "7c66e117-17e6-4d24-d15a-40c3d96b4705"
   },
   "outputs": [
    {
     "data": {
      "text/html": [
       "<div>\n",
       "<style scoped>\n",
       "    .dataframe tbody tr th:only-of-type {\n",
       "        vertical-align: middle;\n",
       "    }\n",
       "\n",
       "    .dataframe tbody tr th {\n",
       "        vertical-align: top;\n",
       "    }\n",
       "\n",
       "    .dataframe thead th {\n",
       "        text-align: right;\n",
       "    }\n",
       "</style>\n",
       "<table border=\"1\" class=\"dataframe\">\n",
       "  <thead>\n",
       "    <tr style=\"text-align: right;\">\n",
       "      <th></th>\n",
       "      <th>id_cliente</th>\n",
       "      <th>peso</th>\n",
       "      <th>colesterol</th>\n",
       "      <th>genero</th>\n",
       "    </tr>\n",
       "  </thead>\n",
       "  <tbody>\n",
       "    <tr>\n",
       "      <th>0</th>\n",
       "      <td>1</td>\n",
       "      <td>102.0</td>\n",
       "      <td>111</td>\n",
       "      <td>Masculino</td>\n",
       "    </tr>\n",
       "    <tr>\n",
       "      <th>1</th>\n",
       "      <td>2</td>\n",
       "      <td>115.0</td>\n",
       "      <td>135</td>\n",
       "      <td>Masculino</td>\n",
       "    </tr>\n",
       "    <tr>\n",
       "      <th>2</th>\n",
       "      <td>3</td>\n",
       "      <td>115.0</td>\n",
       "      <td>136</td>\n",
       "      <td>Masculino</td>\n",
       "    </tr>\n",
       "    <tr>\n",
       "      <th>3</th>\n",
       "      <td>4</td>\n",
       "      <td>140.0</td>\n",
       "      <td>167</td>\n",
       "      <td>Feminino</td>\n",
       "    </tr>\n",
       "    <tr>\n",
       "      <th>4</th>\n",
       "      <td>5</td>\n",
       "      <td>130.0</td>\n",
       "      <td>158</td>\n",
       "      <td>Masculino</td>\n",
       "    </tr>\n",
       "  </tbody>\n",
       "</table>\n",
       "</div>"
      ],
      "text/plain": [
       "   id_cliente   peso  colesterol     genero\n",
       "0           1  102.0         111  Masculino\n",
       "1           2  115.0         135  Masculino\n",
       "2           3  115.0         136  Masculino\n",
       "3           4  140.0         167   Feminino\n",
       "4           5  130.0         158  Masculino"
      ]
     },
     "execution_count": 38,
     "metadata": {},
     "output_type": "execute_result"
    }
   ],
   "source": [
    "clinicos = pd.read_csv('./dataset/dados_clinicos.csv', sep = ';', encoding='latin-1')\n",
    "clinicos.head()"
   ]
  },
  {
   "cell_type": "markdown",
   "metadata": {
    "id": "Ec_oxSToTB52"
   },
   "source": [
    "# Analisando as variáveis da base de dados"
   ]
  },
  {
   "cell_type": "code",
   "execution_count": 39,
   "metadata": {
    "colab": {
     "base_uri": "https://localhost:8080/"
    },
    "executionInfo": {
     "elapsed": 72,
     "status": "ok",
     "timestamp": 1628820271888,
     "user": {
      "displayName": "Prof. Leandro Lessa",
      "photoUrl": "https://lh3.googleusercontent.com/a-/AOh14GjOFTHd5R6mZqpiAveor8rupG9YPM_LbwR5AmNPtg=s64",
      "userId": "09430483952296203154"
     },
     "user_tz": 180
    },
    "id": "cnEpCI11S6Fc",
    "outputId": "ff152aed-107a-4613-ff9c-37e30727f279"
   },
   "outputs": [
    {
     "name": "stdout",
     "output_type": "stream",
     "text": [
      "<class 'pandas.core.frame.DataFrame'>\n",
      "RangeIndex: 7999 entries, 0 to 7998\n",
      "Data columns (total 9 columns):\n",
      " #   Column           Non-Null Count  Dtype  \n",
      "---  ------           --------------  -----  \n",
      " 0   id_cliente       7999 non-null   int64  \n",
      " 1   idade            7999 non-null   int64  \n",
      " 2   classe_trabalho  7612 non-null   object \n",
      " 3   escolaridade     7999 non-null   object \n",
      " 4   id_estado        7999 non-null   int64  \n",
      " 5   estado_civil     7999 non-null   object \n",
      " 6   raca             7999 non-null   object \n",
      " 7   qtde_filhos      7989 non-null   float64\n",
      " 8   salario          7999 non-null   int64  \n",
      "dtypes: float64(1), int64(4), object(4)\n",
      "memory usage: 562.6+ KB\n"
     ]
    }
   ],
   "source": [
    "pacientes.info()"
   ]
  },
  {
   "cell_type": "code",
   "execution_count": 16,
   "metadata": {
    "colab": {
     "base_uri": "https://localhost:8080/",
     "height": 297
    },
    "executionInfo": {
     "elapsed": 63,
     "status": "ok",
     "timestamp": 1628820271891,
     "user": {
      "displayName": "Prof. Leandro Lessa",
      "photoUrl": "https://lh3.googleusercontent.com/a-/AOh14GjOFTHd5R6mZqpiAveor8rupG9YPM_LbwR5AmNPtg=s64",
      "userId": "09430483952296203154"
     },
     "user_tz": 180
    },
    "id": "dFXcbb3DcYjb",
    "outputId": "fcdc8519-8f8d-48cd-ffea-4e22a8dc25d1"
   },
   "outputs": [
    {
     "data": {
      "text/html": [
       "<div>\n",
       "<style scoped>\n",
       "    .dataframe tbody tr th:only-of-type {\n",
       "        vertical-align: middle;\n",
       "    }\n",
       "\n",
       "    .dataframe tbody tr th {\n",
       "        vertical-align: top;\n",
       "    }\n",
       "\n",
       "    .dataframe thead th {\n",
       "        text-align: right;\n",
       "    }\n",
       "</style>\n",
       "<table border=\"1\" class=\"dataframe\">\n",
       "  <thead>\n",
       "    <tr style=\"text-align: right;\">\n",
       "      <th></th>\n",
       "      <th>id_cliente</th>\n",
       "      <th>idade</th>\n",
       "      <th>id_estado</th>\n",
       "      <th>qtde_filhos</th>\n",
       "      <th>salario</th>\n",
       "    </tr>\n",
       "  </thead>\n",
       "  <tbody>\n",
       "    <tr>\n",
       "      <th>count</th>\n",
       "      <td>7999.000000</td>\n",
       "      <td>7999.000000</td>\n",
       "      <td>7999.000000</td>\n",
       "      <td>7989.000000</td>\n",
       "      <td>7999.000000</td>\n",
       "    </tr>\n",
       "    <tr>\n",
       "      <th>mean</th>\n",
       "      <td>4000.000000</td>\n",
       "      <td>38.477060</td>\n",
       "      <td>14.094012</td>\n",
       "      <td>2.405432</td>\n",
       "      <td>3169.312664</td>\n",
       "    </tr>\n",
       "    <tr>\n",
       "      <th>std</th>\n",
       "      <td>2309.256735</td>\n",
       "      <td>13.568667</td>\n",
       "      <td>7.821634</td>\n",
       "      <td>1.703916</td>\n",
       "      <td>3055.862493</td>\n",
       "    </tr>\n",
       "    <tr>\n",
       "      <th>min</th>\n",
       "      <td>1.000000</td>\n",
       "      <td>17.000000</td>\n",
       "      <td>1.000000</td>\n",
       "      <td>0.000000</td>\n",
       "      <td>0.000000</td>\n",
       "    </tr>\n",
       "    <tr>\n",
       "      <th>25%</th>\n",
       "      <td>2000.500000</td>\n",
       "      <td>28.000000</td>\n",
       "      <td>7.000000</td>\n",
       "      <td>1.000000</td>\n",
       "      <td>1100.000000</td>\n",
       "    </tr>\n",
       "    <tr>\n",
       "      <th>50%</th>\n",
       "      <td>4000.000000</td>\n",
       "      <td>37.000000</td>\n",
       "      <td>14.000000</td>\n",
       "      <td>2.000000</td>\n",
       "      <td>2410.000000</td>\n",
       "    </tr>\n",
       "    <tr>\n",
       "      <th>75%</th>\n",
       "      <td>5999.500000</td>\n",
       "      <td>47.000000</td>\n",
       "      <td>21.000000</td>\n",
       "      <td>4.000000</td>\n",
       "      <td>3640.500000</td>\n",
       "    </tr>\n",
       "    <tr>\n",
       "      <th>max</th>\n",
       "      <td>7999.000000</td>\n",
       "      <td>90.000000</td>\n",
       "      <td>27.000000</td>\n",
       "      <td>5.000000</td>\n",
       "      <td>19994.000000</td>\n",
       "    </tr>\n",
       "  </tbody>\n",
       "</table>\n",
       "</div>"
      ],
      "text/plain": [
       "        id_cliente        idade    id_estado  qtde_filhos       salario\n",
       "count  7999.000000  7999.000000  7999.000000  7989.000000   7999.000000\n",
       "mean   4000.000000    38.477060    14.094012     2.405432   3169.312664\n",
       "std    2309.256735    13.568667     7.821634     1.703916   3055.862493\n",
       "min       1.000000    17.000000     1.000000     0.000000      0.000000\n",
       "25%    2000.500000    28.000000     7.000000     1.000000   1100.000000\n",
       "50%    4000.000000    37.000000    14.000000     2.000000   2410.000000\n",
       "75%    5999.500000    47.000000    21.000000     4.000000   3640.500000\n",
       "max    7999.000000    90.000000    27.000000     5.000000  19994.000000"
      ]
     },
     "execution_count": 16,
     "metadata": {},
     "output_type": "execute_result"
    }
   ],
   "source": [
    "pacientes.describe()"
   ]
  },
  {
   "cell_type": "code",
   "execution_count": 17,
   "metadata": {
    "colab": {
     "base_uri": "https://localhost:8080/"
    },
    "executionInfo": {
     "elapsed": 62,
     "status": "ok",
     "timestamp": 1628820271892,
     "user": {
      "displayName": "Prof. Leandro Lessa",
      "photoUrl": "https://lh3.googleusercontent.com/a-/AOh14GjOFTHd5R6mZqpiAveor8rupG9YPM_LbwR5AmNPtg=s64",
      "userId": "09430483952296203154"
     },
     "user_tz": 180
    },
    "id": "f8ur9RXNS-Xx",
    "outputId": "72718457-35be-4d1e-a163-89d7b3f7220c"
   },
   "outputs": [
    {
     "name": "stdout",
     "output_type": "stream",
     "text": [
      "<class 'pandas.core.frame.DataFrame'>\n",
      "RangeIndex: 27 entries, 0 to 26\n",
      "Data columns (total 5 columns):\n",
      " #   Column     Non-Null Count  Dtype \n",
      "---  ------     --------------  ----- \n",
      " 0   id_estado  27 non-null     int64 \n",
      " 1   sigla      27 non-null     object\n",
      " 2   estado     27 non-null     object\n",
      " 3   regiao     27 non-null     object\n",
      " 4   pais       27 non-null     object\n",
      "dtypes: int64(1), object(4)\n",
      "memory usage: 1.2+ KB\n"
     ]
    }
   ],
   "source": [
    "estados.info()"
   ]
  },
  {
   "cell_type": "code",
   "execution_count": 18,
   "metadata": {
    "colab": {
     "base_uri": "https://localhost:8080/"
    },
    "executionInfo": {
     "elapsed": 57,
     "status": "ok",
     "timestamp": 1628820271894,
     "user": {
      "displayName": "Prof. Leandro Lessa",
      "photoUrl": "https://lh3.googleusercontent.com/a-/AOh14GjOFTHd5R6mZqpiAveor8rupG9YPM_LbwR5AmNPtg=s64",
      "userId": "09430483952296203154"
     },
     "user_tz": 180
    },
    "id": "zFFd7tm5TlaC",
    "outputId": "8e03cbb5-5616-4631-ab0a-a12ba79b6468"
   },
   "outputs": [
    {
     "name": "stdout",
     "output_type": "stream",
     "text": [
      "<class 'pandas.core.frame.DataFrame'>\n",
      "RangeIndex: 590 entries, 0 to 589\n",
      "Data columns (total 4 columns):\n",
      " #   Column      Non-Null Count  Dtype  \n",
      "---  ------      --------------  -----  \n",
      " 0   id_cliente  590 non-null    int64  \n",
      " 1   peso        585 non-null    float64\n",
      " 2   colesterol  590 non-null    int64  \n",
      " 3   genero      590 non-null    object \n",
      "dtypes: float64(1), int64(2), object(1)\n",
      "memory usage: 18.6+ KB\n"
     ]
    }
   ],
   "source": [
    "clinicos.info()"
   ]
  },
  {
   "cell_type": "code",
   "execution_count": 19,
   "metadata": {
    "colab": {
     "base_uri": "https://localhost:8080/",
     "height": 297
    },
    "executionInfo": {
     "elapsed": 52,
     "status": "ok",
     "timestamp": 1628820271894,
     "user": {
      "displayName": "Prof. Leandro Lessa",
      "photoUrl": "https://lh3.googleusercontent.com/a-/AOh14GjOFTHd5R6mZqpiAveor8rupG9YPM_LbwR5AmNPtg=s64",
      "userId": "09430483952296203154"
     },
     "user_tz": 180
    },
    "id": "xPYaFDP1coVC",
    "outputId": "82d4b25d-fd3a-435f-f534-a36bd755ee62"
   },
   "outputs": [
    {
     "data": {
      "text/html": [
       "<div>\n",
       "<style scoped>\n",
       "    .dataframe tbody tr th:only-of-type {\n",
       "        vertical-align: middle;\n",
       "    }\n",
       "\n",
       "    .dataframe tbody tr th {\n",
       "        vertical-align: top;\n",
       "    }\n",
       "\n",
       "    .dataframe thead th {\n",
       "        text-align: right;\n",
       "    }\n",
       "</style>\n",
       "<table border=\"1\" class=\"dataframe\">\n",
       "  <thead>\n",
       "    <tr style=\"text-align: right;\">\n",
       "      <th></th>\n",
       "      <th>id_cliente</th>\n",
       "      <th>peso</th>\n",
       "      <th>colesterol</th>\n",
       "    </tr>\n",
       "  </thead>\n",
       "  <tbody>\n",
       "    <tr>\n",
       "      <th>count</th>\n",
       "      <td>590.000000</td>\n",
       "      <td>585.000000</td>\n",
       "      <td>590.000000</td>\n",
       "    </tr>\n",
       "    <tr>\n",
       "      <th>mean</th>\n",
       "      <td>283.696610</td>\n",
       "      <td>143.158974</td>\n",
       "      <td>170.067797</td>\n",
       "    </tr>\n",
       "    <tr>\n",
       "      <th>std</th>\n",
       "      <td>156.464182</td>\n",
       "      <td>30.925402</td>\n",
       "      <td>39.325409</td>\n",
       "    </tr>\n",
       "    <tr>\n",
       "      <th>min</th>\n",
       "      <td>1.000000</td>\n",
       "      <td>95.000000</td>\n",
       "      <td>102.000000</td>\n",
       "    </tr>\n",
       "    <tr>\n",
       "      <th>25%</th>\n",
       "      <td>148.250000</td>\n",
       "      <td>116.000000</td>\n",
       "      <td>135.250000</td>\n",
       "    </tr>\n",
       "    <tr>\n",
       "      <th>50%</th>\n",
       "      <td>295.500000</td>\n",
       "      <td>140.000000</td>\n",
       "      <td>169.000000</td>\n",
       "    </tr>\n",
       "    <tr>\n",
       "      <th>75%</th>\n",
       "      <td>424.750000</td>\n",
       "      <td>171.000000</td>\n",
       "      <td>207.750000</td>\n",
       "    </tr>\n",
       "    <tr>\n",
       "      <th>max</th>\n",
       "      <td>547.000000</td>\n",
       "      <td>203.000000</td>\n",
       "      <td>235.000000</td>\n",
       "    </tr>\n",
       "  </tbody>\n",
       "</table>\n",
       "</div>"
      ],
      "text/plain": [
       "       id_cliente        peso  colesterol\n",
       "count  590.000000  585.000000  590.000000\n",
       "mean   283.696610  143.158974  170.067797\n",
       "std    156.464182   30.925402   39.325409\n",
       "min      1.000000   95.000000  102.000000\n",
       "25%    148.250000  116.000000  135.250000\n",
       "50%    295.500000  140.000000  169.000000\n",
       "75%    424.750000  171.000000  207.750000\n",
       "max    547.000000  203.000000  235.000000"
      ]
     },
     "execution_count": 19,
     "metadata": {},
     "output_type": "execute_result"
    }
   ],
   "source": [
    "clinicos.describe()"
   ]
  },
  {
   "cell_type": "markdown",
   "metadata": {
    "id": "mCz7e04CTlwq"
   },
   "source": [
    "#Analisando duplicados"
   ]
  },
  {
   "cell_type": "code",
   "execution_count": 44,
   "metadata": {},
   "outputs": [
    {
     "name": "stdout",
     "output_type": "stream",
     "text": [
      "Quantidade de linhas duplicadas: 43\n",
      "Linhas Duplicadas:\n",
      "     id_cliente   peso  colesterol     genero\n",
      "349         350  134.0         163  Masculino\n",
      "350         351  199.0         232  Masculino\n",
      "351         352  115.0         131  Masculino\n",
      "352         353  149.0         184   Feminino\n",
      "353         354  192.0         225   Feminino\n",
      "..          ...    ...         ...        ...\n",
      "585         363  172.0         211  Masculino\n",
      "586         364  157.0         194   Feminino\n",
      "587         365  137.0         169   Feminino\n",
      "588         366  158.0         189   Feminino\n",
      "589         367  110.0         128   Feminino\n",
      "\n",
      "[86 rows x 4 columns]\n"
     ]
    }
   ],
   "source": [
    "# Selecionar colunas relevantes para verificar duplicatas\n",
    "clinicos_check_duplicates = ['id_cliente', 'peso', 'colesterol', 'genero']\n",
    "\n",
    "# Contar linhas duplicadas\n",
    "qtd_duplicadas = clinicos.duplicated(subset=clinicos_check_duplicates).sum()\n",
    "print(f'Quantidade de linhas duplicadas - Clínicos: {qtd_duplicadas}')\n",
    "\n",
    "# Identificar e mostrar as linhas duplicadas\n",
    "linhas_duplicadas = clinicos[clinicos.duplicated(subset=clinicos_check_duplicates, keep=False)]\n",
    "print('Linhas Duplicadas:')\n",
    "print(linhas_duplicadas)"
   ]
  },
  {
   "cell_type": "code",
   "execution_count": 48,
   "metadata": {},
   "outputs": [
    {
     "name": "stdout",
     "output_type": "stream",
     "text": [
      "Quantidade de linhas duplicadas - Pacientes: 0\n",
      "Linhas Duplicadas:\n",
      "Empty DataFrame\n",
      "Columns: [id_cliente, idade, classe_trabalho, escolaridade, id_estado, estado_civil, raca, qtde_filhos, salario]\n",
      "Index: []\n"
     ]
    }
   ],
   "source": [
    "# Selecionar colunas relevantes para verificar duplicatas\n",
    "pacientes_check_duplicates = ['id_cliente', 'idade', 'classe_trabalho', 'escolaridade', 'id_estado', 'estado_civil', 'raca', 'qtde_filhos', 'salario']\n",
    "\n",
    "# Contar linhas duplicadas\n",
    "qtd_duplicadas = pacientes.duplicated(subset=pacientes_check_duplicates).sum()\n",
    "print(f'Quantidade de linhas duplicadas - Pacientes: {qtd_duplicadas}')\n",
    "\n",
    "# Identificar e mostrar as linhas duplicadas\n",
    "linhas_duplicadas = pacientes[pacientes.duplicated(subset=pacientes_check_duplicates, keep=False)]\n",
    "print('Linhas Duplicadas:')\n",
    "print(linhas_duplicadas)"
   ]
  },
  {
   "cell_type": "code",
   "execution_count": 50,
   "metadata": {},
   "outputs": [
    {
     "name": "stdout",
     "output_type": "stream",
     "text": [
      "Quantidade de linhas duplicadas - Estados: 0\n",
      "Linhas Duplicadas:\n",
      "Empty DataFrame\n",
      "Columns: [id_estado, sigla, estado, regiao, pais]\n",
      "Index: []\n"
     ]
    }
   ],
   "source": [
    "# Selecionar colunas relevantes para verificar duplicatas\n",
    "estados_check_duplicates = ['id_estado', 'sigla', 'estado', 'regiao', 'pais']\n",
    "\n",
    "# Contar linhas duplicadas\n",
    "qtd_duplicadas = estados.duplicated(subset=estados_check_duplicates).sum()\n",
    "print(f'Quantidade de linhas duplicadas - Estados: {qtd_duplicadas}')\n",
    "\n",
    "# Identificar e mostrar as linhas duplicadas\n",
    "linhas_duplicadas = estados[estados.duplicated(subset=estados_check_duplicates, keep=False)]\n",
    "print('Linhas Duplicadas:')\n",
    "print(linhas_duplicadas)"
   ]
  },
  {
   "cell_type": "code",
   "execution_count": 47,
   "metadata": {},
   "outputs": [
    {
     "name": "stdout",
     "output_type": "stream",
     "text": [
      "<class 'pandas.core.frame.DataFrame'>\n",
      "Index: 547 entries, 0 to 546\n",
      "Data columns (total 4 columns):\n",
      " #   Column      Non-Null Count  Dtype  \n",
      "---  ------      --------------  -----  \n",
      " 0   id_cliente  547 non-null    int64  \n",
      " 1   peso        542 non-null    float64\n",
      " 2   colesterol  547 non-null    int64  \n",
      " 3   genero      547 non-null    object \n",
      "dtypes: float64(1), int64(2), object(1)\n",
      "memory usage: 21.4+ KB\n"
     ]
    }
   ],
   "source": [
    "clinicos.info()"
   ]
  },
  {
   "cell_type": "code",
   "execution_count": 46,
   "metadata": {},
   "outputs": [],
   "source": [
    "# Remover dados duplicados da dataset Clínicos\n",
    "clinicos = clinicos.drop_duplicates(subset=['id_cliente', 'peso', 'colesterol', 'genero'])"
   ]
  },
  {
   "cell_type": "markdown",
   "metadata": {},
   "source": [
    "#Analisando dados ausentes"
   ]
  },
  {
   "cell_type": "code",
   "execution_count": 24,
   "metadata": {
    "colab": {
     "base_uri": "https://localhost:8080/"
    },
    "executionInfo": {
     "elapsed": 44,
     "status": "ok",
     "timestamp": 1628820271896,
     "user": {
      "displayName": "Prof. Leandro Lessa",
      "photoUrl": "https://lh3.googleusercontent.com/a-/AOh14GjOFTHd5R6mZqpiAveor8rupG9YPM_LbwR5AmNPtg=s64",
      "userId": "09430483952296203154"
     },
     "user_tz": 180
    },
    "id": "WDfXbaFtOvup",
    "outputId": "0676ecbf-4223-4b37-9e89-feff49f6e18d"
   },
   "outputs": [
    {
     "data": {
      "text/plain": [
       "id_cliente    0\n",
       "peso          5\n",
       "colesterol    0\n",
       "genero        0\n",
       "dtype: int64"
      ]
     },
     "execution_count": 24,
     "metadata": {},
     "output_type": "execute_result"
    }
   ],
   "source": [
    "clinicos.isna().sum()\n",
    "\n",
    "# Solução: Peso - excluir os registros ausentes de Peso"
   ]
  },
  {
   "cell_type": "code",
   "execution_count": 23,
   "metadata": {
    "colab": {
     "base_uri": "https://localhost:8080/"
    },
    "executionInfo": {
     "elapsed": 50,
     "status": "ok",
     "timestamp": 1628820271895,
     "user": {
      "displayName": "Prof. Leandro Lessa",
      "photoUrl": "https://lh3.googleusercontent.com/a-/AOh14GjOFTHd5R6mZqpiAveor8rupG9YPM_LbwR5AmNPtg=s64",
      "userId": "09430483952296203154"
     },
     "user_tz": 180
    },
    "id": "G9kwetCNOmoh",
    "outputId": "00a407bd-ad08-4676-aa33-5ede1b83e34b"
   },
   "outputs": [
    {
     "data": {
      "text/plain": [
       "id_cliente           0\n",
       "idade                0\n",
       "classe_trabalho    387\n",
       "escolaridade         0\n",
       "id_estado            0\n",
       "estado_civil         0\n",
       "raca                 0\n",
       "qtde_filhos         10\n",
       "salario              0\n",
       "dtype: int64"
      ]
     },
     "execution_count": 23,
     "metadata": {},
     "output_type": "execute_result"
    }
   ],
   "source": [
    "# Verificando valores ausentes/nulos na base\n",
    "pacientes.isna().sum()\n",
    "\n",
    "# classe_trabalho - Solução: moda da variável analisada.\n",
    "# qtde_filhos - Solução: qtde_filhos - média arredondada"
   ]
  },
  {
   "cell_type": "code",
   "execution_count": 25,
   "metadata": {
    "colab": {
     "base_uri": "https://localhost:8080/"
    },
    "executionInfo": {
     "elapsed": 40,
     "status": "ok",
     "timestamp": 1628820271897,
     "user": {
      "displayName": "Prof. Leandro Lessa",
      "photoUrl": "https://lh3.googleusercontent.com/a-/AOh14GjOFTHd5R6mZqpiAveor8rupG9YPM_LbwR5AmNPtg=s64",
      "userId": "09430483952296203154"
     },
     "user_tz": 180
    },
    "id": "U7ApZ7m_czuG",
    "outputId": "7fccc450-4029-495c-819b-953710917a52"
   },
   "outputs": [
    {
     "data": {
      "text/plain": [
       "id_estado    0\n",
       "sigla        0\n",
       "estado       0\n",
       "regiao       0\n",
       "pais         0\n",
       "dtype: int64"
      ]
     },
     "execution_count": 25,
     "metadata": {},
     "output_type": "execute_result"
    }
   ],
   "source": [
    "estados.isna().sum()"
   ]
  },
  {
   "cell_type": "code",
   "execution_count": 55,
   "metadata": {
    "colab": {
     "base_uri": "https://localhost:8080/",
     "height": 142
    },
    "executionInfo": {
     "elapsed": 37,
     "status": "ok",
     "timestamp": 1628820271898,
     "user": {
      "displayName": "Prof. Leandro Lessa",
      "photoUrl": "https://lh3.googleusercontent.com/a-/AOh14GjOFTHd5R6mZqpiAveor8rupG9YPM_LbwR5AmNPtg=s64",
      "userId": "09430483952296203154"
     },
     "user_tz": 180
    },
    "id": "cYS2thu_Fm5t",
    "outputId": "4c4a812b-bf6a-4651-c9ab-6fdafbbd2cb0"
   },
   "outputs": [
    {
     "data": {
      "text/html": [
       "<div>\n",
       "<style scoped>\n",
       "    .dataframe tbody tr th:only-of-type {\n",
       "        vertical-align: middle;\n",
       "    }\n",
       "\n",
       "    .dataframe tbody tr th {\n",
       "        vertical-align: top;\n",
       "    }\n",
       "\n",
       "    .dataframe thead th {\n",
       "        text-align: right;\n",
       "    }\n",
       "</style>\n",
       "<table border=\"1\" class=\"dataframe\">\n",
       "  <thead>\n",
       "    <tr style=\"text-align: right;\">\n",
       "      <th></th>\n",
       "      <th>id_cliente</th>\n",
       "      <th>idade</th>\n",
       "      <th>classe_trabalho</th>\n",
       "      <th>escolaridade</th>\n",
       "      <th>id_estado</th>\n",
       "      <th>estado_civil</th>\n",
       "      <th>raca</th>\n",
       "      <th>qtde_filhos</th>\n",
       "      <th>salario</th>\n",
       "    </tr>\n",
       "  </thead>\n",
       "  <tbody>\n",
       "    <tr>\n",
       "      <th>61</th>\n",
       "      <td>62</td>\n",
       "      <td>32</td>\n",
       "      <td>NaN</td>\n",
       "      <td>Ensino Fundamental Incompleto</td>\n",
       "      <td>12</td>\n",
       "      <td>União Estável</td>\n",
       "      <td>Branco</td>\n",
       "      <td>4.0</td>\n",
       "      <td>1100</td>\n",
       "    </tr>\n",
       "    <tr>\n",
       "      <th>69</th>\n",
       "      <td>70</td>\n",
       "      <td>25</td>\n",
       "      <td>NaN</td>\n",
       "      <td>Ensino Médio Completo</td>\n",
       "      <td>1</td>\n",
       "      <td>Solteiro</td>\n",
       "      <td>Branco</td>\n",
       "      <td>3.0</td>\n",
       "      <td>3450</td>\n",
       "    </tr>\n",
       "    <tr>\n",
       "      <th>127</th>\n",
       "      <td>128</td>\n",
       "      <td>35</td>\n",
       "      <td>NaN</td>\n",
       "      <td>Ensino Médio Incompleto</td>\n",
       "      <td>1</td>\n",
       "      <td>Casado</td>\n",
       "      <td>Amarelo</td>\n",
       "      <td>4.0</td>\n",
       "      <td>1100</td>\n",
       "    </tr>\n",
       "    <tr>\n",
       "      <th>148</th>\n",
       "      <td>149</td>\n",
       "      <td>43</td>\n",
       "      <td>NaN</td>\n",
       "      <td>Ensino Médio Completo</td>\n",
       "      <td>21</td>\n",
       "      <td>Divorciado</td>\n",
       "      <td>Branco</td>\n",
       "      <td>0.0</td>\n",
       "      <td>2490</td>\n",
       "    </tr>\n",
       "    <tr>\n",
       "      <th>153</th>\n",
       "      <td>154</td>\n",
       "      <td>52</td>\n",
       "      <td>NaN</td>\n",
       "      <td>Ensino Médio Incompleto</td>\n",
       "      <td>18</td>\n",
       "      <td>Divorciado</td>\n",
       "      <td>Branco</td>\n",
       "      <td>1.0</td>\n",
       "      <td>1100</td>\n",
       "    </tr>\n",
       "    <tr>\n",
       "      <th>...</th>\n",
       "      <td>...</td>\n",
       "      <td>...</td>\n",
       "      <td>...</td>\n",
       "      <td>...</td>\n",
       "      <td>...</td>\n",
       "      <td>...</td>\n",
       "      <td>...</td>\n",
       "      <td>...</td>\n",
       "      <td>...</td>\n",
       "    </tr>\n",
       "    <tr>\n",
       "      <th>7931</th>\n",
       "      <td>7932</td>\n",
       "      <td>51</td>\n",
       "      <td>NaN</td>\n",
       "      <td>Ensino Médio Completo</td>\n",
       "      <td>4</td>\n",
       "      <td>Divorciado</td>\n",
       "      <td>Branco</td>\n",
       "      <td>2.0</td>\n",
       "      <td>2660</td>\n",
       "    </tr>\n",
       "    <tr>\n",
       "      <th>7952</th>\n",
       "      <td>7953</td>\n",
       "      <td>19</td>\n",
       "      <td>NaN</td>\n",
       "      <td>Ensino Médio Completo</td>\n",
       "      <td>1</td>\n",
       "      <td>Solteiro</td>\n",
       "      <td>Branco</td>\n",
       "      <td>0.0</td>\n",
       "      <td>2581</td>\n",
       "    </tr>\n",
       "    <tr>\n",
       "      <th>7960</th>\n",
       "      <td>7961</td>\n",
       "      <td>30</td>\n",
       "      <td>NaN</td>\n",
       "      <td>Ensino Fundamental Completo</td>\n",
       "      <td>10</td>\n",
       "      <td>Solteiro</td>\n",
       "      <td>Branco</td>\n",
       "      <td>4.0</td>\n",
       "      <td>1100</td>\n",
       "    </tr>\n",
       "    <tr>\n",
       "      <th>7988</th>\n",
       "      <td>7989</td>\n",
       "      <td>20</td>\n",
       "      <td>NaN</td>\n",
       "      <td>Ensino Médio Completo</td>\n",
       "      <td>1</td>\n",
       "      <td>Solteiro</td>\n",
       "      <td>Branco</td>\n",
       "      <td>2.0</td>\n",
       "      <td>3610</td>\n",
       "    </tr>\n",
       "    <tr>\n",
       "      <th>7996</th>\n",
       "      <td>7997</td>\n",
       "      <td>44</td>\n",
       "      <td>NaN</td>\n",
       "      <td>Ensino Médio Completo</td>\n",
       "      <td>23</td>\n",
       "      <td>Casado</td>\n",
       "      <td>Branco</td>\n",
       "      <td>0.0</td>\n",
       "      <td>3729</td>\n",
       "    </tr>\n",
       "  </tbody>\n",
       "</table>\n",
       "<p>387 rows × 9 columns</p>\n",
       "</div>"
      ],
      "text/plain": [
       "      id_cliente  idade classe_trabalho                   escolaridade  \\\n",
       "61            62     32             NaN  Ensino Fundamental Incompleto   \n",
       "69            70     25             NaN          Ensino Médio Completo   \n",
       "127          128     35             NaN        Ensino Médio Incompleto   \n",
       "148          149     43             NaN          Ensino Médio Completo   \n",
       "153          154     52             NaN        Ensino Médio Incompleto   \n",
       "...          ...    ...             ...                            ...   \n",
       "7931        7932     51             NaN          Ensino Médio Completo   \n",
       "7952        7953     19             NaN          Ensino Médio Completo   \n",
       "7960        7961     30             NaN    Ensino Fundamental Completo   \n",
       "7988        7989     20             NaN          Ensino Médio Completo   \n",
       "7996        7997     44             NaN          Ensino Médio Completo   \n",
       "\n",
       "      id_estado   estado_civil     raca  qtde_filhos  salario  \n",
       "61           12  União Estável   Branco          4.0     1100  \n",
       "69            1       Solteiro   Branco          3.0     3450  \n",
       "127           1         Casado  Amarelo          4.0     1100  \n",
       "148          21     Divorciado   Branco          0.0     2490  \n",
       "153          18     Divorciado   Branco          1.0     1100  \n",
       "...         ...            ...      ...          ...      ...  \n",
       "7931          4     Divorciado   Branco          2.0     2660  \n",
       "7952          1       Solteiro   Branco          0.0     2581  \n",
       "7960         10       Solteiro   Branco          4.0     1100  \n",
       "7988          1       Solteiro   Branco          2.0     3610  \n",
       "7996         23         Casado   Branco          0.0     3729  \n",
       "\n",
       "[387 rows x 9 columns]"
      ]
     },
     "execution_count": 55,
     "metadata": {},
     "output_type": "execute_result"
    }
   ],
   "source": [
    "# Verificando os registros com valores nulos\n",
    "pacientes.loc[pacientes['classe_trabalho'].isnull()]"
   ]
  },
  {
   "cell_type": "code",
   "execution_count": 56,
   "metadata": {},
   "outputs": [
    {
     "data": {
      "text/html": [
       "<div>\n",
       "<style scoped>\n",
       "    .dataframe tbody tr th:only-of-type {\n",
       "        vertical-align: middle;\n",
       "    }\n",
       "\n",
       "    .dataframe tbody tr th {\n",
       "        vertical-align: top;\n",
       "    }\n",
       "\n",
       "    .dataframe thead th {\n",
       "        text-align: right;\n",
       "    }\n",
       "</style>\n",
       "<table border=\"1\" class=\"dataframe\">\n",
       "  <thead>\n",
       "    <tr style=\"text-align: right;\">\n",
       "      <th></th>\n",
       "      <th>id_cliente</th>\n",
       "      <th>idade</th>\n",
       "      <th>classe_trabalho</th>\n",
       "      <th>escolaridade</th>\n",
       "      <th>id_estado</th>\n",
       "      <th>estado_civil</th>\n",
       "      <th>raca</th>\n",
       "      <th>qtde_filhos</th>\n",
       "      <th>salario</th>\n",
       "    </tr>\n",
       "  </thead>\n",
       "  <tbody>\n",
       "  </tbody>\n",
       "</table>\n",
       "</div>"
      ],
      "text/plain": [
       "Empty DataFrame\n",
       "Columns: [id_cliente, idade, classe_trabalho, escolaridade, id_estado, estado_civil, raca, qtde_filhos, salario]\n",
       "Index: []"
      ]
     },
     "execution_count": 56,
     "metadata": {},
     "output_type": "execute_result"
    }
   ],
   "source": [
    "# Verificando os registros com valores nulos\n",
    "pacientes.loc[pacientes['qtde_filhos'].isnull()]"
   ]
  },
  {
   "cell_type": "markdown",
   "metadata": {
    "id": "OqXaocyTZC4z"
   },
   "source": [
    "# Substituindo variável categórica (moda) e numérica (média)\n",
    "\n",
    "Quando temos uma variável do tipo categórica, uma abordagem é substituir o valor ausente pela variável mais frequente encontrada no conjunto de dados."
   ]
  },
  {
   "cell_type": "code",
   "execution_count": 52,
   "metadata": {},
   "outputs": [
    {
     "data": {
      "text/plain": [
       "2.0"
      ]
     },
     "execution_count": 52,
     "metadata": {},
     "output_type": "execute_result"
    }
   ],
   "source": [
    "# dataset Paciente - Média Arredondada para a variável qtde_filhos\n",
    "media_paciente = pacientes['qtde_filhos'].median()\n",
    "media_paciente"
   ]
  },
  {
   "cell_type": "code",
   "execution_count": 54,
   "metadata": {},
   "outputs": [],
   "source": [
    "# Preencher os valores nulos na coluna 'qtde_filhos' ausentes com o valor da média arredondada\n",
    "\n",
    "#pacientes['qtde_filhos'].fillna(pacientes['qtde_filhos'].mean().round(2), inplace=True)\n",
    "pacientes['qtde_filhos'] = pacientes['qtde_filhos'].fillna(pacientes['qtde_filhos'].mean().round(2))"
   ]
  },
  {
   "cell_type": "code",
   "execution_count": 57,
   "metadata": {},
   "outputs": [
    {
     "data": {
      "text/html": [
       "<div>\n",
       "<style scoped>\n",
       "    .dataframe tbody tr th:only-of-type {\n",
       "        vertical-align: middle;\n",
       "    }\n",
       "\n",
       "    .dataframe tbody tr th {\n",
       "        vertical-align: top;\n",
       "    }\n",
       "\n",
       "    .dataframe thead th {\n",
       "        text-align: right;\n",
       "    }\n",
       "</style>\n",
       "<table border=\"1\" class=\"dataframe\">\n",
       "  <thead>\n",
       "    <tr style=\"text-align: right;\">\n",
       "      <th></th>\n",
       "      <th>id_cliente</th>\n",
       "      <th>idade</th>\n",
       "      <th>classe_trabalho</th>\n",
       "      <th>escolaridade</th>\n",
       "      <th>id_estado</th>\n",
       "      <th>estado_civil</th>\n",
       "      <th>raca</th>\n",
       "      <th>qtde_filhos</th>\n",
       "      <th>salario</th>\n",
       "    </tr>\n",
       "  </thead>\n",
       "  <tbody>\n",
       "  </tbody>\n",
       "</table>\n",
       "</div>"
      ],
      "text/plain": [
       "Empty DataFrame\n",
       "Columns: [id_cliente, idade, classe_trabalho, escolaridade, id_estado, estado_civil, raca, qtde_filhos, salario]\n",
       "Index: []"
      ]
     },
     "execution_count": 57,
     "metadata": {},
     "output_type": "execute_result"
    }
   ],
   "source": [
    "# Confirmando a mudança - Sem valores nulos na coluna 'qtde_filhos'\n",
    "pacientes.loc[pacientes['qtde_filhos'].isnull()]"
   ]
  },
  {
   "cell_type": "code",
   "execution_count": 59,
   "metadata": {},
   "outputs": [
    {
     "data": {
      "text/plain": [
       "'Funcionário Setor Privado'"
      ]
     },
     "execution_count": 59,
     "metadata": {},
     "output_type": "execute_result"
    }
   ],
   "source": [
    "# dataset Paciente - Moda da variável 'classe_trabalho'\n",
    "\n",
    "# Calcular a moda da coluna 'classe_trabalho'\n",
    "moda_classe_trabalho = pacientes['classe_trabalho'].mode()[0]\n",
    "moda_classe_trabalho"
   ]
  },
  {
   "cell_type": "code",
   "execution_count": 61,
   "metadata": {},
   "outputs": [],
   "source": [
    "# Preencher os valores nulos na coluna 'classe_trabalho' com a moda - 'Funcionário Setor Privado'\n",
    "#pacientes['classe_trabalho'].fillna(moda_classe_trabalho, inplace=True)\n",
    "\n",
    "pacientes['classe_trabalho'] = pacientes['classe_trabalho'].fillna(moda_classe_trabalho)"
   ]
  },
  {
   "cell_type": "code",
   "execution_count": 62,
   "metadata": {},
   "outputs": [
    {
     "data": {
      "text/html": [
       "<div>\n",
       "<style scoped>\n",
       "    .dataframe tbody tr th:only-of-type {\n",
       "        vertical-align: middle;\n",
       "    }\n",
       "\n",
       "    .dataframe tbody tr th {\n",
       "        vertical-align: top;\n",
       "    }\n",
       "\n",
       "    .dataframe thead th {\n",
       "        text-align: right;\n",
       "    }\n",
       "</style>\n",
       "<table border=\"1\" class=\"dataframe\">\n",
       "  <thead>\n",
       "    <tr style=\"text-align: right;\">\n",
       "      <th></th>\n",
       "      <th>id_cliente</th>\n",
       "      <th>idade</th>\n",
       "      <th>classe_trabalho</th>\n",
       "      <th>escolaridade</th>\n",
       "      <th>id_estado</th>\n",
       "      <th>estado_civil</th>\n",
       "      <th>raca</th>\n",
       "      <th>qtde_filhos</th>\n",
       "      <th>salario</th>\n",
       "    </tr>\n",
       "  </thead>\n",
       "  <tbody>\n",
       "  </tbody>\n",
       "</table>\n",
       "</div>"
      ],
      "text/plain": [
       "Empty DataFrame\n",
       "Columns: [id_cliente, idade, classe_trabalho, escolaridade, id_estado, estado_civil, raca, qtde_filhos, salario]\n",
       "Index: []"
      ]
     },
     "execution_count": 62,
     "metadata": {},
     "output_type": "execute_result"
    }
   ],
   "source": [
    "# Confirmando a mudança - Sem valores nulos na coluna 'classe_trabalho' \n",
    "pacientes.loc[pacientes['classe_trabalho'].isnull()]"
   ]
  },
  {
   "cell_type": "code",
   "execution_count": 27,
   "metadata": {},
   "outputs": [
    {
     "data": {
      "text/html": [
       "<div>\n",
       "<style scoped>\n",
       "    .dataframe tbody tr th:only-of-type {\n",
       "        vertical-align: middle;\n",
       "    }\n",
       "\n",
       "    .dataframe tbody tr th {\n",
       "        vertical-align: top;\n",
       "    }\n",
       "\n",
       "    .dataframe thead th {\n",
       "        text-align: right;\n",
       "    }\n",
       "</style>\n",
       "<table border=\"1\" class=\"dataframe\">\n",
       "  <thead>\n",
       "    <tr style=\"text-align: right;\">\n",
       "      <th></th>\n",
       "      <th>id_cliente</th>\n",
       "      <th>peso</th>\n",
       "      <th>colesterol</th>\n",
       "      <th>genero</th>\n",
       "    </tr>\n",
       "  </thead>\n",
       "  <tbody>\n",
       "    <tr>\n",
       "      <th>63</th>\n",
       "      <td>64</td>\n",
       "      <td>NaN</td>\n",
       "      <td>211</td>\n",
       "      <td>Masculino</td>\n",
       "    </tr>\n",
       "    <tr>\n",
       "      <th>101</th>\n",
       "      <td>102</td>\n",
       "      <td>NaN</td>\n",
       "      <td>230</td>\n",
       "      <td>Feminino</td>\n",
       "    </tr>\n",
       "    <tr>\n",
       "      <th>146</th>\n",
       "      <td>147</td>\n",
       "      <td>NaN</td>\n",
       "      <td>171</td>\n",
       "      <td>Masculino</td>\n",
       "    </tr>\n",
       "    <tr>\n",
       "      <th>195</th>\n",
       "      <td>196</td>\n",
       "      <td>NaN</td>\n",
       "      <td>143</td>\n",
       "      <td>Feminino</td>\n",
       "    </tr>\n",
       "    <tr>\n",
       "      <th>215</th>\n",
       "      <td>216</td>\n",
       "      <td>NaN</td>\n",
       "      <td>180</td>\n",
       "      <td>Masculino</td>\n",
       "    </tr>\n",
       "  </tbody>\n",
       "</table>\n",
       "</div>"
      ],
      "text/plain": [
       "     id_cliente  peso  colesterol     genero\n",
       "63           64   NaN         211  Masculino\n",
       "101         102   NaN         230   Feminino\n",
       "146         147   NaN         171  Masculino\n",
       "195         196   NaN         143   Feminino\n",
       "215         216   NaN         180  Masculino"
      ]
     },
     "execution_count": 27,
     "metadata": {},
     "output_type": "execute_result"
    }
   ],
   "source": [
    "# Verificando os registros com valores nulos\n",
    "clinicos.loc[clinicos['peso'].isnull()]"
   ]
  },
  {
   "cell_type": "markdown",
   "metadata": {
    "id": "i30padjvQ0kM"
   },
   "source": [
    "Temos 3 opções para tratamento de dados númericos. \n",
    "\n",
    "1. Eliminação dos registros\n",
    "2. Média dos pesos dos clientes: Realiza a média dos pesos OBS: A média é fortemente influenciada pela presença de valores extremos;\n",
    "3. Médiana dos pesos dos clientes. Realiza a mediana dos pesos . (medida que pega o valor cetral dos dados) \n",
    "\n"
   ]
  },
  {
   "cell_type": "markdown",
   "metadata": {
    "id": "dXon8JBgWIpq"
   },
   "source": [
    "# Eliminando dados ausentes"
   ]
  },
  {
   "cell_type": "code",
   "execution_count": 33,
   "metadata": {
    "colab": {
     "base_uri": "https://localhost:8080/",
     "height": 419
    },
    "executionInfo": {
     "elapsed": 460,
     "status": "ok",
     "timestamp": 1628820272323,
     "user": {
      "displayName": "Prof. Leandro Lessa",
      "photoUrl": "https://lh3.googleusercontent.com/a-/AOh14GjOFTHd5R6mZqpiAveor8rupG9YPM_LbwR5AmNPtg=s64",
      "userId": "09430483952296203154"
     },
     "user_tz": 180
    },
    "id": "XS3tXlIIO0TQ",
    "outputId": "20dd6f45-fe1c-4886-8d10-6afa307ea3b3"
   },
   "outputs": [],
   "source": [
    "#Dados Ausentes - Removendo as linhas com registros de peso ausente\n",
    "clinicos.dropna(subset=['peso'], inplace=True) \n",
    "\n",
    "# para eliminar o registro. Inplace = True siginifica que quer alterar os dados naquele dataframe"
   ]
  },
  {
   "cell_type": "code",
   "execution_count": 34,
   "metadata": {
    "colab": {
     "base_uri": "https://localhost:8080/"
    },
    "executionInfo": {
     "elapsed": 86,
     "status": "ok",
     "timestamp": 1628820272326,
     "user": {
      "displayName": "Prof. Leandro Lessa",
      "photoUrl": "https://lh3.googleusercontent.com/a-/AOh14GjOFTHd5R6mZqpiAveor8rupG9YPM_LbwR5AmNPtg=s64",
      "userId": "09430483952296203154"
     },
     "user_tz": 180
    },
    "id": "g8GISDmiUABC",
    "outputId": "faebb632-9c8b-4df2-c3b0-de50e440d242"
   },
   "outputs": [
    {
     "data": {
      "text/plain": [
       "id_cliente    0\n",
       "peso          0\n",
       "colesterol    0\n",
       "genero        0\n",
       "dtype: int64"
      ]
     },
     "execution_count": 34,
     "metadata": {},
     "output_type": "execute_result"
    }
   ],
   "source": [
    "clinicos.isna().sum()"
   ]
  },
  {
   "cell_type": "markdown",
   "metadata": {
    "id": "mDaY2NK2azyK"
   },
   "source": [
    "# Analisando distribuição dos dados\n"
   ]
  },
  {
   "cell_type": "code",
   "execution_count": 63,
   "metadata": {
    "executionInfo": {
     "elapsed": 32,
     "status": "ok",
     "timestamp": 1628820272338,
     "user": {
      "displayName": "Prof. Leandro Lessa",
      "photoUrl": "https://lh3.googleusercontent.com/a-/AOh14GjOFTHd5R6mZqpiAveor8rupG9YPM_LbwR5AmNPtg=s64",
      "userId": "09430483952296203154"
     },
     "user_tz": 180
    },
    "id": "PVQv6U1SaI44"
   },
   "outputs": [],
   "source": [
    "import matplotlib.pyplot as plt\n"
   ]
  },
  {
   "cell_type": "code",
   "execution_count": 65,
   "metadata": {
    "colab": {
     "base_uri": "https://localhost:8080/",
     "height": 444
    },
    "executionInfo": {
     "elapsed": 526,
     "status": "ok",
     "timestamp": 1628820272832,
     "user": {
      "displayName": "Prof. Leandro Lessa",
      "photoUrl": "https://lh3.googleusercontent.com/a-/AOh14GjOFTHd5R6mZqpiAveor8rupG9YPM_LbwR5AmNPtg=s64",
      "userId": "09430483952296203154"
     },
     "user_tz": 180
    },
    "id": "CeHWrRKIcz7c",
    "outputId": "7a1ea765-1161-4699-abd7-7cca8156277b"
   },
   "outputs": [
    {
     "data": {
      "image/png": "[encoded data removed]",
      "text/plain": [
       "<Figure size 1500x700 with 1 Axes>"
      ]
     },
     "metadata": {},
     "output_type": "display_data"
    }
   ],
   "source": [
    "clinicos.hist(column='peso', figsize=(15,7))\n",
    "plt.show()"
   ]
  },
  {
   "cell_type": "code",
   "execution_count": 66,
   "metadata": {
    "colab": {
     "base_uri": "https://localhost:8080/",
     "height": 444
    },
    "executionInfo": {
     "elapsed": 519,
     "status": "ok",
     "timestamp": 1628820273341,
     "user": {
      "displayName": "Prof. Leandro Lessa",
      "photoUrl": "https://lh3.googleusercontent.com/a-/AOh14GjOFTHd5R6mZqpiAveor8rupG9YPM_LbwR5AmNPtg=s64",
      "userId": "09430483952296203154"
     },
     "user_tz": 180
    },
    "id": "pqdiIT_1a6k_",
    "outputId": "d75b2285-a087-43c5-820a-1bb15dba7463"
   },
   "outputs": [
    {
     "data": {
      "image/png": "[encoded data removed]",
      "text/plain": [
       "<Figure size 1500x700 with 1 Axes>"
      ]
     },
     "metadata": {},
     "output_type": "display_data"
    }
   ],
   "source": [
    "clinicos.hist(column='peso', figsize=(15,7), bins=100)\n",
    "plt.show()"
   ]
  },
  {
   "cell_type": "code",
   "execution_count": 67,
   "metadata": {
    "colab": {
     "base_uri": "https://localhost:8080/",
     "height": 478
    },
    "executionInfo": {
     "elapsed": 42,
     "status": "ok",
     "timestamp": 1628820273343,
     "user": {
      "displayName": "Prof. Leandro Lessa",
      "photoUrl": "https://lh3.googleusercontent.com/a-/AOh14GjOFTHd5R6mZqpiAveor8rupG9YPM_LbwR5AmNPtg=s64",
      "userId": "09430483952296203154"
     },
     "user_tz": 180
    },
    "id": "AdTwiMZmbBvP",
    "outputId": "1720e7d8-185e-45e0-dd86-62104846a4dc"
   },
   "outputs": [
    {
     "data": {
      "text/plain": [
       "array([[<Axes: title={'center': 'colesterol'}>]], dtype=object)"
      ]
     },
     "execution_count": 67,
     "metadata": {},
     "output_type": "execute_result"
    },
    {
     "data": {
      "image/png": "[encoded data removed]",
      "text/plain": [
       "<Figure size 1500x700 with 1 Axes>"
      ]
     },
     "metadata": {},
     "output_type": "display_data"
    }
   ],
   "source": [
    "clinicos.hist(column='colesterol', figsize=(15,7), bins=100)"
   ]
  },
  {
   "cell_type": "code",
   "execution_count": 70,
   "metadata": {
    "colab": {
     "base_uri": "https://localhost:8080/",
     "height": 419
    },
    "executionInfo": {
     "elapsed": 15,
     "status": "ok",
     "timestamp": 1628820273901,
     "user": {
      "displayName": "Prof. Leandro Lessa",
      "photoUrl": "https://lh3.googleusercontent.com/a-/AOh14GjOFTHd5R6mZqpiAveor8rupG9YPM_LbwR5AmNPtg=s64",
      "userId": "09430483952296203154"
     },
     "user_tz": 180
    },
    "id": "2sR5NJj_f7cI",
    "outputId": "eea823f6-2b3e-496a-de7e-d947d9db7999"
   },
   "outputs": [
    {
     "data": {
      "text/html": [
       "<div>\n",
       "<style scoped>\n",
       "    .dataframe tbody tr th:only-of-type {\n",
       "        vertical-align: middle;\n",
       "    }\n",
       "\n",
       "    .dataframe tbody tr th {\n",
       "        vertical-align: top;\n",
       "    }\n",
       "\n",
       "    .dataframe thead th {\n",
       "        text-align: right;\n",
       "    }\n",
       "</style>\n",
       "<table border=\"1\" class=\"dataframe\">\n",
       "  <thead>\n",
       "    <tr style=\"text-align: right;\">\n",
       "      <th></th>\n",
       "      <th>id_cliente</th>\n",
       "      <th>peso</th>\n",
       "      <th>colesterol</th>\n",
       "      <th>genero</th>\n",
       "      <th>genero_number</th>\n",
       "    </tr>\n",
       "  </thead>\n",
       "  <tbody>\n",
       "    <tr>\n",
       "      <th>0</th>\n",
       "      <td>1</td>\n",
       "      <td>102.0</td>\n",
       "      <td>111</td>\n",
       "      <td>Masculino</td>\n",
       "      <td>1</td>\n",
       "    </tr>\n",
       "    <tr>\n",
       "      <th>1</th>\n",
       "      <td>2</td>\n",
       "      <td>115.0</td>\n",
       "      <td>135</td>\n",
       "      <td>Masculino</td>\n",
       "      <td>1</td>\n",
       "    </tr>\n",
       "    <tr>\n",
       "      <th>2</th>\n",
       "      <td>3</td>\n",
       "      <td>115.0</td>\n",
       "      <td>136</td>\n",
       "      <td>Masculino</td>\n",
       "      <td>1</td>\n",
       "    </tr>\n",
       "    <tr>\n",
       "      <th>3</th>\n",
       "      <td>4</td>\n",
       "      <td>140.0</td>\n",
       "      <td>167</td>\n",
       "      <td>Feminino</td>\n",
       "      <td>0</td>\n",
       "    </tr>\n",
       "    <tr>\n",
       "      <th>4</th>\n",
       "      <td>5</td>\n",
       "      <td>130.0</td>\n",
       "      <td>158</td>\n",
       "      <td>Masculino</td>\n",
       "      <td>1</td>\n",
       "    </tr>\n",
       "    <tr>\n",
       "      <th>...</th>\n",
       "      <td>...</td>\n",
       "      <td>...</td>\n",
       "      <td>...</td>\n",
       "      <td>...</td>\n",
       "      <td>...</td>\n",
       "    </tr>\n",
       "    <tr>\n",
       "      <th>542</th>\n",
       "      <td>543</td>\n",
       "      <td>172.0</td>\n",
       "      <td>207</td>\n",
       "      <td>Masculino</td>\n",
       "      <td>1</td>\n",
       "    </tr>\n",
       "    <tr>\n",
       "      <th>543</th>\n",
       "      <td>544</td>\n",
       "      <td>129.0</td>\n",
       "      <td>157</td>\n",
       "      <td>Masculino</td>\n",
       "      <td>1</td>\n",
       "    </tr>\n",
       "    <tr>\n",
       "      <th>544</th>\n",
       "      <td>545</td>\n",
       "      <td>107.0</td>\n",
       "      <td>115</td>\n",
       "      <td>Masculino</td>\n",
       "      <td>1</td>\n",
       "    </tr>\n",
       "    <tr>\n",
       "      <th>545</th>\n",
       "      <td>546</td>\n",
       "      <td>117.0</td>\n",
       "      <td>147</td>\n",
       "      <td>Masculino</td>\n",
       "      <td>1</td>\n",
       "    </tr>\n",
       "    <tr>\n",
       "      <th>546</th>\n",
       "      <td>547</td>\n",
       "      <td>148.0</td>\n",
       "      <td>176</td>\n",
       "      <td>Masculino</td>\n",
       "      <td>1</td>\n",
       "    </tr>\n",
       "  </tbody>\n",
       "</table>\n",
       "<p>547 rows × 5 columns</p>\n",
       "</div>"
      ],
      "text/plain": [
       "     id_cliente   peso  colesterol     genero  genero_number\n",
       "0             1  102.0         111  Masculino              1\n",
       "1             2  115.0         135  Masculino              1\n",
       "2             3  115.0         136  Masculino              1\n",
       "3             4  140.0         167   Feminino              0\n",
       "4             5  130.0         158  Masculino              1\n",
       "..          ...    ...         ...        ...            ...\n",
       "542         543  172.0         207  Masculino              1\n",
       "543         544  129.0         157  Masculino              1\n",
       "544         545  107.0         115  Masculino              1\n",
       "545         546  117.0         147  Masculino              1\n",
       "546         547  148.0         176  Masculino              1\n",
       "\n",
       "[547 rows x 5 columns]"
      ]
     },
     "execution_count": 70,
     "metadata": {},
     "output_type": "execute_result"
    }
   ],
   "source": [
    "clinicos\n",
    "\n",
    "# Coluna 'genero' é categórica e preciso ajustar para trabalhar com os algoritmos"
   ]
  },
  {
   "cell_type": "code",
   "execution_count": 69,
   "metadata": {
    "executionInfo": {
     "elapsed": 577,
     "status": "ok",
     "timestamp": 1628820273900,
     "user": {
      "displayName": "Prof. Leandro Lessa",
      "photoUrl": "https://lh3.googleusercontent.com/a-/AOh14GjOFTHd5R6mZqpiAveor8rupG9YPM_LbwR5AmNPtg=s64",
      "userId": "09430483952296203154"
     },
     "user_tz": 180
    },
    "id": "uis80NPlprpF"
   },
   "outputs": [],
   "source": [
    "#Criando um Identificador para a variável genero\n",
    "from sklearn.preprocessing import LabelEncoder\n",
    "\n",
    "LE = LabelEncoder()\n",
    "clinicos['genero_number'] = LE.fit_transform(clinicos['genero'])"
   ]
  },
  {
   "cell_type": "code",
   "execution_count": 71,
   "metadata": {},
   "outputs": [
    {
     "data": {
      "text/html": [
       "<div>\n",
       "<style scoped>\n",
       "    .dataframe tbody tr th:only-of-type {\n",
       "        vertical-align: middle;\n",
       "    }\n",
       "\n",
       "    .dataframe tbody tr th {\n",
       "        vertical-align: top;\n",
       "    }\n",
       "\n",
       "    .dataframe thead th {\n",
       "        text-align: right;\n",
       "    }\n",
       "</style>\n",
       "<table border=\"1\" class=\"dataframe\">\n",
       "  <thead>\n",
       "    <tr style=\"text-align: right;\">\n",
       "      <th></th>\n",
       "      <th>id_cliente</th>\n",
       "      <th>peso</th>\n",
       "      <th>colesterol</th>\n",
       "      <th>genero</th>\n",
       "      <th>genero_number</th>\n",
       "    </tr>\n",
       "  </thead>\n",
       "  <tbody>\n",
       "    <tr>\n",
       "      <th>0</th>\n",
       "      <td>1</td>\n",
       "      <td>102.0</td>\n",
       "      <td>111</td>\n",
       "      <td>Masculino</td>\n",
       "      <td>1</td>\n",
       "    </tr>\n",
       "    <tr>\n",
       "      <th>1</th>\n",
       "      <td>2</td>\n",
       "      <td>115.0</td>\n",
       "      <td>135</td>\n",
       "      <td>Masculino</td>\n",
       "      <td>1</td>\n",
       "    </tr>\n",
       "    <tr>\n",
       "      <th>2</th>\n",
       "      <td>3</td>\n",
       "      <td>115.0</td>\n",
       "      <td>136</td>\n",
       "      <td>Masculino</td>\n",
       "      <td>1</td>\n",
       "    </tr>\n",
       "    <tr>\n",
       "      <th>3</th>\n",
       "      <td>4</td>\n",
       "      <td>140.0</td>\n",
       "      <td>167</td>\n",
       "      <td>Feminino</td>\n",
       "      <td>0</td>\n",
       "    </tr>\n",
       "    <tr>\n",
       "      <th>4</th>\n",
       "      <td>5</td>\n",
       "      <td>130.0</td>\n",
       "      <td>158</td>\n",
       "      <td>Masculino</td>\n",
       "      <td>1</td>\n",
       "    </tr>\n",
       "    <tr>\n",
       "      <th>...</th>\n",
       "      <td>...</td>\n",
       "      <td>...</td>\n",
       "      <td>...</td>\n",
       "      <td>...</td>\n",
       "      <td>...</td>\n",
       "    </tr>\n",
       "    <tr>\n",
       "      <th>542</th>\n",
       "      <td>543</td>\n",
       "      <td>172.0</td>\n",
       "      <td>207</td>\n",
       "      <td>Masculino</td>\n",
       "      <td>1</td>\n",
       "    </tr>\n",
       "    <tr>\n",
       "      <th>543</th>\n",
       "      <td>544</td>\n",
       "      <td>129.0</td>\n",
       "      <td>157</td>\n",
       "      <td>Masculino</td>\n",
       "      <td>1</td>\n",
       "    </tr>\n",
       "    <tr>\n",
       "      <th>544</th>\n",
       "      <td>545</td>\n",
       "      <td>107.0</td>\n",
       "      <td>115</td>\n",
       "      <td>Masculino</td>\n",
       "      <td>1</td>\n",
       "    </tr>\n",
       "    <tr>\n",
       "      <th>545</th>\n",
       "      <td>546</td>\n",
       "      <td>117.0</td>\n",
       "      <td>147</td>\n",
       "      <td>Masculino</td>\n",
       "      <td>1</td>\n",
       "    </tr>\n",
       "    <tr>\n",
       "      <th>546</th>\n",
       "      <td>547</td>\n",
       "      <td>148.0</td>\n",
       "      <td>176</td>\n",
       "      <td>Masculino</td>\n",
       "      <td>1</td>\n",
       "    </tr>\n",
       "  </tbody>\n",
       "</table>\n",
       "<p>547 rows × 5 columns</p>\n",
       "</div>"
      ],
      "text/plain": [
       "     id_cliente   peso  colesterol     genero  genero_number\n",
       "0             1  102.0         111  Masculino              1\n",
       "1             2  115.0         135  Masculino              1\n",
       "2             3  115.0         136  Masculino              1\n",
       "3             4  140.0         167   Feminino              0\n",
       "4             5  130.0         158  Masculino              1\n",
       "..          ...    ...         ...        ...            ...\n",
       "542         543  172.0         207  Masculino              1\n",
       "543         544  129.0         157  Masculino              1\n",
       "544         545  107.0         115  Masculino              1\n",
       "545         546  117.0         147  Masculino              1\n",
       "546         547  148.0         176  Masculino              1\n",
       "\n",
       "[547 rows x 5 columns]"
      ]
     },
     "execution_count": 71,
     "metadata": {},
     "output_type": "execute_result"
    }
   ],
   "source": [
    "clinicos"
   ]
  },
  {
   "cell_type": "code",
   "execution_count": 72,
   "metadata": {
    "colab": {
     "base_uri": "https://localhost:8080/",
     "height": 478
    },
    "executionInfo": {
     "elapsed": 320,
     "status": "ok",
     "timestamp": 1628820274207,
     "user": {
      "displayName": "Prof. Leandro Lessa",
      "photoUrl": "https://lh3.googleusercontent.com/a-/AOh14GjOFTHd5R6mZqpiAveor8rupG9YPM_LbwR5AmNPtg=s64",
      "userId": "09430483952296203154"
     },
     "user_tz": 180
    },
    "id": "192dJ-r6d_qW",
    "outputId": "1630e177-6af0-4ebd-d159-ad1e7598f014"
   },
   "outputs": [
    {
     "data": {
      "text/plain": [
       "array([[<Axes: title={'center': 'genero_number'}>]], dtype=object)"
      ]
     },
     "execution_count": 72,
     "metadata": {},
     "output_type": "execute_result"
    },
    {
     "data": {
      "image/png": "[encoded data removed]",
      "text/plain": [
       "<Figure size 1500x700 with 1 Axes>"
      ]
     },
     "metadata": {},
     "output_type": "display_data"
    }
   ],
   "source": [
    "clinicos.hist(column='genero_number', figsize=(15,7), bins=3 )"
   ]
  },
  {
   "cell_type": "markdown",
   "metadata": {
    "id": "6Y4etLwEgCdS"
   },
   "source": [
    "# Junções entre os dados coletados\n",
    "Nessa etapa vamos realizar o merge entre os dados que realizamos a coleta\n",
    "\n"
   ]
  },
  {
   "cell_type": "code",
   "execution_count": 73,
   "metadata": {
    "colab": {
     "base_uri": "https://localhost:8080/",
     "height": 266
    },
    "executionInfo": {
     "elapsed": 17,
     "status": "ok",
     "timestamp": 1628820274208,
     "user": {
      "displayName": "Prof. Leandro Lessa",
      "photoUrl": "https://lh3.googleusercontent.com/a-/AOh14GjOFTHd5R6mZqpiAveor8rupG9YPM_LbwR5AmNPtg=s64",
      "userId": "09430483952296203154"
     },
     "user_tz": 180
    },
    "id": "4bMq9QzGg-GU",
    "outputId": "a3d2d3e6-0f43-4198-d3c7-75504ce67b81"
   },
   "outputs": [
    {
     "data": {
      "text/html": [
       "<div>\n",
       "<style scoped>\n",
       "    .dataframe tbody tr th:only-of-type {\n",
       "        vertical-align: middle;\n",
       "    }\n",
       "\n",
       "    .dataframe tbody tr th {\n",
       "        vertical-align: top;\n",
       "    }\n",
       "\n",
       "    .dataframe thead th {\n",
       "        text-align: right;\n",
       "    }\n",
       "</style>\n",
       "<table border=\"1\" class=\"dataframe\">\n",
       "  <thead>\n",
       "    <tr style=\"text-align: right;\">\n",
       "      <th></th>\n",
       "      <th>id_estado</th>\n",
       "      <th>sigla</th>\n",
       "      <th>estado</th>\n",
       "      <th>regiao</th>\n",
       "      <th>pais</th>\n",
       "    </tr>\n",
       "  </thead>\n",
       "  <tbody>\n",
       "    <tr>\n",
       "      <th>0</th>\n",
       "      <td>1</td>\n",
       "      <td>AC</td>\n",
       "      <td>Acre</td>\n",
       "      <td>Norte</td>\n",
       "      <td>Brasil</td>\n",
       "    </tr>\n",
       "    <tr>\n",
       "      <th>1</th>\n",
       "      <td>2</td>\n",
       "      <td>AL</td>\n",
       "      <td>Alagoas</td>\n",
       "      <td>Nordeste</td>\n",
       "      <td>Brasil</td>\n",
       "    </tr>\n",
       "    <tr>\n",
       "      <th>2</th>\n",
       "      <td>3</td>\n",
       "      <td>AP</td>\n",
       "      <td>Amapá</td>\n",
       "      <td>Norte</td>\n",
       "      <td>Brasil</td>\n",
       "    </tr>\n",
       "    <tr>\n",
       "      <th>3</th>\n",
       "      <td>4</td>\n",
       "      <td>AM</td>\n",
       "      <td>Amazonas</td>\n",
       "      <td>Norte</td>\n",
       "      <td>Brasil</td>\n",
       "    </tr>\n",
       "    <tr>\n",
       "      <th>4</th>\n",
       "      <td>5</td>\n",
       "      <td>BA</td>\n",
       "      <td>Bahia</td>\n",
       "      <td>Nordeste</td>\n",
       "      <td>Brasil</td>\n",
       "    </tr>\n",
       "    <tr>\n",
       "      <th>5</th>\n",
       "      <td>6</td>\n",
       "      <td>CE</td>\n",
       "      <td>Ceará</td>\n",
       "      <td>Nordeste</td>\n",
       "      <td>Brasil</td>\n",
       "    </tr>\n",
       "    <tr>\n",
       "      <th>6</th>\n",
       "      <td>7</td>\n",
       "      <td>DF</td>\n",
       "      <td>Distrito Federal</td>\n",
       "      <td>Centro-Oeste</td>\n",
       "      <td>Brasil</td>\n",
       "    </tr>\n",
       "  </tbody>\n",
       "</table>\n",
       "</div>"
      ],
      "text/plain": [
       "   id_estado sigla            estado        regiao    pais\n",
       "0          1    AC              Acre         Norte  Brasil\n",
       "1          2    AL           Alagoas      Nordeste  Brasil\n",
       "2          3    AP             Amapá         Norte  Brasil\n",
       "3          4    AM          Amazonas         Norte  Brasil\n",
       "4          5    BA             Bahia      Nordeste  Brasil\n",
       "5          6    CE             Ceará      Nordeste  Brasil\n",
       "6          7    DF  Distrito Federal  Centro-Oeste  Brasil"
      ]
     },
     "execution_count": 73,
     "metadata": {},
     "output_type": "execute_result"
    }
   ],
   "source": [
    "estados[:7]"
   ]
  },
  {
   "cell_type": "code",
   "execution_count": 75,
   "metadata": {
    "colab": {
     "base_uri": "https://localhost:8080/",
     "height": 204
    },
    "executionInfo": {
     "elapsed": 17,
     "status": "ok",
     "timestamp": 1628820274209,
     "user": {
      "displayName": "Prof. Leandro Lessa",
      "photoUrl": "https://lh3.googleusercontent.com/a-/AOh14GjOFTHd5R6mZqpiAveor8rupG9YPM_LbwR5AmNPtg=s64",
      "userId": "09430483952296203154"
     },
     "user_tz": 180
    },
    "id": "bfoj5BQrPqe1",
    "outputId": "68478d24-82fa-47a2-d1f7-95779a309151"
   },
   "outputs": [
    {
     "data": {
      "text/html": [
       "<div>\n",
       "<style scoped>\n",
       "    .dataframe tbody tr th:only-of-type {\n",
       "        vertical-align: middle;\n",
       "    }\n",
       "\n",
       "    .dataframe tbody tr th {\n",
       "        vertical-align: top;\n",
       "    }\n",
       "\n",
       "    .dataframe thead th {\n",
       "        text-align: right;\n",
       "    }\n",
       "</style>\n",
       "<table border=\"1\" class=\"dataframe\">\n",
       "  <thead>\n",
       "    <tr style=\"text-align: right;\">\n",
       "      <th></th>\n",
       "      <th>id_cliente</th>\n",
       "      <th>idade</th>\n",
       "      <th>classe_trabalho</th>\n",
       "      <th>escolaridade</th>\n",
       "      <th>id_estado</th>\n",
       "      <th>estado_civil</th>\n",
       "      <th>raca</th>\n",
       "      <th>qtde_filhos</th>\n",
       "      <th>salario</th>\n",
       "    </tr>\n",
       "  </thead>\n",
       "  <tbody>\n",
       "    <tr>\n",
       "      <th>0</th>\n",
       "      <td>1</td>\n",
       "      <td>39</td>\n",
       "      <td>Servidor Público</td>\n",
       "      <td>Ensino Médio Completo</td>\n",
       "      <td>2</td>\n",
       "      <td>Solteiro</td>\n",
       "      <td>Branco</td>\n",
       "      <td>2.0</td>\n",
       "      <td>4754</td>\n",
       "    </tr>\n",
       "    <tr>\n",
       "      <th>1</th>\n",
       "      <td>2</td>\n",
       "      <td>50</td>\n",
       "      <td>Autônomo</td>\n",
       "      <td>Superior Incompleto</td>\n",
       "      <td>24</td>\n",
       "      <td>Casado</td>\n",
       "      <td>Branco</td>\n",
       "      <td>1.0</td>\n",
       "      <td>3923</td>\n",
       "    </tr>\n",
       "    <tr>\n",
       "      <th>2</th>\n",
       "      <td>3</td>\n",
       "      <td>38</td>\n",
       "      <td>Funcionário Setor Privado</td>\n",
       "      <td>Ensino Médio Incompleto</td>\n",
       "      <td>4</td>\n",
       "      <td>Divorciado</td>\n",
       "      <td>Branco</td>\n",
       "      <td>0.0</td>\n",
       "      <td>1100</td>\n",
       "    </tr>\n",
       "    <tr>\n",
       "      <th>3</th>\n",
       "      <td>4</td>\n",
       "      <td>53</td>\n",
       "      <td>Funcionário Setor Privado</td>\n",
       "      <td>Ensino Médio Incompleto</td>\n",
       "      <td>24</td>\n",
       "      <td>Casado</td>\n",
       "      <td>Negro</td>\n",
       "      <td>1.0</td>\n",
       "      <td>1100</td>\n",
       "    </tr>\n",
       "    <tr>\n",
       "      <th>4</th>\n",
       "      <td>5</td>\n",
       "      <td>28</td>\n",
       "      <td>Funcionário Setor Privado</td>\n",
       "      <td>Ensino Médio Completo</td>\n",
       "      <td>15</td>\n",
       "      <td>Casado</td>\n",
       "      <td>Negro</td>\n",
       "      <td>0.0</td>\n",
       "      <td>3430</td>\n",
       "    </tr>\n",
       "  </tbody>\n",
       "</table>\n",
       "</div>"
      ],
      "text/plain": [
       "   id_cliente  idade            classe_trabalho             escolaridade  \\\n",
       "0           1     39           Servidor Público    Ensino Médio Completo   \n",
       "1           2     50                   Autônomo      Superior Incompleto   \n",
       "2           3     38  Funcionário Setor Privado  Ensino Médio Incompleto   \n",
       "3           4     53  Funcionário Setor Privado  Ensino Médio Incompleto   \n",
       "4           5     28  Funcionário Setor Privado    Ensino Médio Completo   \n",
       "\n",
       "   id_estado estado_civil    raca  qtde_filhos  salario  \n",
       "0          2     Solteiro  Branco          2.0     4754  \n",
       "1         24       Casado  Branco          1.0     3923  \n",
       "2          4   Divorciado  Branco          0.0     1100  \n",
       "3         24       Casado   Negro          1.0     1100  \n",
       "4         15       Casado   Negro          0.0     3430  "
      ]
     },
     "execution_count": 75,
     "metadata": {},
     "output_type": "execute_result"
    }
   ],
   "source": [
    "pacientes[:5]"
   ]
  },
  {
   "cell_type": "code",
   "execution_count": 77,
   "metadata": {
    "colab": {
     "base_uri": "https://localhost:8080/",
     "height": 419
    },
    "executionInfo": {
     "elapsed": 19,
     "status": "ok",
     "timestamp": 1628820274212,
     "user": {
      "displayName": "Prof. Leandro Lessa",
      "photoUrl": "https://lh3.googleusercontent.com/a-/AOh14GjOFTHd5R6mZqpiAveor8rupG9YPM_LbwR5AmNPtg=s64",
      "userId": "09430483952296203154"
     },
     "user_tz": 180
    },
    "id": "n80m-HhjgASF",
    "outputId": "bded492a-20bd-4c80-fb83-d1ea7a0bbb54"
   },
   "outputs": [
    {
     "data": {
      "text/html": [
       "<div>\n",
       "<style scoped>\n",
       "    .dataframe tbody tr th:only-of-type {\n",
       "        vertical-align: middle;\n",
       "    }\n",
       "\n",
       "    .dataframe tbody tr th {\n",
       "        vertical-align: top;\n",
       "    }\n",
       "\n",
       "    .dataframe thead th {\n",
       "        text-align: right;\n",
       "    }\n",
       "</style>\n",
       "<table border=\"1\" class=\"dataframe\">\n",
       "  <thead>\n",
       "    <tr style=\"text-align: right;\">\n",
       "      <th></th>\n",
       "      <th>id_cliente</th>\n",
       "      <th>idade</th>\n",
       "      <th>classe_trabalho</th>\n",
       "      <th>escolaridade</th>\n",
       "      <th>id_estado</th>\n",
       "      <th>estado_civil</th>\n",
       "      <th>raca</th>\n",
       "      <th>qtde_filhos</th>\n",
       "      <th>salario</th>\n",
       "      <th>sigla</th>\n",
       "      <th>estado</th>\n",
       "      <th>regiao</th>\n",
       "      <th>pais</th>\n",
       "    </tr>\n",
       "  </thead>\n",
       "  <tbody>\n",
       "    <tr>\n",
       "      <th>0</th>\n",
       "      <td>1</td>\n",
       "      <td>39</td>\n",
       "      <td>Servidor Público</td>\n",
       "      <td>Ensino Médio Completo</td>\n",
       "      <td>2</td>\n",
       "      <td>Solteiro</td>\n",
       "      <td>Branco</td>\n",
       "      <td>2.0</td>\n",
       "      <td>4754</td>\n",
       "      <td>AL</td>\n",
       "      <td>Alagoas</td>\n",
       "      <td>Nordeste</td>\n",
       "      <td>Brasil</td>\n",
       "    </tr>\n",
       "    <tr>\n",
       "      <th>1</th>\n",
       "      <td>2</td>\n",
       "      <td>50</td>\n",
       "      <td>Autônomo</td>\n",
       "      <td>Superior Incompleto</td>\n",
       "      <td>24</td>\n",
       "      <td>Casado</td>\n",
       "      <td>Branco</td>\n",
       "      <td>1.0</td>\n",
       "      <td>3923</td>\n",
       "      <td>SC</td>\n",
       "      <td>Santa Catarina</td>\n",
       "      <td>Sul</td>\n",
       "      <td>Brasil</td>\n",
       "    </tr>\n",
       "    <tr>\n",
       "      <th>2</th>\n",
       "      <td>3</td>\n",
       "      <td>38</td>\n",
       "      <td>Funcionário Setor Privado</td>\n",
       "      <td>Ensino Médio Incompleto</td>\n",
       "      <td>4</td>\n",
       "      <td>Divorciado</td>\n",
       "      <td>Branco</td>\n",
       "      <td>0.0</td>\n",
       "      <td>1100</td>\n",
       "      <td>AM</td>\n",
       "      <td>Amazonas</td>\n",
       "      <td>Norte</td>\n",
       "      <td>Brasil</td>\n",
       "    </tr>\n",
       "    <tr>\n",
       "      <th>3</th>\n",
       "      <td>4</td>\n",
       "      <td>53</td>\n",
       "      <td>Funcionário Setor Privado</td>\n",
       "      <td>Ensino Médio Incompleto</td>\n",
       "      <td>24</td>\n",
       "      <td>Casado</td>\n",
       "      <td>Negro</td>\n",
       "      <td>1.0</td>\n",
       "      <td>1100</td>\n",
       "      <td>SC</td>\n",
       "      <td>Santa Catarina</td>\n",
       "      <td>Sul</td>\n",
       "      <td>Brasil</td>\n",
       "    </tr>\n",
       "    <tr>\n",
       "      <th>4</th>\n",
       "      <td>5</td>\n",
       "      <td>28</td>\n",
       "      <td>Funcionário Setor Privado</td>\n",
       "      <td>Ensino Médio Completo</td>\n",
       "      <td>15</td>\n",
       "      <td>Casado</td>\n",
       "      <td>Negro</td>\n",
       "      <td>0.0</td>\n",
       "      <td>3430</td>\n",
       "      <td>PB</td>\n",
       "      <td>Paraíba</td>\n",
       "      <td>Nordeste</td>\n",
       "      <td>Brasil</td>\n",
       "    </tr>\n",
       "    <tr>\n",
       "      <th>...</th>\n",
       "      <td>...</td>\n",
       "      <td>...</td>\n",
       "      <td>...</td>\n",
       "      <td>...</td>\n",
       "      <td>...</td>\n",
       "      <td>...</td>\n",
       "      <td>...</td>\n",
       "      <td>...</td>\n",
       "      <td>...</td>\n",
       "      <td>...</td>\n",
       "      <td>...</td>\n",
       "      <td>...</td>\n",
       "      <td>...</td>\n",
       "    </tr>\n",
       "    <tr>\n",
       "      <th>7994</th>\n",
       "      <td>7995</td>\n",
       "      <td>23</td>\n",
       "      <td>Funcionário Setor Privado</td>\n",
       "      <td>Ensino Médio Completo</td>\n",
       "      <td>7</td>\n",
       "      <td>Casado</td>\n",
       "      <td>Negro</td>\n",
       "      <td>3.0</td>\n",
       "      <td>2856</td>\n",
       "      <td>DF</td>\n",
       "      <td>Distrito Federal</td>\n",
       "      <td>Centro-Oeste</td>\n",
       "      <td>Brasil</td>\n",
       "    </tr>\n",
       "    <tr>\n",
       "      <th>7995</th>\n",
       "      <td>7996</td>\n",
       "      <td>19</td>\n",
       "      <td>Funcionário Setor Privado</td>\n",
       "      <td>Ensino Médio Incompleto</td>\n",
       "      <td>5</td>\n",
       "      <td>Solteiro</td>\n",
       "      <td>Branco</td>\n",
       "      <td>1.0</td>\n",
       "      <td>1100</td>\n",
       "      <td>BA</td>\n",
       "      <td>Bahia</td>\n",
       "      <td>Nordeste</td>\n",
       "      <td>Brasil</td>\n",
       "    </tr>\n",
       "    <tr>\n",
       "      <th>7996</th>\n",
       "      <td>7997</td>\n",
       "      <td>44</td>\n",
       "      <td>Funcionário Setor Privado</td>\n",
       "      <td>Ensino Médio Completo</td>\n",
       "      <td>23</td>\n",
       "      <td>Casado</td>\n",
       "      <td>Branco</td>\n",
       "      <td>0.0</td>\n",
       "      <td>3729</td>\n",
       "      <td>RR</td>\n",
       "      <td>Roraima</td>\n",
       "      <td>Norte</td>\n",
       "      <td>Brasil</td>\n",
       "    </tr>\n",
       "    <tr>\n",
       "      <th>7997</th>\n",
       "      <td>7998</td>\n",
       "      <td>20</td>\n",
       "      <td>Funcionário Setor Privado</td>\n",
       "      <td>Ensino Médio Incompleto</td>\n",
       "      <td>8</td>\n",
       "      <td>Solteiro</td>\n",
       "      <td>Negro</td>\n",
       "      <td>0.0</td>\n",
       "      <td>1100</td>\n",
       "      <td>ES</td>\n",
       "      <td>Espírito Santo</td>\n",
       "      <td>Sudeste</td>\n",
       "      <td>Brasil</td>\n",
       "    </tr>\n",
       "    <tr>\n",
       "      <th>7998</th>\n",
       "      <td>7999</td>\n",
       "      <td>41</td>\n",
       "      <td>Funcionário Setor Privado</td>\n",
       "      <td>Ensino Médio Completo</td>\n",
       "      <td>13</td>\n",
       "      <td>Casado</td>\n",
       "      <td>Branco</td>\n",
       "      <td>1.0</td>\n",
       "      <td>2579</td>\n",
       "      <td>MG</td>\n",
       "      <td>Minas Gerais</td>\n",
       "      <td>Sudeste</td>\n",
       "      <td>Brasil</td>\n",
       "    </tr>\n",
       "  </tbody>\n",
       "</table>\n",
       "<p>7999 rows × 13 columns</p>\n",
       "</div>"
      ],
      "text/plain": [
       "      id_cliente  idade            classe_trabalho             escolaridade  \\\n",
       "0              1     39           Servidor Público    Ensino Médio Completo   \n",
       "1              2     50                   Autônomo      Superior Incompleto   \n",
       "2              3     38  Funcionário Setor Privado  Ensino Médio Incompleto   \n",
       "3              4     53  Funcionário Setor Privado  Ensino Médio Incompleto   \n",
       "4              5     28  Funcionário Setor Privado    Ensino Médio Completo   \n",
       "...          ...    ...                        ...                      ...   \n",
       "7994        7995     23  Funcionário Setor Privado    Ensino Médio Completo   \n",
       "7995        7996     19  Funcionário Setor Privado  Ensino Médio Incompleto   \n",
       "7996        7997     44  Funcionário Setor Privado    Ensino Médio Completo   \n",
       "7997        7998     20  Funcionário Setor Privado  Ensino Médio Incompleto   \n",
       "7998        7999     41  Funcionário Setor Privado    Ensino Médio Completo   \n",
       "\n",
       "      id_estado estado_civil    raca  qtde_filhos  salario sigla  \\\n",
       "0             2     Solteiro  Branco          2.0     4754    AL   \n",
       "1            24       Casado  Branco          1.0     3923    SC   \n",
       "2             4   Divorciado  Branco          0.0     1100    AM   \n",
       "3            24       Casado   Negro          1.0     1100    SC   \n",
       "4            15       Casado   Negro          0.0     3430    PB   \n",
       "...         ...          ...     ...          ...      ...   ...   \n",
       "7994          7       Casado   Negro          3.0     2856    DF   \n",
       "7995          5     Solteiro  Branco          1.0     1100    BA   \n",
       "7996         23       Casado  Branco          0.0     3729    RR   \n",
       "7997          8     Solteiro   Negro          0.0     1100    ES   \n",
       "7998         13       Casado  Branco          1.0     2579    MG   \n",
       "\n",
       "                estado        regiao    pais  \n",
       "0              Alagoas      Nordeste  Brasil  \n",
       "1       Santa Catarina           Sul  Brasil  \n",
       "2             Amazonas         Norte  Brasil  \n",
       "3       Santa Catarina           Sul  Brasil  \n",
       "4              Paraíba      Nordeste  Brasil  \n",
       "...                ...           ...     ...  \n",
       "7994  Distrito Federal  Centro-Oeste  Brasil  \n",
       "7995             Bahia      Nordeste  Brasil  \n",
       "7996           Roraima         Norte  Brasil  \n",
       "7997    Espírito Santo       Sudeste  Brasil  \n",
       "7998      Minas Gerais       Sudeste  Brasil  \n",
       "\n",
       "[7999 rows x 13 columns]"
      ]
     },
     "execution_count": 77,
     "metadata": {},
     "output_type": "execute_result"
    }
   ],
   "source": [
    "pacientes_estados = pd.merge(pacientes, estados, on='id_estado')\n",
    "pacientes_estados.sort_values('id_cliente')"
   ]
  },
  {
   "cell_type": "code",
   "execution_count": 78,
   "metadata": {},
   "outputs": [
    {
     "data": {
      "text/html": [
       "<div>\n",
       "<style scoped>\n",
       "    .dataframe tbody tr th:only-of-type {\n",
       "        vertical-align: middle;\n",
       "    }\n",
       "\n",
       "    .dataframe tbody tr th {\n",
       "        vertical-align: top;\n",
       "    }\n",
       "\n",
       "    .dataframe thead th {\n",
       "        text-align: right;\n",
       "    }\n",
       "</style>\n",
       "<table border=\"1\" class=\"dataframe\">\n",
       "  <thead>\n",
       "    <tr style=\"text-align: right;\">\n",
       "      <th></th>\n",
       "      <th>id_cliente</th>\n",
       "      <th>peso</th>\n",
       "      <th>colesterol</th>\n",
       "      <th>genero</th>\n",
       "      <th>genero_number</th>\n",
       "    </tr>\n",
       "  </thead>\n",
       "  <tbody>\n",
       "    <tr>\n",
       "      <th>0</th>\n",
       "      <td>1</td>\n",
       "      <td>102.0</td>\n",
       "      <td>111</td>\n",
       "      <td>Masculino</td>\n",
       "      <td>1</td>\n",
       "    </tr>\n",
       "    <tr>\n",
       "      <th>1</th>\n",
       "      <td>2</td>\n",
       "      <td>115.0</td>\n",
       "      <td>135</td>\n",
       "      <td>Masculino</td>\n",
       "      <td>1</td>\n",
       "    </tr>\n",
       "    <tr>\n",
       "      <th>2</th>\n",
       "      <td>3</td>\n",
       "      <td>115.0</td>\n",
       "      <td>136</td>\n",
       "      <td>Masculino</td>\n",
       "      <td>1</td>\n",
       "    </tr>\n",
       "    <tr>\n",
       "      <th>3</th>\n",
       "      <td>4</td>\n",
       "      <td>140.0</td>\n",
       "      <td>167</td>\n",
       "      <td>Feminino</td>\n",
       "      <td>0</td>\n",
       "    </tr>\n",
       "    <tr>\n",
       "      <th>4</th>\n",
       "      <td>5</td>\n",
       "      <td>130.0</td>\n",
       "      <td>158</td>\n",
       "      <td>Masculino</td>\n",
       "      <td>1</td>\n",
       "    </tr>\n",
       "  </tbody>\n",
       "</table>\n",
       "</div>"
      ],
      "text/plain": [
       "   id_cliente   peso  colesterol     genero  genero_number\n",
       "0           1  102.0         111  Masculino              1\n",
       "1           2  115.0         135  Masculino              1\n",
       "2           3  115.0         136  Masculino              1\n",
       "3           4  140.0         167   Feminino              0\n",
       "4           5  130.0         158  Masculino              1"
      ]
     },
     "execution_count": 78,
     "metadata": {},
     "output_type": "execute_result"
    }
   ],
   "source": [
    "clinicos[:5]"
   ]
  },
  {
   "cell_type": "code",
   "execution_count": 79,
   "metadata": {
    "executionInfo": {
     "elapsed": 19,
     "status": "ok",
     "timestamp": 1628820274213,
     "user": {
      "displayName": "Prof. Leandro Lessa",
      "photoUrl": "https://lh3.googleusercontent.com/a-/AOh14GjOFTHd5R6mZqpiAveor8rupG9YPM_LbwR5AmNPtg=s64",
      "userId": "09430483952296203154"
     },
     "user_tz": 180
    },
    "id": "IKE6af7bp2qV"
   },
   "outputs": [],
   "source": [
    "#realiza Junção entre clinicos e pacientes_estados\n",
    "base_completa = pd.merge(pacientes_estados, clinicos, on='id_cliente').sort_values('id_cliente')"
   ]
  },
  {
   "cell_type": "code",
   "execution_count": 80,
   "metadata": {
    "colab": {
     "base_uri": "https://localhost:8080/",
     "height": 419
    },
    "executionInfo": {
     "elapsed": 36,
     "status": "ok",
     "timestamp": 1628820274791,
     "user": {
      "displayName": "Prof. Leandro Lessa",
      "photoUrl": "https://lh3.googleusercontent.com/a-/AOh14GjOFTHd5R6mZqpiAveor8rupG9YPM_LbwR5AmNPtg=s64",
      "userId": "09430483952296203154"
     },
     "user_tz": 180
    },
    "id": "dIoHeVsOlV_d",
    "outputId": "e94b0e89-ed45-435e-b13a-ee3d82307995"
   },
   "outputs": [
    {
     "data": {
      "text/html": [
       "<div>\n",
       "<style scoped>\n",
       "    .dataframe tbody tr th:only-of-type {\n",
       "        vertical-align: middle;\n",
       "    }\n",
       "\n",
       "    .dataframe tbody tr th {\n",
       "        vertical-align: top;\n",
       "    }\n",
       "\n",
       "    .dataframe thead th {\n",
       "        text-align: right;\n",
       "    }\n",
       "</style>\n",
       "<table border=\"1\" class=\"dataframe\">\n",
       "  <thead>\n",
       "    <tr style=\"text-align: right;\">\n",
       "      <th></th>\n",
       "      <th>id_cliente</th>\n",
       "      <th>idade</th>\n",
       "      <th>classe_trabalho</th>\n",
       "      <th>escolaridade</th>\n",
       "      <th>id_estado</th>\n",
       "      <th>estado_civil</th>\n",
       "      <th>raca</th>\n",
       "      <th>qtde_filhos</th>\n",
       "      <th>salario</th>\n",
       "      <th>sigla</th>\n",
       "      <th>estado</th>\n",
       "      <th>regiao</th>\n",
       "      <th>pais</th>\n",
       "      <th>peso</th>\n",
       "      <th>colesterol</th>\n",
       "      <th>genero</th>\n",
       "      <th>genero_number</th>\n",
       "    </tr>\n",
       "  </thead>\n",
       "  <tbody>\n",
       "    <tr>\n",
       "      <th>0</th>\n",
       "      <td>1</td>\n",
       "      <td>39</td>\n",
       "      <td>Servidor Público</td>\n",
       "      <td>Ensino Médio Completo</td>\n",
       "      <td>2</td>\n",
       "      <td>Solteiro</td>\n",
       "      <td>Branco</td>\n",
       "      <td>2.0</td>\n",
       "      <td>4754</td>\n",
       "      <td>AL</td>\n",
       "      <td>Alagoas</td>\n",
       "      <td>Nordeste</td>\n",
       "      <td>Brasil</td>\n",
       "      <td>102.0</td>\n",
       "      <td>111</td>\n",
       "      <td>Masculino</td>\n",
       "      <td>1</td>\n",
       "    </tr>\n",
       "    <tr>\n",
       "      <th>1</th>\n",
       "      <td>2</td>\n",
       "      <td>50</td>\n",
       "      <td>Autônomo</td>\n",
       "      <td>Superior Incompleto</td>\n",
       "      <td>24</td>\n",
       "      <td>Casado</td>\n",
       "      <td>Branco</td>\n",
       "      <td>1.0</td>\n",
       "      <td>3923</td>\n",
       "      <td>SC</td>\n",
       "      <td>Santa Catarina</td>\n",
       "      <td>Sul</td>\n",
       "      <td>Brasil</td>\n",
       "      <td>115.0</td>\n",
       "      <td>135</td>\n",
       "      <td>Masculino</td>\n",
       "      <td>1</td>\n",
       "    </tr>\n",
       "    <tr>\n",
       "      <th>2</th>\n",
       "      <td>3</td>\n",
       "      <td>38</td>\n",
       "      <td>Funcionário Setor Privado</td>\n",
       "      <td>Ensino Médio Incompleto</td>\n",
       "      <td>4</td>\n",
       "      <td>Divorciado</td>\n",
       "      <td>Branco</td>\n",
       "      <td>0.0</td>\n",
       "      <td>1100</td>\n",
       "      <td>AM</td>\n",
       "      <td>Amazonas</td>\n",
       "      <td>Norte</td>\n",
       "      <td>Brasil</td>\n",
       "      <td>115.0</td>\n",
       "      <td>136</td>\n",
       "      <td>Masculino</td>\n",
       "      <td>1</td>\n",
       "    </tr>\n",
       "    <tr>\n",
       "      <th>3</th>\n",
       "      <td>4</td>\n",
       "      <td>53</td>\n",
       "      <td>Funcionário Setor Privado</td>\n",
       "      <td>Ensino Médio Incompleto</td>\n",
       "      <td>24</td>\n",
       "      <td>Casado</td>\n",
       "      <td>Negro</td>\n",
       "      <td>1.0</td>\n",
       "      <td>1100</td>\n",
       "      <td>SC</td>\n",
       "      <td>Santa Catarina</td>\n",
       "      <td>Sul</td>\n",
       "      <td>Brasil</td>\n",
       "      <td>140.0</td>\n",
       "      <td>167</td>\n",
       "      <td>Feminino</td>\n",
       "      <td>0</td>\n",
       "    </tr>\n",
       "    <tr>\n",
       "      <th>4</th>\n",
       "      <td>5</td>\n",
       "      <td>28</td>\n",
       "      <td>Funcionário Setor Privado</td>\n",
       "      <td>Ensino Médio Completo</td>\n",
       "      <td>15</td>\n",
       "      <td>Casado</td>\n",
       "      <td>Negro</td>\n",
       "      <td>0.0</td>\n",
       "      <td>3430</td>\n",
       "      <td>PB</td>\n",
       "      <td>Paraíba</td>\n",
       "      <td>Nordeste</td>\n",
       "      <td>Brasil</td>\n",
       "      <td>130.0</td>\n",
       "      <td>158</td>\n",
       "      <td>Masculino</td>\n",
       "      <td>1</td>\n",
       "    </tr>\n",
       "    <tr>\n",
       "      <th>...</th>\n",
       "      <td>...</td>\n",
       "      <td>...</td>\n",
       "      <td>...</td>\n",
       "      <td>...</td>\n",
       "      <td>...</td>\n",
       "      <td>...</td>\n",
       "      <td>...</td>\n",
       "      <td>...</td>\n",
       "      <td>...</td>\n",
       "      <td>...</td>\n",
       "      <td>...</td>\n",
       "      <td>...</td>\n",
       "      <td>...</td>\n",
       "      <td>...</td>\n",
       "      <td>...</td>\n",
       "      <td>...</td>\n",
       "      <td>...</td>\n",
       "    </tr>\n",
       "    <tr>\n",
       "      <th>542</th>\n",
       "      <td>543</td>\n",
       "      <td>46</td>\n",
       "      <td>Autônomo</td>\n",
       "      <td>Ensino Médio Completo</td>\n",
       "      <td>9</td>\n",
       "      <td>Divorciado</td>\n",
       "      <td>Branco</td>\n",
       "      <td>1.0</td>\n",
       "      <td>3533</td>\n",
       "      <td>GO</td>\n",
       "      <td>Goiás</td>\n",
       "      <td>Centro-Oeste</td>\n",
       "      <td>Brasil</td>\n",
       "      <td>172.0</td>\n",
       "      <td>207</td>\n",
       "      <td>Masculino</td>\n",
       "      <td>1</td>\n",
       "    </tr>\n",
       "    <tr>\n",
       "      <th>543</th>\n",
       "      <td>544</td>\n",
       "      <td>36</td>\n",
       "      <td>Autônomo</td>\n",
       "      <td>Ensino Médio Incompleto</td>\n",
       "      <td>5</td>\n",
       "      <td>Separado</td>\n",
       "      <td>Branco</td>\n",
       "      <td>1.0</td>\n",
       "      <td>1100</td>\n",
       "      <td>BA</td>\n",
       "      <td>Bahia</td>\n",
       "      <td>Nordeste</td>\n",
       "      <td>Brasil</td>\n",
       "      <td>129.0</td>\n",
       "      <td>157</td>\n",
       "      <td>Masculino</td>\n",
       "      <td>1</td>\n",
       "    </tr>\n",
       "    <tr>\n",
       "      <th>544</th>\n",
       "      <td>545</td>\n",
       "      <td>72</td>\n",
       "      <td>Aposentado</td>\n",
       "      <td>Ensino Médio Incompleto</td>\n",
       "      <td>1</td>\n",
       "      <td>Viúvo</td>\n",
       "      <td>Branco</td>\n",
       "      <td>1.0</td>\n",
       "      <td>4110</td>\n",
       "      <td>AC</td>\n",
       "      <td>Acre</td>\n",
       "      <td>Norte</td>\n",
       "      <td>Brasil</td>\n",
       "      <td>107.0</td>\n",
       "      <td>115</td>\n",
       "      <td>Masculino</td>\n",
       "      <td>1</td>\n",
       "    </tr>\n",
       "    <tr>\n",
       "      <th>545</th>\n",
       "      <td>546</td>\n",
       "      <td>35</td>\n",
       "      <td>Funcionário Setor Privado</td>\n",
       "      <td>Ensino Médio Incompleto</td>\n",
       "      <td>5</td>\n",
       "      <td>Casado</td>\n",
       "      <td>Negro</td>\n",
       "      <td>2.0</td>\n",
       "      <td>1100</td>\n",
       "      <td>BA</td>\n",
       "      <td>Bahia</td>\n",
       "      <td>Nordeste</td>\n",
       "      <td>Brasil</td>\n",
       "      <td>117.0</td>\n",
       "      <td>147</td>\n",
       "      <td>Masculino</td>\n",
       "      <td>1</td>\n",
       "    </tr>\n",
       "    <tr>\n",
       "      <th>546</th>\n",
       "      <td>547</td>\n",
       "      <td>33</td>\n",
       "      <td>Funcionário Público</td>\n",
       "      <td>Ensino Médio Completo</td>\n",
       "      <td>26</td>\n",
       "      <td>Divorciado</td>\n",
       "      <td>Negro</td>\n",
       "      <td>1.0</td>\n",
       "      <td>4925</td>\n",
       "      <td>SE</td>\n",
       "      <td>Sergipe</td>\n",
       "      <td>Nordeste</td>\n",
       "      <td>Brasil</td>\n",
       "      <td>148.0</td>\n",
       "      <td>176</td>\n",
       "      <td>Masculino</td>\n",
       "      <td>1</td>\n",
       "    </tr>\n",
       "  </tbody>\n",
       "</table>\n",
       "<p>547 rows × 17 columns</p>\n",
       "</div>"
      ],
      "text/plain": [
       "     id_cliente  idade            classe_trabalho             escolaridade  \\\n",
       "0             1     39           Servidor Público    Ensino Médio Completo   \n",
       "1             2     50                   Autônomo      Superior Incompleto   \n",
       "2             3     38  Funcionário Setor Privado  Ensino Médio Incompleto   \n",
       "3             4     53  Funcionário Setor Privado  Ensino Médio Incompleto   \n",
       "4             5     28  Funcionário Setor Privado    Ensino Médio Completo   \n",
       "..          ...    ...                        ...                      ...   \n",
       "542         543     46                   Autônomo    Ensino Médio Completo   \n",
       "543         544     36                   Autônomo  Ensino Médio Incompleto   \n",
       "544         545     72                 Aposentado  Ensino Médio Incompleto   \n",
       "545         546     35  Funcionário Setor Privado  Ensino Médio Incompleto   \n",
       "546         547     33        Funcionário Público    Ensino Médio Completo   \n",
       "\n",
       "     id_estado estado_civil    raca  qtde_filhos  salario sigla  \\\n",
       "0            2     Solteiro  Branco          2.0     4754    AL   \n",
       "1           24       Casado  Branco          1.0     3923    SC   \n",
       "2            4   Divorciado  Branco          0.0     1100    AM   \n",
       "3           24       Casado   Negro          1.0     1100    SC   \n",
       "4           15       Casado   Negro          0.0     3430    PB   \n",
       "..         ...          ...     ...          ...      ...   ...   \n",
       "542          9   Divorciado  Branco          1.0     3533    GO   \n",
       "543          5     Separado  Branco          1.0     1100    BA   \n",
       "544          1        Viúvo  Branco          1.0     4110    AC   \n",
       "545          5       Casado   Negro          2.0     1100    BA   \n",
       "546         26   Divorciado   Negro          1.0     4925    SE   \n",
       "\n",
       "             estado        regiao    pais   peso  colesterol     genero  \\\n",
       "0           Alagoas      Nordeste  Brasil  102.0         111  Masculino   \n",
       "1    Santa Catarina           Sul  Brasil  115.0         135  Masculino   \n",
       "2          Amazonas         Norte  Brasil  115.0         136  Masculino   \n",
       "3    Santa Catarina           Sul  Brasil  140.0         167   Feminino   \n",
       "4           Paraíba      Nordeste  Brasil  130.0         158  Masculino   \n",
       "..              ...           ...     ...    ...         ...        ...   \n",
       "542           Goiás  Centro-Oeste  Brasil  172.0         207  Masculino   \n",
       "543           Bahia      Nordeste  Brasil  129.0         157  Masculino   \n",
       "544            Acre         Norte  Brasil  107.0         115  Masculino   \n",
       "545           Bahia      Nordeste  Brasil  117.0         147  Masculino   \n",
       "546         Sergipe      Nordeste  Brasil  148.0         176  Masculino   \n",
       "\n",
       "     genero_number  \n",
       "0                1  \n",
       "1                1  \n",
       "2                1  \n",
       "3                0  \n",
       "4                1  \n",
       "..             ...  \n",
       "542              1  \n",
       "543              1  \n",
       "544              1  \n",
       "545              1  \n",
       "546              1  \n",
       "\n",
       "[547 rows x 17 columns]"
      ]
     },
     "execution_count": 80,
     "metadata": {},
     "output_type": "execute_result"
    }
   ],
   "source": [
    "base_completa"
   ]
  },
  {
   "cell_type": "code",
   "execution_count": 81,
   "metadata": {
    "colab": {
     "base_uri": "https://localhost:8080/",
     "height": 419
    },
    "executionInfo": {
     "elapsed": 34,
     "status": "ok",
     "timestamp": 1628820274792,
     "user": {
      "displayName": "Prof. Leandro Lessa",
      "photoUrl": "https://lh3.googleusercontent.com/a-/AOh14GjOFTHd5R6mZqpiAveor8rupG9YPM_LbwR5AmNPtg=s64",
      "userId": "09430483952296203154"
     },
     "user_tz": 180
    },
    "id": "ryUO9hJAlmt-",
    "outputId": "b8be63a3-7975-451a-a624-314826260d0e"
   },
   "outputs": [
    {
     "data": {
      "text/html": [
       "<div>\n",
       "<style scoped>\n",
       "    .dataframe tbody tr th:only-of-type {\n",
       "        vertical-align: middle;\n",
       "    }\n",
       "\n",
       "    .dataframe tbody tr th {\n",
       "        vertical-align: top;\n",
       "    }\n",
       "\n",
       "    .dataframe thead th {\n",
       "        text-align: right;\n",
       "    }\n",
       "</style>\n",
       "<table border=\"1\" class=\"dataframe\">\n",
       "  <thead>\n",
       "    <tr style=\"text-align: right;\">\n",
       "      <th></th>\n",
       "      <th>id_cliente</th>\n",
       "      <th>idade</th>\n",
       "      <th>classe_trabalho</th>\n",
       "      <th>escolaridade</th>\n",
       "      <th>id_estado</th>\n",
       "      <th>estado_civil</th>\n",
       "      <th>raca</th>\n",
       "      <th>qtde_filhos</th>\n",
       "      <th>salario</th>\n",
       "      <th>sigla</th>\n",
       "      <th>estado</th>\n",
       "      <th>regiao</th>\n",
       "      <th>pais</th>\n",
       "      <th>peso</th>\n",
       "      <th>colesterol</th>\n",
       "      <th>genero</th>\n",
       "      <th>genero_number</th>\n",
       "    </tr>\n",
       "  </thead>\n",
       "  <tbody>\n",
       "    <tr>\n",
       "      <th>0</th>\n",
       "      <td>1</td>\n",
       "      <td>39</td>\n",
       "      <td>Servidor Público</td>\n",
       "      <td>Ensino Médio Completo</td>\n",
       "      <td>2</td>\n",
       "      <td>Solteiro</td>\n",
       "      <td>Branco</td>\n",
       "      <td>2.0</td>\n",
       "      <td>4754</td>\n",
       "      <td>AL</td>\n",
       "      <td>Alagoas</td>\n",
       "      <td>Nordeste</td>\n",
       "      <td>Brasil</td>\n",
       "      <td>102.0</td>\n",
       "      <td>111</td>\n",
       "      <td>Masculino</td>\n",
       "      <td>1</td>\n",
       "    </tr>\n",
       "    <tr>\n",
       "      <th>1</th>\n",
       "      <td>2</td>\n",
       "      <td>50</td>\n",
       "      <td>Autônomo</td>\n",
       "      <td>Superior Incompleto</td>\n",
       "      <td>24</td>\n",
       "      <td>Casado</td>\n",
       "      <td>Branco</td>\n",
       "      <td>1.0</td>\n",
       "      <td>3923</td>\n",
       "      <td>SC</td>\n",
       "      <td>Santa Catarina</td>\n",
       "      <td>Sul</td>\n",
       "      <td>Brasil</td>\n",
       "      <td>115.0</td>\n",
       "      <td>135</td>\n",
       "      <td>Masculino</td>\n",
       "      <td>1</td>\n",
       "    </tr>\n",
       "    <tr>\n",
       "      <th>2</th>\n",
       "      <td>3</td>\n",
       "      <td>38</td>\n",
       "      <td>Funcionário Setor Privado</td>\n",
       "      <td>Ensino Médio Incompleto</td>\n",
       "      <td>4</td>\n",
       "      <td>Divorciado</td>\n",
       "      <td>Branco</td>\n",
       "      <td>0.0</td>\n",
       "      <td>1100</td>\n",
       "      <td>AM</td>\n",
       "      <td>Amazonas</td>\n",
       "      <td>Norte</td>\n",
       "      <td>Brasil</td>\n",
       "      <td>115.0</td>\n",
       "      <td>136</td>\n",
       "      <td>Masculino</td>\n",
       "      <td>1</td>\n",
       "    </tr>\n",
       "    <tr>\n",
       "      <th>3</th>\n",
       "      <td>4</td>\n",
       "      <td>53</td>\n",
       "      <td>Funcionário Setor Privado</td>\n",
       "      <td>Ensino Médio Incompleto</td>\n",
       "      <td>24</td>\n",
       "      <td>Casado</td>\n",
       "      <td>Negro</td>\n",
       "      <td>1.0</td>\n",
       "      <td>1100</td>\n",
       "      <td>SC</td>\n",
       "      <td>Santa Catarina</td>\n",
       "      <td>Sul</td>\n",
       "      <td>Brasil</td>\n",
       "      <td>140.0</td>\n",
       "      <td>167</td>\n",
       "      <td>Feminino</td>\n",
       "      <td>0</td>\n",
       "    </tr>\n",
       "    <tr>\n",
       "      <th>4</th>\n",
       "      <td>5</td>\n",
       "      <td>28</td>\n",
       "      <td>Funcionário Setor Privado</td>\n",
       "      <td>Ensino Médio Completo</td>\n",
       "      <td>15</td>\n",
       "      <td>Casado</td>\n",
       "      <td>Negro</td>\n",
       "      <td>0.0</td>\n",
       "      <td>3430</td>\n",
       "      <td>PB</td>\n",
       "      <td>Paraíba</td>\n",
       "      <td>Nordeste</td>\n",
       "      <td>Brasil</td>\n",
       "      <td>130.0</td>\n",
       "      <td>158</td>\n",
       "      <td>Masculino</td>\n",
       "      <td>1</td>\n",
       "    </tr>\n",
       "    <tr>\n",
       "      <th>...</th>\n",
       "      <td>...</td>\n",
       "      <td>...</td>\n",
       "      <td>...</td>\n",
       "      <td>...</td>\n",
       "      <td>...</td>\n",
       "      <td>...</td>\n",
       "      <td>...</td>\n",
       "      <td>...</td>\n",
       "      <td>...</td>\n",
       "      <td>...</td>\n",
       "      <td>...</td>\n",
       "      <td>...</td>\n",
       "      <td>...</td>\n",
       "      <td>...</td>\n",
       "      <td>...</td>\n",
       "      <td>...</td>\n",
       "      <td>...</td>\n",
       "    </tr>\n",
       "    <tr>\n",
       "      <th>542</th>\n",
       "      <td>543</td>\n",
       "      <td>46</td>\n",
       "      <td>Autônomo</td>\n",
       "      <td>Ensino Médio Completo</td>\n",
       "      <td>9</td>\n",
       "      <td>Divorciado</td>\n",
       "      <td>Branco</td>\n",
       "      <td>1.0</td>\n",
       "      <td>3533</td>\n",
       "      <td>GO</td>\n",
       "      <td>Goiás</td>\n",
       "      <td>Centro-Oeste</td>\n",
       "      <td>Brasil</td>\n",
       "      <td>172.0</td>\n",
       "      <td>207</td>\n",
       "      <td>Masculino</td>\n",
       "      <td>1</td>\n",
       "    </tr>\n",
       "    <tr>\n",
       "      <th>543</th>\n",
       "      <td>544</td>\n",
       "      <td>36</td>\n",
       "      <td>Autônomo</td>\n",
       "      <td>Ensino Médio Incompleto</td>\n",
       "      <td>5</td>\n",
       "      <td>Separado</td>\n",
       "      <td>Branco</td>\n",
       "      <td>1.0</td>\n",
       "      <td>1100</td>\n",
       "      <td>BA</td>\n",
       "      <td>Bahia</td>\n",
       "      <td>Nordeste</td>\n",
       "      <td>Brasil</td>\n",
       "      <td>129.0</td>\n",
       "      <td>157</td>\n",
       "      <td>Masculino</td>\n",
       "      <td>1</td>\n",
       "    </tr>\n",
       "    <tr>\n",
       "      <th>544</th>\n",
       "      <td>545</td>\n",
       "      <td>72</td>\n",
       "      <td>Aposentado</td>\n",
       "      <td>Ensino Médio Incompleto</td>\n",
       "      <td>1</td>\n",
       "      <td>Viúvo</td>\n",
       "      <td>Branco</td>\n",
       "      <td>1.0</td>\n",
       "      <td>4110</td>\n",
       "      <td>AC</td>\n",
       "      <td>Acre</td>\n",
       "      <td>Norte</td>\n",
       "      <td>Brasil</td>\n",
       "      <td>107.0</td>\n",
       "      <td>115</td>\n",
       "      <td>Masculino</td>\n",
       "      <td>1</td>\n",
       "    </tr>\n",
       "    <tr>\n",
       "      <th>545</th>\n",
       "      <td>546</td>\n",
       "      <td>35</td>\n",
       "      <td>Funcionário Setor Privado</td>\n",
       "      <td>Ensino Médio Incompleto</td>\n",
       "      <td>5</td>\n",
       "      <td>Casado</td>\n",
       "      <td>Negro</td>\n",
       "      <td>2.0</td>\n",
       "      <td>1100</td>\n",
       "      <td>BA</td>\n",
       "      <td>Bahia</td>\n",
       "      <td>Nordeste</td>\n",
       "      <td>Brasil</td>\n",
       "      <td>117.0</td>\n",
       "      <td>147</td>\n",
       "      <td>Masculino</td>\n",
       "      <td>1</td>\n",
       "    </tr>\n",
       "    <tr>\n",
       "      <th>546</th>\n",
       "      <td>547</td>\n",
       "      <td>33</td>\n",
       "      <td>Funcionário Público</td>\n",
       "      <td>Ensino Médio Completo</td>\n",
       "      <td>26</td>\n",
       "      <td>Divorciado</td>\n",
       "      <td>Negro</td>\n",
       "      <td>1.0</td>\n",
       "      <td>4925</td>\n",
       "      <td>SE</td>\n",
       "      <td>Sergipe</td>\n",
       "      <td>Nordeste</td>\n",
       "      <td>Brasil</td>\n",
       "      <td>148.0</td>\n",
       "      <td>176</td>\n",
       "      <td>Masculino</td>\n",
       "      <td>1</td>\n",
       "    </tr>\n",
       "  </tbody>\n",
       "</table>\n",
       "<p>547 rows × 17 columns</p>\n",
       "</div>"
      ],
      "text/plain": [
       "     id_cliente  idade            classe_trabalho             escolaridade  \\\n",
       "0             1     39           Servidor Público    Ensino Médio Completo   \n",
       "1             2     50                   Autônomo      Superior Incompleto   \n",
       "2             3     38  Funcionário Setor Privado  Ensino Médio Incompleto   \n",
       "3             4     53  Funcionário Setor Privado  Ensino Médio Incompleto   \n",
       "4             5     28  Funcionário Setor Privado    Ensino Médio Completo   \n",
       "..          ...    ...                        ...                      ...   \n",
       "542         543     46                   Autônomo    Ensino Médio Completo   \n",
       "543         544     36                   Autônomo  Ensino Médio Incompleto   \n",
       "544         545     72                 Aposentado  Ensino Médio Incompleto   \n",
       "545         546     35  Funcionário Setor Privado  Ensino Médio Incompleto   \n",
       "546         547     33        Funcionário Público    Ensino Médio Completo   \n",
       "\n",
       "     id_estado estado_civil    raca  qtde_filhos  salario sigla  \\\n",
       "0            2     Solteiro  Branco          2.0     4754    AL   \n",
       "1           24       Casado  Branco          1.0     3923    SC   \n",
       "2            4   Divorciado  Branco          0.0     1100    AM   \n",
       "3           24       Casado   Negro          1.0     1100    SC   \n",
       "4           15       Casado   Negro          0.0     3430    PB   \n",
       "..         ...          ...     ...          ...      ...   ...   \n",
       "542          9   Divorciado  Branco          1.0     3533    GO   \n",
       "543          5     Separado  Branco          1.0     1100    BA   \n",
       "544          1        Viúvo  Branco          1.0     4110    AC   \n",
       "545          5       Casado   Negro          2.0     1100    BA   \n",
       "546         26   Divorciado   Negro          1.0     4925    SE   \n",
       "\n",
       "             estado        regiao    pais   peso  colesterol     genero  \\\n",
       "0           Alagoas      Nordeste  Brasil  102.0         111  Masculino   \n",
       "1    Santa Catarina           Sul  Brasil  115.0         135  Masculino   \n",
       "2          Amazonas         Norte  Brasil  115.0         136  Masculino   \n",
       "3    Santa Catarina           Sul  Brasil  140.0         167   Feminino   \n",
       "4           Paraíba      Nordeste  Brasil  130.0         158  Masculino   \n",
       "..              ...           ...     ...    ...         ...        ...   \n",
       "542           Goiás  Centro-Oeste  Brasil  172.0         207  Masculino   \n",
       "543           Bahia      Nordeste  Brasil  129.0         157  Masculino   \n",
       "544            Acre         Norte  Brasil  107.0         115  Masculino   \n",
       "545           Bahia      Nordeste  Brasil  117.0         147  Masculino   \n",
       "546         Sergipe      Nordeste  Brasil  148.0         176  Masculino   \n",
       "\n",
       "     genero_number  \n",
       "0                1  \n",
       "1                1  \n",
       "2                1  \n",
       "3                0  \n",
       "4                1  \n",
       "..             ...  \n",
       "542              1  \n",
       "543              1  \n",
       "544              1  \n",
       "545              1  \n",
       "546              1  \n",
       "\n",
       "[547 rows x 17 columns]"
      ]
     },
     "execution_count": 81,
     "metadata": {},
     "output_type": "execute_result"
    }
   ],
   "source": [
    "base_completa.reset_index(drop=True)"
   ]
  },
  {
   "cell_type": "markdown",
   "metadata": {
    "id": "ztkUnFLFoZqQ"
   },
   "source": [
    "# Organizando a base de dados\n",
    "Podemos realizar várias alterações na base de dados a fim de melhorar o entendimento e disposição das colunas. Além disso, podemos fazer transformações nos textos das linhas e colunas."
   ]
  },
  {
   "cell_type": "code",
   "execution_count": 82,
   "metadata": {
    "colab": {
     "base_uri": "https://localhost:8080/",
     "height": 419
    },
    "executionInfo": {
     "elapsed": 33,
     "status": "ok",
     "timestamp": 1628820274793,
     "user": {
      "displayName": "Prof. Leandro Lessa",
      "photoUrl": "https://lh3.googleusercontent.com/a-/AOh14GjOFTHd5R6mZqpiAveor8rupG9YPM_LbwR5AmNPtg=s64",
      "userId": "09430483952296203154"
     },
     "user_tz": 180
    },
    "id": "LPs5if2YoPKd",
    "outputId": "bc573bc5-5093-4235-9374-ef992a93da33"
   },
   "outputs": [
    {
     "data": {
      "text/html": [
       "<div>\n",
       "<style scoped>\n",
       "    .dataframe tbody tr th:only-of-type {\n",
       "        vertical-align: middle;\n",
       "    }\n",
       "\n",
       "    .dataframe tbody tr th {\n",
       "        vertical-align: top;\n",
       "    }\n",
       "\n",
       "    .dataframe thead th {\n",
       "        text-align: right;\n",
       "    }\n",
       "</style>\n",
       "<table border=\"1\" class=\"dataframe\">\n",
       "  <thead>\n",
       "    <tr style=\"text-align: right;\">\n",
       "      <th></th>\n",
       "      <th>cod_cliente</th>\n",
       "      <th>idade</th>\n",
       "      <th>classe_trabalho</th>\n",
       "      <th>escolaridade</th>\n",
       "      <th>cod_estado</th>\n",
       "      <th>estado_civil</th>\n",
       "      <th>raca</th>\n",
       "      <th>qtde_filhos</th>\n",
       "      <th>salario</th>\n",
       "      <th>sigla</th>\n",
       "      <th>estado</th>\n",
       "      <th>regiao</th>\n",
       "      <th>pais</th>\n",
       "      <th>peso</th>\n",
       "      <th>colesterol</th>\n",
       "      <th>genero</th>\n",
       "      <th>cod_genero</th>\n",
       "    </tr>\n",
       "  </thead>\n",
       "  <tbody>\n",
       "    <tr>\n",
       "      <th>0</th>\n",
       "      <td>1</td>\n",
       "      <td>39</td>\n",
       "      <td>Servidor Público</td>\n",
       "      <td>Ensino Médio Completo</td>\n",
       "      <td>2</td>\n",
       "      <td>Solteiro</td>\n",
       "      <td>Branco</td>\n",
       "      <td>2.0</td>\n",
       "      <td>4754</td>\n",
       "      <td>AL</td>\n",
       "      <td>Alagoas</td>\n",
       "      <td>Nordeste</td>\n",
       "      <td>Brasil</td>\n",
       "      <td>102.0</td>\n",
       "      <td>111</td>\n",
       "      <td>Masculino</td>\n",
       "      <td>1</td>\n",
       "    </tr>\n",
       "    <tr>\n",
       "      <th>1</th>\n",
       "      <td>2</td>\n",
       "      <td>50</td>\n",
       "      <td>Autônomo</td>\n",
       "      <td>Superior Incompleto</td>\n",
       "      <td>24</td>\n",
       "      <td>Casado</td>\n",
       "      <td>Branco</td>\n",
       "      <td>1.0</td>\n",
       "      <td>3923</td>\n",
       "      <td>SC</td>\n",
       "      <td>Santa Catarina</td>\n",
       "      <td>Sul</td>\n",
       "      <td>Brasil</td>\n",
       "      <td>115.0</td>\n",
       "      <td>135</td>\n",
       "      <td>Masculino</td>\n",
       "      <td>1</td>\n",
       "    </tr>\n",
       "    <tr>\n",
       "      <th>2</th>\n",
       "      <td>3</td>\n",
       "      <td>38</td>\n",
       "      <td>Funcionário Setor Privado</td>\n",
       "      <td>Ensino Médio Incompleto</td>\n",
       "      <td>4</td>\n",
       "      <td>Divorciado</td>\n",
       "      <td>Branco</td>\n",
       "      <td>0.0</td>\n",
       "      <td>1100</td>\n",
       "      <td>AM</td>\n",
       "      <td>Amazonas</td>\n",
       "      <td>Norte</td>\n",
       "      <td>Brasil</td>\n",
       "      <td>115.0</td>\n",
       "      <td>136</td>\n",
       "      <td>Masculino</td>\n",
       "      <td>1</td>\n",
       "    </tr>\n",
       "    <tr>\n",
       "      <th>3</th>\n",
       "      <td>4</td>\n",
       "      <td>53</td>\n",
       "      <td>Funcionário Setor Privado</td>\n",
       "      <td>Ensino Médio Incompleto</td>\n",
       "      <td>24</td>\n",
       "      <td>Casado</td>\n",
       "      <td>Negro</td>\n",
       "      <td>1.0</td>\n",
       "      <td>1100</td>\n",
       "      <td>SC</td>\n",
       "      <td>Santa Catarina</td>\n",
       "      <td>Sul</td>\n",
       "      <td>Brasil</td>\n",
       "      <td>140.0</td>\n",
       "      <td>167</td>\n",
       "      <td>Feminino</td>\n",
       "      <td>0</td>\n",
       "    </tr>\n",
       "    <tr>\n",
       "      <th>4</th>\n",
       "      <td>5</td>\n",
       "      <td>28</td>\n",
       "      <td>Funcionário Setor Privado</td>\n",
       "      <td>Ensino Médio Completo</td>\n",
       "      <td>15</td>\n",
       "      <td>Casado</td>\n",
       "      <td>Negro</td>\n",
       "      <td>0.0</td>\n",
       "      <td>3430</td>\n",
       "      <td>PB</td>\n",
       "      <td>Paraíba</td>\n",
       "      <td>Nordeste</td>\n",
       "      <td>Brasil</td>\n",
       "      <td>130.0</td>\n",
       "      <td>158</td>\n",
       "      <td>Masculino</td>\n",
       "      <td>1</td>\n",
       "    </tr>\n",
       "    <tr>\n",
       "      <th>...</th>\n",
       "      <td>...</td>\n",
       "      <td>...</td>\n",
       "      <td>...</td>\n",
       "      <td>...</td>\n",
       "      <td>...</td>\n",
       "      <td>...</td>\n",
       "      <td>...</td>\n",
       "      <td>...</td>\n",
       "      <td>...</td>\n",
       "      <td>...</td>\n",
       "      <td>...</td>\n",
       "      <td>...</td>\n",
       "      <td>...</td>\n",
       "      <td>...</td>\n",
       "      <td>...</td>\n",
       "      <td>...</td>\n",
       "      <td>...</td>\n",
       "    </tr>\n",
       "    <tr>\n",
       "      <th>542</th>\n",
       "      <td>543</td>\n",
       "      <td>46</td>\n",
       "      <td>Autônomo</td>\n",
       "      <td>Ensino Médio Completo</td>\n",
       "      <td>9</td>\n",
       "      <td>Divorciado</td>\n",
       "      <td>Branco</td>\n",
       "      <td>1.0</td>\n",
       "      <td>3533</td>\n",
       "      <td>GO</td>\n",
       "      <td>Goiás</td>\n",
       "      <td>Centro-Oeste</td>\n",
       "      <td>Brasil</td>\n",
       "      <td>172.0</td>\n",
       "      <td>207</td>\n",
       "      <td>Masculino</td>\n",
       "      <td>1</td>\n",
       "    </tr>\n",
       "    <tr>\n",
       "      <th>543</th>\n",
       "      <td>544</td>\n",
       "      <td>36</td>\n",
       "      <td>Autônomo</td>\n",
       "      <td>Ensino Médio Incompleto</td>\n",
       "      <td>5</td>\n",
       "      <td>Separado</td>\n",
       "      <td>Branco</td>\n",
       "      <td>1.0</td>\n",
       "      <td>1100</td>\n",
       "      <td>BA</td>\n",
       "      <td>Bahia</td>\n",
       "      <td>Nordeste</td>\n",
       "      <td>Brasil</td>\n",
       "      <td>129.0</td>\n",
       "      <td>157</td>\n",
       "      <td>Masculino</td>\n",
       "      <td>1</td>\n",
       "    </tr>\n",
       "    <tr>\n",
       "      <th>544</th>\n",
       "      <td>545</td>\n",
       "      <td>72</td>\n",
       "      <td>Aposentado</td>\n",
       "      <td>Ensino Médio Incompleto</td>\n",
       "      <td>1</td>\n",
       "      <td>Viúvo</td>\n",
       "      <td>Branco</td>\n",
       "      <td>1.0</td>\n",
       "      <td>4110</td>\n",
       "      <td>AC</td>\n",
       "      <td>Acre</td>\n",
       "      <td>Norte</td>\n",
       "      <td>Brasil</td>\n",
       "      <td>107.0</td>\n",
       "      <td>115</td>\n",
       "      <td>Masculino</td>\n",
       "      <td>1</td>\n",
       "    </tr>\n",
       "    <tr>\n",
       "      <th>545</th>\n",
       "      <td>546</td>\n",
       "      <td>35</td>\n",
       "      <td>Funcionário Setor Privado</td>\n",
       "      <td>Ensino Médio Incompleto</td>\n",
       "      <td>5</td>\n",
       "      <td>Casado</td>\n",
       "      <td>Negro</td>\n",
       "      <td>2.0</td>\n",
       "      <td>1100</td>\n",
       "      <td>BA</td>\n",
       "      <td>Bahia</td>\n",
       "      <td>Nordeste</td>\n",
       "      <td>Brasil</td>\n",
       "      <td>117.0</td>\n",
       "      <td>147</td>\n",
       "      <td>Masculino</td>\n",
       "      <td>1</td>\n",
       "    </tr>\n",
       "    <tr>\n",
       "      <th>546</th>\n",
       "      <td>547</td>\n",
       "      <td>33</td>\n",
       "      <td>Funcionário Público</td>\n",
       "      <td>Ensino Médio Completo</td>\n",
       "      <td>26</td>\n",
       "      <td>Divorciado</td>\n",
       "      <td>Negro</td>\n",
       "      <td>1.0</td>\n",
       "      <td>4925</td>\n",
       "      <td>SE</td>\n",
       "      <td>Sergipe</td>\n",
       "      <td>Nordeste</td>\n",
       "      <td>Brasil</td>\n",
       "      <td>148.0</td>\n",
       "      <td>176</td>\n",
       "      <td>Masculino</td>\n",
       "      <td>1</td>\n",
       "    </tr>\n",
       "  </tbody>\n",
       "</table>\n",
       "<p>547 rows × 17 columns</p>\n",
       "</div>"
      ],
      "text/plain": [
       "     cod_cliente  idade            classe_trabalho             escolaridade  \\\n",
       "0              1     39           Servidor Público    Ensino Médio Completo   \n",
       "1              2     50                   Autônomo      Superior Incompleto   \n",
       "2              3     38  Funcionário Setor Privado  Ensino Médio Incompleto   \n",
       "3              4     53  Funcionário Setor Privado  Ensino Médio Incompleto   \n",
       "4              5     28  Funcionário Setor Privado    Ensino Médio Completo   \n",
       "..           ...    ...                        ...                      ...   \n",
       "542          543     46                   Autônomo    Ensino Médio Completo   \n",
       "543          544     36                   Autônomo  Ensino Médio Incompleto   \n",
       "544          545     72                 Aposentado  Ensino Médio Incompleto   \n",
       "545          546     35  Funcionário Setor Privado  Ensino Médio Incompleto   \n",
       "546          547     33        Funcionário Público    Ensino Médio Completo   \n",
       "\n",
       "     cod_estado estado_civil    raca  qtde_filhos  salario sigla  \\\n",
       "0             2     Solteiro  Branco          2.0     4754    AL   \n",
       "1            24       Casado  Branco          1.0     3923    SC   \n",
       "2             4   Divorciado  Branco          0.0     1100    AM   \n",
       "3            24       Casado   Negro          1.0     1100    SC   \n",
       "4            15       Casado   Negro          0.0     3430    PB   \n",
       "..          ...          ...     ...          ...      ...   ...   \n",
       "542           9   Divorciado  Branco          1.0     3533    GO   \n",
       "543           5     Separado  Branco          1.0     1100    BA   \n",
       "544           1        Viúvo  Branco          1.0     4110    AC   \n",
       "545           5       Casado   Negro          2.0     1100    BA   \n",
       "546          26   Divorciado   Negro          1.0     4925    SE   \n",
       "\n",
       "             estado        regiao    pais   peso  colesterol     genero  \\\n",
       "0           Alagoas      Nordeste  Brasil  102.0         111  Masculino   \n",
       "1    Santa Catarina           Sul  Brasil  115.0         135  Masculino   \n",
       "2          Amazonas         Norte  Brasil  115.0         136  Masculino   \n",
       "3    Santa Catarina           Sul  Brasil  140.0         167   Feminino   \n",
       "4           Paraíba      Nordeste  Brasil  130.0         158  Masculino   \n",
       "..              ...           ...     ...    ...         ...        ...   \n",
       "542           Goiás  Centro-Oeste  Brasil  172.0         207  Masculino   \n",
       "543           Bahia      Nordeste  Brasil  129.0         157  Masculino   \n",
       "544            Acre         Norte  Brasil  107.0         115  Masculino   \n",
       "545           Bahia      Nordeste  Brasil  117.0         147  Masculino   \n",
       "546         Sergipe      Nordeste  Brasil  148.0         176  Masculino   \n",
       "\n",
       "     cod_genero  \n",
       "0             1  \n",
       "1             1  \n",
       "2             1  \n",
       "3             0  \n",
       "4             1  \n",
       "..          ...  \n",
       "542           1  \n",
       "543           1  \n",
       "544           1  \n",
       "545           1  \n",
       "546           1  \n",
       "\n",
       "[547 rows x 17 columns]"
      ]
     },
     "execution_count": 82,
     "metadata": {},
     "output_type": "execute_result"
    }
   ],
   "source": [
    "# Alterando nome das colunas\n",
    "base_completa.rename(columns={'id_cliente': 'cod_cliente', 'id_estado': 'cod_estado', 'genero_number': 'cod_genero'}, inplace = True)\n",
    "base_completa"
   ]
  },
  {
   "cell_type": "markdown",
   "metadata": {
    "id": "8dxGM6VkVXW_"
   },
   "source": []
  },
  {
   "cell_type": "code",
   "execution_count": 83,
   "metadata": {
    "colab": {
     "base_uri": "https://localhost:8080/",
     "height": 419
    },
    "executionInfo": {
     "elapsed": 27,
     "status": "ok",
     "timestamp": 1628820274796,
     "user": {
      "displayName": "Prof. Leandro Lessa",
      "photoUrl": "https://lh3.googleusercontent.com/a-/AOh14GjOFTHd5R6mZqpiAveor8rupG9YPM_LbwR5AmNPtg=s64",
      "userId": "09430483952296203154"
     },
     "user_tz": 180
    },
    "id": "yTS3kCAdVZaZ",
    "outputId": "442bd62f-6322-43ef-ef6d-bcd49f17ffe4"
   },
   "outputs": [
    {
     "data": {
      "text/html": [
       "<div>\n",
       "<style scoped>\n",
       "    .dataframe tbody tr th:only-of-type {\n",
       "        vertical-align: middle;\n",
       "    }\n",
       "\n",
       "    .dataframe tbody tr th {\n",
       "        vertical-align: top;\n",
       "    }\n",
       "\n",
       "    .dataframe thead th {\n",
       "        text-align: right;\n",
       "    }\n",
       "</style>\n",
       "<table border=\"1\" class=\"dataframe\">\n",
       "  <thead>\n",
       "    <tr style=\"text-align: right;\">\n",
       "      <th></th>\n",
       "      <th>cod_cliente</th>\n",
       "      <th>idade</th>\n",
       "      <th>classe_trabalho</th>\n",
       "      <th>escolaridade</th>\n",
       "      <th>cod_estado</th>\n",
       "      <th>estado_civil</th>\n",
       "      <th>raca</th>\n",
       "      <th>qtde_filhos</th>\n",
       "      <th>salario</th>\n",
       "      <th>sigla</th>\n",
       "      <th>estado</th>\n",
       "      <th>regiao</th>\n",
       "      <th>pais</th>\n",
       "      <th>peso</th>\n",
       "      <th>colesterol</th>\n",
       "      <th>genero</th>\n",
       "      <th>cod_genero</th>\n",
       "    </tr>\n",
       "  </thead>\n",
       "  <tbody>\n",
       "    <tr>\n",
       "      <th>0</th>\n",
       "      <td>1</td>\n",
       "      <td>39</td>\n",
       "      <td>Servidor Público</td>\n",
       "      <td>Ensino Médio Completo</td>\n",
       "      <td>2</td>\n",
       "      <td>Solteiro</td>\n",
       "      <td>Branco</td>\n",
       "      <td>2.0</td>\n",
       "      <td>4754</td>\n",
       "      <td>AL</td>\n",
       "      <td>Alagoas</td>\n",
       "      <td>Nordeste</td>\n",
       "      <td>Brasil</td>\n",
       "      <td>102.0</td>\n",
       "      <td>111</td>\n",
       "      <td>Masculino</td>\n",
       "      <td>1</td>\n",
       "    </tr>\n",
       "    <tr>\n",
       "      <th>1</th>\n",
       "      <td>2</td>\n",
       "      <td>50</td>\n",
       "      <td>Autônomo</td>\n",
       "      <td>Superior Incompleto</td>\n",
       "      <td>24</td>\n",
       "      <td>Casado</td>\n",
       "      <td>Branco</td>\n",
       "      <td>1.0</td>\n",
       "      <td>3923</td>\n",
       "      <td>SC</td>\n",
       "      <td>Santa Catarina</td>\n",
       "      <td>Sul</td>\n",
       "      <td>Brasil</td>\n",
       "      <td>115.0</td>\n",
       "      <td>135</td>\n",
       "      <td>Masculino</td>\n",
       "      <td>1</td>\n",
       "    </tr>\n",
       "    <tr>\n",
       "      <th>2</th>\n",
       "      <td>3</td>\n",
       "      <td>38</td>\n",
       "      <td>Funcionário Setor Privado</td>\n",
       "      <td>Ensino Médio Incompleto</td>\n",
       "      <td>4</td>\n",
       "      <td>Divorciado</td>\n",
       "      <td>Branco</td>\n",
       "      <td>0.0</td>\n",
       "      <td>1100</td>\n",
       "      <td>AM</td>\n",
       "      <td>Amazonas</td>\n",
       "      <td>Norte</td>\n",
       "      <td>Brasil</td>\n",
       "      <td>115.0</td>\n",
       "      <td>136</td>\n",
       "      <td>Masculino</td>\n",
       "      <td>1</td>\n",
       "    </tr>\n",
       "    <tr>\n",
       "      <th>3</th>\n",
       "      <td>4</td>\n",
       "      <td>53</td>\n",
       "      <td>Funcionário Setor Privado</td>\n",
       "      <td>Ensino Médio Incompleto</td>\n",
       "      <td>24</td>\n",
       "      <td>Casado</td>\n",
       "      <td>Negro</td>\n",
       "      <td>1.0</td>\n",
       "      <td>1100</td>\n",
       "      <td>SC</td>\n",
       "      <td>Santa Catarina</td>\n",
       "      <td>Sul</td>\n",
       "      <td>Brasil</td>\n",
       "      <td>140.0</td>\n",
       "      <td>167</td>\n",
       "      <td>Feminino</td>\n",
       "      <td>0</td>\n",
       "    </tr>\n",
       "    <tr>\n",
       "      <th>4</th>\n",
       "      <td>5</td>\n",
       "      <td>28</td>\n",
       "      <td>Funcionário Setor Privado</td>\n",
       "      <td>Ensino Médio Completo</td>\n",
       "      <td>15</td>\n",
       "      <td>Casado</td>\n",
       "      <td>Negro</td>\n",
       "      <td>0.0</td>\n",
       "      <td>3430</td>\n",
       "      <td>PB</td>\n",
       "      <td>Paraíba</td>\n",
       "      <td>Nordeste</td>\n",
       "      <td>Brasil</td>\n",
       "      <td>130.0</td>\n",
       "      <td>158</td>\n",
       "      <td>Masculino</td>\n",
       "      <td>1</td>\n",
       "    </tr>\n",
       "    <tr>\n",
       "      <th>...</th>\n",
       "      <td>...</td>\n",
       "      <td>...</td>\n",
       "      <td>...</td>\n",
       "      <td>...</td>\n",
       "      <td>...</td>\n",
       "      <td>...</td>\n",
       "      <td>...</td>\n",
       "      <td>...</td>\n",
       "      <td>...</td>\n",
       "      <td>...</td>\n",
       "      <td>...</td>\n",
       "      <td>...</td>\n",
       "      <td>...</td>\n",
       "      <td>...</td>\n",
       "      <td>...</td>\n",
       "      <td>...</td>\n",
       "      <td>...</td>\n",
       "    </tr>\n",
       "    <tr>\n",
       "      <th>542</th>\n",
       "      <td>543</td>\n",
       "      <td>46</td>\n",
       "      <td>Autônomo</td>\n",
       "      <td>Ensino Médio Completo</td>\n",
       "      <td>9</td>\n",
       "      <td>Divorciado</td>\n",
       "      <td>Branco</td>\n",
       "      <td>1.0</td>\n",
       "      <td>3533</td>\n",
       "      <td>GO</td>\n",
       "      <td>Goiás</td>\n",
       "      <td>Centro-Oeste</td>\n",
       "      <td>Brasil</td>\n",
       "      <td>172.0</td>\n",
       "      <td>207</td>\n",
       "      <td>Masculino</td>\n",
       "      <td>1</td>\n",
       "    </tr>\n",
       "    <tr>\n",
       "      <th>543</th>\n",
       "      <td>544</td>\n",
       "      <td>36</td>\n",
       "      <td>Autônomo</td>\n",
       "      <td>Ensino Médio Incompleto</td>\n",
       "      <td>5</td>\n",
       "      <td>Separado</td>\n",
       "      <td>Branco</td>\n",
       "      <td>1.0</td>\n",
       "      <td>1100</td>\n",
       "      <td>BA</td>\n",
       "      <td>Bahia</td>\n",
       "      <td>Nordeste</td>\n",
       "      <td>Brasil</td>\n",
       "      <td>129.0</td>\n",
       "      <td>157</td>\n",
       "      <td>Masculino</td>\n",
       "      <td>1</td>\n",
       "    </tr>\n",
       "    <tr>\n",
       "      <th>544</th>\n",
       "      <td>545</td>\n",
       "      <td>72</td>\n",
       "      <td>Aposentado</td>\n",
       "      <td>Ensino Médio Incompleto</td>\n",
       "      <td>1</td>\n",
       "      <td>Viúvo</td>\n",
       "      <td>Branco</td>\n",
       "      <td>1.0</td>\n",
       "      <td>4110</td>\n",
       "      <td>AC</td>\n",
       "      <td>Acre</td>\n",
       "      <td>Norte</td>\n",
       "      <td>Brasil</td>\n",
       "      <td>107.0</td>\n",
       "      <td>115</td>\n",
       "      <td>Masculino</td>\n",
       "      <td>1</td>\n",
       "    </tr>\n",
       "    <tr>\n",
       "      <th>545</th>\n",
       "      <td>546</td>\n",
       "      <td>35</td>\n",
       "      <td>Funcionário Setor Privado</td>\n",
       "      <td>Ensino Médio Incompleto</td>\n",
       "      <td>5</td>\n",
       "      <td>Casado</td>\n",
       "      <td>Negro</td>\n",
       "      <td>2.0</td>\n",
       "      <td>1100</td>\n",
       "      <td>BA</td>\n",
       "      <td>Bahia</td>\n",
       "      <td>Nordeste</td>\n",
       "      <td>Brasil</td>\n",
       "      <td>117.0</td>\n",
       "      <td>147</td>\n",
       "      <td>Masculino</td>\n",
       "      <td>1</td>\n",
       "    </tr>\n",
       "    <tr>\n",
       "      <th>546</th>\n",
       "      <td>547</td>\n",
       "      <td>33</td>\n",
       "      <td>Funcionário Público</td>\n",
       "      <td>Ensino Médio Completo</td>\n",
       "      <td>26</td>\n",
       "      <td>Divorciado</td>\n",
       "      <td>Negro</td>\n",
       "      <td>1.0</td>\n",
       "      <td>4925</td>\n",
       "      <td>SE</td>\n",
       "      <td>Sergipe</td>\n",
       "      <td>Nordeste</td>\n",
       "      <td>Brasil</td>\n",
       "      <td>148.0</td>\n",
       "      <td>176</td>\n",
       "      <td>Masculino</td>\n",
       "      <td>1</td>\n",
       "    </tr>\n",
       "  </tbody>\n",
       "</table>\n",
       "<p>547 rows × 17 columns</p>\n",
       "</div>"
      ],
      "text/plain": [
       "     cod_cliente  idade            classe_trabalho             escolaridade  \\\n",
       "0              1     39           Servidor Público    Ensino Médio Completo   \n",
       "1              2     50                   Autônomo      Superior Incompleto   \n",
       "2              3     38  Funcionário Setor Privado  Ensino Médio Incompleto   \n",
       "3              4     53  Funcionário Setor Privado  Ensino Médio Incompleto   \n",
       "4              5     28  Funcionário Setor Privado    Ensino Médio Completo   \n",
       "..           ...    ...                        ...                      ...   \n",
       "542          543     46                   Autônomo    Ensino Médio Completo   \n",
       "543          544     36                   Autônomo  Ensino Médio Incompleto   \n",
       "544          545     72                 Aposentado  Ensino Médio Incompleto   \n",
       "545          546     35  Funcionário Setor Privado  Ensino Médio Incompleto   \n",
       "546          547     33        Funcionário Público    Ensino Médio Completo   \n",
       "\n",
       "     cod_estado estado_civil    raca  qtde_filhos  salario sigla  \\\n",
       "0             2     Solteiro  Branco          2.0     4754    AL   \n",
       "1            24       Casado  Branco          1.0     3923    SC   \n",
       "2             4   Divorciado  Branco          0.0     1100    AM   \n",
       "3            24       Casado   Negro          1.0     1100    SC   \n",
       "4            15       Casado   Negro          0.0     3430    PB   \n",
       "..          ...          ...     ...          ...      ...   ...   \n",
       "542           9   Divorciado  Branco          1.0     3533    GO   \n",
       "543           5     Separado  Branco          1.0     1100    BA   \n",
       "544           1        Viúvo  Branco          1.0     4110    AC   \n",
       "545           5       Casado   Negro          2.0     1100    BA   \n",
       "546          26   Divorciado   Negro          1.0     4925    SE   \n",
       "\n",
       "             estado        regiao    pais   peso  colesterol     genero  \\\n",
       "0           Alagoas      Nordeste  Brasil  102.0         111  Masculino   \n",
       "1    Santa Catarina           Sul  Brasil  115.0         135  Masculino   \n",
       "2          Amazonas         Norte  Brasil  115.0         136  Masculino   \n",
       "3    Santa Catarina           Sul  Brasil  140.0         167   Feminino   \n",
       "4           Paraíba      Nordeste  Brasil  130.0         158  Masculino   \n",
       "..              ...           ...     ...    ...         ...        ...   \n",
       "542           Goiás  Centro-Oeste  Brasil  172.0         207  Masculino   \n",
       "543           Bahia      Nordeste  Brasil  129.0         157  Masculino   \n",
       "544            Acre         Norte  Brasil  107.0         115  Masculino   \n",
       "545           Bahia      Nordeste  Brasil  117.0         147  Masculino   \n",
       "546         Sergipe      Nordeste  Brasil  148.0         176  Masculino   \n",
       "\n",
       "     cod_genero  \n",
       "0             1  \n",
       "1             1  \n",
       "2             1  \n",
       "3             0  \n",
       "4             1  \n",
       "..          ...  \n",
       "542           1  \n",
       "543           1  \n",
       "544           1  \n",
       "545           1  \n",
       "546           1  \n",
       "\n",
       "[547 rows x 17 columns]"
      ]
     },
     "execution_count": 83,
     "metadata": {},
     "output_type": "execute_result"
    }
   ],
   "source": [
    "base_completa"
   ]
  },
  {
   "cell_type": "markdown",
   "metadata": {
    "id": "aiF6PDs5qQEw"
   },
   "source": [
    "# Alterando disposição das colunas do arquivo de dados\n",
    "Vamos alterar as disposições das colunas no nosso conjunto de dados a fim de faciliar a visuliazação."
   ]
  },
  {
   "cell_type": "code",
   "execution_count": 44,
   "metadata": {
    "colab": {
     "base_uri": "https://localhost:8080/",
     "height": 419
    },
    "executionInfo": {
     "elapsed": 27,
     "status": "ok",
     "timestamp": 1628820274798,
     "user": {
      "displayName": "Prof. Leandro Lessa",
      "photoUrl": "https://lh3.googleusercontent.com/a-/AOh14GjOFTHd5R6mZqpiAveor8rupG9YPM_LbwR5AmNPtg=s64",
      "userId": "09430483952296203154"
     },
     "user_tz": 180
    },
    "id": "k_PyZpZHpF7-",
    "outputId": "9b7c21e8-9561-417b-b846-e4542bf1c2a2"
   },
   "outputs": [
    {
     "data": {
      "text/html": [
       "<div>\n",
       "<style scoped>\n",
       "    .dataframe tbody tr th:only-of-type {\n",
       "        vertical-align: middle;\n",
       "    }\n",
       "\n",
       "    .dataframe tbody tr th {\n",
       "        vertical-align: top;\n",
       "    }\n",
       "\n",
       "    .dataframe thead th {\n",
       "        text-align: right;\n",
       "    }\n",
       "</style>\n",
       "<table border=\"1\" class=\"dataframe\">\n",
       "  <thead>\n",
       "    <tr style=\"text-align: right;\">\n",
       "      <th></th>\n",
       "      <th>cod_cliente</th>\n",
       "      <th>genero</th>\n",
       "      <th>idade</th>\n",
       "      <th>peso</th>\n",
       "      <th>colesterol</th>\n",
       "      <th>id_estado</th>\n",
       "      <th>estado</th>\n",
       "      <th>sigla_estado</th>\n",
       "      <th>pais</th>\n",
       "    </tr>\n",
       "  </thead>\n",
       "  <tbody>\n",
       "    <tr>\n",
       "      <th>0</th>\n",
       "      <td>1</td>\n",
       "      <td>Masculino</td>\n",
       "      <td>17</td>\n",
       "      <td>102.0</td>\n",
       "      <td>111</td>\n",
       "      <td>23</td>\n",
       "      <td>Roraima</td>\n",
       "      <td>RR</td>\n",
       "      <td>Brasil</td>\n",
       "    </tr>\n",
       "    <tr>\n",
       "      <th>1</th>\n",
       "      <td>2</td>\n",
       "      <td>Masculino</td>\n",
       "      <td>28</td>\n",
       "      <td>115.0</td>\n",
       "      <td>135</td>\n",
       "      <td>7</td>\n",
       "      <td>Distrito Federal</td>\n",
       "      <td>DF</td>\n",
       "      <td>Brasil</td>\n",
       "    </tr>\n",
       "    <tr>\n",
       "      <th>2</th>\n",
       "      <td>3</td>\n",
       "      <td>Masculino</td>\n",
       "      <td>62</td>\n",
       "      <td>115.0</td>\n",
       "      <td>136</td>\n",
       "      <td>4</td>\n",
       "      <td>Amazonas</td>\n",
       "      <td>AM</td>\n",
       "      <td>Brasil</td>\n",
       "    </tr>\n",
       "    <tr>\n",
       "      <th>3</th>\n",
       "      <td>4</td>\n",
       "      <td>Feminino</td>\n",
       "      <td>55</td>\n",
       "      <td>140.0</td>\n",
       "      <td>167</td>\n",
       "      <td>24</td>\n",
       "      <td>Santa Catarina</td>\n",
       "      <td>SC</td>\n",
       "      <td>Brasil</td>\n",
       "    </tr>\n",
       "    <tr>\n",
       "      <th>4</th>\n",
       "      <td>5</td>\n",
       "      <td>Masculino</td>\n",
       "      <td>44</td>\n",
       "      <td>130.0</td>\n",
       "      <td>158</td>\n",
       "      <td>26</td>\n",
       "      <td>Sergipe</td>\n",
       "      <td>SE</td>\n",
       "      <td>Brasil</td>\n",
       "    </tr>\n",
       "    <tr>\n",
       "      <th>...</th>\n",
       "      <td>...</td>\n",
       "      <td>...</td>\n",
       "      <td>...</td>\n",
       "      <td>...</td>\n",
       "      <td>...</td>\n",
       "      <td>...</td>\n",
       "      <td>...</td>\n",
       "      <td>...</td>\n",
       "      <td>...</td>\n",
       "    </tr>\n",
       "    <tr>\n",
       "      <th>220</th>\n",
       "      <td>221</td>\n",
       "      <td>Masculino</td>\n",
       "      <td>33</td>\n",
       "      <td>180.0</td>\n",
       "      <td>219</td>\n",
       "      <td>20</td>\n",
       "      <td>Rio Grande do Norte</td>\n",
       "      <td>RN</td>\n",
       "      <td>Brasil</td>\n",
       "    </tr>\n",
       "    <tr>\n",
       "      <th>221</th>\n",
       "      <td>222</td>\n",
       "      <td>Feminino</td>\n",
       "      <td>38</td>\n",
       "      <td>116.0</td>\n",
       "      <td>138</td>\n",
       "      <td>15</td>\n",
       "      <td>Paraíba</td>\n",
       "      <td>PB</td>\n",
       "      <td>Brasil</td>\n",
       "    </tr>\n",
       "    <tr>\n",
       "      <th>222</th>\n",
       "      <td>223</td>\n",
       "      <td>Feminino</td>\n",
       "      <td>24</td>\n",
       "      <td>144.0</td>\n",
       "      <td>169</td>\n",
       "      <td>18</td>\n",
       "      <td>Piauí</td>\n",
       "      <td>PI</td>\n",
       "      <td>Brasil</td>\n",
       "    </tr>\n",
       "    <tr>\n",
       "      <th>223</th>\n",
       "      <td>224</td>\n",
       "      <td>Masculino</td>\n",
       "      <td>31</td>\n",
       "      <td>102.0</td>\n",
       "      <td>116</td>\n",
       "      <td>6</td>\n",
       "      <td>Ceará</td>\n",
       "      <td>CE</td>\n",
       "      <td>Brasil</td>\n",
       "    </tr>\n",
       "    <tr>\n",
       "      <th>224</th>\n",
       "      <td>225</td>\n",
       "      <td>Masculino</td>\n",
       "      <td>57</td>\n",
       "      <td>176.0</td>\n",
       "      <td>212</td>\n",
       "      <td>7</td>\n",
       "      <td>Distrito Federal</td>\n",
       "      <td>DF</td>\n",
       "      <td>Brasil</td>\n",
       "    </tr>\n",
       "  </tbody>\n",
       "</table>\n",
       "<p>225 rows × 9 columns</p>\n",
       "</div>"
      ],
      "text/plain": [
       "     cod_cliente     genero  idade   peso  colesterol  id_estado  \\\n",
       "0              1  Masculino     17  102.0         111         23   \n",
       "1              2  Masculino     28  115.0         135          7   \n",
       "2              3  Masculino     62  115.0         136          4   \n",
       "3              4   Feminino     55  140.0         167         24   \n",
       "4              5  Masculino     44  130.0         158         26   \n",
       "..           ...        ...    ...    ...         ...        ...   \n",
       "220          221  Masculino     33  180.0         219         20   \n",
       "221          222   Feminino     38  116.0         138         15   \n",
       "222          223   Feminino     24  144.0         169         18   \n",
       "223          224  Masculino     31  102.0         116          6   \n",
       "224          225  Masculino     57  176.0         212          7   \n",
       "\n",
       "                  estado sigla_estado    pais  \n",
       "0                Roraima           RR  Brasil  \n",
       "1       Distrito Federal           DF  Brasil  \n",
       "2               Amazonas           AM  Brasil  \n",
       "3         Santa Catarina           SC  Brasil  \n",
       "4                Sergipe           SE  Brasil  \n",
       "..                   ...          ...     ...  \n",
       "220  Rio Grande do Norte           RN  Brasil  \n",
       "221              Paraíba           PB  Brasil  \n",
       "222                Piauí           PI  Brasil  \n",
       "223                Ceará           CE  Brasil  \n",
       "224     Distrito Federal           DF  Brasil  \n",
       "\n",
       "[225 rows x 9 columns]"
      ]
     },
     "execution_count": 44,
     "metadata": {},
     "output_type": "execute_result"
    }
   ],
   "source": [
    "base_completa[['cod_cliente', 'genero', 'idade', 'peso', 'colesterol' ,'id_estado', 'estado', 'sigla_estado', 'pais' ]]"
   ]
  },
  {
   "cell_type": "code",
   "execution_count": 45,
   "metadata": {
    "executionInfo": {
     "elapsed": 25,
     "status": "ok",
     "timestamp": 1628820274798,
     "user": {
      "displayName": "Prof. Leandro Lessa",
      "photoUrl": "https://lh3.googleusercontent.com/a-/AOh14GjOFTHd5R6mZqpiAveor8rupG9YPM_LbwR5AmNPtg=s64",
      "userId": "09430483952296203154"
     },
     "user_tz": 180
    },
    "id": "FZnIraVip7BG"
   },
   "outputs": [],
   "source": [
    "base_completa = base_completa[['cod_cliente','genero', 'idade', 'peso', 'colesterol' ,'id_estado', 'estado', 'sigla_estado', 'pais' ]].reset_index(drop=True)"
   ]
  },
  {
   "cell_type": "code",
   "execution_count": 46,
   "metadata": {
    "colab": {
     "base_uri": "https://localhost:8080/",
     "height": 419
    },
    "executionInfo": {
     "elapsed": 354,
     "status": "ok",
     "timestamp": 1628820275127,
     "user": {
      "displayName": "Prof. Leandro Lessa",
      "photoUrl": "https://lh3.googleusercontent.com/a-/AOh14GjOFTHd5R6mZqpiAveor8rupG9YPM_LbwR5AmNPtg=s64",
      "userId": "09430483952296203154"
     },
     "user_tz": 180
    },
    "id": "YEST0-9Q5-Bg",
    "outputId": "1fe5555b-9d72-4422-df9c-a3e1c6313c5a"
   },
   "outputs": [
    {
     "data": {
      "text/html": [
       "<div>\n",
       "<style scoped>\n",
       "    .dataframe tbody tr th:only-of-type {\n",
       "        vertical-align: middle;\n",
       "    }\n",
       "\n",
       "    .dataframe tbody tr th {\n",
       "        vertical-align: top;\n",
       "    }\n",
       "\n",
       "    .dataframe thead th {\n",
       "        text-align: right;\n",
       "    }\n",
       "</style>\n",
       "<table border=\"1\" class=\"dataframe\">\n",
       "  <thead>\n",
       "    <tr style=\"text-align: right;\">\n",
       "      <th></th>\n",
       "      <th>cod_cliente</th>\n",
       "      <th>genero</th>\n",
       "      <th>idade</th>\n",
       "      <th>peso</th>\n",
       "      <th>colesterol</th>\n",
       "      <th>id_estado</th>\n",
       "      <th>estado</th>\n",
       "      <th>sigla_estado</th>\n",
       "      <th>pais</th>\n",
       "    </tr>\n",
       "  </thead>\n",
       "  <tbody>\n",
       "    <tr>\n",
       "      <th>0</th>\n",
       "      <td>1</td>\n",
       "      <td>Masculino</td>\n",
       "      <td>17</td>\n",
       "      <td>102.0</td>\n",
       "      <td>111</td>\n",
       "      <td>23</td>\n",
       "      <td>Roraima</td>\n",
       "      <td>RR</td>\n",
       "      <td>Brasil</td>\n",
       "    </tr>\n",
       "    <tr>\n",
       "      <th>1</th>\n",
       "      <td>2</td>\n",
       "      <td>Masculino</td>\n",
       "      <td>28</td>\n",
       "      <td>115.0</td>\n",
       "      <td>135</td>\n",
       "      <td>7</td>\n",
       "      <td>Distrito Federal</td>\n",
       "      <td>DF</td>\n",
       "      <td>Brasil</td>\n",
       "    </tr>\n",
       "    <tr>\n",
       "      <th>2</th>\n",
       "      <td>3</td>\n",
       "      <td>Masculino</td>\n",
       "      <td>62</td>\n",
       "      <td>115.0</td>\n",
       "      <td>136</td>\n",
       "      <td>4</td>\n",
       "      <td>Amazonas</td>\n",
       "      <td>AM</td>\n",
       "      <td>Brasil</td>\n",
       "    </tr>\n",
       "    <tr>\n",
       "      <th>3</th>\n",
       "      <td>4</td>\n",
       "      <td>Feminino</td>\n",
       "      <td>55</td>\n",
       "      <td>140.0</td>\n",
       "      <td>167</td>\n",
       "      <td>24</td>\n",
       "      <td>Santa Catarina</td>\n",
       "      <td>SC</td>\n",
       "      <td>Brasil</td>\n",
       "    </tr>\n",
       "    <tr>\n",
       "      <th>4</th>\n",
       "      <td>5</td>\n",
       "      <td>Masculino</td>\n",
       "      <td>44</td>\n",
       "      <td>130.0</td>\n",
       "      <td>158</td>\n",
       "      <td>26</td>\n",
       "      <td>Sergipe</td>\n",
       "      <td>SE</td>\n",
       "      <td>Brasil</td>\n",
       "    </tr>\n",
       "    <tr>\n",
       "      <th>...</th>\n",
       "      <td>...</td>\n",
       "      <td>...</td>\n",
       "      <td>...</td>\n",
       "      <td>...</td>\n",
       "      <td>...</td>\n",
       "      <td>...</td>\n",
       "      <td>...</td>\n",
       "      <td>...</td>\n",
       "      <td>...</td>\n",
       "    </tr>\n",
       "    <tr>\n",
       "      <th>220</th>\n",
       "      <td>221</td>\n",
       "      <td>Masculino</td>\n",
       "      <td>33</td>\n",
       "      <td>180.0</td>\n",
       "      <td>219</td>\n",
       "      <td>20</td>\n",
       "      <td>Rio Grande do Norte</td>\n",
       "      <td>RN</td>\n",
       "      <td>Brasil</td>\n",
       "    </tr>\n",
       "    <tr>\n",
       "      <th>221</th>\n",
       "      <td>222</td>\n",
       "      <td>Feminino</td>\n",
       "      <td>38</td>\n",
       "      <td>116.0</td>\n",
       "      <td>138</td>\n",
       "      <td>15</td>\n",
       "      <td>Paraíba</td>\n",
       "      <td>PB</td>\n",
       "      <td>Brasil</td>\n",
       "    </tr>\n",
       "    <tr>\n",
       "      <th>222</th>\n",
       "      <td>223</td>\n",
       "      <td>Feminino</td>\n",
       "      <td>24</td>\n",
       "      <td>144.0</td>\n",
       "      <td>169</td>\n",
       "      <td>18</td>\n",
       "      <td>Piauí</td>\n",
       "      <td>PI</td>\n",
       "      <td>Brasil</td>\n",
       "    </tr>\n",
       "    <tr>\n",
       "      <th>223</th>\n",
       "      <td>224</td>\n",
       "      <td>Masculino</td>\n",
       "      <td>31</td>\n",
       "      <td>102.0</td>\n",
       "      <td>116</td>\n",
       "      <td>6</td>\n",
       "      <td>Ceará</td>\n",
       "      <td>CE</td>\n",
       "      <td>Brasil</td>\n",
       "    </tr>\n",
       "    <tr>\n",
       "      <th>224</th>\n",
       "      <td>225</td>\n",
       "      <td>Masculino</td>\n",
       "      <td>57</td>\n",
       "      <td>176.0</td>\n",
       "      <td>212</td>\n",
       "      <td>7</td>\n",
       "      <td>Distrito Federal</td>\n",
       "      <td>DF</td>\n",
       "      <td>Brasil</td>\n",
       "    </tr>\n",
       "  </tbody>\n",
       "</table>\n",
       "<p>225 rows × 9 columns</p>\n",
       "</div>"
      ],
      "text/plain": [
       "     cod_cliente     genero  idade   peso  colesterol  id_estado  \\\n",
       "0              1  Masculino     17  102.0         111         23   \n",
       "1              2  Masculino     28  115.0         135          7   \n",
       "2              3  Masculino     62  115.0         136          4   \n",
       "3              4   Feminino     55  140.0         167         24   \n",
       "4              5  Masculino     44  130.0         158         26   \n",
       "..           ...        ...    ...    ...         ...        ...   \n",
       "220          221  Masculino     33  180.0         219         20   \n",
       "221          222   Feminino     38  116.0         138         15   \n",
       "222          223   Feminino     24  144.0         169         18   \n",
       "223          224  Masculino     31  102.0         116          6   \n",
       "224          225  Masculino     57  176.0         212          7   \n",
       "\n",
       "                  estado sigla_estado    pais  \n",
       "0                Roraima           RR  Brasil  \n",
       "1       Distrito Federal           DF  Brasil  \n",
       "2               Amazonas           AM  Brasil  \n",
       "3         Santa Catarina           SC  Brasil  \n",
       "4                Sergipe           SE  Brasil  \n",
       "..                   ...          ...     ...  \n",
       "220  Rio Grande do Norte           RN  Brasil  \n",
       "221              Paraíba           PB  Brasil  \n",
       "222                Piauí           PI  Brasil  \n",
       "223                Ceará           CE  Brasil  \n",
       "224     Distrito Federal           DF  Brasil  \n",
       "\n",
       "[225 rows x 9 columns]"
      ]
     },
     "execution_count": 46,
     "metadata": {},
     "output_type": "execute_result"
    }
   ],
   "source": [
    "base_completa"
   ]
  },
  {
   "cell_type": "markdown",
   "metadata": {
    "id": "e1xBIRrW88ki"
   },
   "source": [
    "# Análise de dados\n",
    "É a etapa onde selecionamos os algoritmos de Machine Learning que serão inseridos para alcançar o resultado, levando em consideração o conjunto de dados obtidos na etapa anterior.\n",
    "\n",
    "Para esse trabalho, vamos realizar um agrupamento de pessoas baseado no colestesterol, peso e idade das pessoas."
   ]
  },
  {
   "cell_type": "markdown",
   "metadata": {
    "id": "BzwCfPliQQS3"
   },
   "source": [
    "#Aplicando método do cotovelo\n",
    "Vamos iniciar visualizando identificando o número de clusters necessário para realizar o agrupamento"
   ]
  },
  {
   "cell_type": "code",
   "execution_count": 47,
   "metadata": {
    "executionInfo": {
     "elapsed": 12,
     "status": "ok",
     "timestamp": 1628820275129,
     "user": {
      "displayName": "Prof. Leandro Lessa",
      "photoUrl": "https://lh3.googleusercontent.com/a-/AOh14GjOFTHd5R6mZqpiAveor8rupG9YPM_LbwR5AmNPtg=s64",
      "userId": "09430483952296203154"
     },
     "user_tz": 180
    },
    "id": "2ztH6IZhTn6Q"
   },
   "outputs": [],
   "source": [
    "from sklearn.cluster import KMeans"
   ]
  },
  {
   "cell_type": "code",
   "execution_count": 48,
   "metadata": {
    "executionInfo": {
     "elapsed": 11,
     "status": "ok",
     "timestamp": 1628820275129,
     "user": {
      "displayName": "Prof. Leandro Lessa",
      "photoUrl": "https://lh3.googleusercontent.com/a-/AOh14GjOFTHd5R6mZqpiAveor8rupG9YPM_LbwR5AmNPtg=s64",
      "userId": "09430483952296203154"
     },
     "user_tz": 180
    },
    "id": "9lG_pKOSQO1J"
   },
   "outputs": [],
   "source": [
    "def calcular_wcss(dados_cliente):\n",
    "    wcss = []\n",
    "    for k in range(1,11):\n",
    "        kmeans = KMeans(n_clusters = k, random_state=0)\n",
    "        kmeans.fit(X=dados_cliente)        \n",
    "        wcss.append(kmeans.inertia_)\n",
    "    return wcss"
   ]
  },
  {
   "cell_type": "code",
   "execution_count": 49,
   "metadata": {
    "colab": {
     "base_uri": "https://localhost:8080/",
     "height": 204
    },
    "executionInfo": {
     "elapsed": 14,
     "status": "ok",
     "timestamp": 1628820275132,
     "user": {
      "displayName": "Prof. Leandro Lessa",
      "photoUrl": "https://lh3.googleusercontent.com/a-/AOh14GjOFTHd5R6mZqpiAveor8rupG9YPM_LbwR5AmNPtg=s64",
      "userId": "09430483952296203154"
     },
     "user_tz": 180
    },
    "id": "d3lEyldrWrOU",
    "outputId": "b08b4c69-6b75-44e7-9cbf-89b802e3654f"
   },
   "outputs": [
    {
     "data": {
      "text/html": [
       "<div>\n",
       "<style scoped>\n",
       "    .dataframe tbody tr th:only-of-type {\n",
       "        vertical-align: middle;\n",
       "    }\n",
       "\n",
       "    .dataframe tbody tr th {\n",
       "        vertical-align: top;\n",
       "    }\n",
       "\n",
       "    .dataframe thead th {\n",
       "        text-align: right;\n",
       "    }\n",
       "</style>\n",
       "<table border=\"1\" class=\"dataframe\">\n",
       "  <thead>\n",
       "    <tr style=\"text-align: right;\">\n",
       "      <th></th>\n",
       "      <th>peso</th>\n",
       "      <th>colesterol</th>\n",
       "      <th>idade</th>\n",
       "    </tr>\n",
       "  </thead>\n",
       "  <tbody>\n",
       "    <tr>\n",
       "      <th>0</th>\n",
       "      <td>102.0</td>\n",
       "      <td>111</td>\n",
       "      <td>17</td>\n",
       "    </tr>\n",
       "    <tr>\n",
       "      <th>1</th>\n",
       "      <td>115.0</td>\n",
       "      <td>135</td>\n",
       "      <td>28</td>\n",
       "    </tr>\n",
       "    <tr>\n",
       "      <th>2</th>\n",
       "      <td>115.0</td>\n",
       "      <td>136</td>\n",
       "      <td>62</td>\n",
       "    </tr>\n",
       "    <tr>\n",
       "      <th>3</th>\n",
       "      <td>140.0</td>\n",
       "      <td>167</td>\n",
       "      <td>55</td>\n",
       "    </tr>\n",
       "    <tr>\n",
       "      <th>4</th>\n",
       "      <td>130.0</td>\n",
       "      <td>158</td>\n",
       "      <td>44</td>\n",
       "    </tr>\n",
       "  </tbody>\n",
       "</table>\n",
       "</div>"
      ],
      "text/plain": [
       "    peso  colesterol  idade\n",
       "0  102.0         111     17\n",
       "1  115.0         135     28\n",
       "2  115.0         136     62\n",
       "3  140.0         167     55\n",
       "4  130.0         158     44"
      ]
     },
     "execution_count": 49,
     "metadata": {},
     "output_type": "execute_result"
    }
   ],
   "source": [
    "dados_cliente = base_completa[['peso', 'colesterol','idade']]\n",
    "dados_cliente.head()"
   ]
  },
  {
   "cell_type": "code",
   "execution_count": 50,
   "metadata": {
    "executionInfo": {
     "elapsed": 552,
     "status": "ok",
     "timestamp": 1628820275671,
     "user": {
      "displayName": "Prof. Leandro Lessa",
      "photoUrl": "https://lh3.googleusercontent.com/a-/AOh14GjOFTHd5R6mZqpiAveor8rupG9YPM_LbwR5AmNPtg=s64",
      "userId": "09430483952296203154"
     },
     "user_tz": 180
    },
    "id": "-ujHV7JBW6Pl"
   },
   "outputs": [],
   "source": [
    "wcss_clientes = calcular_wcss(dados_cliente)"
   ]
  },
  {
   "cell_type": "code",
   "execution_count": 51,
   "metadata": {
    "colab": {
     "base_uri": "https://localhost:8080/"
    },
    "executionInfo": {
     "elapsed": 26,
     "status": "ok",
     "timestamp": 1628820275672,
     "user": {
      "displayName": "Prof. Leandro Lessa",
      "photoUrl": "https://lh3.googleusercontent.com/a-/AOh14GjOFTHd5R6mZqpiAveor8rupG9YPM_LbwR5AmNPtg=s64",
      "userId": "09430483952296203154"
     },
     "user_tz": 180
    },
    "id": "0Ucmk6ffW6AP",
    "outputId": "39ce6554-c0a3-42b7-b540-5c1e7f35f0ab"
   },
   "outputs": [
    {
     "data": {
      "text/plain": [
       "list"
      ]
     },
     "execution_count": 51,
     "metadata": {},
     "output_type": "execute_result"
    }
   ],
   "source": [
    "type(wcss_clientes)"
   ]
  },
  {
   "cell_type": "code",
   "execution_count": 52,
   "metadata": {
    "colab": {
     "base_uri": "https://localhost:8080/"
    },
    "executionInfo": {
     "elapsed": 18,
     "status": "ok",
     "timestamp": 1628820275673,
     "user": {
      "displayName": "Prof. Leandro Lessa",
      "photoUrl": "https://lh3.googleusercontent.com/a-/AOh14GjOFTHd5R6mZqpiAveor8rupG9YPM_LbwR5AmNPtg=s64",
      "userId": "09430483952296203154"
     },
     "user_tz": 180
    },
    "id": "pje9-qJU9uaA",
    "outputId": "b8114f96-4d25-4672-8a6d-0d4f88091d3b"
   },
   "outputs": [
    {
     "name": "stdout",
     "output_type": "stream",
     "text": [
      "O cluster 0 possui valor de WCSS de: 615755.6435484444\n",
      "O cluster 1 possui valor de WCSS de: 189212.54409773235\n",
      "O cluster 2 possui valor de WCSS de: 110985.62659521378\n",
      "O cluster 3 possui valor de WCSS de: 85993.49644839713\n",
      "O cluster 4 possui valor de WCSS de: 73553.76353599757\n",
      "O cluster 5 possui valor de WCSS de: 60395.17783896526\n",
      "O cluster 6 possui valor de WCSS de: 54648.769820910566\n",
      "O cluster 7 possui valor de WCSS de: 49303.04552119019\n",
      "O cluster 8 possui valor de WCSS de: 39886.39599784689\n",
      "O cluster 9 possui valor de WCSS de: 31658.701947381014\n"
     ]
    }
   ],
   "source": [
    "# Visualizando os dados obtidos do WCSS\n",
    "for i in range(len(wcss_clientes)):\n",
    "  print(f'O cluster {i} possui valor de WCSS de: {wcss_clientes[i]}')"
   ]
  },
  {
   "cell_type": "markdown",
   "metadata": {
    "id": "PvTdmO9HWCC9"
   },
   "source": [
    "# Visualizando o gráfico do cotovelo"
   ]
  },
  {
   "cell_type": "code",
   "execution_count": 53,
   "metadata": {
    "executionInfo": {
     "elapsed": 685,
     "status": "ok",
     "timestamp": 1628820276347,
     "user": {
      "displayName": "Prof. Leandro Lessa",
      "photoUrl": "https://lh3.googleusercontent.com/a-/AOh14GjOFTHd5R6mZqpiAveor8rupG9YPM_LbwR5AmNPtg=s64",
      "userId": "09430483952296203154"
     },
     "user_tz": 180
    },
    "id": "cnhmOfT2V-G0"
   },
   "outputs": [],
   "source": [
    "import plotly.express as px  #Criação de graficos dinâmnicos\n",
    "import plotly.offline as py\n",
    "import plotly.graph_objects as go #Para criação e concatenização de graficos"
   ]
  },
  {
   "cell_type": "code",
   "execution_count": 55,
   "metadata": {
    "colab": {
     "base_uri": "https://localhost:8080/",
     "height": 542
    },
    "executionInfo": {
     "elapsed": 1834,
     "status": "ok",
     "timestamp": 1628820278178,
     "user": {
      "displayName": "Prof. Leandro Lessa",
      "photoUrl": "https://lh3.googleusercontent.com/a-/AOh14GjOFTHd5R6mZqpiAveor8rupG9YPM_LbwR5AmNPtg=s64",
      "userId": "09430483952296203154"
     },
     "user_tz": 180
    },
    "id": "LeuHWK-nU5xZ",
    "outputId": "6628291d-f5cf-45b5-c022-b951addbfb30"
   },
   "outputs": [
    {
     "ename": "ValueError",
     "evalue": "Mime type rendering requires nbformat>=4.2.0 but it is not installed",
     "output_type": "error",
     "traceback": [
      "\u001b[0;31m---------------------------------------------------------------------------\u001b[0m",
      "\u001b[0;31mValueError\u001b[0m                                Traceback (most recent call last)",
      "\u001b[1;32m/Users/brunobandeirafernandes/Documents/Github/Python/Kmeans_IA_Python/PesoColesterol/Kmeans.ipynb Célula 74\u001b[0m line \u001b[0;36m1\n\u001b[1;32m      <a href='vscode-notebook-cell:/Users/brunobandeirafernandes/Documents/Github/Python/Kmeans_IA_Python/PesoColesterol/Kmeans.ipynb#Y133sZmlsZQ%3D%3D?line=3'>4</a>\u001b[0m fig \u001b[39m=\u001b[39m go\u001b[39m.\u001b[39mFigure(grafico_wcss)\n\u001b[1;32m      <a href='vscode-notebook-cell:/Users/brunobandeirafernandes/Documents/Github/Python/Kmeans_IA_Python/PesoColesterol/Kmeans.ipynb#Y133sZmlsZQ%3D%3D?line=5'>6</a>\u001b[0m fig\u001b[39m.\u001b[39mupdate_layout(title\u001b[39m=\u001b[39m\u001b[39m'\u001b[39m\u001b[39mCalculando o WCSS\u001b[39m\u001b[39m'\u001b[39m,\n\u001b[1;32m      <a href='vscode-notebook-cell:/Users/brunobandeirafernandes/Documents/Github/Python/Kmeans_IA_Python/PesoColesterol/Kmeans.ipynb#Y133sZmlsZQ%3D%3D?line=6'>7</a>\u001b[0m                   xaxis_title\u001b[39m=\u001b[39m \u001b[39m'\u001b[39m\u001b[39mNúmero de clusters\u001b[39m\u001b[39m'\u001b[39m,\n\u001b[1;32m      <a href='vscode-notebook-cell:/Users/brunobandeirafernandes/Documents/Github/Python/Kmeans_IA_Python/PesoColesterol/Kmeans.ipynb#Y133sZmlsZQ%3D%3D?line=7'>8</a>\u001b[0m                   yaxis_title\u001b[39m=\u001b[39m \u001b[39m'\u001b[39m\u001b[39mValor do Wcss\u001b[39m\u001b[39m'\u001b[39m, \n\u001b[1;32m      <a href='vscode-notebook-cell:/Users/brunobandeirafernandes/Documents/Github/Python/Kmeans_IA_Python/PesoColesterol/Kmeans.ipynb#Y133sZmlsZQ%3D%3D?line=8'>9</a>\u001b[0m                   template \u001b[39m=\u001b[39m  \u001b[39m'\u001b[39m\u001b[39mplotly_white\u001b[39m\u001b[39m'\u001b[39m\n\u001b[1;32m     <a href='vscode-notebook-cell:/Users/brunobandeirafernandes/Documents/Github/Python/Kmeans_IA_Python/PesoColesterol/Kmeans.ipynb#Y133sZmlsZQ%3D%3D?line=9'>10</a>\u001b[0m                   ) \n\u001b[0;32m---> <a href='vscode-notebook-cell:/Users/brunobandeirafernandes/Documents/Github/Python/Kmeans_IA_Python/PesoColesterol/Kmeans.ipynb#Y133sZmlsZQ%3D%3D?line=11'>12</a>\u001b[0m fig\u001b[39m.\u001b[39;49mshow()\n",
      "File \u001b[0;32m~/.local/share/virtualenvs/Kmeans_IA_Python-vKPEkPgC/lib/python3.12/site-packages/plotly/basedatatypes.py:3410\u001b[0m, in \u001b[0;36mBaseFigure.show\u001b[0;34m(self, *args, **kwargs)\u001b[0m\n\u001b[1;32m   3377\u001b[0m \u001b[39m\u001b[39m\u001b[39m\"\"\"\u001b[39;00m\n\u001b[1;32m   3378\u001b[0m \u001b[39mShow a figure using either the default renderer(s) or the renderer(s)\u001b[39;00m\n\u001b[1;32m   3379\u001b[0m \u001b[39mspecified by the renderer argument\u001b[39;00m\n\u001b[0;32m   (...)\u001b[0m\n\u001b[1;32m   3406\u001b[0m \u001b[39mNone\u001b[39;00m\n\u001b[1;32m   3407\u001b[0m \u001b[39m\"\"\"\u001b[39;00m\n\u001b[1;32m   3408\u001b[0m \u001b[39mimport\u001b[39;00m \u001b[39mplotly\u001b[39;00m\u001b[39m.\u001b[39;00m\u001b[39mio\u001b[39;00m \u001b[39mas\u001b[39;00m \u001b[39mpio\u001b[39;00m\n\u001b[0;32m-> 3410\u001b[0m \u001b[39mreturn\u001b[39;00m pio\u001b[39m.\u001b[39;49mshow(\u001b[39mself\u001b[39;49m, \u001b[39m*\u001b[39;49margs, \u001b[39m*\u001b[39;49m\u001b[39m*\u001b[39;49mkwargs)\n",
      "File \u001b[0;32m~/.local/share/virtualenvs/Kmeans_IA_Python-vKPEkPgC/lib/python3.12/site-packages/plotly/io/_renderers.py:394\u001b[0m, in \u001b[0;36mshow\u001b[0;34m(fig, renderer, validate, **kwargs)\u001b[0m\n\u001b[1;32m    389\u001b[0m         \u001b[39mraise\u001b[39;00m \u001b[39mValueError\u001b[39;00m(\n\u001b[1;32m    390\u001b[0m             \u001b[39m\"\u001b[39m\u001b[39mMime type rendering requires ipython but it is not installed\u001b[39m\u001b[39m\"\u001b[39m\n\u001b[1;32m    391\u001b[0m         )\n\u001b[1;32m    393\u001b[0m     \u001b[39mif\u001b[39;00m \u001b[39mnot\u001b[39;00m nbformat \u001b[39mor\u001b[39;00m Version(nbformat\u001b[39m.\u001b[39m__version__) \u001b[39m<\u001b[39m Version(\u001b[39m\"\u001b[39m\u001b[39m4.2.0\u001b[39m\u001b[39m\"\u001b[39m):\n\u001b[0;32m--> 394\u001b[0m         \u001b[39mraise\u001b[39;00m \u001b[39mValueError\u001b[39;00m(\n\u001b[1;32m    395\u001b[0m             \u001b[39m\"\u001b[39m\u001b[39mMime type rendering requires nbformat>=4.2.0 but it is not installed\u001b[39m\u001b[39m\"\u001b[39m\n\u001b[1;32m    396\u001b[0m         )\n\u001b[1;32m    398\u001b[0m     ipython_display\u001b[39m.\u001b[39mdisplay(bundle, raw\u001b[39m=\u001b[39m\u001b[39mTrue\u001b[39;00m)\n\u001b[1;32m    400\u001b[0m \u001b[39m# external renderers\u001b[39;00m\n",
      "\u001b[0;31mValueError\u001b[0m: Mime type rendering requires nbformat>=4.2.0 but it is not installed"
     ]
    }
   ],
   "source": [
    "grafico_wcss = px.line( x= range(1,11),\n",
    "                        y=wcss_clientes\n",
    "                       )\n",
    "fig = go.Figure(grafico_wcss)\n",
    "\n",
    "fig.update_layout(title='Calculando o WCSS',\n",
    "                  xaxis_title= 'Número de clusters',\n",
    "                  yaxis_title= 'Valor do Wcss', \n",
    "                  template =  'plotly_white'\n",
    "                  ) \n",
    "\n",
    "fig.show()\n",
    "\n"
   ]
  },
  {
   "cell_type": "code",
   "execution_count": 59,
   "metadata": {
    "executionInfo": {
     "elapsed": 38,
     "status": "ok",
     "timestamp": 1628820278179,
     "user": {
      "displayName": "Prof. Leandro Lessa",
      "photoUrl": "https://lh3.googleusercontent.com/a-/AOh14GjOFTHd5R6mZqpiAveor8rupG9YPM_LbwR5AmNPtg=s64",
      "userId": "09430483952296203154"
     },
     "user_tz": 180
    },
    "id": "4xbqiRfRYiS2"
   },
   "outputs": [],
   "source": [
    "kmeans_clientes = KMeans(n_clusters=3, random_state=0)\n",
    "base_completa['cluster'] = kmeans_clientes.fit_predict(dados_cliente)"
   ]
  },
  {
   "cell_type": "code",
   "execution_count": 60,
   "metadata": {
    "colab": {
     "base_uri": "https://localhost:8080/",
     "height": 419
    },
    "executionInfo": {
     "elapsed": 37,
     "status": "ok",
     "timestamp": 1628820278181,
     "user": {
      "displayName": "Prof. Leandro Lessa",
      "photoUrl": "https://lh3.googleusercontent.com/a-/AOh14GjOFTHd5R6mZqpiAveor8rupG9YPM_LbwR5AmNPtg=s64",
      "userId": "09430483952296203154"
     },
     "user_tz": 180
    },
    "id": "qt2GfEizZE6a",
    "outputId": "b7151a66-edfa-4604-a20b-b8b13b556f1e"
   },
   "outputs": [
    {
     "data": {
      "text/html": [
       "<div>\n",
       "<style scoped>\n",
       "    .dataframe tbody tr th:only-of-type {\n",
       "        vertical-align: middle;\n",
       "    }\n",
       "\n",
       "    .dataframe tbody tr th {\n",
       "        vertical-align: top;\n",
       "    }\n",
       "\n",
       "    .dataframe thead th {\n",
       "        text-align: right;\n",
       "    }\n",
       "</style>\n",
       "<table border=\"1\" class=\"dataframe\">\n",
       "  <thead>\n",
       "    <tr style=\"text-align: right;\">\n",
       "      <th></th>\n",
       "      <th>cod_cliente</th>\n",
       "      <th>genero</th>\n",
       "      <th>idade</th>\n",
       "      <th>peso</th>\n",
       "      <th>colesterol</th>\n",
       "      <th>id_estado</th>\n",
       "      <th>estado</th>\n",
       "      <th>sigla_estado</th>\n",
       "      <th>pais</th>\n",
       "      <th>cluster</th>\n",
       "    </tr>\n",
       "  </thead>\n",
       "  <tbody>\n",
       "    <tr>\n",
       "      <th>0</th>\n",
       "      <td>1</td>\n",
       "      <td>Masculino</td>\n",
       "      <td>17</td>\n",
       "      <td>102.0</td>\n",
       "      <td>111</td>\n",
       "      <td>23</td>\n",
       "      <td>Roraima</td>\n",
       "      <td>RR</td>\n",
       "      <td>Brasil</td>\n",
       "      <td>1</td>\n",
       "    </tr>\n",
       "    <tr>\n",
       "      <th>1</th>\n",
       "      <td>2</td>\n",
       "      <td>Masculino</td>\n",
       "      <td>28</td>\n",
       "      <td>115.0</td>\n",
       "      <td>135</td>\n",
       "      <td>7</td>\n",
       "      <td>Distrito Federal</td>\n",
       "      <td>DF</td>\n",
       "      <td>Brasil</td>\n",
       "      <td>1</td>\n",
       "    </tr>\n",
       "    <tr>\n",
       "      <th>2</th>\n",
       "      <td>3</td>\n",
       "      <td>Masculino</td>\n",
       "      <td>62</td>\n",
       "      <td>115.0</td>\n",
       "      <td>136</td>\n",
       "      <td>4</td>\n",
       "      <td>Amazonas</td>\n",
       "      <td>AM</td>\n",
       "      <td>Brasil</td>\n",
       "      <td>1</td>\n",
       "    </tr>\n",
       "    <tr>\n",
       "      <th>3</th>\n",
       "      <td>4</td>\n",
       "      <td>Feminino</td>\n",
       "      <td>55</td>\n",
       "      <td>140.0</td>\n",
       "      <td>167</td>\n",
       "      <td>24</td>\n",
       "      <td>Santa Catarina</td>\n",
       "      <td>SC</td>\n",
       "      <td>Brasil</td>\n",
       "      <td>2</td>\n",
       "    </tr>\n",
       "    <tr>\n",
       "      <th>4</th>\n",
       "      <td>5</td>\n",
       "      <td>Masculino</td>\n",
       "      <td>44</td>\n",
       "      <td>130.0</td>\n",
       "      <td>158</td>\n",
       "      <td>26</td>\n",
       "      <td>Sergipe</td>\n",
       "      <td>SE</td>\n",
       "      <td>Brasil</td>\n",
       "      <td>2</td>\n",
       "    </tr>\n",
       "    <tr>\n",
       "      <th>...</th>\n",
       "      <td>...</td>\n",
       "      <td>...</td>\n",
       "      <td>...</td>\n",
       "      <td>...</td>\n",
       "      <td>...</td>\n",
       "      <td>...</td>\n",
       "      <td>...</td>\n",
       "      <td>...</td>\n",
       "      <td>...</td>\n",
       "      <td>...</td>\n",
       "    </tr>\n",
       "    <tr>\n",
       "      <th>220</th>\n",
       "      <td>221</td>\n",
       "      <td>Masculino</td>\n",
       "      <td>33</td>\n",
       "      <td>180.0</td>\n",
       "      <td>219</td>\n",
       "      <td>20</td>\n",
       "      <td>Rio Grande do Norte</td>\n",
       "      <td>RN</td>\n",
       "      <td>Brasil</td>\n",
       "      <td>0</td>\n",
       "    </tr>\n",
       "    <tr>\n",
       "      <th>221</th>\n",
       "      <td>222</td>\n",
       "      <td>Feminino</td>\n",
       "      <td>38</td>\n",
       "      <td>116.0</td>\n",
       "      <td>138</td>\n",
       "      <td>15</td>\n",
       "      <td>Paraíba</td>\n",
       "      <td>PB</td>\n",
       "      <td>Brasil</td>\n",
       "      <td>1</td>\n",
       "    </tr>\n",
       "    <tr>\n",
       "      <th>222</th>\n",
       "      <td>223</td>\n",
       "      <td>Feminino</td>\n",
       "      <td>24</td>\n",
       "      <td>144.0</td>\n",
       "      <td>169</td>\n",
       "      <td>18</td>\n",
       "      <td>Piauí</td>\n",
       "      <td>PI</td>\n",
       "      <td>Brasil</td>\n",
       "      <td>2</td>\n",
       "    </tr>\n",
       "    <tr>\n",
       "      <th>223</th>\n",
       "      <td>224</td>\n",
       "      <td>Masculino</td>\n",
       "      <td>31</td>\n",
       "      <td>102.0</td>\n",
       "      <td>116</td>\n",
       "      <td>6</td>\n",
       "      <td>Ceará</td>\n",
       "      <td>CE</td>\n",
       "      <td>Brasil</td>\n",
       "      <td>1</td>\n",
       "    </tr>\n",
       "    <tr>\n",
       "      <th>224</th>\n",
       "      <td>225</td>\n",
       "      <td>Masculino</td>\n",
       "      <td>57</td>\n",
       "      <td>176.0</td>\n",
       "      <td>212</td>\n",
       "      <td>7</td>\n",
       "      <td>Distrito Federal</td>\n",
       "      <td>DF</td>\n",
       "      <td>Brasil</td>\n",
       "      <td>0</td>\n",
       "    </tr>\n",
       "  </tbody>\n",
       "</table>\n",
       "<p>225 rows × 10 columns</p>\n",
       "</div>"
      ],
      "text/plain": [
       "     cod_cliente     genero  idade   peso  colesterol  id_estado  \\\n",
       "0              1  Masculino     17  102.0         111         23   \n",
       "1              2  Masculino     28  115.0         135          7   \n",
       "2              3  Masculino     62  115.0         136          4   \n",
       "3              4   Feminino     55  140.0         167         24   \n",
       "4              5  Masculino     44  130.0         158         26   \n",
       "..           ...        ...    ...    ...         ...        ...   \n",
       "220          221  Masculino     33  180.0         219         20   \n",
       "221          222   Feminino     38  116.0         138         15   \n",
       "222          223   Feminino     24  144.0         169         18   \n",
       "223          224  Masculino     31  102.0         116          6   \n",
       "224          225  Masculino     57  176.0         212          7   \n",
       "\n",
       "                  estado sigla_estado    pais  cluster  \n",
       "0                Roraima           RR  Brasil        1  \n",
       "1       Distrito Federal           DF  Brasil        1  \n",
       "2               Amazonas           AM  Brasil        1  \n",
       "3         Santa Catarina           SC  Brasil        2  \n",
       "4                Sergipe           SE  Brasil        2  \n",
       "..                   ...          ...     ...      ...  \n",
       "220  Rio Grande do Norte           RN  Brasil        0  \n",
       "221              Paraíba           PB  Brasil        1  \n",
       "222                Piauí           PI  Brasil        2  \n",
       "223                Ceará           CE  Brasil        1  \n",
       "224     Distrito Federal           DF  Brasil        0  \n",
       "\n",
       "[225 rows x 10 columns]"
      ]
     },
     "execution_count": 60,
     "metadata": {},
     "output_type": "execute_result"
    }
   ],
   "source": [
    "base_completa"
   ]
  },
  {
   "cell_type": "markdown",
   "metadata": {
    "id": "toMKaHJAIKop"
   },
   "source": [
    "# Calcula os centroides de cada cluster"
   ]
  },
  {
   "cell_type": "code",
   "execution_count": 61,
   "metadata": {
    "colab": {
     "base_uri": "https://localhost:8080/"
    },
    "executionInfo": {
     "elapsed": 34,
     "status": "ok",
     "timestamp": 1628820278183,
     "user": {
      "displayName": "Prof. Leandro Lessa",
      "photoUrl": "https://lh3.googleusercontent.com/a-/AOh14GjOFTHd5R6mZqpiAveor8rupG9YPM_LbwR5AmNPtg=s64",
      "userId": "09430483952296203154"
     },
     "user_tz": 180
    },
    "id": "kpKoPzVSaNbz",
    "outputId": "3e98236a-734b-4ed0-bb0e-d9ea9a504cb1"
   },
   "outputs": [
    {
     "data": {
      "text/plain": [
       "array([[181.88235294, 216.33823529,  44.54411765],\n",
       "       [109.79268293, 125.15853659,  42.63414634],\n",
       "       [141.99946667, 173.21333333,  41.89333333]])"
      ]
     },
     "execution_count": 61,
     "metadata": {},
     "output_type": "execute_result"
    }
   ],
   "source": [
    "centroides_clusters = kmeans_clientes.cluster_centers_\n",
    "centroides_clusters"
   ]
  },
  {
   "cell_type": "code",
   "execution_count": 62,
   "metadata": {
    "colab": {
     "base_uri": "https://localhost:8080/",
     "height": 419
    },
    "executionInfo": {
     "elapsed": 21,
     "status": "ok",
     "timestamp": 1628820278184,
     "user": {
      "displayName": "Prof. Leandro Lessa",
      "photoUrl": "https://lh3.googleusercontent.com/a-/AOh14GjOFTHd5R6mZqpiAveor8rupG9YPM_LbwR5AmNPtg=s64",
      "userId": "09430483952296203154"
     },
     "user_tz": 180
    },
    "id": "AcDViKucYcY7",
    "outputId": "91255e31-346d-4a74-e1c5-1c7c7180801b"
   },
   "outputs": [
    {
     "data": {
      "text/html": [
       "<div>\n",
       "<style scoped>\n",
       "    .dataframe tbody tr th:only-of-type {\n",
       "        vertical-align: middle;\n",
       "    }\n",
       "\n",
       "    .dataframe tbody tr th {\n",
       "        vertical-align: top;\n",
       "    }\n",
       "\n",
       "    .dataframe thead th {\n",
       "        text-align: right;\n",
       "    }\n",
       "</style>\n",
       "<table border=\"1\" class=\"dataframe\">\n",
       "  <thead>\n",
       "    <tr style=\"text-align: right;\">\n",
       "      <th></th>\n",
       "      <th>peso</th>\n",
       "      <th>colesterol</th>\n",
       "      <th>idade</th>\n",
       "    </tr>\n",
       "  </thead>\n",
       "  <tbody>\n",
       "    <tr>\n",
       "      <th>0</th>\n",
       "      <td>102.0</td>\n",
       "      <td>111</td>\n",
       "      <td>17</td>\n",
       "    </tr>\n",
       "    <tr>\n",
       "      <th>1</th>\n",
       "      <td>115.0</td>\n",
       "      <td>135</td>\n",
       "      <td>28</td>\n",
       "    </tr>\n",
       "    <tr>\n",
       "      <th>2</th>\n",
       "      <td>115.0</td>\n",
       "      <td>136</td>\n",
       "      <td>62</td>\n",
       "    </tr>\n",
       "    <tr>\n",
       "      <th>3</th>\n",
       "      <td>140.0</td>\n",
       "      <td>167</td>\n",
       "      <td>55</td>\n",
       "    </tr>\n",
       "    <tr>\n",
       "      <th>4</th>\n",
       "      <td>130.0</td>\n",
       "      <td>158</td>\n",
       "      <td>44</td>\n",
       "    </tr>\n",
       "    <tr>\n",
       "      <th>...</th>\n",
       "      <td>...</td>\n",
       "      <td>...</td>\n",
       "      <td>...</td>\n",
       "    </tr>\n",
       "    <tr>\n",
       "      <th>220</th>\n",
       "      <td>180.0</td>\n",
       "      <td>219</td>\n",
       "      <td>33</td>\n",
       "    </tr>\n",
       "    <tr>\n",
       "      <th>221</th>\n",
       "      <td>116.0</td>\n",
       "      <td>138</td>\n",
       "      <td>38</td>\n",
       "    </tr>\n",
       "    <tr>\n",
       "      <th>222</th>\n",
       "      <td>144.0</td>\n",
       "      <td>169</td>\n",
       "      <td>24</td>\n",
       "    </tr>\n",
       "    <tr>\n",
       "      <th>223</th>\n",
       "      <td>102.0</td>\n",
       "      <td>116</td>\n",
       "      <td>31</td>\n",
       "    </tr>\n",
       "    <tr>\n",
       "      <th>224</th>\n",
       "      <td>176.0</td>\n",
       "      <td>212</td>\n",
       "      <td>57</td>\n",
       "    </tr>\n",
       "  </tbody>\n",
       "</table>\n",
       "<p>225 rows × 3 columns</p>\n",
       "</div>"
      ],
      "text/plain": [
       "      peso  colesterol  idade\n",
       "0    102.0         111     17\n",
       "1    115.0         135     28\n",
       "2    115.0         136     62\n",
       "3    140.0         167     55\n",
       "4    130.0         158     44\n",
       "..     ...         ...    ...\n",
       "220  180.0         219     33\n",
       "221  116.0         138     38\n",
       "222  144.0         169     24\n",
       "223  102.0         116     31\n",
       "224  176.0         212     57\n",
       "\n",
       "[225 rows x 3 columns]"
      ]
     },
     "execution_count": 62,
     "metadata": {},
     "output_type": "execute_result"
    }
   ],
   "source": [
    "dados_cliente"
   ]
  },
  {
   "cell_type": "markdown",
   "metadata": {
    "id": "a8MBQRQDDXAb"
   },
   "source": [
    "Aqui temos os centroides dos 3 cluster de acordo com os atributos. \n",
    "Nesse exemplo vemos os centroides de 'peso', 'colesterol','idade' respectivamente."
   ]
  },
  {
   "cell_type": "code",
   "execution_count": 63,
   "metadata": {
    "colab": {
     "base_uri": "https://localhost:8080/",
     "height": 542
    },
    "executionInfo": {
     "elapsed": 950,
     "status": "ok",
     "timestamp": 1628820279116,
     "user": {
      "displayName": "Prof. Leandro Lessa",
      "photoUrl": "https://lh3.googleusercontent.com/a-/AOh14GjOFTHd5R6mZqpiAveor8rupG9YPM_LbwR5AmNPtg=s64",
      "userId": "09430483952296203154"
     },
     "user_tz": 180
    },
    "id": "vzKU5D9dUWJb",
    "outputId": "5bcfcf72-13c8-400e-86ce-f208addad1c6"
   },
   "outputs": [
    {
     "ename": "ValueError",
     "evalue": "Mime type rendering requires nbformat>=4.2.0 but it is not installed",
     "output_type": "error",
     "traceback": [
      "\u001b[0;31m---------------------------------------------------------------------------\u001b[0m",
      "\u001b[0;31mValueError\u001b[0m                                Traceback (most recent call last)",
      "\u001b[1;32m/Users/brunobandeirafernandes/Documents/Github/Python/Kmeans_IA_Python/PesoColesterol/Kmeans.ipynb Célula 81\u001b[0m line \u001b[0;36m7\n\u001b[1;32m      <a href='vscode-notebook-cell:/Users/brunobandeirafernandes/Documents/Github/Python/Kmeans_IA_Python/PesoColesterol/Kmeans.ipynb#Y143sZmlsZQ%3D%3D?line=4'>5</a>\u001b[0m grafico_centroide \u001b[39m=\u001b[39m px\u001b[39m.\u001b[39mscatter(x \u001b[39m=\u001b[39m centroides_clusters[:,\u001b[39m0\u001b[39m], y \u001b[39m=\u001b[39m centroides_clusters[:,\u001b[39m1\u001b[39m], size \u001b[39m=\u001b[39m [\u001b[39m7\u001b[39m,\u001b[39m7\u001b[39m,\u001b[39m7\u001b[39m])\n\u001b[1;32m      <a href='vscode-notebook-cell:/Users/brunobandeirafernandes/Documents/Github/Python/Kmeans_IA_Python/PesoColesterol/Kmeans.ipynb#Y143sZmlsZQ%3D%3D?line=5'>6</a>\u001b[0m grafico_final_petala \u001b[39m=\u001b[39m go\u001b[39m.\u001b[39mFigure(data \u001b[39m=\u001b[39m grafico\u001b[39m.\u001b[39mdata \u001b[39m+\u001b[39m grafico_centroide\u001b[39m.\u001b[39mdata)\n\u001b[0;32m----> <a href='vscode-notebook-cell:/Users/brunobandeirafernandes/Documents/Github/Python/Kmeans_IA_Python/PesoColesterol/Kmeans.ipynb#Y143sZmlsZQ%3D%3D?line=6'>7</a>\u001b[0m grafico_final_petala\u001b[39m.\u001b[39;49mshow()\n",
      "File \u001b[0;32m~/.local/share/virtualenvs/Kmeans_IA_Python-vKPEkPgC/lib/python3.12/site-packages/plotly/basedatatypes.py:3410\u001b[0m, in \u001b[0;36mBaseFigure.show\u001b[0;34m(self, *args, **kwargs)\u001b[0m\n\u001b[1;32m   3377\u001b[0m \u001b[39m\u001b[39m\u001b[39m\"\"\"\u001b[39;00m\n\u001b[1;32m   3378\u001b[0m \u001b[39mShow a figure using either the default renderer(s) or the renderer(s)\u001b[39;00m\n\u001b[1;32m   3379\u001b[0m \u001b[39mspecified by the renderer argument\u001b[39;00m\n\u001b[0;32m   (...)\u001b[0m\n\u001b[1;32m   3406\u001b[0m \u001b[39mNone\u001b[39;00m\n\u001b[1;32m   3407\u001b[0m \u001b[39m\"\"\"\u001b[39;00m\n\u001b[1;32m   3408\u001b[0m \u001b[39mimport\u001b[39;00m \u001b[39mplotly\u001b[39;00m\u001b[39m.\u001b[39;00m\u001b[39mio\u001b[39;00m \u001b[39mas\u001b[39;00m \u001b[39mpio\u001b[39;00m\n\u001b[0;32m-> 3410\u001b[0m \u001b[39mreturn\u001b[39;00m pio\u001b[39m.\u001b[39;49mshow(\u001b[39mself\u001b[39;49m, \u001b[39m*\u001b[39;49margs, \u001b[39m*\u001b[39;49m\u001b[39m*\u001b[39;49mkwargs)\n",
      "File \u001b[0;32m~/.local/share/virtualenvs/Kmeans_IA_Python-vKPEkPgC/lib/python3.12/site-packages/plotly/io/_renderers.py:394\u001b[0m, in \u001b[0;36mshow\u001b[0;34m(fig, renderer, validate, **kwargs)\u001b[0m\n\u001b[1;32m    389\u001b[0m         \u001b[39mraise\u001b[39;00m \u001b[39mValueError\u001b[39;00m(\n\u001b[1;32m    390\u001b[0m             \u001b[39m\"\u001b[39m\u001b[39mMime type rendering requires ipython but it is not installed\u001b[39m\u001b[39m\"\u001b[39m\n\u001b[1;32m    391\u001b[0m         )\n\u001b[1;32m    393\u001b[0m     \u001b[39mif\u001b[39;00m \u001b[39mnot\u001b[39;00m nbformat \u001b[39mor\u001b[39;00m Version(nbformat\u001b[39m.\u001b[39m__version__) \u001b[39m<\u001b[39m Version(\u001b[39m\"\u001b[39m\u001b[39m4.2.0\u001b[39m\u001b[39m\"\u001b[39m):\n\u001b[0;32m--> 394\u001b[0m         \u001b[39mraise\u001b[39;00m \u001b[39mValueError\u001b[39;00m(\n\u001b[1;32m    395\u001b[0m             \u001b[39m\"\u001b[39m\u001b[39mMime type rendering requires nbformat>=4.2.0 but it is not installed\u001b[39m\u001b[39m\"\u001b[39m\n\u001b[1;32m    396\u001b[0m         )\n\u001b[1;32m    398\u001b[0m     ipython_display\u001b[39m.\u001b[39mdisplay(bundle, raw\u001b[39m=\u001b[39m\u001b[39mTrue\u001b[39;00m)\n\u001b[1;32m    400\u001b[0m \u001b[39m# external renderers\u001b[39;00m\n",
      "\u001b[0;31mValueError\u001b[0m: Mime type rendering requires nbformat>=4.2.0 but it is not installed"
     ]
    }
   ],
   "source": [
    "grafico = px.scatter(x = base_completa['peso'], \n",
    "                            y = base_completa['colesterol'], \n",
    "                            color= base_completa['cluster'])\n",
    "\n",
    "grafico_centroide = px.scatter(x = centroides_clusters[:,0], y = centroides_clusters[:,1], size = [7,7,7])\n",
    "grafico_final_petala = go.Figure(data = grafico.data + grafico_centroide.data)\n",
    "grafico_final_petala.show()"
   ]
  },
  {
   "cell_type": "markdown",
   "metadata": {
    "id": "tUMTmm5ZSiIG"
   },
   "source": [
    "# Visualizando e alterando layout do gráfico"
   ]
  },
  {
   "cell_type": "code",
   "execution_count": 64,
   "metadata": {
    "colab": {
     "base_uri": "https://localhost:8080/",
     "height": 542
    },
    "executionInfo": {
     "elapsed": 544,
     "status": "ok",
     "timestamp": 1628820279649,
     "user": {
      "displayName": "Prof. Leandro Lessa",
      "photoUrl": "https://lh3.googleusercontent.com/a-/AOh14GjOFTHd5R6mZqpiAveor8rupG9YPM_LbwR5AmNPtg=s64",
      "userId": "09430483952296203154"
     },
     "user_tz": 180
    },
    "id": "NJ9RLCTvZGCq",
    "outputId": "04552d81-1f7c-44e8-e4fc-07ca2f9e8baf"
   },
   "outputs": [
    {
     "ename": "ValueError",
     "evalue": "Mime type rendering requires nbformat>=4.2.0 but it is not installed",
     "output_type": "error",
     "traceback": [
      "\u001b[0;31m---------------------------------------------------------------------------\u001b[0m",
      "\u001b[0;31mValueError\u001b[0m                                Traceback (most recent call last)",
      "\u001b[1;32m/Users/brunobandeirafernandes/Documents/Github/Python/Kmeans_IA_Python/PesoColesterol/Kmeans.ipynb Célula 83\u001b[0m line \u001b[0;36m1\n\u001b[1;32m      <a href='vscode-notebook-cell:/Users/brunobandeirafernandes/Documents/Github/Python/Kmeans_IA_Python/PesoColesterol/Kmeans.ipynb#Y145sZmlsZQ%3D%3D?line=3'>4</a>\u001b[0m fig \u001b[39m=\u001b[39m go\u001b[39m.\u001b[39mFigure(grafico)\n\u001b[1;32m      <a href='vscode-notebook-cell:/Users/brunobandeirafernandes/Documents/Github/Python/Kmeans_IA_Python/PesoColesterol/Kmeans.ipynb#Y145sZmlsZQ%3D%3D?line=5'>6</a>\u001b[0m fig\u001b[39m.\u001b[39mupdate_layout(title\u001b[39m=\u001b[39m\u001b[39m'\u001b[39m\u001b[39mAnálise de Clusters\u001b[39m\u001b[39m'\u001b[39m,\n\u001b[1;32m      <a href='vscode-notebook-cell:/Users/brunobandeirafernandes/Documents/Github/Python/Kmeans_IA_Python/PesoColesterol/Kmeans.ipynb#Y145sZmlsZQ%3D%3D?line=6'>7</a>\u001b[0m                   xaxis_title\u001b[39m=\u001b[39m \u001b[39m'\u001b[39m\u001b[39mColesterol\u001b[39m\u001b[39m'\u001b[39m,\n\u001b[1;32m      <a href='vscode-notebook-cell:/Users/brunobandeirafernandes/Documents/Github/Python/Kmeans_IA_Python/PesoColesterol/Kmeans.ipynb#Y145sZmlsZQ%3D%3D?line=7'>8</a>\u001b[0m                   yaxis_title\u001b[39m=\u001b[39m \u001b[39m'\u001b[39m\u001b[39mpeso\u001b[39m\u001b[39m'\u001b[39m,                  \n\u001b[1;32m      <a href='vscode-notebook-cell:/Users/brunobandeirafernandes/Documents/Github/Python/Kmeans_IA_Python/PesoColesterol/Kmeans.ipynb#Y145sZmlsZQ%3D%3D?line=8'>9</a>\u001b[0m                   ) \n\u001b[0;32m---> <a href='vscode-notebook-cell:/Users/brunobandeirafernandes/Documents/Github/Python/Kmeans_IA_Python/PesoColesterol/Kmeans.ipynb#Y145sZmlsZQ%3D%3D?line=11'>12</a>\u001b[0m fig\u001b[39m.\u001b[39;49mshow()\n",
      "File \u001b[0;32m~/.local/share/virtualenvs/Kmeans_IA_Python-vKPEkPgC/lib/python3.12/site-packages/plotly/basedatatypes.py:3410\u001b[0m, in \u001b[0;36mBaseFigure.show\u001b[0;34m(self, *args, **kwargs)\u001b[0m\n\u001b[1;32m   3377\u001b[0m \u001b[39m\u001b[39m\u001b[39m\"\"\"\u001b[39;00m\n\u001b[1;32m   3378\u001b[0m \u001b[39mShow a figure using either the default renderer(s) or the renderer(s)\u001b[39;00m\n\u001b[1;32m   3379\u001b[0m \u001b[39mspecified by the renderer argument\u001b[39;00m\n\u001b[0;32m   (...)\u001b[0m\n\u001b[1;32m   3406\u001b[0m \u001b[39mNone\u001b[39;00m\n\u001b[1;32m   3407\u001b[0m \u001b[39m\"\"\"\u001b[39;00m\n\u001b[1;32m   3408\u001b[0m \u001b[39mimport\u001b[39;00m \u001b[39mplotly\u001b[39;00m\u001b[39m.\u001b[39;00m\u001b[39mio\u001b[39;00m \u001b[39mas\u001b[39;00m \u001b[39mpio\u001b[39;00m\n\u001b[0;32m-> 3410\u001b[0m \u001b[39mreturn\u001b[39;00m pio\u001b[39m.\u001b[39;49mshow(\u001b[39mself\u001b[39;49m, \u001b[39m*\u001b[39;49margs, \u001b[39m*\u001b[39;49m\u001b[39m*\u001b[39;49mkwargs)\n",
      "File \u001b[0;32m~/.local/share/virtualenvs/Kmeans_IA_Python-vKPEkPgC/lib/python3.12/site-packages/plotly/io/_renderers.py:394\u001b[0m, in \u001b[0;36mshow\u001b[0;34m(fig, renderer, validate, **kwargs)\u001b[0m\n\u001b[1;32m    389\u001b[0m         \u001b[39mraise\u001b[39;00m \u001b[39mValueError\u001b[39;00m(\n\u001b[1;32m    390\u001b[0m             \u001b[39m\"\u001b[39m\u001b[39mMime type rendering requires ipython but it is not installed\u001b[39m\u001b[39m\"\u001b[39m\n\u001b[1;32m    391\u001b[0m         )\n\u001b[1;32m    393\u001b[0m     \u001b[39mif\u001b[39;00m \u001b[39mnot\u001b[39;00m nbformat \u001b[39mor\u001b[39;00m Version(nbformat\u001b[39m.\u001b[39m__version__) \u001b[39m<\u001b[39m Version(\u001b[39m\"\u001b[39m\u001b[39m4.2.0\u001b[39m\u001b[39m\"\u001b[39m):\n\u001b[0;32m--> 394\u001b[0m         \u001b[39mraise\u001b[39;00m \u001b[39mValueError\u001b[39;00m(\n\u001b[1;32m    395\u001b[0m             \u001b[39m\"\u001b[39m\u001b[39mMime type rendering requires nbformat>=4.2.0 but it is not installed\u001b[39m\u001b[39m\"\u001b[39m\n\u001b[1;32m    396\u001b[0m         )\n\u001b[1;32m    398\u001b[0m     ipython_display\u001b[39m.\u001b[39mdisplay(bundle, raw\u001b[39m=\u001b[39m\u001b[39mTrue\u001b[39;00m)\n\u001b[1;32m    400\u001b[0m \u001b[39m# external renderers\u001b[39;00m\n",
      "\u001b[0;31mValueError\u001b[0m: Mime type rendering requires nbformat>=4.2.0 but it is not installed"
     ]
    }
   ],
   "source": [
    "grafico = px.scatter(x = base_completa['colesterol'], \n",
    "                     y = base_completa['peso'], \n",
    "                     color= base_completa['cluster'])\n",
    "fig = go.Figure(grafico)\n",
    "\n",
    "fig.update_layout(title='Análise de Clusters',\n",
    "                  xaxis_title= 'Colesterol',\n",
    "                  yaxis_title= 'peso',                  \n",
    "                  ) \n",
    "\n",
    "\n",
    "fig.show()"
   ]
  },
  {
   "cell_type": "markdown",
   "metadata": {
    "id": "67YpMMt7H_AM"
   },
   "source": [
    "# Criando Função para Gerar gráficos"
   ]
  },
  {
   "cell_type": "code",
   "execution_count": 65,
   "metadata": {
    "executionInfo": {
     "elapsed": 7,
     "status": "ok",
     "timestamp": 1628820279650,
     "user": {
      "displayName": "Prof. Leandro Lessa",
      "photoUrl": "https://lh3.googleusercontent.com/a-/AOh14GjOFTHd5R6mZqpiAveor8rupG9YPM_LbwR5AmNPtg=s64",
      "userId": "09430483952296203154"
     },
     "user_tz": 180
    },
    "id": "BmRLDR_U0sZn"
   },
   "outputs": [],
   "source": [
    "def plotar_grafico(x,y, xlabel, y_label):\n",
    "  grafico = px.scatter(x = x, \n",
    "                      y = y, \n",
    "                      color= base_completa['cluster'])\n",
    "  \n",
    "  fig = go.Figure(grafico)\n",
    "\n",
    "  fig.update_layout(title='Análise de Clusters',\n",
    "                    xaxis_title= xlabel,\n",
    "                    yaxis_title= y_label,                  \n",
    "                    ) \n",
    "\n",
    "  fig.show()"
   ]
  },
  {
   "cell_type": "code",
   "execution_count": 66,
   "metadata": {
    "colab": {
     "base_uri": "https://localhost:8080/",
     "height": 542
    },
    "executionInfo": {
     "elapsed": 502,
     "status": "ok",
     "timestamp": 1628820280146,
     "user": {
      "displayName": "Prof. Leandro Lessa",
      "photoUrl": "https://lh3.googleusercontent.com/a-/AOh14GjOFTHd5R6mZqpiAveor8rupG9YPM_LbwR5AmNPtg=s64",
      "userId": "09430483952296203154"
     },
     "user_tz": 180
    },
    "id": "YODUmCeF0sdw",
    "outputId": "cc69db50-c7a9-4910-e852-fb37adc81aa8"
   },
   "outputs": [
    {
     "ename": "ValueError",
     "evalue": "Mime type rendering requires nbformat>=4.2.0 but it is not installed",
     "output_type": "error",
     "traceback": [
      "\u001b[0;31m---------------------------------------------------------------------------\u001b[0m",
      "\u001b[0;31mValueError\u001b[0m                                Traceback (most recent call last)",
      "\u001b[1;32m/Users/brunobandeirafernandes/Documents/Github/Python/Kmeans_IA_Python/PesoColesterol/Kmeans.ipynb Célula 86\u001b[0m line \u001b[0;36m1\n\u001b[0;32m----> <a href='vscode-notebook-cell:/Users/brunobandeirafernandes/Documents/Github/Python/Kmeans_IA_Python/PesoColesterol/Kmeans.ipynb#Y151sZmlsZQ%3D%3D?line=0'>1</a>\u001b[0m plotar_grafico(base_completa[\u001b[39m'\u001b[39;49m\u001b[39mcolesterol\u001b[39;49m\u001b[39m'\u001b[39;49m], base_completa[\u001b[39m'\u001b[39;49m\u001b[39mpeso\u001b[39;49m\u001b[39m'\u001b[39;49m], \u001b[39m'\u001b[39;49m\u001b[39mcolesterol\u001b[39;49m\u001b[39m'\u001b[39;49m, \u001b[39m'\u001b[39;49m\u001b[39mpeso\u001b[39;49m\u001b[39m'\u001b[39;49m)\n",
      "\u001b[1;32m/Users/brunobandeirafernandes/Documents/Github/Python/Kmeans_IA_Python/PesoColesterol/Kmeans.ipynb Célula 86\u001b[0m line \u001b[0;36m1\n\u001b[1;32m      <a href='vscode-notebook-cell:/Users/brunobandeirafernandes/Documents/Github/Python/Kmeans_IA_Python/PesoColesterol/Kmeans.ipynb#Y151sZmlsZQ%3D%3D?line=5'>6</a>\u001b[0m fig \u001b[39m=\u001b[39m go\u001b[39m.\u001b[39mFigure(grafico)\n\u001b[1;32m      <a href='vscode-notebook-cell:/Users/brunobandeirafernandes/Documents/Github/Python/Kmeans_IA_Python/PesoColesterol/Kmeans.ipynb#Y151sZmlsZQ%3D%3D?line=7'>8</a>\u001b[0m fig\u001b[39m.\u001b[39mupdate_layout(title\u001b[39m=\u001b[39m\u001b[39m'\u001b[39m\u001b[39mAnálise de Clusters\u001b[39m\u001b[39m'\u001b[39m,\n\u001b[1;32m      <a href='vscode-notebook-cell:/Users/brunobandeirafernandes/Documents/Github/Python/Kmeans_IA_Python/PesoColesterol/Kmeans.ipynb#Y151sZmlsZQ%3D%3D?line=8'>9</a>\u001b[0m                   xaxis_title\u001b[39m=\u001b[39m xlabel,\n\u001b[1;32m     <a href='vscode-notebook-cell:/Users/brunobandeirafernandes/Documents/Github/Python/Kmeans_IA_Python/PesoColesterol/Kmeans.ipynb#Y151sZmlsZQ%3D%3D?line=9'>10</a>\u001b[0m                   yaxis_title\u001b[39m=\u001b[39m y_label,                  \n\u001b[1;32m     <a href='vscode-notebook-cell:/Users/brunobandeirafernandes/Documents/Github/Python/Kmeans_IA_Python/PesoColesterol/Kmeans.ipynb#Y151sZmlsZQ%3D%3D?line=10'>11</a>\u001b[0m                   ) \n\u001b[0;32m---> <a href='vscode-notebook-cell:/Users/brunobandeirafernandes/Documents/Github/Python/Kmeans_IA_Python/PesoColesterol/Kmeans.ipynb#Y151sZmlsZQ%3D%3D?line=12'>13</a>\u001b[0m fig\u001b[39m.\u001b[39;49mshow()\n",
      "File \u001b[0;32m~/.local/share/virtualenvs/Kmeans_IA_Python-vKPEkPgC/lib/python3.12/site-packages/plotly/basedatatypes.py:3410\u001b[0m, in \u001b[0;36mBaseFigure.show\u001b[0;34m(self, *args, **kwargs)\u001b[0m\n\u001b[1;32m   3377\u001b[0m \u001b[39m\u001b[39m\u001b[39m\"\"\"\u001b[39;00m\n\u001b[1;32m   3378\u001b[0m \u001b[39mShow a figure using either the default renderer(s) or the renderer(s)\u001b[39;00m\n\u001b[1;32m   3379\u001b[0m \u001b[39mspecified by the renderer argument\u001b[39;00m\n\u001b[0;32m   (...)\u001b[0m\n\u001b[1;32m   3406\u001b[0m \u001b[39mNone\u001b[39;00m\n\u001b[1;32m   3407\u001b[0m \u001b[39m\"\"\"\u001b[39;00m\n\u001b[1;32m   3408\u001b[0m \u001b[39mimport\u001b[39;00m \u001b[39mplotly\u001b[39;00m\u001b[39m.\u001b[39;00m\u001b[39mio\u001b[39;00m \u001b[39mas\u001b[39;00m \u001b[39mpio\u001b[39;00m\n\u001b[0;32m-> 3410\u001b[0m \u001b[39mreturn\u001b[39;00m pio\u001b[39m.\u001b[39;49mshow(\u001b[39mself\u001b[39;49m, \u001b[39m*\u001b[39;49margs, \u001b[39m*\u001b[39;49m\u001b[39m*\u001b[39;49mkwargs)\n",
      "File \u001b[0;32m~/.local/share/virtualenvs/Kmeans_IA_Python-vKPEkPgC/lib/python3.12/site-packages/plotly/io/_renderers.py:394\u001b[0m, in \u001b[0;36mshow\u001b[0;34m(fig, renderer, validate, **kwargs)\u001b[0m\n\u001b[1;32m    389\u001b[0m         \u001b[39mraise\u001b[39;00m \u001b[39mValueError\u001b[39;00m(\n\u001b[1;32m    390\u001b[0m             \u001b[39m\"\u001b[39m\u001b[39mMime type rendering requires ipython but it is not installed\u001b[39m\u001b[39m\"\u001b[39m\n\u001b[1;32m    391\u001b[0m         )\n\u001b[1;32m    393\u001b[0m     \u001b[39mif\u001b[39;00m \u001b[39mnot\u001b[39;00m nbformat \u001b[39mor\u001b[39;00m Version(nbformat\u001b[39m.\u001b[39m__version__) \u001b[39m<\u001b[39m Version(\u001b[39m\"\u001b[39m\u001b[39m4.2.0\u001b[39m\u001b[39m\"\u001b[39m):\n\u001b[0;32m--> 394\u001b[0m         \u001b[39mraise\u001b[39;00m \u001b[39mValueError\u001b[39;00m(\n\u001b[1;32m    395\u001b[0m             \u001b[39m\"\u001b[39m\u001b[39mMime type rendering requires nbformat>=4.2.0 but it is not installed\u001b[39m\u001b[39m\"\u001b[39m\n\u001b[1;32m    396\u001b[0m         )\n\u001b[1;32m    398\u001b[0m     ipython_display\u001b[39m.\u001b[39mdisplay(bundle, raw\u001b[39m=\u001b[39m\u001b[39mTrue\u001b[39;00m)\n\u001b[1;32m    400\u001b[0m \u001b[39m# external renderers\u001b[39;00m\n",
      "\u001b[0;31mValueError\u001b[0m: Mime type rendering requires nbformat>=4.2.0 but it is not installed"
     ]
    }
   ],
   "source": [
    "plotar_grafico(base_completa['colesterol'], base_completa['peso'], 'colesterol', 'peso')"
   ]
  },
  {
   "cell_type": "code",
   "execution_count": 67,
   "metadata": {
    "colab": {
     "base_uri": "https://localhost:8080/",
     "height": 542
    },
    "executionInfo": {
     "elapsed": 299,
     "status": "ok",
     "timestamp": 1628820280435,
     "user": {
      "displayName": "Prof. Leandro Lessa",
      "photoUrl": "https://lh3.googleusercontent.com/a-/AOh14GjOFTHd5R6mZqpiAveor8rupG9YPM_LbwR5AmNPtg=s64",
      "userId": "09430483952296203154"
     },
     "user_tz": 180
    },
    "id": "SNRcOGGx0sf-",
    "outputId": "2cc3fced-dac6-4ee9-e9c1-052442b1447a"
   },
   "outputs": [
    {
     "ename": "ValueError",
     "evalue": "Mime type rendering requires nbformat>=4.2.0 but it is not installed",
     "output_type": "error",
     "traceback": [
      "\u001b[0;31m---------------------------------------------------------------------------\u001b[0m",
      "\u001b[0;31mValueError\u001b[0m                                Traceback (most recent call last)",
      "\u001b[1;32m/Users/brunobandeirafernandes/Documents/Github/Python/Kmeans_IA_Python/PesoColesterol/Kmeans.ipynb Célula 87\u001b[0m line \u001b[0;36m1\n\u001b[0;32m----> <a href='vscode-notebook-cell:/Users/brunobandeirafernandes/Documents/Github/Python/Kmeans_IA_Python/PesoColesterol/Kmeans.ipynb#Y152sZmlsZQ%3D%3D?line=0'>1</a>\u001b[0m plotar_grafico(base_completa[\u001b[39m'\u001b[39;49m\u001b[39mpeso\u001b[39;49m\u001b[39m'\u001b[39;49m], base_completa[\u001b[39m'\u001b[39;49m\u001b[39mcolesterol\u001b[39;49m\u001b[39m'\u001b[39;49m], \u001b[39m'\u001b[39;49m\u001b[39mpeso\u001b[39;49m\u001b[39m'\u001b[39;49m, \u001b[39m'\u001b[39;49m\u001b[39mcolesterol\u001b[39;49m\u001b[39m'\u001b[39;49m)\n",
      "\u001b[1;32m/Users/brunobandeirafernandes/Documents/Github/Python/Kmeans_IA_Python/PesoColesterol/Kmeans.ipynb Célula 87\u001b[0m line \u001b[0;36m1\n\u001b[1;32m      <a href='vscode-notebook-cell:/Users/brunobandeirafernandes/Documents/Github/Python/Kmeans_IA_Python/PesoColesterol/Kmeans.ipynb#Y152sZmlsZQ%3D%3D?line=5'>6</a>\u001b[0m fig \u001b[39m=\u001b[39m go\u001b[39m.\u001b[39mFigure(grafico)\n\u001b[1;32m      <a href='vscode-notebook-cell:/Users/brunobandeirafernandes/Documents/Github/Python/Kmeans_IA_Python/PesoColesterol/Kmeans.ipynb#Y152sZmlsZQ%3D%3D?line=7'>8</a>\u001b[0m fig\u001b[39m.\u001b[39mupdate_layout(title\u001b[39m=\u001b[39m\u001b[39m'\u001b[39m\u001b[39mAnálise de Clusters\u001b[39m\u001b[39m'\u001b[39m,\n\u001b[1;32m      <a href='vscode-notebook-cell:/Users/brunobandeirafernandes/Documents/Github/Python/Kmeans_IA_Python/PesoColesterol/Kmeans.ipynb#Y152sZmlsZQ%3D%3D?line=8'>9</a>\u001b[0m                   xaxis_title\u001b[39m=\u001b[39m xlabel,\n\u001b[1;32m     <a href='vscode-notebook-cell:/Users/brunobandeirafernandes/Documents/Github/Python/Kmeans_IA_Python/PesoColesterol/Kmeans.ipynb#Y152sZmlsZQ%3D%3D?line=9'>10</a>\u001b[0m                   yaxis_title\u001b[39m=\u001b[39m y_label,                  \n\u001b[1;32m     <a href='vscode-notebook-cell:/Users/brunobandeirafernandes/Documents/Github/Python/Kmeans_IA_Python/PesoColesterol/Kmeans.ipynb#Y152sZmlsZQ%3D%3D?line=10'>11</a>\u001b[0m                   ) \n\u001b[0;32m---> <a href='vscode-notebook-cell:/Users/brunobandeirafernandes/Documents/Github/Python/Kmeans_IA_Python/PesoColesterol/Kmeans.ipynb#Y152sZmlsZQ%3D%3D?line=12'>13</a>\u001b[0m fig\u001b[39m.\u001b[39;49mshow()\n",
      "File \u001b[0;32m~/.local/share/virtualenvs/Kmeans_IA_Python-vKPEkPgC/lib/python3.12/site-packages/plotly/basedatatypes.py:3410\u001b[0m, in \u001b[0;36mBaseFigure.show\u001b[0;34m(self, *args, **kwargs)\u001b[0m\n\u001b[1;32m   3377\u001b[0m \u001b[39m\u001b[39m\u001b[39m\"\"\"\u001b[39;00m\n\u001b[1;32m   3378\u001b[0m \u001b[39mShow a figure using either the default renderer(s) or the renderer(s)\u001b[39;00m\n\u001b[1;32m   3379\u001b[0m \u001b[39mspecified by the renderer argument\u001b[39;00m\n\u001b[0;32m   (...)\u001b[0m\n\u001b[1;32m   3406\u001b[0m \u001b[39mNone\u001b[39;00m\n\u001b[1;32m   3407\u001b[0m \u001b[39m\"\"\"\u001b[39;00m\n\u001b[1;32m   3408\u001b[0m \u001b[39mimport\u001b[39;00m \u001b[39mplotly\u001b[39;00m\u001b[39m.\u001b[39;00m\u001b[39mio\u001b[39;00m \u001b[39mas\u001b[39;00m \u001b[39mpio\u001b[39;00m\n\u001b[0;32m-> 3410\u001b[0m \u001b[39mreturn\u001b[39;00m pio\u001b[39m.\u001b[39;49mshow(\u001b[39mself\u001b[39;49m, \u001b[39m*\u001b[39;49margs, \u001b[39m*\u001b[39;49m\u001b[39m*\u001b[39;49mkwargs)\n",
      "File \u001b[0;32m~/.local/share/virtualenvs/Kmeans_IA_Python-vKPEkPgC/lib/python3.12/site-packages/plotly/io/_renderers.py:394\u001b[0m, in \u001b[0;36mshow\u001b[0;34m(fig, renderer, validate, **kwargs)\u001b[0m\n\u001b[1;32m    389\u001b[0m         \u001b[39mraise\u001b[39;00m \u001b[39mValueError\u001b[39;00m(\n\u001b[1;32m    390\u001b[0m             \u001b[39m\"\u001b[39m\u001b[39mMime type rendering requires ipython but it is not installed\u001b[39m\u001b[39m\"\u001b[39m\n\u001b[1;32m    391\u001b[0m         )\n\u001b[1;32m    393\u001b[0m     \u001b[39mif\u001b[39;00m \u001b[39mnot\u001b[39;00m nbformat \u001b[39mor\u001b[39;00m Version(nbformat\u001b[39m.\u001b[39m__version__) \u001b[39m<\u001b[39m Version(\u001b[39m\"\u001b[39m\u001b[39m4.2.0\u001b[39m\u001b[39m\"\u001b[39m):\n\u001b[0;32m--> 394\u001b[0m         \u001b[39mraise\u001b[39;00m \u001b[39mValueError\u001b[39;00m(\n\u001b[1;32m    395\u001b[0m             \u001b[39m\"\u001b[39m\u001b[39mMime type rendering requires nbformat>=4.2.0 but it is not installed\u001b[39m\u001b[39m\"\u001b[39m\n\u001b[1;32m    396\u001b[0m         )\n\u001b[1;32m    398\u001b[0m     ipython_display\u001b[39m.\u001b[39mdisplay(bundle, raw\u001b[39m=\u001b[39m\u001b[39mTrue\u001b[39;00m)\n\u001b[1;32m    400\u001b[0m \u001b[39m# external renderers\u001b[39;00m\n",
      "\u001b[0;31mValueError\u001b[0m: Mime type rendering requires nbformat>=4.2.0 but it is not installed"
     ]
    }
   ],
   "source": [
    "plotar_grafico(base_completa['peso'], base_completa['colesterol'], 'peso', 'colesterol')"
   ]
  },
  {
   "cell_type": "code",
   "execution_count": 68,
   "metadata": {
    "colab": {
     "base_uri": "https://localhost:8080/",
     "height": 542
    },
    "executionInfo": {
     "elapsed": 571,
     "status": "ok",
     "timestamp": 1628820281002,
     "user": {
      "displayName": "Prof. Leandro Lessa",
      "photoUrl": "https://lh3.googleusercontent.com/a-/AOh14GjOFTHd5R6mZqpiAveor8rupG9YPM_LbwR5AmNPtg=s64",
      "userId": "09430483952296203154"
     },
     "user_tz": 180
    },
    "id": "gS3bfQsR0sib",
    "outputId": "f6edd37d-6815-4e9a-996d-b482cb8dbedf"
   },
   "outputs": [
    {
     "ename": "ValueError",
     "evalue": "Mime type rendering requires nbformat>=4.2.0 but it is not installed",
     "output_type": "error",
     "traceback": [
      "\u001b[0;31m---------------------------------------------------------------------------\u001b[0m",
      "\u001b[0;31mValueError\u001b[0m                                Traceback (most recent call last)",
      "\u001b[1;32m/Users/brunobandeirafernandes/Documents/Github/Python/Kmeans_IA_Python/PesoColesterol/Kmeans.ipynb Célula 88\u001b[0m line \u001b[0;36m1\n\u001b[0;32m----> <a href='vscode-notebook-cell:/Users/brunobandeirafernandes/Documents/Github/Python/Kmeans_IA_Python/PesoColesterol/Kmeans.ipynb#Y153sZmlsZQ%3D%3D?line=0'>1</a>\u001b[0m plotar_grafico(base_completa[\u001b[39m'\u001b[39;49m\u001b[39midade\u001b[39;49m\u001b[39m'\u001b[39;49m], base_completa[\u001b[39m'\u001b[39;49m\u001b[39mcolesterol\u001b[39;49m\u001b[39m'\u001b[39;49m], \u001b[39m'\u001b[39;49m\u001b[39midade\u001b[39;49m\u001b[39m'\u001b[39;49m, \u001b[39m'\u001b[39;49m\u001b[39mcolesterol\u001b[39;49m\u001b[39m'\u001b[39;49m)\n",
      "\u001b[1;32m/Users/brunobandeirafernandes/Documents/Github/Python/Kmeans_IA_Python/PesoColesterol/Kmeans.ipynb Célula 88\u001b[0m line \u001b[0;36m1\n\u001b[1;32m      <a href='vscode-notebook-cell:/Users/brunobandeirafernandes/Documents/Github/Python/Kmeans_IA_Python/PesoColesterol/Kmeans.ipynb#Y153sZmlsZQ%3D%3D?line=5'>6</a>\u001b[0m fig \u001b[39m=\u001b[39m go\u001b[39m.\u001b[39mFigure(grafico)\n\u001b[1;32m      <a href='vscode-notebook-cell:/Users/brunobandeirafernandes/Documents/Github/Python/Kmeans_IA_Python/PesoColesterol/Kmeans.ipynb#Y153sZmlsZQ%3D%3D?line=7'>8</a>\u001b[0m fig\u001b[39m.\u001b[39mupdate_layout(title\u001b[39m=\u001b[39m\u001b[39m'\u001b[39m\u001b[39mAnálise de Clusters\u001b[39m\u001b[39m'\u001b[39m,\n\u001b[1;32m      <a href='vscode-notebook-cell:/Users/brunobandeirafernandes/Documents/Github/Python/Kmeans_IA_Python/PesoColesterol/Kmeans.ipynb#Y153sZmlsZQ%3D%3D?line=8'>9</a>\u001b[0m                   xaxis_title\u001b[39m=\u001b[39m xlabel,\n\u001b[1;32m     <a href='vscode-notebook-cell:/Users/brunobandeirafernandes/Documents/Github/Python/Kmeans_IA_Python/PesoColesterol/Kmeans.ipynb#Y153sZmlsZQ%3D%3D?line=9'>10</a>\u001b[0m                   yaxis_title\u001b[39m=\u001b[39m y_label,                  \n\u001b[1;32m     <a href='vscode-notebook-cell:/Users/brunobandeirafernandes/Documents/Github/Python/Kmeans_IA_Python/PesoColesterol/Kmeans.ipynb#Y153sZmlsZQ%3D%3D?line=10'>11</a>\u001b[0m                   ) \n\u001b[0;32m---> <a href='vscode-notebook-cell:/Users/brunobandeirafernandes/Documents/Github/Python/Kmeans_IA_Python/PesoColesterol/Kmeans.ipynb#Y153sZmlsZQ%3D%3D?line=12'>13</a>\u001b[0m fig\u001b[39m.\u001b[39;49mshow()\n",
      "File \u001b[0;32m~/.local/share/virtualenvs/Kmeans_IA_Python-vKPEkPgC/lib/python3.12/site-packages/plotly/basedatatypes.py:3410\u001b[0m, in \u001b[0;36mBaseFigure.show\u001b[0;34m(self, *args, **kwargs)\u001b[0m\n\u001b[1;32m   3377\u001b[0m \u001b[39m\u001b[39m\u001b[39m\"\"\"\u001b[39;00m\n\u001b[1;32m   3378\u001b[0m \u001b[39mShow a figure using either the default renderer(s) or the renderer(s)\u001b[39;00m\n\u001b[1;32m   3379\u001b[0m \u001b[39mspecified by the renderer argument\u001b[39;00m\n\u001b[0;32m   (...)\u001b[0m\n\u001b[1;32m   3406\u001b[0m \u001b[39mNone\u001b[39;00m\n\u001b[1;32m   3407\u001b[0m \u001b[39m\"\"\"\u001b[39;00m\n\u001b[1;32m   3408\u001b[0m \u001b[39mimport\u001b[39;00m \u001b[39mplotly\u001b[39;00m\u001b[39m.\u001b[39;00m\u001b[39mio\u001b[39;00m \u001b[39mas\u001b[39;00m \u001b[39mpio\u001b[39;00m\n\u001b[0;32m-> 3410\u001b[0m \u001b[39mreturn\u001b[39;00m pio\u001b[39m.\u001b[39;49mshow(\u001b[39mself\u001b[39;49m, \u001b[39m*\u001b[39;49margs, \u001b[39m*\u001b[39;49m\u001b[39m*\u001b[39;49mkwargs)\n",
      "File \u001b[0;32m~/.local/share/virtualenvs/Kmeans_IA_Python-vKPEkPgC/lib/python3.12/site-packages/plotly/io/_renderers.py:394\u001b[0m, in \u001b[0;36mshow\u001b[0;34m(fig, renderer, validate, **kwargs)\u001b[0m\n\u001b[1;32m    389\u001b[0m         \u001b[39mraise\u001b[39;00m \u001b[39mValueError\u001b[39;00m(\n\u001b[1;32m    390\u001b[0m             \u001b[39m\"\u001b[39m\u001b[39mMime type rendering requires ipython but it is not installed\u001b[39m\u001b[39m\"\u001b[39m\n\u001b[1;32m    391\u001b[0m         )\n\u001b[1;32m    393\u001b[0m     \u001b[39mif\u001b[39;00m \u001b[39mnot\u001b[39;00m nbformat \u001b[39mor\u001b[39;00m Version(nbformat\u001b[39m.\u001b[39m__version__) \u001b[39m<\u001b[39m Version(\u001b[39m\"\u001b[39m\u001b[39m4.2.0\u001b[39m\u001b[39m\"\u001b[39m):\n\u001b[0;32m--> 394\u001b[0m         \u001b[39mraise\u001b[39;00m \u001b[39mValueError\u001b[39;00m(\n\u001b[1;32m    395\u001b[0m             \u001b[39m\"\u001b[39m\u001b[39mMime type rendering requires nbformat>=4.2.0 but it is not installed\u001b[39m\u001b[39m\"\u001b[39m\n\u001b[1;32m    396\u001b[0m         )\n\u001b[1;32m    398\u001b[0m     ipython_display\u001b[39m.\u001b[39mdisplay(bundle, raw\u001b[39m=\u001b[39m\u001b[39mTrue\u001b[39;00m)\n\u001b[1;32m    400\u001b[0m \u001b[39m# external renderers\u001b[39;00m\n",
      "\u001b[0;31mValueError\u001b[0m: Mime type rendering requires nbformat>=4.2.0 but it is not installed"
     ]
    }
   ],
   "source": [
    "plotar_grafico(base_completa['idade'], base_completa['colesterol'], 'idade', 'colesterol')"
   ]
  },
  {
   "cell_type": "markdown",
   "metadata": {
    "id": "V4STiwchJwGf"
   },
   "source": [
    "# Segmentando os clientes baseado na análise dos clusters\n",
    "\n",
    "Agora vamos analisar os dados dos clusters referente aos atributos peso e colesterol e atribuir nomes que representam aquele agrupamento.\n",
    "\n",
    "Vamos agrupar  em 3 tipos:\n",
    "\n",
    "\n",
    "Alto risco: Peso e colesterol altos\n",
    "\n",
    "Baixo risco: Baixo peso e colesterol baixo\n",
    "\n",
    "Moderado risco: peso e colesterol medianos\n",
    "\n",
    "\n"
   ]
  },
  {
   "cell_type": "code",
   "execution_count": 69,
   "metadata": {
    "colab": {
     "base_uri": "https://localhost:8080/",
     "height": 542
    },
    "executionInfo": {
     "elapsed": 729,
     "status": "ok",
     "timestamp": 1628820281640,
     "user": {
      "displayName": "Prof. Leandro Lessa",
      "photoUrl": "https://lh3.googleusercontent.com/a-/AOh14GjOFTHd5R6mZqpiAveor8rupG9YPM_LbwR5AmNPtg=s64",
      "userId": "09430483952296203154"
     },
     "user_tz": 180
    },
    "id": "6lqdGyDjptnw",
    "outputId": "05c0ab7d-46eb-452d-ac3f-78ed5e6d4013"
   },
   "outputs": [
    {
     "ename": "ValueError",
     "evalue": "Mime type rendering requires nbformat>=4.2.0 but it is not installed",
     "output_type": "error",
     "traceback": [
      "\u001b[0;31m---------------------------------------------------------------------------\u001b[0m",
      "\u001b[0;31mValueError\u001b[0m                                Traceback (most recent call last)",
      "\u001b[1;32m/Users/brunobandeirafernandes/Documents/Github/Python/Kmeans_IA_Python/PesoColesterol/Kmeans.ipynb Célula 90\u001b[0m line \u001b[0;36m4\n\u001b[1;32m      <a href='vscode-notebook-cell:/Users/brunobandeirafernandes/Documents/Github/Python/Kmeans_IA_Python/PesoColesterol/Kmeans.ipynb#Y155sZmlsZQ%3D%3D?line=0'>1</a>\u001b[0m x \u001b[39m=\u001b[39m \u001b[39m'\u001b[39m\u001b[39mcolesterol\u001b[39m\u001b[39m'\u001b[39m\n\u001b[1;32m      <a href='vscode-notebook-cell:/Users/brunobandeirafernandes/Documents/Github/Python/Kmeans_IA_Python/PesoColesterol/Kmeans.ipynb#Y155sZmlsZQ%3D%3D?line=1'>2</a>\u001b[0m y \u001b[39m=\u001b[39m \u001b[39m'\u001b[39m\u001b[39mpeso\u001b[39m\u001b[39m'\u001b[39m\n\u001b[0;32m----> <a href='vscode-notebook-cell:/Users/brunobandeirafernandes/Documents/Github/Python/Kmeans_IA_Python/PesoColesterol/Kmeans.ipynb#Y155sZmlsZQ%3D%3D?line=3'>4</a>\u001b[0m plotar_grafico(base_completa[x], base_completa[y], x, y)\n",
      "\u001b[1;32m/Users/brunobandeirafernandes/Documents/Github/Python/Kmeans_IA_Python/PesoColesterol/Kmeans.ipynb Célula 90\u001b[0m line \u001b[0;36m1\n\u001b[1;32m      <a href='vscode-notebook-cell:/Users/brunobandeirafernandes/Documents/Github/Python/Kmeans_IA_Python/PesoColesterol/Kmeans.ipynb#Y155sZmlsZQ%3D%3D?line=5'>6</a>\u001b[0m fig \u001b[39m=\u001b[39m go\u001b[39m.\u001b[39mFigure(grafico)\n\u001b[1;32m      <a href='vscode-notebook-cell:/Users/brunobandeirafernandes/Documents/Github/Python/Kmeans_IA_Python/PesoColesterol/Kmeans.ipynb#Y155sZmlsZQ%3D%3D?line=7'>8</a>\u001b[0m fig\u001b[39m.\u001b[39mupdate_layout(title\u001b[39m=\u001b[39m\u001b[39m'\u001b[39m\u001b[39mAnálise de Clusters\u001b[39m\u001b[39m'\u001b[39m,\n\u001b[1;32m      <a href='vscode-notebook-cell:/Users/brunobandeirafernandes/Documents/Github/Python/Kmeans_IA_Python/PesoColesterol/Kmeans.ipynb#Y155sZmlsZQ%3D%3D?line=8'>9</a>\u001b[0m                   xaxis_title\u001b[39m=\u001b[39m xlabel,\n\u001b[1;32m     <a href='vscode-notebook-cell:/Users/brunobandeirafernandes/Documents/Github/Python/Kmeans_IA_Python/PesoColesterol/Kmeans.ipynb#Y155sZmlsZQ%3D%3D?line=9'>10</a>\u001b[0m                   yaxis_title\u001b[39m=\u001b[39m y_label,                  \n\u001b[1;32m     <a href='vscode-notebook-cell:/Users/brunobandeirafernandes/Documents/Github/Python/Kmeans_IA_Python/PesoColesterol/Kmeans.ipynb#Y155sZmlsZQ%3D%3D?line=10'>11</a>\u001b[0m                   ) \n\u001b[0;32m---> <a href='vscode-notebook-cell:/Users/brunobandeirafernandes/Documents/Github/Python/Kmeans_IA_Python/PesoColesterol/Kmeans.ipynb#Y155sZmlsZQ%3D%3D?line=12'>13</a>\u001b[0m fig\u001b[39m.\u001b[39;49mshow()\n",
      "File \u001b[0;32m~/.local/share/virtualenvs/Kmeans_IA_Python-vKPEkPgC/lib/python3.12/site-packages/plotly/basedatatypes.py:3410\u001b[0m, in \u001b[0;36mBaseFigure.show\u001b[0;34m(self, *args, **kwargs)\u001b[0m\n\u001b[1;32m   3377\u001b[0m \u001b[39m\u001b[39m\u001b[39m\"\"\"\u001b[39;00m\n\u001b[1;32m   3378\u001b[0m \u001b[39mShow a figure using either the default renderer(s) or the renderer(s)\u001b[39;00m\n\u001b[1;32m   3379\u001b[0m \u001b[39mspecified by the renderer argument\u001b[39;00m\n\u001b[0;32m   (...)\u001b[0m\n\u001b[1;32m   3406\u001b[0m \u001b[39mNone\u001b[39;00m\n\u001b[1;32m   3407\u001b[0m \u001b[39m\"\"\"\u001b[39;00m\n\u001b[1;32m   3408\u001b[0m \u001b[39mimport\u001b[39;00m \u001b[39mplotly\u001b[39;00m\u001b[39m.\u001b[39;00m\u001b[39mio\u001b[39;00m \u001b[39mas\u001b[39;00m \u001b[39mpio\u001b[39;00m\n\u001b[0;32m-> 3410\u001b[0m \u001b[39mreturn\u001b[39;00m pio\u001b[39m.\u001b[39;49mshow(\u001b[39mself\u001b[39;49m, \u001b[39m*\u001b[39;49margs, \u001b[39m*\u001b[39;49m\u001b[39m*\u001b[39;49mkwargs)\n",
      "File \u001b[0;32m~/.local/share/virtualenvs/Kmeans_IA_Python-vKPEkPgC/lib/python3.12/site-packages/plotly/io/_renderers.py:394\u001b[0m, in \u001b[0;36mshow\u001b[0;34m(fig, renderer, validate, **kwargs)\u001b[0m\n\u001b[1;32m    389\u001b[0m         \u001b[39mraise\u001b[39;00m \u001b[39mValueError\u001b[39;00m(\n\u001b[1;32m    390\u001b[0m             \u001b[39m\"\u001b[39m\u001b[39mMime type rendering requires ipython but it is not installed\u001b[39m\u001b[39m\"\u001b[39m\n\u001b[1;32m    391\u001b[0m         )\n\u001b[1;32m    393\u001b[0m     \u001b[39mif\u001b[39;00m \u001b[39mnot\u001b[39;00m nbformat \u001b[39mor\u001b[39;00m Version(nbformat\u001b[39m.\u001b[39m__version__) \u001b[39m<\u001b[39m Version(\u001b[39m\"\u001b[39m\u001b[39m4.2.0\u001b[39m\u001b[39m\"\u001b[39m):\n\u001b[0;32m--> 394\u001b[0m         \u001b[39mraise\u001b[39;00m \u001b[39mValueError\u001b[39;00m(\n\u001b[1;32m    395\u001b[0m             \u001b[39m\"\u001b[39m\u001b[39mMime type rendering requires nbformat>=4.2.0 but it is not installed\u001b[39m\u001b[39m\"\u001b[39m\n\u001b[1;32m    396\u001b[0m         )\n\u001b[1;32m    398\u001b[0m     ipython_display\u001b[39m.\u001b[39mdisplay(bundle, raw\u001b[39m=\u001b[39m\u001b[39mTrue\u001b[39;00m)\n\u001b[1;32m    400\u001b[0m \u001b[39m# external renderers\u001b[39;00m\n",
      "\u001b[0;31mValueError\u001b[0m: Mime type rendering requires nbformat>=4.2.0 but it is not installed"
     ]
    }
   ],
   "source": [
    "x = 'colesterol'\n",
    "y = 'peso'\n",
    "\n",
    "plotar_grafico(base_completa[x], base_completa[y], x, y)\n"
   ]
  },
  {
   "cell_type": "code",
   "execution_count": 70,
   "metadata": {
    "executionInfo": {
     "elapsed": 105,
     "status": "ok",
     "timestamp": 1628820281643,
     "user": {
      "displayName": "Prof. Leandro Lessa",
      "photoUrl": "https://lh3.googleusercontent.com/a-/AOh14GjOFTHd5R6mZqpiAveor8rupG9YPM_LbwR5AmNPtg=s64",
      "userId": "09430483952296203154"
     },
     "user_tz": 180
    },
    "id": "Q6gYvrb_qSER"
   },
   "outputs": [],
   "source": [
    "cluster_clientes = base_completa"
   ]
  },
  {
   "cell_type": "code",
   "execution_count": 71,
   "metadata": {
    "executionInfo": {
     "elapsed": 103,
     "status": "ok",
     "timestamp": 1628820281644,
     "user": {
      "displayName": "Prof. Leandro Lessa",
      "photoUrl": "https://lh3.googleusercontent.com/a-/AOh14GjOFTHd5R6mZqpiAveor8rupG9YPM_LbwR5AmNPtg=s64",
      "userId": "09430483952296203154"
     },
     "user_tz": 180
    },
    "id": "LpWlZl4GJvrB"
   },
   "outputs": [],
   "source": [
    "# Seguimentando os clientes baseado na análise dos clusters\n",
    "cluster_clientes.loc[cluster_clientes['cluster']==2,'nome_cluster'] = 'Alto Risco'\n",
    "cluster_clientes.loc[cluster_clientes['cluster']==1,'nome_cluster'] = 'Baixo Risco'\n",
    "cluster_clientes.loc[cluster_clientes['cluster']==0,'nome_cluster'] = 'Risco Moderado'"
   ]
  },
  {
   "cell_type": "code",
   "execution_count": 72,
   "metadata": {
    "colab": {
     "base_uri": "https://localhost:8080/",
     "height": 419
    },
    "executionInfo": {
     "elapsed": 680,
     "status": "ok",
     "timestamp": 1628820282224,
     "user": {
      "displayName": "Prof. Leandro Lessa",
      "photoUrl": "https://lh3.googleusercontent.com/a-/AOh14GjOFTHd5R6mZqpiAveor8rupG9YPM_LbwR5AmNPtg=s64",
      "userId": "09430483952296203154"
     },
     "user_tz": 180
    },
    "id": "phiF-4pEPINV",
    "outputId": "e46d04be-45be-4445-ed65-e133c314ce2e"
   },
   "outputs": [
    {
     "data": {
      "text/html": [
       "<div>\n",
       "<style scoped>\n",
       "    .dataframe tbody tr th:only-of-type {\n",
       "        vertical-align: middle;\n",
       "    }\n",
       "\n",
       "    .dataframe tbody tr th {\n",
       "        vertical-align: top;\n",
       "    }\n",
       "\n",
       "    .dataframe thead th {\n",
       "        text-align: right;\n",
       "    }\n",
       "</style>\n",
       "<table border=\"1\" class=\"dataframe\">\n",
       "  <thead>\n",
       "    <tr style=\"text-align: right;\">\n",
       "      <th></th>\n",
       "      <th>cod_cliente</th>\n",
       "      <th>genero</th>\n",
       "      <th>idade</th>\n",
       "      <th>peso</th>\n",
       "      <th>colesterol</th>\n",
       "      <th>id_estado</th>\n",
       "      <th>estado</th>\n",
       "      <th>sigla_estado</th>\n",
       "      <th>pais</th>\n",
       "      <th>cluster</th>\n",
       "      <th>nome_cluster</th>\n",
       "    </tr>\n",
       "  </thead>\n",
       "  <tbody>\n",
       "    <tr>\n",
       "      <th>0</th>\n",
       "      <td>1</td>\n",
       "      <td>Masculino</td>\n",
       "      <td>17</td>\n",
       "      <td>102.0</td>\n",
       "      <td>111</td>\n",
       "      <td>23</td>\n",
       "      <td>Roraima</td>\n",
       "      <td>RR</td>\n",
       "      <td>Brasil</td>\n",
       "      <td>1</td>\n",
       "      <td>Baixo Risco</td>\n",
       "    </tr>\n",
       "    <tr>\n",
       "      <th>1</th>\n",
       "      <td>2</td>\n",
       "      <td>Masculino</td>\n",
       "      <td>28</td>\n",
       "      <td>115.0</td>\n",
       "      <td>135</td>\n",
       "      <td>7</td>\n",
       "      <td>Distrito Federal</td>\n",
       "      <td>DF</td>\n",
       "      <td>Brasil</td>\n",
       "      <td>1</td>\n",
       "      <td>Baixo Risco</td>\n",
       "    </tr>\n",
       "    <tr>\n",
       "      <th>2</th>\n",
       "      <td>3</td>\n",
       "      <td>Masculino</td>\n",
       "      <td>62</td>\n",
       "      <td>115.0</td>\n",
       "      <td>136</td>\n",
       "      <td>4</td>\n",
       "      <td>Amazonas</td>\n",
       "      <td>AM</td>\n",
       "      <td>Brasil</td>\n",
       "      <td>1</td>\n",
       "      <td>Baixo Risco</td>\n",
       "    </tr>\n",
       "    <tr>\n",
       "      <th>3</th>\n",
       "      <td>4</td>\n",
       "      <td>Feminino</td>\n",
       "      <td>55</td>\n",
       "      <td>140.0</td>\n",
       "      <td>167</td>\n",
       "      <td>24</td>\n",
       "      <td>Santa Catarina</td>\n",
       "      <td>SC</td>\n",
       "      <td>Brasil</td>\n",
       "      <td>2</td>\n",
       "      <td>Alto Risco</td>\n",
       "    </tr>\n",
       "    <tr>\n",
       "      <th>4</th>\n",
       "      <td>5</td>\n",
       "      <td>Masculino</td>\n",
       "      <td>44</td>\n",
       "      <td>130.0</td>\n",
       "      <td>158</td>\n",
       "      <td>26</td>\n",
       "      <td>Sergipe</td>\n",
       "      <td>SE</td>\n",
       "      <td>Brasil</td>\n",
       "      <td>2</td>\n",
       "      <td>Alto Risco</td>\n",
       "    </tr>\n",
       "    <tr>\n",
       "      <th>...</th>\n",
       "      <td>...</td>\n",
       "      <td>...</td>\n",
       "      <td>...</td>\n",
       "      <td>...</td>\n",
       "      <td>...</td>\n",
       "      <td>...</td>\n",
       "      <td>...</td>\n",
       "      <td>...</td>\n",
       "      <td>...</td>\n",
       "      <td>...</td>\n",
       "      <td>...</td>\n",
       "    </tr>\n",
       "    <tr>\n",
       "      <th>220</th>\n",
       "      <td>221</td>\n",
       "      <td>Masculino</td>\n",
       "      <td>33</td>\n",
       "      <td>180.0</td>\n",
       "      <td>219</td>\n",
       "      <td>20</td>\n",
       "      <td>Rio Grande do Norte</td>\n",
       "      <td>RN</td>\n",
       "      <td>Brasil</td>\n",
       "      <td>0</td>\n",
       "      <td>Risco Moderado</td>\n",
       "    </tr>\n",
       "    <tr>\n",
       "      <th>221</th>\n",
       "      <td>222</td>\n",
       "      <td>Feminino</td>\n",
       "      <td>38</td>\n",
       "      <td>116.0</td>\n",
       "      <td>138</td>\n",
       "      <td>15</td>\n",
       "      <td>Paraíba</td>\n",
       "      <td>PB</td>\n",
       "      <td>Brasil</td>\n",
       "      <td>1</td>\n",
       "      <td>Baixo Risco</td>\n",
       "    </tr>\n",
       "    <tr>\n",
       "      <th>222</th>\n",
       "      <td>223</td>\n",
       "      <td>Feminino</td>\n",
       "      <td>24</td>\n",
       "      <td>144.0</td>\n",
       "      <td>169</td>\n",
       "      <td>18</td>\n",
       "      <td>Piauí</td>\n",
       "      <td>PI</td>\n",
       "      <td>Brasil</td>\n",
       "      <td>2</td>\n",
       "      <td>Alto Risco</td>\n",
       "    </tr>\n",
       "    <tr>\n",
       "      <th>223</th>\n",
       "      <td>224</td>\n",
       "      <td>Masculino</td>\n",
       "      <td>31</td>\n",
       "      <td>102.0</td>\n",
       "      <td>116</td>\n",
       "      <td>6</td>\n",
       "      <td>Ceará</td>\n",
       "      <td>CE</td>\n",
       "      <td>Brasil</td>\n",
       "      <td>1</td>\n",
       "      <td>Baixo Risco</td>\n",
       "    </tr>\n",
       "    <tr>\n",
       "      <th>224</th>\n",
       "      <td>225</td>\n",
       "      <td>Masculino</td>\n",
       "      <td>57</td>\n",
       "      <td>176.0</td>\n",
       "      <td>212</td>\n",
       "      <td>7</td>\n",
       "      <td>Distrito Federal</td>\n",
       "      <td>DF</td>\n",
       "      <td>Brasil</td>\n",
       "      <td>0</td>\n",
       "      <td>Risco Moderado</td>\n",
       "    </tr>\n",
       "  </tbody>\n",
       "</table>\n",
       "<p>225 rows × 11 columns</p>\n",
       "</div>"
      ],
      "text/plain": [
       "     cod_cliente     genero  idade   peso  colesterol  id_estado  \\\n",
       "0              1  Masculino     17  102.0         111         23   \n",
       "1              2  Masculino     28  115.0         135          7   \n",
       "2              3  Masculino     62  115.0         136          4   \n",
       "3              4   Feminino     55  140.0         167         24   \n",
       "4              5  Masculino     44  130.0         158         26   \n",
       "..           ...        ...    ...    ...         ...        ...   \n",
       "220          221  Masculino     33  180.0         219         20   \n",
       "221          222   Feminino     38  116.0         138         15   \n",
       "222          223   Feminino     24  144.0         169         18   \n",
       "223          224  Masculino     31  102.0         116          6   \n",
       "224          225  Masculino     57  176.0         212          7   \n",
       "\n",
       "                  estado sigla_estado    pais  cluster    nome_cluster  \n",
       "0                Roraima           RR  Brasil        1     Baixo Risco  \n",
       "1       Distrito Federal           DF  Brasil        1     Baixo Risco  \n",
       "2               Amazonas           AM  Brasil        1     Baixo Risco  \n",
       "3         Santa Catarina           SC  Brasil        2      Alto Risco  \n",
       "4                Sergipe           SE  Brasil        2      Alto Risco  \n",
       "..                   ...          ...     ...      ...             ...  \n",
       "220  Rio Grande do Norte           RN  Brasil        0  Risco Moderado  \n",
       "221              Paraíba           PB  Brasil        1     Baixo Risco  \n",
       "222                Piauí           PI  Brasil        2      Alto Risco  \n",
       "223                Ceará           CE  Brasil        1     Baixo Risco  \n",
       "224     Distrito Federal           DF  Brasil        0  Risco Moderado  \n",
       "\n",
       "[225 rows x 11 columns]"
      ]
     },
     "execution_count": 72,
     "metadata": {},
     "output_type": "execute_result"
    }
   ],
   "source": [
    "cluster_clientes"
   ]
  },
  {
   "cell_type": "markdown",
   "metadata": {
    "id": "HGEiXygfToTc"
   },
   "source": [
    "# Análises dos clusters criados"
   ]
  },
  {
   "cell_type": "code",
   "execution_count": 73,
   "metadata": {
    "colab": {
     "base_uri": "https://localhost:8080/",
     "height": 173
    },
    "executionInfo": {
     "elapsed": 122,
     "status": "ok",
     "timestamp": 1628820282227,
     "user": {
      "displayName": "Prof. Leandro Lessa",
      "photoUrl": "https://lh3.googleusercontent.com/a-/AOh14GjOFTHd5R6mZqpiAveor8rupG9YPM_LbwR5AmNPtg=s64",
      "userId": "09430483952296203154"
     },
     "user_tz": 180
    },
    "id": "J4fFSkQjUdU_",
    "outputId": "85f6ccd6-73fe-4dac-9c9d-3c9505158094"
   },
   "outputs": [
    {
     "data": {
      "text/html": [
       "<div>\n",
       "<style scoped>\n",
       "    .dataframe tbody tr th:only-of-type {\n",
       "        vertical-align: middle;\n",
       "    }\n",
       "\n",
       "    .dataframe tbody tr th {\n",
       "        vertical-align: top;\n",
       "    }\n",
       "\n",
       "    .dataframe thead th {\n",
       "        text-align: right;\n",
       "    }\n",
       "</style>\n",
       "<table border=\"1\" class=\"dataframe\">\n",
       "  <thead>\n",
       "    <tr style=\"text-align: right;\">\n",
       "      <th></th>\n",
       "      <th>count</th>\n",
       "      <th>mean</th>\n",
       "      <th>std</th>\n",
       "      <th>min</th>\n",
       "      <th>25%</th>\n",
       "      <th>50%</th>\n",
       "      <th>75%</th>\n",
       "      <th>max</th>\n",
       "    </tr>\n",
       "    <tr>\n",
       "      <th>nome_cluster</th>\n",
       "      <th></th>\n",
       "      <th></th>\n",
       "      <th></th>\n",
       "      <th></th>\n",
       "      <th></th>\n",
       "      <th></th>\n",
       "      <th></th>\n",
       "      <th></th>\n",
       "    </tr>\n",
       "  </thead>\n",
       "  <tbody>\n",
       "    <tr>\n",
       "      <th>Alto Risco</th>\n",
       "      <td>75.0</td>\n",
       "      <td>41.893333</td>\n",
       "      <td>14.699304</td>\n",
       "      <td>16.0</td>\n",
       "      <td>30.50</td>\n",
       "      <td>42.0</td>\n",
       "      <td>53.00</td>\n",
       "      <td>70.0</td>\n",
       "    </tr>\n",
       "    <tr>\n",
       "      <th>Baixo Risco</th>\n",
       "      <td>82.0</td>\n",
       "      <td>42.634146</td>\n",
       "      <td>15.442056</td>\n",
       "      <td>17.0</td>\n",
       "      <td>29.00</td>\n",
       "      <td>42.5</td>\n",
       "      <td>54.75</td>\n",
       "      <td>70.0</td>\n",
       "    </tr>\n",
       "    <tr>\n",
       "      <th>Risco Moderado</th>\n",
       "      <td>68.0</td>\n",
       "      <td>44.544118</td>\n",
       "      <td>15.977067</td>\n",
       "      <td>16.0</td>\n",
       "      <td>31.75</td>\n",
       "      <td>47.0</td>\n",
       "      <td>58.50</td>\n",
       "      <td>69.0</td>\n",
       "    </tr>\n",
       "  </tbody>\n",
       "</table>\n",
       "</div>"
      ],
      "text/plain": [
       "                count       mean        std   min    25%   50%    75%   max\n",
       "nome_cluster                                                               \n",
       "Alto Risco       75.0  41.893333  14.699304  16.0  30.50  42.0  53.00  70.0\n",
       "Baixo Risco      82.0  42.634146  15.442056  17.0  29.00  42.5  54.75  70.0\n",
       "Risco Moderado   68.0  44.544118  15.977067  16.0  31.75  47.0  58.50  69.0"
      ]
     },
     "execution_count": 73,
     "metadata": {},
     "output_type": "execute_result"
    }
   ],
   "source": [
    "# Verifica os valores de idade por cluster\n",
    "cluster_clientes.groupby('nome_cluster')['idade'].describe()"
   ]
  },
  {
   "cell_type": "code",
   "execution_count": 74,
   "metadata": {
    "colab": {
     "base_uri": "https://localhost:8080/",
     "height": 173
    },
    "executionInfo": {
     "elapsed": 123,
     "status": "ok",
     "timestamp": 1628820282230,
     "user": {
      "displayName": "Prof. Leandro Lessa",
      "photoUrl": "https://lh3.googleusercontent.com/a-/AOh14GjOFTHd5R6mZqpiAveor8rupG9YPM_LbwR5AmNPtg=s64",
      "userId": "09430483952296203154"
     },
     "user_tz": 180
    },
    "id": "5hO0iredUjZp",
    "outputId": "02ebfa47-4d58-42d7-db6d-f19391212ad9"
   },
   "outputs": [
    {
     "data": {
      "text/html": [
       "<div>\n",
       "<style scoped>\n",
       "    .dataframe tbody tr th:only-of-type {\n",
       "        vertical-align: middle;\n",
       "    }\n",
       "\n",
       "    .dataframe tbody tr th {\n",
       "        vertical-align: top;\n",
       "    }\n",
       "\n",
       "    .dataframe thead th {\n",
       "        text-align: right;\n",
       "    }\n",
       "</style>\n",
       "<table border=\"1\" class=\"dataframe\">\n",
       "  <thead>\n",
       "    <tr style=\"text-align: right;\">\n",
       "      <th></th>\n",
       "      <th>count</th>\n",
       "      <th>unique</th>\n",
       "      <th>top</th>\n",
       "      <th>freq</th>\n",
       "    </tr>\n",
       "    <tr>\n",
       "      <th>nome_cluster</th>\n",
       "      <th></th>\n",
       "      <th></th>\n",
       "      <th></th>\n",
       "      <th></th>\n",
       "    </tr>\n",
       "  </thead>\n",
       "  <tbody>\n",
       "    <tr>\n",
       "      <th>Alto Risco</th>\n",
       "      <td>75</td>\n",
       "      <td>26</td>\n",
       "      <td>Roraima</td>\n",
       "      <td>5</td>\n",
       "    </tr>\n",
       "    <tr>\n",
       "      <th>Baixo Risco</th>\n",
       "      <td>82</td>\n",
       "      <td>26</td>\n",
       "      <td>Amazonas</td>\n",
       "      <td>8</td>\n",
       "    </tr>\n",
       "    <tr>\n",
       "      <th>Risco Moderado</th>\n",
       "      <td>68</td>\n",
       "      <td>24</td>\n",
       "      <td>Distrito Federal</td>\n",
       "      <td>6</td>\n",
       "    </tr>\n",
       "  </tbody>\n",
       "</table>\n",
       "</div>"
      ],
      "text/plain": [
       "               count unique               top freq\n",
       "nome_cluster                                      \n",
       "Alto Risco        75     26           Roraima    5\n",
       "Baixo Risco       82     26          Amazonas    8\n",
       "Risco Moderado    68     24  Distrito Federal    6"
      ]
     },
     "execution_count": 74,
     "metadata": {},
     "output_type": "execute_result"
    }
   ],
   "source": [
    "# Verifica os valores de estado por cluster\n",
    "cluster_clientes.groupby('nome_cluster')['estado'].describe()"
   ]
  },
  {
   "cell_type": "code",
   "execution_count": 75,
   "metadata": {
    "colab": {
     "base_uri": "https://localhost:8080/",
     "height": 235
    },
    "executionInfo": {
     "elapsed": 121,
     "status": "ok",
     "timestamp": 1628820282231,
     "user": {
      "displayName": "Prof. Leandro Lessa",
      "photoUrl": "https://lh3.googleusercontent.com/a-/AOh14GjOFTHd5R6mZqpiAveor8rupG9YPM_LbwR5AmNPtg=s64",
      "userId": "09430483952296203154"
     },
     "user_tz": 180
    },
    "id": "5xl4LHvXWvpN",
    "outputId": "23135439-17bf-4d06-b5c3-3519ec0c58ab"
   },
   "outputs": [
    {
     "data": {
      "text/html": [
       "<div>\n",
       "<style scoped>\n",
       "    .dataframe tbody tr th:only-of-type {\n",
       "        vertical-align: middle;\n",
       "    }\n",
       "\n",
       "    .dataframe tbody tr th {\n",
       "        vertical-align: top;\n",
       "    }\n",
       "\n",
       "    .dataframe thead th {\n",
       "        text-align: right;\n",
       "    }\n",
       "</style>\n",
       "<table border=\"1\" class=\"dataframe\">\n",
       "  <thead>\n",
       "    <tr style=\"text-align: right;\">\n",
       "      <th></th>\n",
       "      <th>cod_cliente</th>\n",
       "      <th>genero</th>\n",
       "      <th>idade</th>\n",
       "      <th>peso</th>\n",
       "      <th>colesterol</th>\n",
       "      <th>id_estado</th>\n",
       "      <th>estado</th>\n",
       "      <th>sigla_estado</th>\n",
       "      <th>pais</th>\n",
       "      <th>cluster</th>\n",
       "      <th>nome_cluster</th>\n",
       "    </tr>\n",
       "  </thead>\n",
       "  <tbody>\n",
       "    <tr>\n",
       "      <th>23</th>\n",
       "      <td>24</td>\n",
       "      <td>Feminino</td>\n",
       "      <td>34</td>\n",
       "      <td>140.0</td>\n",
       "      <td>168</td>\n",
       "      <td>11</td>\n",
       "      <td>Mato Grosso</td>\n",
       "      <td>MT</td>\n",
       "      <td>Brasil</td>\n",
       "      <td>2</td>\n",
       "      <td>Alto Risco</td>\n",
       "    </tr>\n",
       "    <tr>\n",
       "      <th>69</th>\n",
       "      <td>70</td>\n",
       "      <td>Feminino</td>\n",
       "      <td>49</td>\n",
       "      <td>137.0</td>\n",
       "      <td>166</td>\n",
       "      <td>11</td>\n",
       "      <td>Mato Grosso</td>\n",
       "      <td>MT</td>\n",
       "      <td>Brasil</td>\n",
       "      <td>2</td>\n",
       "      <td>Alto Risco</td>\n",
       "    </tr>\n",
       "  </tbody>\n",
       "</table>\n",
       "</div>"
      ],
      "text/plain": [
       "    cod_cliente    genero  idade   peso  colesterol  id_estado       estado  \\\n",
       "23           24  Feminino     34  140.0         168         11  Mato Grosso   \n",
       "69           70  Feminino     49  137.0         166         11  Mato Grosso   \n",
       "\n",
       "   sigla_estado    pais  cluster nome_cluster  \n",
       "23           MT  Brasil        2   Alto Risco  \n",
       "69           MT  Brasil        2   Alto Risco  "
      ]
     },
     "execution_count": 75,
     "metadata": {},
     "output_type": "execute_result"
    }
   ],
   "source": [
    "cluster_clientes.query('nome_cluster == \"Alto Risco\" & estado == \"Mato Grosso\"')"
   ]
  },
  {
   "cell_type": "code",
   "execution_count": 76,
   "metadata": {
    "colab": {
     "base_uri": "https://localhost:8080/",
     "height": 266
    },
    "executionInfo": {
     "elapsed": 121,
     "status": "ok",
     "timestamp": 1628820282232,
     "user": {
      "displayName": "Prof. Leandro Lessa",
      "photoUrl": "https://lh3.googleusercontent.com/a-/AOh14GjOFTHd5R6mZqpiAveor8rupG9YPM_LbwR5AmNPtg=s64",
      "userId": "09430483952296203154"
     },
     "user_tz": 180
    },
    "id": "oloNeDHTTUtH",
    "outputId": "2ca58473-9dd1-404f-f60b-3ba4649ec3fd"
   },
   "outputs": [
    {
     "data": {
      "text/html": [
       "<div>\n",
       "<style scoped>\n",
       "    .dataframe tbody tr th:only-of-type {\n",
       "        vertical-align: middle;\n",
       "    }\n",
       "\n",
       "    .dataframe tbody tr th {\n",
       "        vertical-align: top;\n",
       "    }\n",
       "\n",
       "    .dataframe thead th {\n",
       "        text-align: right;\n",
       "    }\n",
       "</style>\n",
       "<table border=\"1\" class=\"dataframe\">\n",
       "  <thead>\n",
       "    <tr style=\"text-align: right;\">\n",
       "      <th></th>\n",
       "      <th></th>\n",
       "      <th>count</th>\n",
       "      <th>mean</th>\n",
       "      <th>std</th>\n",
       "      <th>min</th>\n",
       "      <th>25%</th>\n",
       "      <th>50%</th>\n",
       "      <th>75%</th>\n",
       "      <th>max</th>\n",
       "    </tr>\n",
       "    <tr>\n",
       "      <th>nome_cluster</th>\n",
       "      <th>genero</th>\n",
       "      <th></th>\n",
       "      <th></th>\n",
       "      <th></th>\n",
       "      <th></th>\n",
       "      <th></th>\n",
       "      <th></th>\n",
       "      <th></th>\n",
       "      <th></th>\n",
       "    </tr>\n",
       "  </thead>\n",
       "  <tbody>\n",
       "    <tr>\n",
       "      <th rowspan=\"2\" valign=\"top\">Alto Risco</th>\n",
       "      <th>Feminino</th>\n",
       "      <td>44.0</td>\n",
       "      <td>142.825455</td>\n",
       "      <td>10.115751</td>\n",
       "      <td>124.0</td>\n",
       "      <td>134.75</td>\n",
       "      <td>142.00</td>\n",
       "      <td>153.25</td>\n",
       "      <td>158.0</td>\n",
       "    </tr>\n",
       "    <tr>\n",
       "      <th>Masculino</th>\n",
       "      <td>31.0</td>\n",
       "      <td>140.827097</td>\n",
       "      <td>10.087216</td>\n",
       "      <td>124.0</td>\n",
       "      <td>130.50</td>\n",
       "      <td>142.32</td>\n",
       "      <td>149.50</td>\n",
       "      <td>157.0</td>\n",
       "    </tr>\n",
       "    <tr>\n",
       "      <th rowspan=\"2\" valign=\"top\">Baixo Risco</th>\n",
       "      <th>Feminino</th>\n",
       "      <td>39.0</td>\n",
       "      <td>111.153846</td>\n",
       "      <td>8.692218</td>\n",
       "      <td>96.0</td>\n",
       "      <td>106.00</td>\n",
       "      <td>112.00</td>\n",
       "      <td>118.00</td>\n",
       "      <td>126.0</td>\n",
       "    </tr>\n",
       "    <tr>\n",
       "      <th>Masculino</th>\n",
       "      <td>43.0</td>\n",
       "      <td>108.558140</td>\n",
       "      <td>8.511343</td>\n",
       "      <td>95.0</td>\n",
       "      <td>102.00</td>\n",
       "      <td>106.00</td>\n",
       "      <td>115.50</td>\n",
       "      <td>124.0</td>\n",
       "    </tr>\n",
       "    <tr>\n",
       "      <th rowspan=\"2\" valign=\"top\">Risco Moderado</th>\n",
       "      <th>Feminino</th>\n",
       "      <td>28.0</td>\n",
       "      <td>183.571429</td>\n",
       "      <td>10.318730</td>\n",
       "      <td>161.0</td>\n",
       "      <td>178.00</td>\n",
       "      <td>185.00</td>\n",
       "      <td>191.00</td>\n",
       "      <td>203.0</td>\n",
       "    </tr>\n",
       "    <tr>\n",
       "      <th>Masculino</th>\n",
       "      <td>40.0</td>\n",
       "      <td>180.700000</td>\n",
       "      <td>11.688697</td>\n",
       "      <td>159.0</td>\n",
       "      <td>172.50</td>\n",
       "      <td>179.00</td>\n",
       "      <td>187.25</td>\n",
       "      <td>203.0</td>\n",
       "    </tr>\n",
       "  </tbody>\n",
       "</table>\n",
       "</div>"
      ],
      "text/plain": [
       "                          count        mean        std    min     25%     50%  \\\n",
       "nome_cluster   genero                                                           \n",
       "Alto Risco     Feminino    44.0  142.825455  10.115751  124.0  134.75  142.00   \n",
       "               Masculino   31.0  140.827097  10.087216  124.0  130.50  142.32   \n",
       "Baixo Risco    Feminino    39.0  111.153846   8.692218   96.0  106.00  112.00   \n",
       "               Masculino   43.0  108.558140   8.511343   95.0  102.00  106.00   \n",
       "Risco Moderado Feminino    28.0  183.571429  10.318730  161.0  178.00  185.00   \n",
       "               Masculino   40.0  180.700000  11.688697  159.0  172.50  179.00   \n",
       "\n",
       "                             75%    max  \n",
       "nome_cluster   genero                    \n",
       "Alto Risco     Feminino   153.25  158.0  \n",
       "               Masculino  149.50  157.0  \n",
       "Baixo Risco    Feminino   118.00  126.0  \n",
       "               Masculino  115.50  124.0  \n",
       "Risco Moderado Feminino   191.00  203.0  \n",
       "               Masculino  187.25  203.0  "
      ]
     },
     "execution_count": 76,
     "metadata": {},
     "output_type": "execute_result"
    }
   ],
   "source": [
    "cluster_clientes.groupby(['nome_cluster', 'genero'])['peso'].describe()"
   ]
  },
  {
   "cell_type": "markdown",
   "metadata": {
    "id": "7wIkQiEQTYdv"
   },
   "source": [
    "# Exportando dados "
   ]
  },
  {
   "cell_type": "code",
   "execution_count": null,
   "metadata": {
    "executionInfo": {
     "elapsed": 120,
     "status": "ok",
     "timestamp": 1628820282233,
     "user": {
      "displayName": "Prof. Leandro Lessa",
      "photoUrl": "https://lh3.googleusercontent.com/a-/AOh14GjOFTHd5R6mZqpiAveor8rupG9YPM_LbwR5AmNPtg=s64",
      "userId": "09430483952296203154"
     },
     "user_tz": 180
    },
    "id": "gZ08K2GEPQmb"
   },
   "outputs": [],
   "source": [
    "# cluster_clientes.to_csv('classificacao_clientes.csv', sep = ';', encoding='latin1') "
   ]
  },
  {
   "cell_type": "code",
   "execution_count": null,
   "metadata": {},
   "outputs": [],
   "source": []
  }
 ],
 "metadata": {
  "colab": {
   "authorship_tag": "ABX9TyPcVj2j0Esc+piDiBrQd0xg",
   "collapsed_sections": [],
   "name": "Plano_saúde.ipynb",
   "provenance": []
  },
  "kernelspec": {
   "display_name": "Python 3",
   "language": "python",
   "name": "python3"
  },
  "language_info": {
   "codemirror_mode": {
    "name": "ipython",
    "version": 3
   },
   "file_extension": ".py",
   "mimetype": "text/x-python",
   "name": "python",
   "nbconvert_exporter": "python",
   "pygments_lexer": "ipython3",
   "version": "3.12.1"
  }
 },
 "nbformat": 4,
 "nbformat_minor": 1
}
